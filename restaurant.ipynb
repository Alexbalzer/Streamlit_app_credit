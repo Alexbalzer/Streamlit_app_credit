{
 "cells": [
  {
   "cell_type": "markdown",
   "id": "81c50827",
   "metadata": {},
   "source": [
    "In diesem Projekt wird ein vollständiger Data-Science-Workflow umgesetzt: Ausgehend von der Analyse eines Datensatzes zu Restaurant-Bewertungen werden wichtige Merkmale (Features) untersucht und durch Feature Engineering aufbereitet. Anschließend werden verschiedene Machine-Learning-Modelle trainiert und miteinander verglichen, um Vorhersagen über die Restaurant-Bewertung zu treffen.\n",
    " \n",
    "Der finale Schritt besteht darin, das beste Modell auszuwählen und in eine interaktive Web-App mit Streamlit einzubetten. Diese App soll es ermöglichen, Eingaben wie Preisniveau, Online-Bestelloptionen oder Tischreservierungen vorzunehmen und eine Prognose über die zu erwartende Restaurantbewertung zu erhalten.\n",
    " \n",
    "Erstellt ein eine Web-App anhand folgenden Videos: https://www.youtube.com/watch?v=SJ_3_RlgAlU&list=LL&index=6\n",
    " \n",
    "Den Datensatz könnt ihr Kaggle entnehmen:\n",
    "https://www.kaggle.com/datasets/mohdshahnawazaadil/restaurant-dataset"
   ]
  }
 ],
 "metadata": {
  "language_info": {
   "name": "python"
  }
 },
 "nbformat": 4,
 "nbformat_minor": 5
}
