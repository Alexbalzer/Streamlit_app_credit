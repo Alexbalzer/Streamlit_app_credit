{
 "cells": [
  {
   "cell_type": "markdown",
   "id": "466a793d",
   "metadata": {},
   "source": [
    "# Projekt \"Credit Risk Modeling\"\n",
    "\n",
    "In diesem Kapitel wird ein praxisnahes Data-Science-Projekt behandelt, bei dem ein Kreditrisikomodell entwickelt wird. Ziel des Projekts ist es, das Ausfallrisiko von Kreditanträgen zu bewerten. Dazu wird ein Datensatz genutzt, der Informationen über Kreditnehmer enthält, beispielsweise Alter, Beruf, Kontostand oder Verwendungszweck des Kredits.\n",
    "<br>\n",
    "<br>\n",
    "Die Zielvariable ist das Merkmal `Risk`, das zwischen \"good\" (geringes Risiko) und \"bad\" (hohes Risiko) unterscheidet.\n",
    "<br>\n",
    "<br>\n",
    "Unser Datensatz `german_credit_data.csv`, enthält insgesamt über 1.000 Zeilen von Kreditnehmern. Jeder Datensatz beschreibt einen einzelnen Kreditantrag anhand verschiedener Merkmale:\n",
    "- Age – Alter der Antragsteller (in Jahren)\n",
    "- Sex – Geschlecht (männlich oder weiblich)\n",
    "- Job – Berufskategorie (0 = niedrigste Qualifikation, 3 = höchste Qualifikation)\n",
    "- Housing – Wohnsituation (eigene Wohnung, Miete oder kostenloses Wohnen)\n",
    "- Saving accounts – Kategorie des Sparguthabens (z.B. \"little\", \"moderate\", \"rich\")\n",
    "- Checking account – Kategorie des Girokontos (z.B. \"little\", \"moderate\", \"rich\")\n",
    "- Credit amount – Höhe des aufgenommenen Kredits\n",
    "- Duration – Laufzeit des Kredits in Monaten\n",
    "- Purpose – Zweck des Kredits (z.B. Auto, Radio/TV, Urlaub, Ausbildung, Geschäft)\n",
    "- Risk – Zielvariable: Kreditrisiko\n",
    "  - good = Kunde gilt als risikoarm\n",
    "  - bad = Kunde gilt als risikoreich"
   ]
  },
  {
   "cell_type": "markdown",
   "id": "03b28891",
   "metadata": {},
   "source": [
    "## 1. Daten erkunden"
   ]
  },
  {
   "cell_type": "code",
   "execution_count": 48,
   "id": "c1b2ef07",
   "metadata": {},
   "outputs": [],
   "source": [
    "import pandas as pd"
   ]
  },
  {
   "cell_type": "code",
   "execution_count": 49,
   "id": "d8869eac",
   "metadata": {},
   "outputs": [
    {
     "data": {
      "application/vnd.microsoft.datawrangler.viewer.v0+json": {
       "columns": [
        {
         "name": "index",
         "rawType": "int64",
         "type": "integer"
        },
        {
         "name": "Unnamed: 0",
         "rawType": "int64",
         "type": "integer"
        },
        {
         "name": "Age",
         "rawType": "int64",
         "type": "integer"
        },
        {
         "name": "Sex",
         "rawType": "object",
         "type": "string"
        },
        {
         "name": "Job",
         "rawType": "int64",
         "type": "integer"
        },
        {
         "name": "Housing",
         "rawType": "object",
         "type": "string"
        },
        {
         "name": "Saving accounts",
         "rawType": "object",
         "type": "unknown"
        },
        {
         "name": "Checking account",
         "rawType": "object",
         "type": "unknown"
        },
        {
         "name": "Credit amount",
         "rawType": "int64",
         "type": "integer"
        },
        {
         "name": "Duration",
         "rawType": "int64",
         "type": "integer"
        },
        {
         "name": "Purpose",
         "rawType": "object",
         "type": "string"
        },
        {
         "name": "Risk",
         "rawType": "object",
         "type": "string"
        }
       ],
       "ref": "aff40ccf-f7bd-4574-aa9e-0f14267b8566",
       "rows": [
        [
         "0",
         "0",
         "67",
         "male",
         "2",
         "own",
         null,
         "little",
         "1169",
         "6",
         "radio/TV",
         "good"
        ],
        [
         "1",
         "1",
         "22",
         "female",
         "2",
         "own",
         "little",
         "moderate",
         "5951",
         "48",
         "radio/TV",
         "bad"
        ],
        [
         "2",
         "2",
         "49",
         "male",
         "1",
         "own",
         "little",
         null,
         "2096",
         "12",
         "education",
         "good"
        ],
        [
         "3",
         "3",
         "45",
         "male",
         "2",
         "free",
         "little",
         "little",
         "7882",
         "42",
         "furniture/equipment",
         "good"
        ],
        [
         "4",
         "4",
         "53",
         "male",
         "2",
         "free",
         "little",
         "little",
         "4870",
         "24",
         "car",
         "bad"
        ],
        [
         "5",
         "5",
         "35",
         "male",
         "1",
         "free",
         null,
         null,
         "9055",
         "36",
         "education",
         "good"
        ],
        [
         "6",
         "6",
         "53",
         "male",
         "2",
         "own",
         "quite rich",
         null,
         "2835",
         "24",
         "furniture/equipment",
         "good"
        ],
        [
         "7",
         "7",
         "35",
         "male",
         "3",
         "rent",
         "little",
         "moderate",
         "6948",
         "36",
         "car",
         "good"
        ],
        [
         "8",
         "8",
         "61",
         "male",
         "1",
         "own",
         "rich",
         null,
         "3059",
         "12",
         "radio/TV",
         "good"
        ],
        [
         "9",
         "9",
         "28",
         "male",
         "3",
         "own",
         "little",
         "moderate",
         "5234",
         "30",
         "car",
         "bad"
        ],
        [
         "10",
         "10",
         "25",
         "female",
         "2",
         "rent",
         "little",
         "moderate",
         "1295",
         "12",
         "car",
         "bad"
        ],
        [
         "11",
         "11",
         "24",
         "female",
         "2",
         "rent",
         "little",
         "little",
         "4308",
         "48",
         "business",
         "bad"
        ],
        [
         "12",
         "12",
         "22",
         "female",
         "2",
         "own",
         "little",
         "moderate",
         "1567",
         "12",
         "radio/TV",
         "good"
        ],
        [
         "13",
         "13",
         "60",
         "male",
         "1",
         "own",
         "little",
         "little",
         "1199",
         "24",
         "car",
         "bad"
        ],
        [
         "14",
         "14",
         "28",
         "female",
         "2",
         "rent",
         "little",
         "little",
         "1403",
         "15",
         "car",
         "good"
        ],
        [
         "15",
         "15",
         "32",
         "female",
         "1",
         "own",
         "moderate",
         "little",
         "1282",
         "24",
         "radio/TV",
         "bad"
        ],
        [
         "16",
         "16",
         "53",
         "male",
         "2",
         "own",
         null,
         null,
         "2424",
         "24",
         "radio/TV",
         "good"
        ],
        [
         "17",
         "17",
         "25",
         "male",
         "2",
         "own",
         null,
         "little",
         "8072",
         "30",
         "business",
         "good"
        ],
        [
         "18",
         "18",
         "44",
         "female",
         "3",
         "free",
         "little",
         "moderate",
         "12579",
         "24",
         "car",
         "bad"
        ],
        [
         "19",
         "19",
         "31",
         "male",
         "2",
         "own",
         "quite rich",
         null,
         "3430",
         "24",
         "radio/TV",
         "good"
        ],
        [
         "20",
         "20",
         "48",
         "male",
         "2",
         "own",
         "little",
         null,
         "2134",
         "9",
         "car",
         "good"
        ],
        [
         "21",
         "21",
         "44",
         "male",
         "2",
         "rent",
         "quite rich",
         "little",
         "2647",
         "6",
         "radio/TV",
         "good"
        ],
        [
         "22",
         "22",
         "48",
         "male",
         "1",
         "rent",
         "little",
         "little",
         "2241",
         "10",
         "car",
         "good"
        ],
        [
         "23",
         "23",
         "44",
         "male",
         "2",
         "own",
         "moderate",
         "moderate",
         "1804",
         "12",
         "car",
         "good"
        ],
        [
         "24",
         "24",
         "26",
         "male",
         "2",
         "own",
         null,
         null,
         "2069",
         "10",
         "furniture/equipment",
         "good"
        ],
        [
         "25",
         "25",
         "36",
         "male",
         "1",
         "own",
         "little",
         "little",
         "1374",
         "6",
         "furniture/equipment",
         "good"
        ],
        [
         "26",
         "26",
         "39",
         "male",
         "1",
         "own",
         "little",
         null,
         "426",
         "6",
         "radio/TV",
         "good"
        ],
        [
         "27",
         "27",
         "42",
         "female",
         "2",
         "rent",
         "rich",
         "rich",
         "409",
         "12",
         "radio/TV",
         "good"
        ],
        [
         "28",
         "28",
         "34",
         "male",
         "2",
         "own",
         "little",
         "moderate",
         "2415",
         "7",
         "radio/TV",
         "good"
        ],
        [
         "29",
         "29",
         "63",
         "male",
         "2",
         "own",
         "little",
         "little",
         "6836",
         "60",
         "business",
         "bad"
        ],
        [
         "30",
         "30",
         "36",
         "male",
         "2",
         "own",
         "rich",
         "moderate",
         "1913",
         "18",
         "business",
         "good"
        ],
        [
         "31",
         "31",
         "27",
         "male",
         "2",
         "own",
         "little",
         "little",
         "4020",
         "24",
         "furniture/equipment",
         "good"
        ],
        [
         "32",
         "32",
         "30",
         "male",
         "2",
         "own",
         "moderate",
         "moderate",
         "5866",
         "18",
         "car",
         "good"
        ],
        [
         "33",
         "33",
         "57",
         "male",
         "1",
         "rent",
         null,
         null,
         "1264",
         "12",
         "business",
         "good"
        ],
        [
         "34",
         "34",
         "33",
         "female",
         "3",
         "own",
         "little",
         "rich",
         "1474",
         "12",
         "furniture/equipment",
         "good"
        ],
        [
         "35",
         "35",
         "25",
         "male",
         "1",
         "own",
         "little",
         "moderate",
         "4746",
         "45",
         "radio/TV",
         "bad"
        ],
        [
         "36",
         "36",
         "31",
         "male",
         "2",
         "free",
         "little",
         null,
         "6110",
         "48",
         "education",
         "good"
        ],
        [
         "37",
         "37",
         "37",
         "male",
         "2",
         "own",
         "little",
         "rich",
         "2100",
         "18",
         "radio/TV",
         "bad"
        ],
        [
         "38",
         "38",
         "37",
         "male",
         "2",
         "own",
         "little",
         "rich",
         "1225",
         "10",
         "domestic appliances",
         "good"
        ],
        [
         "39",
         "39",
         "24",
         "male",
         "2",
         "own",
         "little",
         "moderate",
         "458",
         "9",
         "radio/TV",
         "good"
        ],
        [
         "40",
         "40",
         "30",
         "male",
         "3",
         "own",
         "quite rich",
         null,
         "2333",
         "30",
         "radio/TV",
         "good"
        ],
        [
         "41",
         "41",
         "26",
         "male",
         "2",
         "own",
         "quite rich",
         "moderate",
         "1158",
         "12",
         "radio/TV",
         "good"
        ],
        [
         "42",
         "42",
         "44",
         "male",
         "1",
         "own",
         "little",
         "moderate",
         "6204",
         "18",
         "repairs",
         "good"
        ],
        [
         "43",
         "43",
         "24",
         "male",
         "2",
         "rent",
         "moderate",
         "little",
         "6187",
         "30",
         "car",
         "good"
        ],
        [
         "44",
         "44",
         "58",
         "female",
         "1",
         "free",
         "little",
         "little",
         "6143",
         "48",
         "car",
         "bad"
        ],
        [
         "45",
         "45",
         "35",
         "female",
         "3",
         "own",
         "little",
         null,
         "1393",
         "11",
         "car",
         "good"
        ],
        [
         "46",
         "46",
         "39",
         "male",
         "2",
         "own",
         "quite rich",
         null,
         "2299",
         "36",
         "radio/TV",
         "good"
        ],
        [
         "47",
         "47",
         "23",
         "female",
         "0",
         "rent",
         "quite rich",
         "little",
         "1352",
         "6",
         "car",
         "good"
        ],
        [
         "48",
         "48",
         "39",
         "male",
         "1",
         "own",
         "little",
         null,
         "7228",
         "11",
         "car",
         "good"
        ],
        [
         "49",
         "49",
         "28",
         "female",
         "2",
         "own",
         "moderate",
         null,
         "2073",
         "12",
         "radio/TV",
         "good"
        ]
       ],
       "shape": {
        "columns": 11,
        "rows": 1000
       }
      },
      "text/html": [
       "<div>\n",
       "<style scoped>\n",
       "    .dataframe tbody tr th:only-of-type {\n",
       "        vertical-align: middle;\n",
       "    }\n",
       "\n",
       "    .dataframe tbody tr th {\n",
       "        vertical-align: top;\n",
       "    }\n",
       "\n",
       "    .dataframe thead th {\n",
       "        text-align: right;\n",
       "    }\n",
       "</style>\n",
       "<table border=\"1\" class=\"dataframe\">\n",
       "  <thead>\n",
       "    <tr style=\"text-align: right;\">\n",
       "      <th></th>\n",
       "      <th>Unnamed: 0</th>\n",
       "      <th>Age</th>\n",
       "      <th>Sex</th>\n",
       "      <th>Job</th>\n",
       "      <th>Housing</th>\n",
       "      <th>Saving accounts</th>\n",
       "      <th>Checking account</th>\n",
       "      <th>Credit amount</th>\n",
       "      <th>Duration</th>\n",
       "      <th>Purpose</th>\n",
       "      <th>Risk</th>\n",
       "    </tr>\n",
       "  </thead>\n",
       "  <tbody>\n",
       "    <tr>\n",
       "      <th>0</th>\n",
       "      <td>0</td>\n",
       "      <td>67</td>\n",
       "      <td>male</td>\n",
       "      <td>2</td>\n",
       "      <td>own</td>\n",
       "      <td>NaN</td>\n",
       "      <td>little</td>\n",
       "      <td>1169</td>\n",
       "      <td>6</td>\n",
       "      <td>radio/TV</td>\n",
       "      <td>good</td>\n",
       "    </tr>\n",
       "    <tr>\n",
       "      <th>1</th>\n",
       "      <td>1</td>\n",
       "      <td>22</td>\n",
       "      <td>female</td>\n",
       "      <td>2</td>\n",
       "      <td>own</td>\n",
       "      <td>little</td>\n",
       "      <td>moderate</td>\n",
       "      <td>5951</td>\n",
       "      <td>48</td>\n",
       "      <td>radio/TV</td>\n",
       "      <td>bad</td>\n",
       "    </tr>\n",
       "    <tr>\n",
       "      <th>2</th>\n",
       "      <td>2</td>\n",
       "      <td>49</td>\n",
       "      <td>male</td>\n",
       "      <td>1</td>\n",
       "      <td>own</td>\n",
       "      <td>little</td>\n",
       "      <td>NaN</td>\n",
       "      <td>2096</td>\n",
       "      <td>12</td>\n",
       "      <td>education</td>\n",
       "      <td>good</td>\n",
       "    </tr>\n",
       "    <tr>\n",
       "      <th>3</th>\n",
       "      <td>3</td>\n",
       "      <td>45</td>\n",
       "      <td>male</td>\n",
       "      <td>2</td>\n",
       "      <td>free</td>\n",
       "      <td>little</td>\n",
       "      <td>little</td>\n",
       "      <td>7882</td>\n",
       "      <td>42</td>\n",
       "      <td>furniture/equipment</td>\n",
       "      <td>good</td>\n",
       "    </tr>\n",
       "    <tr>\n",
       "      <th>4</th>\n",
       "      <td>4</td>\n",
       "      <td>53</td>\n",
       "      <td>male</td>\n",
       "      <td>2</td>\n",
       "      <td>free</td>\n",
       "      <td>little</td>\n",
       "      <td>little</td>\n",
       "      <td>4870</td>\n",
       "      <td>24</td>\n",
       "      <td>car</td>\n",
       "      <td>bad</td>\n",
       "    </tr>\n",
       "    <tr>\n",
       "      <th>...</th>\n",
       "      <td>...</td>\n",
       "      <td>...</td>\n",
       "      <td>...</td>\n",
       "      <td>...</td>\n",
       "      <td>...</td>\n",
       "      <td>...</td>\n",
       "      <td>...</td>\n",
       "      <td>...</td>\n",
       "      <td>...</td>\n",
       "      <td>...</td>\n",
       "      <td>...</td>\n",
       "    </tr>\n",
       "    <tr>\n",
       "      <th>995</th>\n",
       "      <td>995</td>\n",
       "      <td>31</td>\n",
       "      <td>female</td>\n",
       "      <td>1</td>\n",
       "      <td>own</td>\n",
       "      <td>little</td>\n",
       "      <td>NaN</td>\n",
       "      <td>1736</td>\n",
       "      <td>12</td>\n",
       "      <td>furniture/equipment</td>\n",
       "      <td>good</td>\n",
       "    </tr>\n",
       "    <tr>\n",
       "      <th>996</th>\n",
       "      <td>996</td>\n",
       "      <td>40</td>\n",
       "      <td>male</td>\n",
       "      <td>3</td>\n",
       "      <td>own</td>\n",
       "      <td>little</td>\n",
       "      <td>little</td>\n",
       "      <td>3857</td>\n",
       "      <td>30</td>\n",
       "      <td>car</td>\n",
       "      <td>good</td>\n",
       "    </tr>\n",
       "    <tr>\n",
       "      <th>997</th>\n",
       "      <td>997</td>\n",
       "      <td>38</td>\n",
       "      <td>male</td>\n",
       "      <td>2</td>\n",
       "      <td>own</td>\n",
       "      <td>little</td>\n",
       "      <td>NaN</td>\n",
       "      <td>804</td>\n",
       "      <td>12</td>\n",
       "      <td>radio/TV</td>\n",
       "      <td>good</td>\n",
       "    </tr>\n",
       "    <tr>\n",
       "      <th>998</th>\n",
       "      <td>998</td>\n",
       "      <td>23</td>\n",
       "      <td>male</td>\n",
       "      <td>2</td>\n",
       "      <td>free</td>\n",
       "      <td>little</td>\n",
       "      <td>little</td>\n",
       "      <td>1845</td>\n",
       "      <td>45</td>\n",
       "      <td>radio/TV</td>\n",
       "      <td>bad</td>\n",
       "    </tr>\n",
       "    <tr>\n",
       "      <th>999</th>\n",
       "      <td>999</td>\n",
       "      <td>27</td>\n",
       "      <td>male</td>\n",
       "      <td>2</td>\n",
       "      <td>own</td>\n",
       "      <td>moderate</td>\n",
       "      <td>moderate</td>\n",
       "      <td>4576</td>\n",
       "      <td>45</td>\n",
       "      <td>car</td>\n",
       "      <td>good</td>\n",
       "    </tr>\n",
       "  </tbody>\n",
       "</table>\n",
       "<p>1000 rows × 11 columns</p>\n",
       "</div>"
      ],
      "text/plain": [
       "     Unnamed: 0  Age     Sex  Job Housing Saving accounts Checking account  \\\n",
       "0             0   67    male    2     own             NaN           little   \n",
       "1             1   22  female    2     own          little         moderate   \n",
       "2             2   49    male    1     own          little              NaN   \n",
       "3             3   45    male    2    free          little           little   \n",
       "4             4   53    male    2    free          little           little   \n",
       "..          ...  ...     ...  ...     ...             ...              ...   \n",
       "995         995   31  female    1     own          little              NaN   \n",
       "996         996   40    male    3     own          little           little   \n",
       "997         997   38    male    2     own          little              NaN   \n",
       "998         998   23    male    2    free          little           little   \n",
       "999         999   27    male    2     own        moderate         moderate   \n",
       "\n",
       "     Credit amount  Duration              Purpose  Risk  \n",
       "0             1169         6             radio/TV  good  \n",
       "1             5951        48             radio/TV   bad  \n",
       "2             2096        12            education  good  \n",
       "3             7882        42  furniture/equipment  good  \n",
       "4             4870        24                  car   bad  \n",
       "..             ...       ...                  ...   ...  \n",
       "995           1736        12  furniture/equipment  good  \n",
       "996           3857        30                  car  good  \n",
       "997            804        12             radio/TV  good  \n",
       "998           1845        45             radio/TV   bad  \n",
       "999           4576        45                  car  good  \n",
       "\n",
       "[1000 rows x 11 columns]"
      ]
     },
     "execution_count": 49,
     "metadata": {},
     "output_type": "execute_result"
    }
   ],
   "source": [
    "df = pd.read_csv(\"german_credit_data.csv\")\n",
    "df"
   ]
  },
  {
   "cell_type": "markdown",
   "id": "506ce355",
   "metadata": {},
   "source": [
    "Betrachten wir einige grundlägende statistische Informationen zu dem Datensatz:"
   ]
  },
  {
   "cell_type": "code",
   "execution_count": 50,
   "id": "24880fa0",
   "metadata": {},
   "outputs": [
    {
     "data": {
      "application/vnd.microsoft.datawrangler.viewer.v0+json": {
       "columns": [
        {
         "name": "index",
         "rawType": "object",
         "type": "string"
        },
        {
         "name": "Unnamed: 0",
         "rawType": "float64",
         "type": "float"
        },
        {
         "name": "Age",
         "rawType": "float64",
         "type": "float"
        },
        {
         "name": "Job",
         "rawType": "float64",
         "type": "float"
        },
        {
         "name": "Credit amount",
         "rawType": "float64",
         "type": "float"
        },
        {
         "name": "Duration",
         "rawType": "float64",
         "type": "float"
        }
       ],
       "ref": "4e592054-1d3c-4e05-8af1-78e6175eeef2",
       "rows": [
        [
         "count",
         "1000.0",
         "1000.0",
         "1000.0",
         "1000.0",
         "1000.0"
        ],
        [
         "mean",
         "499.5",
         "35.546",
         "1.904",
         "3271.258",
         "20.903"
        ],
        [
         "std",
         "288.8194360957494",
         "11.375468574317512",
         "0.6536139619157559",
         "2822.7368759604406",
         "12.058814452756375"
        ],
        [
         "min",
         "0.0",
         "19.0",
         "0.0",
         "250.0",
         "4.0"
        ],
        [
         "25%",
         "249.75",
         "27.0",
         "2.0",
         "1365.5",
         "12.0"
        ],
        [
         "50%",
         "499.5",
         "33.0",
         "2.0",
         "2319.5",
         "18.0"
        ],
        [
         "75%",
         "749.25",
         "42.0",
         "2.0",
         "3972.25",
         "24.0"
        ],
        [
         "max",
         "999.0",
         "75.0",
         "3.0",
         "18424.0",
         "72.0"
        ]
       ],
       "shape": {
        "columns": 5,
        "rows": 8
       }
      },
      "text/html": [
       "<div>\n",
       "<style scoped>\n",
       "    .dataframe tbody tr th:only-of-type {\n",
       "        vertical-align: middle;\n",
       "    }\n",
       "\n",
       "    .dataframe tbody tr th {\n",
       "        vertical-align: top;\n",
       "    }\n",
       "\n",
       "    .dataframe thead th {\n",
       "        text-align: right;\n",
       "    }\n",
       "</style>\n",
       "<table border=\"1\" class=\"dataframe\">\n",
       "  <thead>\n",
       "    <tr style=\"text-align: right;\">\n",
       "      <th></th>\n",
       "      <th>Unnamed: 0</th>\n",
       "      <th>Age</th>\n",
       "      <th>Job</th>\n",
       "      <th>Credit amount</th>\n",
       "      <th>Duration</th>\n",
       "    </tr>\n",
       "  </thead>\n",
       "  <tbody>\n",
       "    <tr>\n",
       "      <th>count</th>\n",
       "      <td>1000.000000</td>\n",
       "      <td>1000.000000</td>\n",
       "      <td>1000.000000</td>\n",
       "      <td>1000.000000</td>\n",
       "      <td>1000.000000</td>\n",
       "    </tr>\n",
       "    <tr>\n",
       "      <th>mean</th>\n",
       "      <td>499.500000</td>\n",
       "      <td>35.546000</td>\n",
       "      <td>1.904000</td>\n",
       "      <td>3271.258000</td>\n",
       "      <td>20.903000</td>\n",
       "    </tr>\n",
       "    <tr>\n",
       "      <th>std</th>\n",
       "      <td>288.819436</td>\n",
       "      <td>11.375469</td>\n",
       "      <td>0.653614</td>\n",
       "      <td>2822.736876</td>\n",
       "      <td>12.058814</td>\n",
       "    </tr>\n",
       "    <tr>\n",
       "      <th>min</th>\n",
       "      <td>0.000000</td>\n",
       "      <td>19.000000</td>\n",
       "      <td>0.000000</td>\n",
       "      <td>250.000000</td>\n",
       "      <td>4.000000</td>\n",
       "    </tr>\n",
       "    <tr>\n",
       "      <th>25%</th>\n",
       "      <td>249.750000</td>\n",
       "      <td>27.000000</td>\n",
       "      <td>2.000000</td>\n",
       "      <td>1365.500000</td>\n",
       "      <td>12.000000</td>\n",
       "    </tr>\n",
       "    <tr>\n",
       "      <th>50%</th>\n",
       "      <td>499.500000</td>\n",
       "      <td>33.000000</td>\n",
       "      <td>2.000000</td>\n",
       "      <td>2319.500000</td>\n",
       "      <td>18.000000</td>\n",
       "    </tr>\n",
       "    <tr>\n",
       "      <th>75%</th>\n",
       "      <td>749.250000</td>\n",
       "      <td>42.000000</td>\n",
       "      <td>2.000000</td>\n",
       "      <td>3972.250000</td>\n",
       "      <td>24.000000</td>\n",
       "    </tr>\n",
       "    <tr>\n",
       "      <th>max</th>\n",
       "      <td>999.000000</td>\n",
       "      <td>75.000000</td>\n",
       "      <td>3.000000</td>\n",
       "      <td>18424.000000</td>\n",
       "      <td>72.000000</td>\n",
       "    </tr>\n",
       "  </tbody>\n",
       "</table>\n",
       "</div>"
      ],
      "text/plain": [
       "        Unnamed: 0          Age          Job  Credit amount     Duration\n",
       "count  1000.000000  1000.000000  1000.000000    1000.000000  1000.000000\n",
       "mean    499.500000    35.546000     1.904000    3271.258000    20.903000\n",
       "std     288.819436    11.375469     0.653614    2822.736876    12.058814\n",
       "min       0.000000    19.000000     0.000000     250.000000     4.000000\n",
       "25%     249.750000    27.000000     2.000000    1365.500000    12.000000\n",
       "50%     499.500000    33.000000     2.000000    2319.500000    18.000000\n",
       "75%     749.250000    42.000000     2.000000    3972.250000    24.000000\n",
       "max     999.000000    75.000000     3.000000   18424.000000    72.000000"
      ]
     },
     "execution_count": 50,
     "metadata": {},
     "output_type": "execute_result"
    }
   ],
   "source": [
    "df.describe()"
   ]
  },
  {
   "cell_type": "markdown",
   "id": "b7ff0ee3",
   "metadata": {},
   "source": [
    "Aus diesen Informationen lassen sich folgende Beobachtungen ableiten:\n",
    "\n",
    "**1. Age:**\n",
    "- Minimum: 19 Jahre, Maximum: 75 Jahre\n",
    "- Durchschnitt: ca. 36 Jahre\n",
    "- Die meisten Kreditnehmer sind also im jungen bis mittleren Erwachsenenalter.\n",
    "\n",
    "**2. Job:**\n",
    "- Mittelwert liegt bei 1,9, Median ebenfalls bei 2\n",
    "- Das zeigt, dass die Mehrheit der Kreditnehmer eine mittlere Berufskategorie (2) hat.\n",
    "\n",
    "**3. Kredithöhe (Credit amount):**\n",
    "- Werte zwischen 250 € und 18.424 €\n",
    "- Durchschnitt: ca. 3.271 €\n",
    "- 25 % der Kredite liegen unter 1.365 €, während 75 % unter 3.972 € bleiben.\n",
    "- Die meisten Kredite sind relativ klein, es gibt aber einige sehr hohe Kredite (Ausreißer).\n",
    "\n",
    "**4. Laufzeit (Duration in Monaten):**\n",
    "- Minimum: 4 Monate, Maximum: 72 Monate (6 Jahre)\n",
    "- Durchschnitt: ca. 21 Monate, Median: 18 Monate\n",
    "- Die meisten Kredite haben also eine Laufzeit von 1 bis 2 Jahren.\n",
    "\n",
    "**5. Indexspalte (Unnamed: 0):**\n",
    "- Reine Zählspalte (0–999), hat keinen inhaltlichen Mehrwert und sollte später entfernt werden."
   ]
  },
  {
   "cell_type": "markdown",
   "id": "295a4dde",
   "metadata": {},
   "source": [
    "Im nächsten Schritt wollen wir uns anschauen, wie oft die Zielvariable `Risk` in unserem Datensatz vorkommt. Diese Spalte gibt an, ob ein Kredit als \"good\" (geringes Risiko) oder \"bad\" (hohes Risiko) eingestuft wurde. Das ist wichtig, weil wir dadurch erkennen können, ob die Daten ausgeglichen sind (gleich viele \"good\" und \"bad\") oder ob eine Seite deutlich überwiegt.\n",
    "<br>\n",
    "<br>\n",
    "Ein solches Ungleichgewicht nennt man Klassenungleichgewicht. Das kann später beim Trainieren eines Machine-Learning-Modells eine große Rolle spielen, weil ein Modell sonst dazu neigt, fast immer die häufigere Klasse vorherzusagen."
   ]
  },
  {
   "cell_type": "code",
   "execution_count": 51,
   "id": "7457140f",
   "metadata": {},
   "outputs": [
    {
     "name": "stdout",
     "output_type": "stream",
     "text": [
      "Risk\n",
      "good    700\n",
      "bad     300\n",
      "Name: count, dtype: int64\n"
     ]
    }
   ],
   "source": [
    "print(df[\"Risk\"].value_counts())"
   ]
  },
  {
   "cell_type": "markdown",
   "id": "55a7e34c",
   "metadata": {},
   "source": [
    "Wir erhalten also folgende Verteilung:\n",
    "- 700 Kredite sind als \"good\" (geringes Risiko) eingestuft.\n",
    "- 300 Kredite sind als \"bad\" (hohes Risiko) eingestuft.\n",
    "\n",
    "Das bedeutet rund 70% der Daten gehören zur Klasse \"good\", und nur 30% zur Klasse \"bad\". Deshalb muss man bei der Modellierung darauf achten, mit Methoden wie gewichteten Modellen, Balancing-Techniken oder geeigneten Algorithmen zu arbeiten, die auch mit unausgeglichenen Daten umgehen können. Darauf werden wir noch zurückkommen.\n",
    "<br>\n",
    "<br>\n",
    "Verschaffen wir uns noch einen Überblick über den Aufbau des Datensatzes:"
   ]
  },
  {
   "cell_type": "code",
   "execution_count": 52,
   "id": "093fd63e",
   "metadata": {},
   "outputs": [
    {
     "name": "stdout",
     "output_type": "stream",
     "text": [
      "<class 'pandas.core.frame.DataFrame'>\n",
      "RangeIndex: 1000 entries, 0 to 999\n",
      "Data columns (total 11 columns):\n",
      " #   Column            Non-Null Count  Dtype \n",
      "---  ------            --------------  ----- \n",
      " 0   Unnamed: 0        1000 non-null   int64 \n",
      " 1   Age               1000 non-null   int64 \n",
      " 2   Sex               1000 non-null   object\n",
      " 3   Job               1000 non-null   int64 \n",
      " 4   Housing           1000 non-null   object\n",
      " 5   Saving accounts   817 non-null    object\n",
      " 6   Checking account  606 non-null    object\n",
      " 7   Credit amount     1000 non-null   int64 \n",
      " 8   Duration          1000 non-null   int64 \n",
      " 9   Purpose           1000 non-null   object\n",
      " 10  Risk              1000 non-null   object\n",
      "dtypes: int64(5), object(6)\n",
      "memory usage: 86.1+ KB\n"
     ]
    }
   ],
   "source": [
    "df.info()"
   ]
  },
  {
   "cell_type": "markdown",
   "id": "641a021e",
   "metadata": {},
   "source": [
    "Aus diesen Informationen lassen sich weitere wichtige Punkte ableiten:\n",
    "\n",
    "**1. Größe des Datensatzes:**\n",
    "- Es gibt 1.000 Zeilen (Einträge) und 11 Spalten (Merkmale).\n",
    "\n",
    "**2. Datentypen:**\n",
    "- 5 Spalten sind numerisch (int64: z.B. Alter, Kreditbetrag).\n",
    "- 6 Spalten sind kategorial (object: z.B. Geschlecht, Wohnsituation).\n",
    "- Das ist wichtig, weil numerische und kategoriale Daten später unterschiedlich verarbeitet werden müssen.\n",
    "\n",
    "**3. Vollständigkeit der Daten:**\n",
    "- Die meisten Spalten sind vollständig gefüllt (1000 Werte).\n",
    "- Zwei Spalten haben jedoch fehlende Werte:\n",
    "- Saving accounts: nur 817 Werte (183 fehlen)\n",
    "- Checking account: nur 606 Werte (394 fehlen)\n",
    "- Diese Lücken müssen wir bei der Datenaufbereitung berücksichtigen (z.B. durch Entfernen oder Ersetzen).\n",
    "\n",
    "**4. Technische Spalte:**\n",
    "- `Unnamed: 0` ist nur ein Index (0–999) und liefert keinen inhaltlichen Mehrwert. Diese Spalte kann man später entfernen.\n",
    "\n",
    "Nachdem wir uns einen Überblick über den Datensatz verschafft haben, wollen wir nun genauer in eine einzelne Spalte schauen: `Job`. Wir lassen uns alle verschiedenen Ausprägungen (Kategorien) anzeigen, die in dieser Spalte vorkommen:"
   ]
  },
  {
   "cell_type": "code",
   "execution_count": 53,
   "id": "d548c282",
   "metadata": {},
   "outputs": [
    {
     "data": {
      "text/plain": [
       "array([2, 1, 3, 0])"
      ]
     },
     "execution_count": 53,
     "metadata": {},
     "output_type": "execute_result"
    }
   ],
   "source": [
    "df[\"Job\"].unique()"
   ]
  },
  {
   "cell_type": "markdown",
   "id": "b4349c7d",
   "metadata": {},
   "source": [
    "n der Spalte `Job` gibt es genau vier verschiedene Kategorien, die durch die Zahlen 0–3 dargestellt werden. Diese Zahlen sind keine Messwerte, sondern Codierungen für Job-Kategorien. Sie beschreiben also unterschiedliche berufliche Situationen:\n",
    "- `0`: unqualifiziert / arbeitslos\n",
    "- `1`: unqualifizierte Tätigkeit\n",
    "- `2`: qualifizierte Tätigkeit\n",
    "- `3`: hochqualifizierte Tätigkeit oder Management"
   ]
  },
  {
   "cell_type": "markdown",
   "id": "7c2b1d54",
   "metadata": {},
   "source": [
    "Im nächsten Schritt prüfen wir unsere Daten, ob und wo im Datensatz Werte fehlen:"
   ]
  },
  {
   "cell_type": "code",
   "execution_count": 54,
   "id": "b3d99cd6",
   "metadata": {},
   "outputs": [
    {
     "data": {
      "application/vnd.microsoft.datawrangler.viewer.v0+json": {
       "columns": [
        {
         "name": "index",
         "rawType": "object",
         "type": "string"
        },
        {
         "name": "0",
         "rawType": "int64",
         "type": "integer"
        }
       ],
       "ref": "da8a52ca-1538-4af7-900d-88b878121ec2",
       "rows": [
        [
         "Unnamed: 0",
         "0"
        ],
        [
         "Age",
         "0"
        ],
        [
         "Sex",
         "0"
        ],
        [
         "Job",
         "0"
        ],
        [
         "Housing",
         "0"
        ],
        [
         "Saving accounts",
         "183"
        ],
        [
         "Checking account",
         "394"
        ],
        [
         "Credit amount",
         "0"
        ],
        [
         "Duration",
         "0"
        ],
        [
         "Purpose",
         "0"
        ],
        [
         "Risk",
         "0"
        ]
       ],
       "shape": {
        "columns": 1,
        "rows": 11
       }
      },
      "text/plain": [
       "Unnamed: 0            0\n",
       "Age                   0\n",
       "Sex                   0\n",
       "Job                   0\n",
       "Housing               0\n",
       "Saving accounts     183\n",
       "Checking account    394\n",
       "Credit amount         0\n",
       "Duration              0\n",
       "Purpose               0\n",
       "Risk                  0\n",
       "dtype: int64"
      ]
     },
     "execution_count": 54,
     "metadata": {},
     "output_type": "execute_result"
    }
   ],
   "source": [
    "df.isna().sum()"
   ]
  },
  {
   "cell_type": "markdown",
   "id": "57a9a8cf",
   "metadata": {},
   "source": [
    "Besonders auffällig sind zwei Spalten:\n",
    "- `Saving accounts` 183 fehlende Werte\n",
    "- `Checking account` 394 fehlende Werte\n",
    "\n",
    "Fehlende Werte können ein Problem für Machine Learning Modelle sein, da die meisten Algorithmen nur mit vollständigen Daten arbeiten können.\n",
    "<br>\n",
    "<br>\n",
    "Nachdem wir uns die fehlenden Werte angesehen haben, wollen wir nun prüfen, ob es im Datensatz doppelte Zeilen gibt:"
   ]
  },
  {
   "cell_type": "code",
   "execution_count": 55,
   "id": "02ebadca",
   "metadata": {},
   "outputs": [
    {
     "data": {
      "text/plain": [
       "np.int64(0)"
      ]
     },
     "execution_count": 55,
     "metadata": {},
     "output_type": "execute_result"
    }
   ],
   "source": [
    "df.duplicated().sum()"
   ]
  },
  {
   "cell_type": "markdown",
   "id": "e1840a03",
   "metadata": {},
   "source": [
    "Es sind keine Dupplikate enthalten. Der Datensatz ist in diesem Punkt sauber und kann direkt weiterverarbeitet werden. Wir haben gesehen, dass in den Spalten `Saving accounts` und `Checking account` viele Werte fehlen. Solche fehlenden Werte (NaN) können Probleme machen, wenn wir später ein Machine-Learning-Modell trainieren.\n",
    "<br>\n",
    "<br>\n",
    "An dieser Stelle halten wir es einfach und entfernen wir alle Zeilen, die mindestens einen fehlenden Wert enthalten. Dadurch bleiben nur noch vollständig ausgefüllte Datensätze übrig:"
   ]
  },
  {
   "cell_type": "code",
   "execution_count": 56,
   "id": "7c3700c1",
   "metadata": {},
   "outputs": [],
   "source": [
    "df = df.dropna().reset_index(drop=True)"
   ]
  },
  {
   "cell_type": "markdown",
   "id": "c82452ce",
   "metadata": {},
   "source": [
    "Wir überprüfen noch einmal, ob nun wirklich keine fehlenden Werte im Datensatz sind:"
   ]
  },
  {
   "cell_type": "code",
   "execution_count": 57,
   "id": "5ac3ab6c",
   "metadata": {},
   "outputs": [
    {
     "data": {
      "application/vnd.microsoft.datawrangler.viewer.v0+json": {
       "columns": [
        {
         "name": "index",
         "rawType": "object",
         "type": "string"
        },
        {
         "name": "0",
         "rawType": "int64",
         "type": "integer"
        }
       ],
       "ref": "3a9f90e3-5063-4154-ade2-a06aae5b1e10",
       "rows": [
        [
         "Unnamed: 0",
         "0"
        ],
        [
         "Age",
         "0"
        ],
        [
         "Sex",
         "0"
        ],
        [
         "Job",
         "0"
        ],
        [
         "Housing",
         "0"
        ],
        [
         "Saving accounts",
         "0"
        ],
        [
         "Checking account",
         "0"
        ],
        [
         "Credit amount",
         "0"
        ],
        [
         "Duration",
         "0"
        ],
        [
         "Purpose",
         "0"
        ],
        [
         "Risk",
         "0"
        ]
       ],
       "shape": {
        "columns": 1,
        "rows": 11
       }
      },
      "text/plain": [
       "Unnamed: 0          0\n",
       "Age                 0\n",
       "Sex                 0\n",
       "Job                 0\n",
       "Housing             0\n",
       "Saving accounts     0\n",
       "Checking account    0\n",
       "Credit amount       0\n",
       "Duration            0\n",
       "Purpose             0\n",
       "Risk                0\n",
       "dtype: int64"
      ]
     },
     "execution_count": 57,
     "metadata": {},
     "output_type": "execute_result"
    }
   ],
   "source": [
    "df.isna().sum()"
   ]
  },
  {
   "cell_type": "markdown",
   "id": "c373bb73",
   "metadata": {},
   "source": [
    "In unserem Datensatz gibt es die Spalte `Unnamed: 0`. Diese Spalte enthält nur fortlaufende Zahlen von 0 bis 999 und ist eigentlich nichts anderes als ein technischer Index. Da wir für die Analyse und Modellierung bereits den Pandas-Index verwenden, bringt diese Spalte keinen zusätzlichen Informationswert. Wir entfernen sie:"
   ]
  },
  {
   "cell_type": "code",
   "execution_count": 58,
   "id": "281343a1",
   "metadata": {},
   "outputs": [],
   "source": [
    "df.drop(columns=\"Unnamed: 0\", inplace=True)"
   ]
  },
  {
   "cell_type": "markdown",
   "id": "68fff7d3",
   "metadata": {},
   "source": [
    "Nun sollte keine Spalte mit der Bezeichnung `Unnamed: 0` vorhanden sein:"
   ]
  },
  {
   "cell_type": "code",
   "execution_count": 59,
   "id": "11a3063b",
   "metadata": {},
   "outputs": [
    {
     "data": {
      "text/plain": [
       "Index(['Age', 'Sex', 'Job', 'Housing', 'Saving accounts', 'Checking account',\n",
       "       'Credit amount', 'Duration', 'Purpose', 'Risk'],\n",
       "      dtype='object')"
      ]
     },
     "execution_count": 59,
     "metadata": {},
     "output_type": "execute_result"
    }
   ],
   "source": [
    "df.columns"
   ]
  },
  {
   "cell_type": "markdown",
   "id": "cab73e71",
   "metadata": {},
   "source": [
    "Nachdem wir den Datensatz bereinigt haben, wollen wir uns die Verteilung der numerischen Merkmale anschauen.\n",
    "Dafür zeichnen wir Histogramme:"
   ]
  },
  {
   "cell_type": "code",
   "execution_count": 60,
   "id": "f0df698f",
   "metadata": {},
   "outputs": [
    {
     "ename": "ValueError",
     "evalue": "Mime type rendering requires nbformat>=4.2.0 but it is not installed",
     "output_type": "error",
     "traceback": [
      "\u001b[31m---------------------------------------------------------------------------\u001b[39m",
      "\u001b[31mValueError\u001b[39m                                Traceback (most recent call last)",
      "\u001b[36mFile \u001b[39m\u001b[32md:\\Maschinen\\Kredite_Aufgabe\\.venv\\Lib\\site-packages\\IPython\\core\\formatters.py:984\u001b[39m, in \u001b[36mIPythonDisplayFormatter.__call__\u001b[39m\u001b[34m(self, obj)\u001b[39m\n\u001b[32m    982\u001b[39m method = get_real_method(obj, \u001b[38;5;28mself\u001b[39m.print_method)\n\u001b[32m    983\u001b[39m \u001b[38;5;28;01mif\u001b[39;00m method \u001b[38;5;129;01mis\u001b[39;00m \u001b[38;5;129;01mnot\u001b[39;00m \u001b[38;5;28;01mNone\u001b[39;00m:\n\u001b[32m--> \u001b[39m\u001b[32m984\u001b[39m     \u001b[43mmethod\u001b[49m\u001b[43m(\u001b[49m\u001b[43m)\u001b[49m\n\u001b[32m    985\u001b[39m     \u001b[38;5;28;01mreturn\u001b[39;00m \u001b[38;5;28;01mTrue\u001b[39;00m\n",
      "\u001b[36mFile \u001b[39m\u001b[32md:\\Maschinen\\Kredite_Aufgabe\\.venv\\Lib\\site-packages\\plotly\\basedatatypes.py:850\u001b[39m, in \u001b[36mBaseFigure._ipython_display_\u001b[39m\u001b[34m(self)\u001b[39m\n\u001b[32m    847\u001b[39m \u001b[38;5;28;01mimport\u001b[39;00m\u001b[38;5;250m \u001b[39m\u001b[34;01mplotly\u001b[39;00m\u001b[34;01m.\u001b[39;00m\u001b[34;01mio\u001b[39;00m\u001b[38;5;250m \u001b[39m\u001b[38;5;28;01mas\u001b[39;00m\u001b[38;5;250m \u001b[39m\u001b[34;01mpio\u001b[39;00m\n\u001b[32m    849\u001b[39m \u001b[38;5;28;01mif\u001b[39;00m pio.renderers.render_on_display \u001b[38;5;129;01mand\u001b[39;00m pio.renderers.default:\n\u001b[32m--> \u001b[39m\u001b[32m850\u001b[39m     \u001b[43mpio\u001b[49m\u001b[43m.\u001b[49m\u001b[43mshow\u001b[49m\u001b[43m(\u001b[49m\u001b[38;5;28;43mself\u001b[39;49m\u001b[43m)\u001b[49m\n\u001b[32m    851\u001b[39m \u001b[38;5;28;01melse\u001b[39;00m:\n\u001b[32m    852\u001b[39m     \u001b[38;5;28mprint\u001b[39m(\u001b[38;5;28mrepr\u001b[39m(\u001b[38;5;28mself\u001b[39m))\n",
      "\u001b[36mFile \u001b[39m\u001b[32md:\\Maschinen\\Kredite_Aufgabe\\.venv\\Lib\\site-packages\\plotly\\io\\_renderers.py:415\u001b[39m, in \u001b[36mshow\u001b[39m\u001b[34m(fig, renderer, validate, **kwargs)\u001b[39m\n\u001b[32m    410\u001b[39m     \u001b[38;5;28;01mraise\u001b[39;00m \u001b[38;5;167;01mValueError\u001b[39;00m(\n\u001b[32m    411\u001b[39m         \u001b[33m\"\u001b[39m\u001b[33mMime type rendering requires ipython but it is not installed\u001b[39m\u001b[33m\"\u001b[39m\n\u001b[32m    412\u001b[39m     )\n\u001b[32m    414\u001b[39m \u001b[38;5;28;01mif\u001b[39;00m \u001b[38;5;129;01mnot\u001b[39;00m nbformat \u001b[38;5;129;01mor\u001b[39;00m Version(nbformat.__version__) < Version(\u001b[33m\"\u001b[39m\u001b[33m4.2.0\u001b[39m\u001b[33m\"\u001b[39m):\n\u001b[32m--> \u001b[39m\u001b[32m415\u001b[39m     \u001b[38;5;28;01mraise\u001b[39;00m \u001b[38;5;167;01mValueError\u001b[39;00m(\n\u001b[32m    416\u001b[39m         \u001b[33m\"\u001b[39m\u001b[33mMime type rendering requires nbformat>=4.2.0 but it is not installed\u001b[39m\u001b[33m\"\u001b[39m\n\u001b[32m    417\u001b[39m     )\n\u001b[32m    419\u001b[39m display_jupyter_version_warnings()\n\u001b[32m    421\u001b[39m ipython_display.display(bundle, raw=\u001b[38;5;28;01mTrue\u001b[39;00m)\n",
      "\u001b[31mValueError\u001b[39m: Mime type rendering requires nbformat>=4.2.0 but it is not installed"
     ]
    },
    {
     "data": {
      "application/vnd.plotly.v1+json": {
       "config": {
        "plotlyServerURL": "https://plot.ly"
       },
       "data": [
        {
         "marker": {
          "line": {
           "color": "black",
           "width": 1
          }
         },
         "name": "Age",
         "type": "histogram",
         "x": {
          "bdata": "Fi01IxwZGBY8HCAsLDAsJCoiPyQbHiEZJSUYGiwYOhceORcXGz0ZFjMpQiIzFjo0Gy8eHDY2OiIkGCMnICMfFxwjFyQZPx4oHiIdHUIsGx4bFh4nHBgdJBQwLSZGIRQfISIhGio0QR4kSkQUISIkFSIbKBsVJhoVMkIfFxgaGzUWGhkePScYGicuGB0bNyQlLRwiJSMaHzEwHCw4GiAqMSEYFhoZHyYbHCAiHCcfHEsYFywXHB8YGhkhJRcXIB0cFxckGRYqKDwlOSYaKBsTJx8gNy4uFhscFCEvFTcdJBlBGh4dHiIjPR8kIxslJCI/HRYXHCEaGScsFxo5LyonHSAcGyoxJhgkIhoaFCUoKxg1Gh4fKSAcISUqLRciKxgiG0MWHBsfGB0XJB8XFhsbGx4xIRQkFS88OhQgFyQtHiIXFjIWMB0WJRUbFkEpHRwsGRobJiAgJigyJS0qFikcKRcjMiIrLxhAHx4fGRkdHSguLykgGBkZJSMZGx8iGBhCGTskIRUsFyMaIBcWHBclMRcXSiMYGCgfHBlCGUMZHxcjMhsnMzAYGBo3GhocGDYuNisaGCkvHiEXHRkwPx07OSEgHSMbGC4aHSgkGys1FysmIhwqKxQZHyBEIScWHjcuFScrGBYXHhweKi4eHigYHB05JS0eLxYXKBYdJDlAGTEcGhkhHTAeKBcb",
          "dtype": "i1"
         },
         "xaxis": "x",
         "xbins": {
          "end": 80,
          "size": 5,
          "start": 15
         },
         "yaxis": "y"
        },
        {
         "marker": {
          "line": {
           "color": "black",
           "width": 1
          }
         },
         "name": "Job",
         "type": "histogram",
         "x": {
          "bdata": "AgICAwMCAgIBAgEDAgECAQICAgICAgMBAgICAgECAQADAgMBAgMCAgMBAwICAgEBAgIDAgICAgICAgIDAgICAgECAgMCAgIBAgMCAgEBAAMDAgICAgICAwICAQIDAgICAgMCAgICAgMCAwACAgECAgMCAwECAwIBAgMCAgEBAgMCAgEDAQICAgEBAgICAgMCAwIBAgECAwICAwMCAgICAgECAQIBAgEBAwIDAgECAgMDAgMBAgECAQIDAQIAAgICAQICAAICAgMCAwMCAwIBAwICAwICAgICAgEBAgADAwIAAAICAwICAgICAgICAgMCAQICAQICAgECAQICAwMBAwECAgICAgICAwICAgIBAgICAQICAQICAgIDAQIBAgECAgMCAgIBAQICAgIBAQECAgIBAQICAQECAQEBAgECAgECAgICAQICAgICAgICAgICAQIAAQMCAgEDAQIDAgECAgIDAQICAgIBAQICAgECAgMCAgICAgICAQIBAwIDAgEBAgICAgEBAwEBAgECAQIBAgEBAAICAQEBAgMAAgICAQEBAgICAgECAgEDAAIBAgICAgMCAgIBAgICAgECAgICAQIBAgICAgICAQIDAwICAgMBAgMCAgMBAgMDAgMCAgICAgIBAQICAwEDAgICAgACAgIDAQECAgEBAQIAAgECAgIDAgICAwEDAwIC",
          "dtype": "i1"
         },
         "xaxis": "x2",
         "xbins": {
          "end": 3.5,
          "size": 1,
          "start": -0.5
         },
         "yaxis": "y2"
        },
        {
         "marker": {
          "line": {
           "color": "black",
           "width": 1
          }
         },
         "name": "Credit amount",
         "type": "histogram",
         "x": {
          "bdata": "PxfKHgYTJBtyFA8F1BAfBq8EewUCBSMxVwrBCAwHXgWZAW8JtBp5B7QP6hbCBYoSNAjJBMoBhgQ8GCsY/xdIBU0XsQipB1UYbwWhB1U47wOMBEIX9gV9D6MS+A7bBgsJDwVEMckIVASBBSYFST4+CiEJEwl/B6IuvheCBakFiAF0GJAGuRA+CSsHDQNJCL0CfwJEB6sN5xr+AlkHxQK7ElgNngnuDVwD+xTYFk4eNxsCBQgFUwG4DYwcawQpBo8HtgMQCIYFVg0RClIBOwJnEXQDCRSXBKICrAwED0sP1wvdBbcDyRCQBIYDfymQBagZrRR0ByAMSQ/NC3EC0Sq5Hk0MchBiAx8HzwraCf0RhQeaAssIZghlCHkGQwa2FCIDEiP0C94uJg/iKbQSnh1EBAAEtiQTGbwS6Ca5CtwODgTXAtUEFAGlDq0CugrEAjsOmRCSB14LYwpGDXkRLATXGfAcDhA4DTUISRDxBW8WDw6NDFcRbQ9yA64OcAS/AzcY3gRmCccIqQlCDnYNuQu+OQUe7jewMjIFzhwWCdcDsQylB/AtEgosCccE9wcdBKsDrwcTCr4D2wqmBEAsUAdYCEINYQJUBkUK6BMyBxAK6AXREkEPOg1XASQOuQbJC2wLewYUDMABjgLdBCoMIBQNBMYF9Q2xBCYOuQR+IEoISiMVBSsFMwx1FWYEwAS3BDgJwhr3An8KSQJhAlEFswR2DM8bWQQeH/4IlgLhCEcKDwkcDlMe6Qv+BTALNQVyAlcbywevBDMF5gjgDYgHCgarAhEGXAVmGqIMJgM6BHILBAsgBDQMUAn3B+8KCQXBBMYIgQGeCqMDogWREBkJlgMtB/sEDAtvCuUC2AQdDTAOXA5xDUQOQgcoCkQInQVMDhEGSwUSEe4CHAVYB+cRswOsAjQdggf/CJYfhQ94A30Q2RgRBRoEFwSoDesSyQvbFVAJgSYuC0MOzwNHClALTwRxB7sYYQXHCeAJoBmZC7YERgiuBHIEyzYEGDkFsQHMBBYDWgcQGfsEAxnDB/gCKC0cEbgQFQkYBLMJBQfPCfoErAHQA0kDEwWzAkwIpgiDBCQMIQ6BH8gFtQ0gD0UTggVEA5UHUBhuF6QETAsDB7AQNyROAkMk8gaLA+QBnSXrC1sPCB3xPUEFyAuYCtsCQgZ+D8AEKC4XCToEjQs7FFQFxQK7CKIFdw+HCVUJjAI/BWYFBg4qBZQHjgXZDxsDOD2KCXsIqBYuCjkQQQpTBIASWQz4RzA6NwkRDVYF0gfYGrkCGQQ5KEAF0waGBtoFfwfpAg8IkBg1B6YgFQ0GDmEIERBlB88EggSmD/0LMQnGAdgJYw/qBakEgRzqBPEC8ATCIGsLJSCZBZEYsxnPBncPEQ81B+AR",
          "dtype": "i2"
         },
         "xaxis": "x3",
         "xbins": {
          "end": 20000,
          "size": 1000,
          "start": 0
         },
         "yaxis": "y3"
        },
        {
         "marker": {
          "line": {
           "color": "black",
           "width": 1
          }
         },
         "name": "Duration",
         "type": "histogram",
         "x": {
          "bdata": "MCoYJB4MMAwYDxgYBgoMBgwHPBIYEgwtEgoJDBIeMAYbJBIkCSQwDAgqDCoLHhgKEiQSDAwMNhIkJAkYDA4GDxIMIQwVCgwMDAwMJAwMBiQbEjAGJCQYGAwJDBgKEgsYDxgIFQwGFSQSCRAMEjAbLQkMEgwMHgwYGx4SJBgMMAwYJBIYFR4wGAYMHgwMGBIPDjAeGC8wMAwYJBgqMBUkCgwICRgMJAwPHhgYEggkBhg8GAYNGAoYFRISCg0YCQkMGB4MEhIkEjwwJBIMEg8MJAYnDCQMGA8MGAwMEhIYBgkqDAwUMCQHDxgLDAYkDwwYGBgGCRISGAwPDBgeBhsMJBIGGCQJGBgPDwwPDAYGBhIwEhokBiQPFRIwEgwSGAwwDAkMEhgSGAYYDDAYDwkMJBIMJBIJDBIMDBgGGBgHCRgKGCQMChUYBh4VDBIGCRgSGCoSDxIeGAwwDBgkDgweEgwGBh4MHkgYJCQMDw8YDA8wGB4bMAwJCQYJPBQJBgwJEjAYGBgIGBIeGAoYDQ8MBhIMBgwSDAweDCQMEhInDAwSMCgVGBIUJAYqDwgGJDAwJCQSDCQIFRISLQ8MGCQJDBQSDxgSDAYYDAsSCRgMMBsMJBUSEAwYGDAGGBgJDBgMEjAMGAkMHgkGPA8wGBIkGAwYCRwYFQYbCw8YPBgGDx4VJA8qGBgkHi0t",
          "dtype": "i1"
         },
         "xaxis": "x4",
         "xbins": {
          "end": 80,
          "size": 6,
          "start": 0
         },
         "yaxis": "y4"
        }
       ],
       "layout": {
        "annotations": [
         {
          "font": {
           "size": 16
          },
          "showarrow": false,
          "text": "Age",
          "x": 0.23,
          "xanchor": "center",
          "xref": "paper",
          "y": 1,
          "yanchor": "bottom",
          "yref": "paper"
         },
         {
          "font": {
           "size": 16
          },
          "showarrow": false,
          "text": "Job",
          "x": 0.77,
          "xanchor": "center",
          "xref": "paper",
          "y": 1,
          "yanchor": "bottom",
          "yref": "paper"
         },
         {
          "font": {
           "size": 16
          },
          "showarrow": false,
          "text": "Credit amount",
          "x": 0.23,
          "xanchor": "center",
          "xref": "paper",
          "y": 0.425,
          "yanchor": "bottom",
          "yref": "paper"
         },
         {
          "font": {
           "size": 16
          },
          "showarrow": false,
          "text": "Duration",
          "x": 0.77,
          "xanchor": "center",
          "xref": "paper",
          "y": 0.425,
          "yanchor": "bottom",
          "yref": "paper"
         }
        ],
        "bargap": 0.05,
        "height": 700,
        "showlegend": false,
        "template": {
         "data": {
          "bar": [
           {
            "error_x": {
             "color": "#2a3f5f"
            },
            "error_y": {
             "color": "#2a3f5f"
            },
            "marker": {
             "line": {
              "color": "#E5ECF6",
              "width": 0.5
             },
             "pattern": {
              "fillmode": "overlay",
              "size": 10,
              "solidity": 0.2
             }
            },
            "type": "bar"
           }
          ],
          "barpolar": [
           {
            "marker": {
             "line": {
              "color": "#E5ECF6",
              "width": 0.5
             },
             "pattern": {
              "fillmode": "overlay",
              "size": 10,
              "solidity": 0.2
             }
            },
            "type": "barpolar"
           }
          ],
          "carpet": [
           {
            "aaxis": {
             "endlinecolor": "#2a3f5f",
             "gridcolor": "white",
             "linecolor": "white",
             "minorgridcolor": "white",
             "startlinecolor": "#2a3f5f"
            },
            "baxis": {
             "endlinecolor": "#2a3f5f",
             "gridcolor": "white",
             "linecolor": "white",
             "minorgridcolor": "white",
             "startlinecolor": "#2a3f5f"
            },
            "type": "carpet"
           }
          ],
          "choropleth": [
           {
            "colorbar": {
             "outlinewidth": 0,
             "ticks": ""
            },
            "type": "choropleth"
           }
          ],
          "contour": [
           {
            "colorbar": {
             "outlinewidth": 0,
             "ticks": ""
            },
            "colorscale": [
             [
              0,
              "#0d0887"
             ],
             [
              0.1111111111111111,
              "#46039f"
             ],
             [
              0.2222222222222222,
              "#7201a8"
             ],
             [
              0.3333333333333333,
              "#9c179e"
             ],
             [
              0.4444444444444444,
              "#bd3786"
             ],
             [
              0.5555555555555556,
              "#d8576b"
             ],
             [
              0.6666666666666666,
              "#ed7953"
             ],
             [
              0.7777777777777778,
              "#fb9f3a"
             ],
             [
              0.8888888888888888,
              "#fdca26"
             ],
             [
              1,
              "#f0f921"
             ]
            ],
            "type": "contour"
           }
          ],
          "contourcarpet": [
           {
            "colorbar": {
             "outlinewidth": 0,
             "ticks": ""
            },
            "type": "contourcarpet"
           }
          ],
          "heatmap": [
           {
            "colorbar": {
             "outlinewidth": 0,
             "ticks": ""
            },
            "colorscale": [
             [
              0,
              "#0d0887"
             ],
             [
              0.1111111111111111,
              "#46039f"
             ],
             [
              0.2222222222222222,
              "#7201a8"
             ],
             [
              0.3333333333333333,
              "#9c179e"
             ],
             [
              0.4444444444444444,
              "#bd3786"
             ],
             [
              0.5555555555555556,
              "#d8576b"
             ],
             [
              0.6666666666666666,
              "#ed7953"
             ],
             [
              0.7777777777777778,
              "#fb9f3a"
             ],
             [
              0.8888888888888888,
              "#fdca26"
             ],
             [
              1,
              "#f0f921"
             ]
            ],
            "type": "heatmap"
           }
          ],
          "histogram": [
           {
            "marker": {
             "pattern": {
              "fillmode": "overlay",
              "size": 10,
              "solidity": 0.2
             }
            },
            "type": "histogram"
           }
          ],
          "histogram2d": [
           {
            "colorbar": {
             "outlinewidth": 0,
             "ticks": ""
            },
            "colorscale": [
             [
              0,
              "#0d0887"
             ],
             [
              0.1111111111111111,
              "#46039f"
             ],
             [
              0.2222222222222222,
              "#7201a8"
             ],
             [
              0.3333333333333333,
              "#9c179e"
             ],
             [
              0.4444444444444444,
              "#bd3786"
             ],
             [
              0.5555555555555556,
              "#d8576b"
             ],
             [
              0.6666666666666666,
              "#ed7953"
             ],
             [
              0.7777777777777778,
              "#fb9f3a"
             ],
             [
              0.8888888888888888,
              "#fdca26"
             ],
             [
              1,
              "#f0f921"
             ]
            ],
            "type": "histogram2d"
           }
          ],
          "histogram2dcontour": [
           {
            "colorbar": {
             "outlinewidth": 0,
             "ticks": ""
            },
            "colorscale": [
             [
              0,
              "#0d0887"
             ],
             [
              0.1111111111111111,
              "#46039f"
             ],
             [
              0.2222222222222222,
              "#7201a8"
             ],
             [
              0.3333333333333333,
              "#9c179e"
             ],
             [
              0.4444444444444444,
              "#bd3786"
             ],
             [
              0.5555555555555556,
              "#d8576b"
             ],
             [
              0.6666666666666666,
              "#ed7953"
             ],
             [
              0.7777777777777778,
              "#fb9f3a"
             ],
             [
              0.8888888888888888,
              "#fdca26"
             ],
             [
              1,
              "#f0f921"
             ]
            ],
            "type": "histogram2dcontour"
           }
          ],
          "mesh3d": [
           {
            "colorbar": {
             "outlinewidth": 0,
             "ticks": ""
            },
            "type": "mesh3d"
           }
          ],
          "parcoords": [
           {
            "line": {
             "colorbar": {
              "outlinewidth": 0,
              "ticks": ""
             }
            },
            "type": "parcoords"
           }
          ],
          "pie": [
           {
            "automargin": true,
            "type": "pie"
           }
          ],
          "scatter": [
           {
            "fillpattern": {
             "fillmode": "overlay",
             "size": 10,
             "solidity": 0.2
            },
            "type": "scatter"
           }
          ],
          "scatter3d": [
           {
            "line": {
             "colorbar": {
              "outlinewidth": 0,
              "ticks": ""
             }
            },
            "marker": {
             "colorbar": {
              "outlinewidth": 0,
              "ticks": ""
             }
            },
            "type": "scatter3d"
           }
          ],
          "scattercarpet": [
           {
            "marker": {
             "colorbar": {
              "outlinewidth": 0,
              "ticks": ""
             }
            },
            "type": "scattercarpet"
           }
          ],
          "scattergeo": [
           {
            "marker": {
             "colorbar": {
              "outlinewidth": 0,
              "ticks": ""
             }
            },
            "type": "scattergeo"
           }
          ],
          "scattergl": [
           {
            "marker": {
             "colorbar": {
              "outlinewidth": 0,
              "ticks": ""
             }
            },
            "type": "scattergl"
           }
          ],
          "scattermap": [
           {
            "marker": {
             "colorbar": {
              "outlinewidth": 0,
              "ticks": ""
             }
            },
            "type": "scattermap"
           }
          ],
          "scattermapbox": [
           {
            "marker": {
             "colorbar": {
              "outlinewidth": 0,
              "ticks": ""
             }
            },
            "type": "scattermapbox"
           }
          ],
          "scatterpolar": [
           {
            "marker": {
             "colorbar": {
              "outlinewidth": 0,
              "ticks": ""
             }
            },
            "type": "scatterpolar"
           }
          ],
          "scatterpolargl": [
           {
            "marker": {
             "colorbar": {
              "outlinewidth": 0,
              "ticks": ""
             }
            },
            "type": "scatterpolargl"
           }
          ],
          "scatterternary": [
           {
            "marker": {
             "colorbar": {
              "outlinewidth": 0,
              "ticks": ""
             }
            },
            "type": "scatterternary"
           }
          ],
          "surface": [
           {
            "colorbar": {
             "outlinewidth": 0,
             "ticks": ""
            },
            "colorscale": [
             [
              0,
              "#0d0887"
             ],
             [
              0.1111111111111111,
              "#46039f"
             ],
             [
              0.2222222222222222,
              "#7201a8"
             ],
             [
              0.3333333333333333,
              "#9c179e"
             ],
             [
              0.4444444444444444,
              "#bd3786"
             ],
             [
              0.5555555555555556,
              "#d8576b"
             ],
             [
              0.6666666666666666,
              "#ed7953"
             ],
             [
              0.7777777777777778,
              "#fb9f3a"
             ],
             [
              0.8888888888888888,
              "#fdca26"
             ],
             [
              1,
              "#f0f921"
             ]
            ],
            "type": "surface"
           }
          ],
          "table": [
           {
            "cells": {
             "fill": {
              "color": "#EBF0F8"
             },
             "line": {
              "color": "white"
             }
            },
            "header": {
             "fill": {
              "color": "#C8D4E3"
             },
             "line": {
              "color": "white"
             }
            },
            "type": "table"
           }
          ]
         },
         "layout": {
          "annotationdefaults": {
           "arrowcolor": "#2a3f5f",
           "arrowhead": 0,
           "arrowwidth": 1
          },
          "autotypenumbers": "strict",
          "coloraxis": {
           "colorbar": {
            "outlinewidth": 0,
            "ticks": ""
           }
          },
          "colorscale": {
           "diverging": [
            [
             0,
             "#8e0152"
            ],
            [
             0.1,
             "#c51b7d"
            ],
            [
             0.2,
             "#de77ae"
            ],
            [
             0.3,
             "#f1b6da"
            ],
            [
             0.4,
             "#fde0ef"
            ],
            [
             0.5,
             "#f7f7f7"
            ],
            [
             0.6,
             "#e6f5d0"
            ],
            [
             0.7,
             "#b8e186"
            ],
            [
             0.8,
             "#7fbc41"
            ],
            [
             0.9,
             "#4d9221"
            ],
            [
             1,
             "#276419"
            ]
           ],
           "sequential": [
            [
             0,
             "#0d0887"
            ],
            [
             0.1111111111111111,
             "#46039f"
            ],
            [
             0.2222222222222222,
             "#7201a8"
            ],
            [
             0.3333333333333333,
             "#9c179e"
            ],
            [
             0.4444444444444444,
             "#bd3786"
            ],
            [
             0.5555555555555556,
             "#d8576b"
            ],
            [
             0.6666666666666666,
             "#ed7953"
            ],
            [
             0.7777777777777778,
             "#fb9f3a"
            ],
            [
             0.8888888888888888,
             "#fdca26"
            ],
            [
             1,
             "#f0f921"
            ]
           ],
           "sequentialminus": [
            [
             0,
             "#0d0887"
            ],
            [
             0.1111111111111111,
             "#46039f"
            ],
            [
             0.2222222222222222,
             "#7201a8"
            ],
            [
             0.3333333333333333,
             "#9c179e"
            ],
            [
             0.4444444444444444,
             "#bd3786"
            ],
            [
             0.5555555555555556,
             "#d8576b"
            ],
            [
             0.6666666666666666,
             "#ed7953"
            ],
            [
             0.7777777777777778,
             "#fb9f3a"
            ],
            [
             0.8888888888888888,
             "#fdca26"
            ],
            [
             1,
             "#f0f921"
            ]
           ]
          },
          "colorway": [
           "#636efa",
           "#EF553B",
           "#00cc96",
           "#ab63fa",
           "#FFA15A",
           "#19d3f3",
           "#FF6692",
           "#B6E880",
           "#FF97FF",
           "#FECB52"
          ],
          "font": {
           "color": "#2a3f5f"
          },
          "geo": {
           "bgcolor": "white",
           "lakecolor": "white",
           "landcolor": "#E5ECF6",
           "showlakes": true,
           "showland": true,
           "subunitcolor": "white"
          },
          "hoverlabel": {
           "align": "left"
          },
          "hovermode": "closest",
          "mapbox": {
           "style": "light"
          },
          "paper_bgcolor": "white",
          "plot_bgcolor": "#E5ECF6",
          "polar": {
           "angularaxis": {
            "gridcolor": "white",
            "linecolor": "white",
            "ticks": ""
           },
           "bgcolor": "#E5ECF6",
           "radialaxis": {
            "gridcolor": "white",
            "linecolor": "white",
            "ticks": ""
           }
          },
          "scene": {
           "xaxis": {
            "backgroundcolor": "#E5ECF6",
            "gridcolor": "white",
            "gridwidth": 2,
            "linecolor": "white",
            "showbackground": true,
            "ticks": "",
            "zerolinecolor": "white"
           },
           "yaxis": {
            "backgroundcolor": "#E5ECF6",
            "gridcolor": "white",
            "gridwidth": 2,
            "linecolor": "white",
            "showbackground": true,
            "ticks": "",
            "zerolinecolor": "white"
           },
           "zaxis": {
            "backgroundcolor": "#E5ECF6",
            "gridcolor": "white",
            "gridwidth": 2,
            "linecolor": "white",
            "showbackground": true,
            "ticks": "",
            "zerolinecolor": "white"
           }
          },
          "shapedefaults": {
           "line": {
            "color": "#2a3f5f"
           }
          },
          "ternary": {
           "aaxis": {
            "gridcolor": "white",
            "linecolor": "white",
            "ticks": ""
           },
           "baxis": {
            "gridcolor": "white",
            "linecolor": "white",
            "ticks": ""
           },
           "bgcolor": "#E5ECF6",
           "caxis": {
            "gridcolor": "white",
            "linecolor": "white",
            "ticks": ""
           }
          },
          "title": {
           "x": 0.05
          },
          "xaxis": {
           "automargin": true,
           "gridcolor": "white",
           "linecolor": "white",
           "ticks": "",
           "title": {
            "standoff": 15
           },
           "zerolinecolor": "white",
           "zerolinewidth": 2
          },
          "yaxis": {
           "automargin": true,
           "gridcolor": "white",
           "linecolor": "white",
           "ticks": "",
           "title": {
            "standoff": 15
           },
           "zerolinecolor": "white",
           "zerolinewidth": 2
          }
         }
        },
        "title": {
         "text": "Verteilung der numerischen Merkmale"
        },
        "xaxis": {
         "anchor": "y",
         "domain": [
          0,
          0.46
         ],
         "showgrid": false
        },
        "xaxis2": {
         "anchor": "y2",
         "domain": [
          0.54,
          1
         ],
         "showgrid": false
        },
        "xaxis3": {
         "anchor": "y3",
         "domain": [
          0,
          0.46
         ],
         "showgrid": false
        },
        "xaxis4": {
         "anchor": "y4",
         "domain": [
          0.54,
          1
         ],
         "showgrid": false
        },
        "yaxis": {
         "anchor": "x",
         "domain": [
          0.575,
          1
         ],
         "showgrid": false
        },
        "yaxis2": {
         "anchor": "x2",
         "domain": [
          0.575,
          1
         ],
         "showgrid": false
        },
        "yaxis3": {
         "anchor": "x3",
         "domain": [
          0,
          0.425
         ],
         "showgrid": false
        },
        "yaxis4": {
         "anchor": "x4",
         "domain": [
          0,
          0.425
         ],
         "showgrid": false
        }
       }
      },
      "text/html": [
       "<div>                        <script type=\"text/javascript\">window.PlotlyConfig = {MathJaxConfig: 'local'};</script>\n",
       "        <script charset=\"utf-8\" src=\"https://cdn.plot.ly/plotly-3.1.0.min.js\" integrity=\"sha256-Ei4740bWZhaUTQuD6q9yQlgVCMPBz6CZWhevDYPv93A=\" crossorigin=\"anonymous\"></script>                <div id=\"403e1348-7c61-4112-97c0-6631e2c348e5\" class=\"plotly-graph-div\" style=\"height:700px; width:100%;\"></div>            <script type=\"text/javascript\">                window.PLOTLYENV=window.PLOTLYENV || {};                                if (document.getElementById(\"403e1348-7c61-4112-97c0-6631e2c348e5\")) {                    Plotly.newPlot(                        \"403e1348-7c61-4112-97c0-6631e2c348e5\",                        [{\"marker\":{\"line\":{\"color\":\"black\",\"width\":1}},\"name\":\"Age\",\"x\":{\"dtype\":\"i1\",\"bdata\":\"Fi01IxwZGBY8HCAsLDAsJCoiPyQbHiEZJSUYGiwYOhceORcXGz0ZFjMpQiIzFjo0Gy8eHDY2OiIkGCMnICMfFxwjFyQZPx4oHiIdHUIsGx4bFh4nHBgdJBQwLSZGIRQfISIhGio0QR4kSkQUISIkFSIbKBsVJhoVMkIfFxgaGzUWGhkePScYGicuGB0bNyQlLRwiJSMaHzEwHCw4GiAqMSEYFhoZHyYbHCAiHCcfHEsYFywXHB8YGhkhJRcXIB0cFxckGRYqKDwlOSYaKBsTJx8gNy4uFhscFCEvFTcdJBlBGh4dHiIjPR8kIxslJCI\\u002fHRYXHCEaGScsFxo5LyonHSAcGyoxJhgkIhoaFCUoKxg1Gh4fKSAcISUqLRciKxgiG0MWHBsfGB0XJB8XFhsbGx4xIRQkFS88OhQgFyQtHiIXFjIWMB0WJRUbFkEpHRwsGRobJiAgJigyJS0qFikcKRcjMiIrLxhAHx4fGRkdHSguLykgGBkZJSMZGx8iGBhCGTskIRUsFyMaIBcWHBclMRcXSiMYGCgfHBlCGUMZHxcjMhsnMzAYGBo3GhocGDYuNisaGCkvHiEXHRkwPx07OSEgHSMbGC4aHSgkGys1FysmIhwqKxQZHyBEIScWHjcuFScrGBYXHhweKi4eHigYHB05JS0eLxYXKBYdJDlAGTEcGhkhHTAeKBcb\"},\"xbins\":{\"end\":80,\"size\":5,\"start\":15},\"type\":\"histogram\",\"xaxis\":\"x\",\"yaxis\":\"y\"},{\"marker\":{\"line\":{\"color\":\"black\",\"width\":1}},\"name\":\"Job\",\"x\":{\"dtype\":\"i1\",\"bdata\":\"AgICAwMCAgIBAgEDAgECAQICAgICAgMBAgICAgECAQADAgMBAgMCAgMBAwICAgEBAgIDAgICAgICAgIDAgICAgECAgMCAgIBAgMCAgEBAAMDAgICAgICAwICAQIDAgICAgMCAgICAgMCAwACAgECAgMCAwECAwIBAgMCAgEBAgMCAgEDAQICAgEBAgICAgMCAwIBAgECAwICAwMCAgICAgECAQIBAgEBAwIDAgECAgMDAgMBAgECAQIDAQIAAgICAQICAAICAgMCAwMCAwIBAwICAwICAgICAgEBAgADAwIAAAICAwICAgICAgICAgMCAQICAQICAgECAQICAwMBAwECAgICAgICAwICAgIBAgICAQICAQICAgIDAQIBAgECAgMCAgIBAQICAgIBAQECAgIBAQICAQECAQEBAgECAgECAgICAQICAgICAgICAgICAQIAAQMCAgEDAQIDAgECAgIDAQICAgIBAQICAgECAgMCAgICAgICAQIBAwIDAgEBAgICAgEBAwEBAgECAQIBAgEBAAICAQEBAgMAAgICAQEBAgICAgECAgEDAAIBAgICAgMCAgIBAgICAgECAgICAQIBAgICAgICAQIDAwICAgMBAgMCAgMBAgMDAgMCAgICAgIBAQICAwEDAgICAgACAgIDAQECAgEBAQIAAgECAgIDAgICAwEDAwIC\"},\"xbins\":{\"end\":3.5,\"size\":1,\"start\":-0.5},\"type\":\"histogram\",\"xaxis\":\"x2\",\"yaxis\":\"y2\"},{\"marker\":{\"line\":{\"color\":\"black\",\"width\":1}},\"name\":\"Credit amount\",\"x\":{\"dtype\":\"i2\",\"bdata\":\"PxfKHgYTJBtyFA8F1BAfBq8EewUCBSMxVwrBCAwHXgWZAW8JtBp5B7QP6hbCBYoSNAjJBMoBhgQ8GCsY\\u002fxdIBU0XsQipB1UYbwWhB1U47wOMBEIX9gV9D6MS+A7bBgsJDwVEMckIVASBBSYFST4+CiEJEwl\\u002fB6IuvheCBakFiAF0GJAGuRA+CSsHDQNJCL0CfwJEB6sN5xr+AlkHxQK7ElgNngnuDVwD+xTYFk4eNxsCBQgFUwG4DYwcawQpBo8HtgMQCIYFVg0RClIBOwJnEXQDCRSXBKICrAwED0sP1wvdBbcDyRCQBIYDfymQBagZrRR0ByAMSQ\\u002fNC3EC0Sq5Hk0MchBiAx8HzwraCf0RhQeaAssIZghlCHkGQwa2FCIDEiP0C94uJg\\u002fiKbQSnh1EBAAEtiQTGbwS6Ca5CtwODgTXAtUEFAGlDq0CugrEAjsOmRCSB14LYwpGDXkRLATXGfAcDhA4DTUISRDxBW8WDw6NDFcRbQ9yA64OcAS\\u002fAzcY3gRmCccIqQlCDnYNuQu+OQUe7jewMjIFzhwWCdcDsQylB\\u002fAtEgosCccE9wcdBKsDrwcTCr4D2wqmBEAsUAdYCEINYQJUBkUK6BMyBxAK6AXREkEPOg1XASQOuQbJC2wLewYUDMABjgLdBCoMIBQNBMYF9Q2xBCYOuQR+IEoISiMVBSsFMwx1FWYEwAS3BDgJwhr3An8KSQJhAlEFswR2DM8bWQQeH\\u002f4IlgLhCEcKDwkcDlMe6Qv+BTALNQVyAlcbywevBDMF5gjgDYgHCgarAhEGXAVmGqIMJgM6BHILBAsgBDQMUAn3B+8KCQXBBMYIgQGeCqMDogWREBkJlgMtB\\u002fsEDAtvCuUC2AQdDTAOXA5xDUQOQgcoCkQInQVMDhEGSwUSEe4CHAVYB+cRswOsAjQdggf\\u002fCJYfhQ94A30Q2RgRBRoEFwSoDesSyQvbFVAJgSYuC0MOzwNHClALTwRxB7sYYQXHCeAJoBmZC7YERgiuBHIEyzYEGDkFsQHMBBYDWgcQGfsEAxnDB\\u002fgCKC0cEbgQFQkYBLMJBQfPCfoErAHQA0kDEwWzAkwIpgiDBCQMIQ6BH8gFtQ0gD0UTggVEA5UHUBhuF6QETAsDB7AQNyROAkMk8gaLA+QBnSXrC1sPCB3xPUEFyAuYCtsCQgZ+D8AEKC4XCToEjQs7FFQFxQK7CKIFdw+HCVUJjAI\\u002fBWYFBg4qBZQHjgXZDxsDOD2KCXsIqBYuCjkQQQpTBIASWQz4RzA6NwkRDVYF0gfYGrkCGQQ5KEAF0waGBtoFfwfpAg8IkBg1B6YgFQ0GDmEIERBlB88EggSmD\\u002f0LMQnGAdgJYw\\u002fqBakEgRzqBPEC8ATCIGsLJSCZBZEYsxnPBncPEQ81B+AR\"},\"xbins\":{\"end\":20000,\"size\":1000,\"start\":0},\"type\":\"histogram\",\"xaxis\":\"x3\",\"yaxis\":\"y3\"},{\"marker\":{\"line\":{\"color\":\"black\",\"width\":1}},\"name\":\"Duration\",\"x\":{\"dtype\":\"i1\",\"bdata\":\"MCoYJB4MMAwYDxgYBgoMBgwHPBIYEgwtEgoJDBIeMAYbJBIkCSQwDAgqDCoLHhgKEiQSDAwMNhIkJAkYDA4GDxIMIQwVCgwMDAwMJAwMBiQbEjAGJCQYGAwJDBgKEgsYDxgIFQwGFSQSCRAMEjAbLQkMEgwMHgwYGx4SJBgMMAwYJBIYFR4wGAYMHgwMGBIPDjAeGC8wMAwYJBgqMBUkCgwICRgMJAwPHhgYEggkBhg8GAYNGAoYFRISCg0YCQkMGB4MEhIkEjwwJBIMEg8MJAYnDCQMGA8MGAwMEhIYBgkqDAwUMCQHDxgLDAYkDwwYGBgGCRISGAwPDBgeBhsMJBIGGCQJGBgPDwwPDAYGBhIwEhokBiQPFRIwEgwSGAwwDAkMEhgSGAYYDDAYDwkMJBIMJBIJDBIMDBgGGBgHCRgKGCQMChUYBh4VDBIGCRgSGCoSDxIeGAwwDBgkDgweEgwGBh4MHkgYJCQMDw8YDA8wGB4bMAwJCQYJPBQJBgwJEjAYGBgIGBIeGAoYDQ8MBhIMBgwSDAweDCQMEhInDAwSMCgVGBIUJAYqDwgGJDAwJCQSDCQIFRISLQ8MGCQJDBQSDxgSDAYYDAsSCRgMMBsMJBUSEAwYGDAGGBgJDBgMEjAMGAkMHgkGPA8wGBIkGAwYCRwYFQYbCw8YPBgGDx4VJA8qGBgkHi0t\"},\"xbins\":{\"end\":80,\"size\":6,\"start\":0},\"type\":\"histogram\",\"xaxis\":\"x4\",\"yaxis\":\"y4\"}],                        {\"template\":{\"data\":{\"histogram2dcontour\":[{\"type\":\"histogram2dcontour\",\"colorbar\":{\"outlinewidth\":0,\"ticks\":\"\"},\"colorscale\":[[0.0,\"#0d0887\"],[0.1111111111111111,\"#46039f\"],[0.2222222222222222,\"#7201a8\"],[0.3333333333333333,\"#9c179e\"],[0.4444444444444444,\"#bd3786\"],[0.5555555555555556,\"#d8576b\"],[0.6666666666666666,\"#ed7953\"],[0.7777777777777778,\"#fb9f3a\"],[0.8888888888888888,\"#fdca26\"],[1.0,\"#f0f921\"]]}],\"choropleth\":[{\"type\":\"choropleth\",\"colorbar\":{\"outlinewidth\":0,\"ticks\":\"\"}}],\"histogram2d\":[{\"type\":\"histogram2d\",\"colorbar\":{\"outlinewidth\":0,\"ticks\":\"\"},\"colorscale\":[[0.0,\"#0d0887\"],[0.1111111111111111,\"#46039f\"],[0.2222222222222222,\"#7201a8\"],[0.3333333333333333,\"#9c179e\"],[0.4444444444444444,\"#bd3786\"],[0.5555555555555556,\"#d8576b\"],[0.6666666666666666,\"#ed7953\"],[0.7777777777777778,\"#fb9f3a\"],[0.8888888888888888,\"#fdca26\"],[1.0,\"#f0f921\"]]}],\"heatmap\":[{\"type\":\"heatmap\",\"colorbar\":{\"outlinewidth\":0,\"ticks\":\"\"},\"colorscale\":[[0.0,\"#0d0887\"],[0.1111111111111111,\"#46039f\"],[0.2222222222222222,\"#7201a8\"],[0.3333333333333333,\"#9c179e\"],[0.4444444444444444,\"#bd3786\"],[0.5555555555555556,\"#d8576b\"],[0.6666666666666666,\"#ed7953\"],[0.7777777777777778,\"#fb9f3a\"],[0.8888888888888888,\"#fdca26\"],[1.0,\"#f0f921\"]]}],\"contourcarpet\":[{\"type\":\"contourcarpet\",\"colorbar\":{\"outlinewidth\":0,\"ticks\":\"\"}}],\"contour\":[{\"type\":\"contour\",\"colorbar\":{\"outlinewidth\":0,\"ticks\":\"\"},\"colorscale\":[[0.0,\"#0d0887\"],[0.1111111111111111,\"#46039f\"],[0.2222222222222222,\"#7201a8\"],[0.3333333333333333,\"#9c179e\"],[0.4444444444444444,\"#bd3786\"],[0.5555555555555556,\"#d8576b\"],[0.6666666666666666,\"#ed7953\"],[0.7777777777777778,\"#fb9f3a\"],[0.8888888888888888,\"#fdca26\"],[1.0,\"#f0f921\"]]}],\"surface\":[{\"type\":\"surface\",\"colorbar\":{\"outlinewidth\":0,\"ticks\":\"\"},\"colorscale\":[[0.0,\"#0d0887\"],[0.1111111111111111,\"#46039f\"],[0.2222222222222222,\"#7201a8\"],[0.3333333333333333,\"#9c179e\"],[0.4444444444444444,\"#bd3786\"],[0.5555555555555556,\"#d8576b\"],[0.6666666666666666,\"#ed7953\"],[0.7777777777777778,\"#fb9f3a\"],[0.8888888888888888,\"#fdca26\"],[1.0,\"#f0f921\"]]}],\"mesh3d\":[{\"type\":\"mesh3d\",\"colorbar\":{\"outlinewidth\":0,\"ticks\":\"\"}}],\"scatter\":[{\"fillpattern\":{\"fillmode\":\"overlay\",\"size\":10,\"solidity\":0.2},\"type\":\"scatter\"}],\"parcoords\":[{\"type\":\"parcoords\",\"line\":{\"colorbar\":{\"outlinewidth\":0,\"ticks\":\"\"}}}],\"scatterpolargl\":[{\"type\":\"scatterpolargl\",\"marker\":{\"colorbar\":{\"outlinewidth\":0,\"ticks\":\"\"}}}],\"bar\":[{\"error_x\":{\"color\":\"#2a3f5f\"},\"error_y\":{\"color\":\"#2a3f5f\"},\"marker\":{\"line\":{\"color\":\"#E5ECF6\",\"width\":0.5},\"pattern\":{\"fillmode\":\"overlay\",\"size\":10,\"solidity\":0.2}},\"type\":\"bar\"}],\"scattergeo\":[{\"type\":\"scattergeo\",\"marker\":{\"colorbar\":{\"outlinewidth\":0,\"ticks\":\"\"}}}],\"scatterpolar\":[{\"type\":\"scatterpolar\",\"marker\":{\"colorbar\":{\"outlinewidth\":0,\"ticks\":\"\"}}}],\"histogram\":[{\"marker\":{\"pattern\":{\"fillmode\":\"overlay\",\"size\":10,\"solidity\":0.2}},\"type\":\"histogram\"}],\"scattergl\":[{\"type\":\"scattergl\",\"marker\":{\"colorbar\":{\"outlinewidth\":0,\"ticks\":\"\"}}}],\"scatter3d\":[{\"type\":\"scatter3d\",\"line\":{\"colorbar\":{\"outlinewidth\":0,\"ticks\":\"\"}},\"marker\":{\"colorbar\":{\"outlinewidth\":0,\"ticks\":\"\"}}}],\"scattermap\":[{\"type\":\"scattermap\",\"marker\":{\"colorbar\":{\"outlinewidth\":0,\"ticks\":\"\"}}}],\"scattermapbox\":[{\"type\":\"scattermapbox\",\"marker\":{\"colorbar\":{\"outlinewidth\":0,\"ticks\":\"\"}}}],\"scatterternary\":[{\"type\":\"scatterternary\",\"marker\":{\"colorbar\":{\"outlinewidth\":0,\"ticks\":\"\"}}}],\"scattercarpet\":[{\"type\":\"scattercarpet\",\"marker\":{\"colorbar\":{\"outlinewidth\":0,\"ticks\":\"\"}}}],\"carpet\":[{\"aaxis\":{\"endlinecolor\":\"#2a3f5f\",\"gridcolor\":\"white\",\"linecolor\":\"white\",\"minorgridcolor\":\"white\",\"startlinecolor\":\"#2a3f5f\"},\"baxis\":{\"endlinecolor\":\"#2a3f5f\",\"gridcolor\":\"white\",\"linecolor\":\"white\",\"minorgridcolor\":\"white\",\"startlinecolor\":\"#2a3f5f\"},\"type\":\"carpet\"}],\"table\":[{\"cells\":{\"fill\":{\"color\":\"#EBF0F8\"},\"line\":{\"color\":\"white\"}},\"header\":{\"fill\":{\"color\":\"#C8D4E3\"},\"line\":{\"color\":\"white\"}},\"type\":\"table\"}],\"barpolar\":[{\"marker\":{\"line\":{\"color\":\"#E5ECF6\",\"width\":0.5},\"pattern\":{\"fillmode\":\"overlay\",\"size\":10,\"solidity\":0.2}},\"type\":\"barpolar\"}],\"pie\":[{\"automargin\":true,\"type\":\"pie\"}]},\"layout\":{\"autotypenumbers\":\"strict\",\"colorway\":[\"#636efa\",\"#EF553B\",\"#00cc96\",\"#ab63fa\",\"#FFA15A\",\"#19d3f3\",\"#FF6692\",\"#B6E880\",\"#FF97FF\",\"#FECB52\"],\"font\":{\"color\":\"#2a3f5f\"},\"hovermode\":\"closest\",\"hoverlabel\":{\"align\":\"left\"},\"paper_bgcolor\":\"white\",\"plot_bgcolor\":\"#E5ECF6\",\"polar\":{\"bgcolor\":\"#E5ECF6\",\"angularaxis\":{\"gridcolor\":\"white\",\"linecolor\":\"white\",\"ticks\":\"\"},\"radialaxis\":{\"gridcolor\":\"white\",\"linecolor\":\"white\",\"ticks\":\"\"}},\"ternary\":{\"bgcolor\":\"#E5ECF6\",\"aaxis\":{\"gridcolor\":\"white\",\"linecolor\":\"white\",\"ticks\":\"\"},\"baxis\":{\"gridcolor\":\"white\",\"linecolor\":\"white\",\"ticks\":\"\"},\"caxis\":{\"gridcolor\":\"white\",\"linecolor\":\"white\",\"ticks\":\"\"}},\"coloraxis\":{\"colorbar\":{\"outlinewidth\":0,\"ticks\":\"\"}},\"colorscale\":{\"sequential\":[[0.0,\"#0d0887\"],[0.1111111111111111,\"#46039f\"],[0.2222222222222222,\"#7201a8\"],[0.3333333333333333,\"#9c179e\"],[0.4444444444444444,\"#bd3786\"],[0.5555555555555556,\"#d8576b\"],[0.6666666666666666,\"#ed7953\"],[0.7777777777777778,\"#fb9f3a\"],[0.8888888888888888,\"#fdca26\"],[1.0,\"#f0f921\"]],\"sequentialminus\":[[0.0,\"#0d0887\"],[0.1111111111111111,\"#46039f\"],[0.2222222222222222,\"#7201a8\"],[0.3333333333333333,\"#9c179e\"],[0.4444444444444444,\"#bd3786\"],[0.5555555555555556,\"#d8576b\"],[0.6666666666666666,\"#ed7953\"],[0.7777777777777778,\"#fb9f3a\"],[0.8888888888888888,\"#fdca26\"],[1.0,\"#f0f921\"]],\"diverging\":[[0,\"#8e0152\"],[0.1,\"#c51b7d\"],[0.2,\"#de77ae\"],[0.3,\"#f1b6da\"],[0.4,\"#fde0ef\"],[0.5,\"#f7f7f7\"],[0.6,\"#e6f5d0\"],[0.7,\"#b8e186\"],[0.8,\"#7fbc41\"],[0.9,\"#4d9221\"],[1,\"#276419\"]]},\"xaxis\":{\"gridcolor\":\"white\",\"linecolor\":\"white\",\"ticks\":\"\",\"title\":{\"standoff\":15},\"zerolinecolor\":\"white\",\"automargin\":true,\"zerolinewidth\":2},\"yaxis\":{\"gridcolor\":\"white\",\"linecolor\":\"white\",\"ticks\":\"\",\"title\":{\"standoff\":15},\"zerolinecolor\":\"white\",\"automargin\":true,\"zerolinewidth\":2},\"scene\":{\"xaxis\":{\"backgroundcolor\":\"#E5ECF6\",\"gridcolor\":\"white\",\"linecolor\":\"white\",\"showbackground\":true,\"ticks\":\"\",\"zerolinecolor\":\"white\",\"gridwidth\":2},\"yaxis\":{\"backgroundcolor\":\"#E5ECF6\",\"gridcolor\":\"white\",\"linecolor\":\"white\",\"showbackground\":true,\"ticks\":\"\",\"zerolinecolor\":\"white\",\"gridwidth\":2},\"zaxis\":{\"backgroundcolor\":\"#E5ECF6\",\"gridcolor\":\"white\",\"linecolor\":\"white\",\"showbackground\":true,\"ticks\":\"\",\"zerolinecolor\":\"white\",\"gridwidth\":2}},\"shapedefaults\":{\"line\":{\"color\":\"#2a3f5f\"}},\"annotationdefaults\":{\"arrowcolor\":\"#2a3f5f\",\"arrowhead\":0,\"arrowwidth\":1},\"geo\":{\"bgcolor\":\"white\",\"landcolor\":\"#E5ECF6\",\"subunitcolor\":\"white\",\"showland\":true,\"showlakes\":true,\"lakecolor\":\"white\"},\"title\":{\"x\":0.05},\"mapbox\":{\"style\":\"light\"}}},\"xaxis\":{\"anchor\":\"y\",\"domain\":[0.0,0.46],\"showgrid\":false},\"yaxis\":{\"anchor\":\"x\",\"domain\":[0.575,1.0],\"showgrid\":false},\"xaxis2\":{\"anchor\":\"y2\",\"domain\":[0.54,1.0],\"showgrid\":false},\"yaxis2\":{\"anchor\":\"x2\",\"domain\":[0.575,1.0],\"showgrid\":false},\"xaxis3\":{\"anchor\":\"y3\",\"domain\":[0.0,0.46],\"showgrid\":false},\"yaxis3\":{\"anchor\":\"x3\",\"domain\":[0.0,0.425],\"showgrid\":false},\"xaxis4\":{\"anchor\":\"y4\",\"domain\":[0.54,1.0],\"showgrid\":false},\"yaxis4\":{\"anchor\":\"x4\",\"domain\":[0.0,0.425],\"showgrid\":false},\"annotations\":[{\"font\":{\"size\":16},\"showarrow\":false,\"text\":\"Age\",\"x\":0.23,\"xanchor\":\"center\",\"xref\":\"paper\",\"y\":1.0,\"yanchor\":\"bottom\",\"yref\":\"paper\"},{\"font\":{\"size\":16},\"showarrow\":false,\"text\":\"Job\",\"x\":0.77,\"xanchor\":\"center\",\"xref\":\"paper\",\"y\":1.0,\"yanchor\":\"bottom\",\"yref\":\"paper\"},{\"font\":{\"size\":16},\"showarrow\":false,\"text\":\"Credit amount\",\"x\":0.23,\"xanchor\":\"center\",\"xref\":\"paper\",\"y\":0.425,\"yanchor\":\"bottom\",\"yref\":\"paper\"},{\"font\":{\"size\":16},\"showarrow\":false,\"text\":\"Duration\",\"x\":0.77,\"xanchor\":\"center\",\"xref\":\"paper\",\"y\":0.425,\"yanchor\":\"bottom\",\"yref\":\"paper\"}],\"title\":{\"text\":\"Verteilung der numerischen Merkmale\"},\"showlegend\":false,\"bargap\":0.05,\"height\":700},                        {\"responsive\": true}                    )                };            </script>        </div>"
      ],
      "text/plain": [
       "Figure({\n",
       "    'data': [{'marker': {'line': {'color': 'black', 'width': 1}},\n",
       "              'name': 'Age',\n",
       "              'type': 'histogram',\n",
       "              'x': {'bdata': ('Fi01IxwZGBY8HCAsLDAsJCoiPyQbHi' ... '0eLxYXKBYdJDlAGTEcGhkhHTAeKBcb'),\n",
       "                    'dtype': 'i1'},\n",
       "              'xaxis': 'x',\n",
       "              'xbins': {'end': 80, 'size': 5, 'start': 15},\n",
       "              'yaxis': 'y'},\n",
       "             {'marker': {'line': {'color': 'black', 'width': 1}},\n",
       "              'name': 'Job',\n",
       "              'type': 'histogram',\n",
       "              'x': {'bdata': ('AgICAwMCAgIBAgEDAgECAQICAgICAg' ... 'ECAgEBAQIAAgECAgIDAgICAwEDAwIC'),\n",
       "                    'dtype': 'i1'},\n",
       "              'xaxis': 'x2',\n",
       "              'xbins': {'end': 3.5, 'size': 1, 'start': -0.5},\n",
       "              'yaxis': 'y2'},\n",
       "             {'marker': {'line': {'color': 'black', 'width': 1}},\n",
       "              'name': 'Credit amount',\n",
       "              'type': 'histogram',\n",
       "              'x': {'bdata': ('PxfKHgYTJBtyFA8F1BAfBq8EewUCBS' ... 'TCIGsLJSCZBZEYsxnPBncPEQ81B+AR'),\n",
       "                    'dtype': 'i2'},\n",
       "              'xaxis': 'x3',\n",
       "              'xbins': {'end': 20000, 'size': 1000, 'start': 0},\n",
       "              'yaxis': 'y3'},\n",
       "             {'marker': {'line': {'color': 'black', 'width': 1}},\n",
       "              'name': 'Duration',\n",
       "              'type': 'histogram',\n",
       "              'x': {'bdata': ('MCoYJB4MMAwYDxgYBgoMBgwHPBIYEg' ... 'wYFQYbCw8YPBgGDx4VJA8qGBgkHi0t'),\n",
       "                    'dtype': 'i1'},\n",
       "              'xaxis': 'x4',\n",
       "              'xbins': {'end': 80, 'size': 6, 'start': 0},\n",
       "              'yaxis': 'y4'}],\n",
       "    'layout': {'annotations': [{'font': {'size': 16},\n",
       "                                'showarrow': False,\n",
       "                                'text': 'Age',\n",
       "                                'x': 0.23,\n",
       "                                'xanchor': 'center',\n",
       "                                'xref': 'paper',\n",
       "                                'y': 1.0,\n",
       "                                'yanchor': 'bottom',\n",
       "                                'yref': 'paper'},\n",
       "                               {'font': {'size': 16},\n",
       "                                'showarrow': False,\n",
       "                                'text': 'Job',\n",
       "                                'x': 0.77,\n",
       "                                'xanchor': 'center',\n",
       "                                'xref': 'paper',\n",
       "                                'y': 1.0,\n",
       "                                'yanchor': 'bottom',\n",
       "                                'yref': 'paper'},\n",
       "                               {'font': {'size': 16},\n",
       "                                'showarrow': False,\n",
       "                                'text': 'Credit amount',\n",
       "                                'x': 0.23,\n",
       "                                'xanchor': 'center',\n",
       "                                'xref': 'paper',\n",
       "                                'y': 0.425,\n",
       "                                'yanchor': 'bottom',\n",
       "                                'yref': 'paper'},\n",
       "                               {'font': {'size': 16},\n",
       "                                'showarrow': False,\n",
       "                                'text': 'Duration',\n",
       "                                'x': 0.77,\n",
       "                                'xanchor': 'center',\n",
       "                                'xref': 'paper',\n",
       "                                'y': 0.425,\n",
       "                                'yanchor': 'bottom',\n",
       "                                'yref': 'paper'}],\n",
       "               'bargap': 0.05,\n",
       "               'height': 700,\n",
       "               'showlegend': False,\n",
       "               'template': '...',\n",
       "               'title': {'text': 'Verteilung der numerischen Merkmale'},\n",
       "               'xaxis': {'anchor': 'y', 'domain': [0.0, 0.46], 'showgrid': False},\n",
       "               'xaxis2': {'anchor': 'y2', 'domain': [0.54, 1.0], 'showgrid': False},\n",
       "               'xaxis3': {'anchor': 'y3', 'domain': [0.0, 0.46], 'showgrid': False},\n",
       "               'xaxis4': {'anchor': 'y4', 'domain': [0.54, 1.0], 'showgrid': False},\n",
       "               'yaxis': {'anchor': 'x', 'domain': [0.575, 1.0], 'showgrid': False},\n",
       "               'yaxis2': {'anchor': 'x2', 'domain': [0.575, 1.0], 'showgrid': False},\n",
       "               'yaxis3': {'anchor': 'x3', 'domain': [0.0, 0.425], 'showgrid': False},\n",
       "               'yaxis4': {'anchor': 'x4', 'domain': [0.0, 0.425], 'showgrid': False}}\n",
       "})"
      ]
     },
     "execution_count": 60,
     "metadata": {},
     "output_type": "execute_result"
    }
   ],
   "source": [
    "import math\n",
    "import plotly.graph_objects as go\n",
    "from plotly.subplots import make_subplots\n",
    "\n",
    "# 1) Numerische Spalten ermitteln:\n",
    "numeric_cols = df.select_dtypes(include=[\"number\"]).columns.tolist()\n",
    "\n",
    "# 2) Eigene Bins je Merkmal:\n",
    "bins_cfg = {\n",
    "    \"Age\":            dict(start=15, end=80,    size=5),  \n",
    "    \"Credit amount\":  dict(start=0,  end=20000, size=1000), \n",
    "    \"Duration\":       dict(start=0,  end=80,    size=6),\n",
    "    \"Job\":            dict(start=-0.5, end=3.5, size=1),\n",
    "}\n",
    "\n",
    "# 3) Subplot-Grid abhängig von der Anzahl der numerischen Spalten:\n",
    "cols_per_row = 2\n",
    "rows = math.ceil(len(numeric_cols) / cols_per_row)\n",
    "\n",
    "fig1 = make_subplots(\n",
    "    rows=rows,\n",
    "    cols=cols_per_row,\n",
    "    subplot_titles=numeric_cols,\n",
    "    horizontal_spacing=0.08,\n",
    "    vertical_spacing=0.15\n",
    ")\n",
    "\n",
    "# 4) Histogramme hinzufügen:\n",
    "for i, col in enumerate(numeric_cols):\n",
    "    r = i // cols_per_row + 1\n",
    "    c = i % cols_per_row + 1\n",
    "    fig1.add_trace(\n",
    "        go.Histogram(\n",
    "            x=df[col],\n",
    "            xbins=bins_cfg.get(col, None),\n",
    "            marker_line_color=\"black\",\n",
    "            marker_line_width=1,\n",
    "            name=col\n",
    "        ),\n",
    "        row=r, col=c\n",
    "    )\n",
    "\n",
    "# 5) Optik anpassen:\n",
    "fig1.update_xaxes(showgrid=False)\n",
    "fig1.update_yaxes(showgrid=False)\n",
    "fig1.update_layout(\n",
    "    title=\"Verteilung der numerischen Merkmale\",\n",
    "    showlegend=False,\n",
    "    bargap=0.05,\n",
    "    height=350 * rows \n",
    ")\n",
    "\n",
    "fig1"
   ]
  },
  {
   "cell_type": "markdown",
   "id": "3ce85492",
   "metadata": {},
   "source": [
    "Aus den Histogrammen können wir einige wichtige Informationen entnehmen:\n",
    "\n",
    "**1. Alter (Age):**\n",
    "- Die meisten Kreditnehmer sind zwischen 20 und 40 Jahren alt.\n",
    "- Danach nimmt die Häufigkeit deutlich ab.\n",
    "- Sehr alte Kreditnehmer (über 70) sind selten.\n",
    "- Das zeigt: Der Datensatz spiegelt vor allem jüngere bis mittelalte Erwachsene wider.\n",
    "- Die Verteilung ist rechtsschief: Viele jüngere Menschen, immer weniger mit zunehmendem Alter. Das ist typisch für Kreditnehmer, da vor allem jüngere Erwachsene Kredite aufnehmen.\n",
    "\n",
    "**2. Job:**\n",
    "- Die häufigste Kategorie ist \"2\" (qualifizierte Tätigkeit).\n",
    "- Kategorien \"0\" (arbeitslos/unqualifiziert) und \"3\" (hochqualifiziert) sind deutlich seltener.\n",
    "- Das heißt, die Mehrheit der Kreditnehmer befindet sich in einem mittleren Beschäftigungsniveau.\n",
    "- Nicht gleichmäßige Verteilung: Kategorie 2 dominiert stark, während 0 und 3 selten sind. Der Schwerpunkt liegt deutlich auf mittleren Jobs.\n",
    "\n",
    "**3.Kredithöhe (Credit amount):**\n",
    "- Die Verteilung ist stark rechtsschief:\n",
    "- Viele Kredite liegen im Bereich unter 5.000 €.\n",
    "- Es gibt nur wenige sehr hohe Kredite (bis über 15.000 €).\n",
    "- Typisch: Die meisten Kunden beantragen relativ kleine Kredite, nur wenige beantragen sehr hohe Summen.\n",
    "- Sehr stark rechtsschief: Die meisten Kredite sind klein (unter 5.000 €), nur wenige sehr groß. Die Ausreißer nach oben ziehen den Wertebereich stark auseinander.\n",
    "\n",
    "**4. Kreditlaufzeit (Duration):**\n",
    "- Am häufigsten sind Laufzeiten von 12 bis 24 Monaten.\n",
    "- Wenige Kredite haben sehr lange Laufzeiten (über 60 Monate).\n",
    "- Das zeigt: Kredite sind überwiegend auf kurze bis mittlere Zeiträume ausgelegt.\n",
    "- Ebenfalls rechtsschief: Kürzere Laufzeiten (bis 24 Monate) dominieren. Lange Laufzeiten sind selten und bilden Ausreißer.\n",
    "\n",
    "Nachdem wir die Verteilungen der numerischen Merkmale mit Histogrammen betrachtet haben, wollen wir nun auch Boxplots erstellen.\n",
    "Ein Boxplot zeigt uns auf einen Blick:\n",
    "- Median (mittlerer Wert),\n",
    "- Unteres und oberes Quartil (die \"Box\" = 50% der Werte),\n",
    "- Spannweite der Daten (die Whisker),\n",
    "- Sowie Ausreißer (Werte, die weit außerhalb der restlichen Daten liegen)."
   ]
  },
  {
   "cell_type": "code",
   "execution_count": 61,
   "id": "55863a62",
   "metadata": {},
   "outputs": [
    {
     "ename": "ValueError",
     "evalue": "Mime type rendering requires nbformat>=4.2.0 but it is not installed",
     "output_type": "error",
     "traceback": [
      "\u001b[31m---------------------------------------------------------------------------\u001b[39m",
      "\u001b[31mValueError\u001b[39m                                Traceback (most recent call last)",
      "\u001b[36mFile \u001b[39m\u001b[32md:\\Maschinen\\Kredite_Aufgabe\\.venv\\Lib\\site-packages\\IPython\\core\\formatters.py:984\u001b[39m, in \u001b[36mIPythonDisplayFormatter.__call__\u001b[39m\u001b[34m(self, obj)\u001b[39m\n\u001b[32m    982\u001b[39m method = get_real_method(obj, \u001b[38;5;28mself\u001b[39m.print_method)\n\u001b[32m    983\u001b[39m \u001b[38;5;28;01mif\u001b[39;00m method \u001b[38;5;129;01mis\u001b[39;00m \u001b[38;5;129;01mnot\u001b[39;00m \u001b[38;5;28;01mNone\u001b[39;00m:\n\u001b[32m--> \u001b[39m\u001b[32m984\u001b[39m     \u001b[43mmethod\u001b[49m\u001b[43m(\u001b[49m\u001b[43m)\u001b[49m\n\u001b[32m    985\u001b[39m     \u001b[38;5;28;01mreturn\u001b[39;00m \u001b[38;5;28;01mTrue\u001b[39;00m\n",
      "\u001b[36mFile \u001b[39m\u001b[32md:\\Maschinen\\Kredite_Aufgabe\\.venv\\Lib\\site-packages\\plotly\\basedatatypes.py:850\u001b[39m, in \u001b[36mBaseFigure._ipython_display_\u001b[39m\u001b[34m(self)\u001b[39m\n\u001b[32m    847\u001b[39m \u001b[38;5;28;01mimport\u001b[39;00m\u001b[38;5;250m \u001b[39m\u001b[34;01mplotly\u001b[39;00m\u001b[34;01m.\u001b[39;00m\u001b[34;01mio\u001b[39;00m\u001b[38;5;250m \u001b[39m\u001b[38;5;28;01mas\u001b[39;00m\u001b[38;5;250m \u001b[39m\u001b[34;01mpio\u001b[39;00m\n\u001b[32m    849\u001b[39m \u001b[38;5;28;01mif\u001b[39;00m pio.renderers.render_on_display \u001b[38;5;129;01mand\u001b[39;00m pio.renderers.default:\n\u001b[32m--> \u001b[39m\u001b[32m850\u001b[39m     \u001b[43mpio\u001b[49m\u001b[43m.\u001b[49m\u001b[43mshow\u001b[49m\u001b[43m(\u001b[49m\u001b[38;5;28;43mself\u001b[39;49m\u001b[43m)\u001b[49m\n\u001b[32m    851\u001b[39m \u001b[38;5;28;01melse\u001b[39;00m:\n\u001b[32m    852\u001b[39m     \u001b[38;5;28mprint\u001b[39m(\u001b[38;5;28mrepr\u001b[39m(\u001b[38;5;28mself\u001b[39m))\n",
      "\u001b[36mFile \u001b[39m\u001b[32md:\\Maschinen\\Kredite_Aufgabe\\.venv\\Lib\\site-packages\\plotly\\io\\_renderers.py:415\u001b[39m, in \u001b[36mshow\u001b[39m\u001b[34m(fig, renderer, validate, **kwargs)\u001b[39m\n\u001b[32m    410\u001b[39m     \u001b[38;5;28;01mraise\u001b[39;00m \u001b[38;5;167;01mValueError\u001b[39;00m(\n\u001b[32m    411\u001b[39m         \u001b[33m\"\u001b[39m\u001b[33mMime type rendering requires ipython but it is not installed\u001b[39m\u001b[33m\"\u001b[39m\n\u001b[32m    412\u001b[39m     )\n\u001b[32m    414\u001b[39m \u001b[38;5;28;01mif\u001b[39;00m \u001b[38;5;129;01mnot\u001b[39;00m nbformat \u001b[38;5;129;01mor\u001b[39;00m Version(nbformat.__version__) < Version(\u001b[33m\"\u001b[39m\u001b[33m4.2.0\u001b[39m\u001b[33m\"\u001b[39m):\n\u001b[32m--> \u001b[39m\u001b[32m415\u001b[39m     \u001b[38;5;28;01mraise\u001b[39;00m \u001b[38;5;167;01mValueError\u001b[39;00m(\n\u001b[32m    416\u001b[39m         \u001b[33m\"\u001b[39m\u001b[33mMime type rendering requires nbformat>=4.2.0 but it is not installed\u001b[39m\u001b[33m\"\u001b[39m\n\u001b[32m    417\u001b[39m     )\n\u001b[32m    419\u001b[39m display_jupyter_version_warnings()\n\u001b[32m    421\u001b[39m ipython_display.display(bundle, raw=\u001b[38;5;28;01mTrue\u001b[39;00m)\n",
      "\u001b[31mValueError\u001b[39m: Mime type rendering requires nbformat>=4.2.0 but it is not installed"
     ]
    },
    {
     "data": {
      "application/vnd.plotly.v1+json": {
       "config": {
        "plotlyServerURL": "https://plot.ly"
       },
       "data": [
        {
         "boxpoints": "outliers",
         "marker": {
          "line": {
           "color": "black",
           "width": 1
          }
         },
         "name": "Age",
         "type": "box",
         "whiskerwidth": 0.8,
         "xaxis": "x",
         "y": {
          "bdata": "Fi01IxwZGBY8HCAsLDAsJCoiPyQbHiEZJSUYGiwYOhceORcXGz0ZFjMpQiIzFjo0Gy8eHDY2OiIkGCMnICMfFxwjFyQZPx4oHiIdHUIsGx4bFh4nHBgdJBQwLSZGIRQfISIhGio0QR4kSkQUISIkFSIbKBsVJhoVMkIfFxgaGzUWGhkePScYGicuGB0bNyQlLRwiJSMaHzEwHCw4GiAqMSEYFhoZHyYbHCAiHCcfHEsYFywXHB8YGhkhJRcXIB0cFxckGRYqKDwlOSYaKBsTJx8gNy4uFhscFCEvFTcdJBlBGh4dHiIjPR8kIxslJCI/HRYXHCEaGScsFxo5LyonHSAcGyoxJhgkIhoaFCUoKxg1Gh4fKSAcISUqLRciKxgiG0MWHBsfGB0XJB8XFhsbGx4xIRQkFS88OhQgFyQtHiIXFjIWMB0WJRUbFkEpHRwsGRobJiAgJigyJS0qFikcKRcjMiIrLxhAHx4fGRkdHSguLykgGBkZJSMZGx8iGBhCGTskIRUsFyMaIBcWHBclMRcXSiMYGCgfHBlCGUMZHxcjMhsnMzAYGBo3GhocGDYuNisaGCkvHiEXHRkwPx07OSEgHSMbGC4aHSgkGys1FysmIhwqKxQZHyBEIScWHjcuFScrGBYXHhweKi4eHigYHB05JS0eLxYXKBYdJDlAGTEcGhkhHTAeKBcb",
          "dtype": "i1"
         },
         "yaxis": "y"
        },
        {
         "boxpoints": "outliers",
         "marker": {
          "line": {
           "color": "black",
           "width": 1
          }
         },
         "name": "Job",
         "type": "box",
         "whiskerwidth": 0.8,
         "xaxis": "x2",
         "y": {
          "bdata": "AgICAwMCAgIBAgEDAgECAQICAgICAgMBAgICAgECAQADAgMBAgMCAgMBAwICAgEBAgIDAgICAgICAgIDAgICAgECAgMCAgIBAgMCAgEBAAMDAgICAgICAwICAQIDAgICAgMCAgICAgMCAwACAgECAgMCAwECAwIBAgMCAgEBAgMCAgEDAQICAgEBAgICAgMCAwIBAgECAwICAwMCAgICAgECAQIBAgEBAwIDAgECAgMDAgMBAgECAQIDAQIAAgICAQICAAICAgMCAwMCAwIBAwICAwICAgICAgEBAgADAwIAAAICAwICAgICAgICAgMCAQICAQICAgECAQICAwMBAwECAgICAgICAwICAgIBAgICAQICAQICAgIDAQIBAgECAgMCAgIBAQICAgIBAQECAgIBAQICAQECAQEBAgECAgECAgICAQICAgICAgICAgICAQIAAQMCAgEDAQIDAgECAgIDAQICAgIBAQICAgECAgMCAgICAgICAQIBAwIDAgEBAgICAgEBAwEBAgECAQIBAgEBAAICAQEBAgMAAgICAQEBAgICAgECAgEDAAIBAgICAgMCAgIBAgICAgECAgICAQIBAgICAgICAQIDAwICAgMBAgMCAgMBAgMDAgMCAgICAgIBAQICAwEDAgICAgACAgIDAQECAgEBAQIAAgECAgIDAgICAwEDAwIC",
          "dtype": "i1"
         },
         "yaxis": "y2"
        },
        {
         "boxpoints": "outliers",
         "marker": {
          "line": {
           "color": "black",
           "width": 1
          }
         },
         "name": "Credit amount",
         "type": "box",
         "whiskerwidth": 0.8,
         "xaxis": "x3",
         "y": {
          "bdata": "PxfKHgYTJBtyFA8F1BAfBq8EewUCBSMxVwrBCAwHXgWZAW8JtBp5B7QP6hbCBYoSNAjJBMoBhgQ8GCsY/xdIBU0XsQipB1UYbwWhB1U47wOMBEIX9gV9D6MS+A7bBgsJDwVEMckIVASBBSYFST4+CiEJEwl/B6IuvheCBakFiAF0GJAGuRA+CSsHDQNJCL0CfwJEB6sN5xr+AlkHxQK7ElgNngnuDVwD+xTYFk4eNxsCBQgFUwG4DYwcawQpBo8HtgMQCIYFVg0RClIBOwJnEXQDCRSXBKICrAwED0sP1wvdBbcDyRCQBIYDfymQBagZrRR0ByAMSQ/NC3EC0Sq5Hk0MchBiAx8HzwraCf0RhQeaAssIZghlCHkGQwa2FCIDEiP0C94uJg/iKbQSnh1EBAAEtiQTGbwS6Ca5CtwODgTXAtUEFAGlDq0CugrEAjsOmRCSB14LYwpGDXkRLATXGfAcDhA4DTUISRDxBW8WDw6NDFcRbQ9yA64OcAS/AzcY3gRmCccIqQlCDnYNuQu+OQUe7jewMjIFzhwWCdcDsQylB/AtEgosCccE9wcdBKsDrwcTCr4D2wqmBEAsUAdYCEINYQJUBkUK6BMyBxAK6AXREkEPOg1XASQOuQbJC2wLewYUDMABjgLdBCoMIBQNBMYF9Q2xBCYOuQR+IEoISiMVBSsFMwx1FWYEwAS3BDgJwhr3An8KSQJhAlEFswR2DM8bWQQeH/4IlgLhCEcKDwkcDlMe6Qv+BTALNQVyAlcbywevBDMF5gjgDYgHCgarAhEGXAVmGqIMJgM6BHILBAsgBDQMUAn3B+8KCQXBBMYIgQGeCqMDogWREBkJlgMtB/sEDAtvCuUC2AQdDTAOXA5xDUQOQgcoCkQInQVMDhEGSwUSEe4CHAVYB+cRswOsAjQdggf/CJYfhQ94A30Q2RgRBRoEFwSoDesSyQvbFVAJgSYuC0MOzwNHClALTwRxB7sYYQXHCeAJoBmZC7YERgiuBHIEyzYEGDkFsQHMBBYDWgcQGfsEAxnDB/gCKC0cEbgQFQkYBLMJBQfPCfoErAHQA0kDEwWzAkwIpgiDBCQMIQ6BH8gFtQ0gD0UTggVEA5UHUBhuF6QETAsDB7AQNyROAkMk8gaLA+QBnSXrC1sPCB3xPUEFyAuYCtsCQgZ+D8AEKC4XCToEjQs7FFQFxQK7CKIFdw+HCVUJjAI/BWYFBg4qBZQHjgXZDxsDOD2KCXsIqBYuCjkQQQpTBIASWQz4RzA6NwkRDVYF0gfYGrkCGQQ5KEAF0waGBtoFfwfpAg8IkBg1B6YgFQ0GDmEIERBlB88EggSmD/0LMQnGAdgJYw/qBakEgRzqBPEC8ATCIGsLJSCZBZEYsxnPBncPEQ81B+AR",
          "dtype": "i2"
         },
         "yaxis": "y3"
        },
        {
         "boxpoints": "outliers",
         "marker": {
          "line": {
           "color": "black",
           "width": 1
          }
         },
         "name": "Duration",
         "type": "box",
         "whiskerwidth": 0.8,
         "xaxis": "x4",
         "y": {
          "bdata": "MCoYJB4MMAwYDxgYBgoMBgwHPBIYEgwtEgoJDBIeMAYbJBIkCSQwDAgqDCoLHhgKEiQSDAwMNhIkJAkYDA4GDxIMIQwVCgwMDAwMJAwMBiQbEjAGJCQYGAwJDBgKEgsYDxgIFQwGFSQSCRAMEjAbLQkMEgwMHgwYGx4SJBgMMAwYJBIYFR4wGAYMHgwMGBIPDjAeGC8wMAwYJBgqMBUkCgwICRgMJAwPHhgYEggkBhg8GAYNGAoYFRISCg0YCQkMGB4MEhIkEjwwJBIMEg8MJAYnDCQMGA8MGAwMEhIYBgkqDAwUMCQHDxgLDAYkDwwYGBgGCRISGAwPDBgeBhsMJBIGGCQJGBgPDwwPDAYGBhIwEhokBiQPFRIwEgwSGAwwDAkMEhgSGAYYDDAYDwkMJBIMJBIJDBIMDBgGGBgHCRgKGCQMChUYBh4VDBIGCRgSGCoSDxIeGAwwDBgkDgweEgwGBh4MHkgYJCQMDw8YDA8wGB4bMAwJCQYJPBQJBgwJEjAYGBgIGBIeGAoYDQ8MBhIMBgwSDAweDCQMEhInDAwSMCgVGBIUJAYqDwgGJDAwJCQSDCQIFRISLQ8MGCQJDBQSDxgSDAYYDAsSCRgMMBsMJBUSEAwYGDAGGBgJDBgMEjAMGAkMHgkGPA8wGBIkGAwYCRwYFQYbCw8YPBgGDx4VJA8qGBgkHi0t",
          "dtype": "i1"
         },
         "yaxis": "y4"
        }
       ],
       "layout": {
        "annotations": [
         {
          "font": {
           "size": 16
          },
          "showarrow": false,
          "text": "Age",
          "x": 0.23,
          "xanchor": "center",
          "xref": "paper",
          "y": 1,
          "yanchor": "bottom",
          "yref": "paper"
         },
         {
          "font": {
           "size": 16
          },
          "showarrow": false,
          "text": "Job",
          "x": 0.77,
          "xanchor": "center",
          "xref": "paper",
          "y": 1,
          "yanchor": "bottom",
          "yref": "paper"
         },
         {
          "font": {
           "size": 16
          },
          "showarrow": false,
          "text": "Credit amount",
          "x": 0.23,
          "xanchor": "center",
          "xref": "paper",
          "y": 0.425,
          "yanchor": "bottom",
          "yref": "paper"
         },
         {
          "font": {
           "size": 16
          },
          "showarrow": false,
          "text": "Duration",
          "x": 0.77,
          "xanchor": "center",
          "xref": "paper",
          "y": 0.425,
          "yanchor": "bottom",
          "yref": "paper"
         }
        ],
        "height": 600,
        "showlegend": false,
        "template": {
         "data": {
          "bar": [
           {
            "error_x": {
             "color": "#2a3f5f"
            },
            "error_y": {
             "color": "#2a3f5f"
            },
            "marker": {
             "line": {
              "color": "#E5ECF6",
              "width": 0.5
             },
             "pattern": {
              "fillmode": "overlay",
              "size": 10,
              "solidity": 0.2
             }
            },
            "type": "bar"
           }
          ],
          "barpolar": [
           {
            "marker": {
             "line": {
              "color": "#E5ECF6",
              "width": 0.5
             },
             "pattern": {
              "fillmode": "overlay",
              "size": 10,
              "solidity": 0.2
             }
            },
            "type": "barpolar"
           }
          ],
          "carpet": [
           {
            "aaxis": {
             "endlinecolor": "#2a3f5f",
             "gridcolor": "white",
             "linecolor": "white",
             "minorgridcolor": "white",
             "startlinecolor": "#2a3f5f"
            },
            "baxis": {
             "endlinecolor": "#2a3f5f",
             "gridcolor": "white",
             "linecolor": "white",
             "minorgridcolor": "white",
             "startlinecolor": "#2a3f5f"
            },
            "type": "carpet"
           }
          ],
          "choropleth": [
           {
            "colorbar": {
             "outlinewidth": 0,
             "ticks": ""
            },
            "type": "choropleth"
           }
          ],
          "contour": [
           {
            "colorbar": {
             "outlinewidth": 0,
             "ticks": ""
            },
            "colorscale": [
             [
              0,
              "#0d0887"
             ],
             [
              0.1111111111111111,
              "#46039f"
             ],
             [
              0.2222222222222222,
              "#7201a8"
             ],
             [
              0.3333333333333333,
              "#9c179e"
             ],
             [
              0.4444444444444444,
              "#bd3786"
             ],
             [
              0.5555555555555556,
              "#d8576b"
             ],
             [
              0.6666666666666666,
              "#ed7953"
             ],
             [
              0.7777777777777778,
              "#fb9f3a"
             ],
             [
              0.8888888888888888,
              "#fdca26"
             ],
             [
              1,
              "#f0f921"
             ]
            ],
            "type": "contour"
           }
          ],
          "contourcarpet": [
           {
            "colorbar": {
             "outlinewidth": 0,
             "ticks": ""
            },
            "type": "contourcarpet"
           }
          ],
          "heatmap": [
           {
            "colorbar": {
             "outlinewidth": 0,
             "ticks": ""
            },
            "colorscale": [
             [
              0,
              "#0d0887"
             ],
             [
              0.1111111111111111,
              "#46039f"
             ],
             [
              0.2222222222222222,
              "#7201a8"
             ],
             [
              0.3333333333333333,
              "#9c179e"
             ],
             [
              0.4444444444444444,
              "#bd3786"
             ],
             [
              0.5555555555555556,
              "#d8576b"
             ],
             [
              0.6666666666666666,
              "#ed7953"
             ],
             [
              0.7777777777777778,
              "#fb9f3a"
             ],
             [
              0.8888888888888888,
              "#fdca26"
             ],
             [
              1,
              "#f0f921"
             ]
            ],
            "type": "heatmap"
           }
          ],
          "histogram": [
           {
            "marker": {
             "pattern": {
              "fillmode": "overlay",
              "size": 10,
              "solidity": 0.2
             }
            },
            "type": "histogram"
           }
          ],
          "histogram2d": [
           {
            "colorbar": {
             "outlinewidth": 0,
             "ticks": ""
            },
            "colorscale": [
             [
              0,
              "#0d0887"
             ],
             [
              0.1111111111111111,
              "#46039f"
             ],
             [
              0.2222222222222222,
              "#7201a8"
             ],
             [
              0.3333333333333333,
              "#9c179e"
             ],
             [
              0.4444444444444444,
              "#bd3786"
             ],
             [
              0.5555555555555556,
              "#d8576b"
             ],
             [
              0.6666666666666666,
              "#ed7953"
             ],
             [
              0.7777777777777778,
              "#fb9f3a"
             ],
             [
              0.8888888888888888,
              "#fdca26"
             ],
             [
              1,
              "#f0f921"
             ]
            ],
            "type": "histogram2d"
           }
          ],
          "histogram2dcontour": [
           {
            "colorbar": {
             "outlinewidth": 0,
             "ticks": ""
            },
            "colorscale": [
             [
              0,
              "#0d0887"
             ],
             [
              0.1111111111111111,
              "#46039f"
             ],
             [
              0.2222222222222222,
              "#7201a8"
             ],
             [
              0.3333333333333333,
              "#9c179e"
             ],
             [
              0.4444444444444444,
              "#bd3786"
             ],
             [
              0.5555555555555556,
              "#d8576b"
             ],
             [
              0.6666666666666666,
              "#ed7953"
             ],
             [
              0.7777777777777778,
              "#fb9f3a"
             ],
             [
              0.8888888888888888,
              "#fdca26"
             ],
             [
              1,
              "#f0f921"
             ]
            ],
            "type": "histogram2dcontour"
           }
          ],
          "mesh3d": [
           {
            "colorbar": {
             "outlinewidth": 0,
             "ticks": ""
            },
            "type": "mesh3d"
           }
          ],
          "parcoords": [
           {
            "line": {
             "colorbar": {
              "outlinewidth": 0,
              "ticks": ""
             }
            },
            "type": "parcoords"
           }
          ],
          "pie": [
           {
            "automargin": true,
            "type": "pie"
           }
          ],
          "scatter": [
           {
            "fillpattern": {
             "fillmode": "overlay",
             "size": 10,
             "solidity": 0.2
            },
            "type": "scatter"
           }
          ],
          "scatter3d": [
           {
            "line": {
             "colorbar": {
              "outlinewidth": 0,
              "ticks": ""
             }
            },
            "marker": {
             "colorbar": {
              "outlinewidth": 0,
              "ticks": ""
             }
            },
            "type": "scatter3d"
           }
          ],
          "scattercarpet": [
           {
            "marker": {
             "colorbar": {
              "outlinewidth": 0,
              "ticks": ""
             }
            },
            "type": "scattercarpet"
           }
          ],
          "scattergeo": [
           {
            "marker": {
             "colorbar": {
              "outlinewidth": 0,
              "ticks": ""
             }
            },
            "type": "scattergeo"
           }
          ],
          "scattergl": [
           {
            "marker": {
             "colorbar": {
              "outlinewidth": 0,
              "ticks": ""
             }
            },
            "type": "scattergl"
           }
          ],
          "scattermap": [
           {
            "marker": {
             "colorbar": {
              "outlinewidth": 0,
              "ticks": ""
             }
            },
            "type": "scattermap"
           }
          ],
          "scattermapbox": [
           {
            "marker": {
             "colorbar": {
              "outlinewidth": 0,
              "ticks": ""
             }
            },
            "type": "scattermapbox"
           }
          ],
          "scatterpolar": [
           {
            "marker": {
             "colorbar": {
              "outlinewidth": 0,
              "ticks": ""
             }
            },
            "type": "scatterpolar"
           }
          ],
          "scatterpolargl": [
           {
            "marker": {
             "colorbar": {
              "outlinewidth": 0,
              "ticks": ""
             }
            },
            "type": "scatterpolargl"
           }
          ],
          "scatterternary": [
           {
            "marker": {
             "colorbar": {
              "outlinewidth": 0,
              "ticks": ""
             }
            },
            "type": "scatterternary"
           }
          ],
          "surface": [
           {
            "colorbar": {
             "outlinewidth": 0,
             "ticks": ""
            },
            "colorscale": [
             [
              0,
              "#0d0887"
             ],
             [
              0.1111111111111111,
              "#46039f"
             ],
             [
              0.2222222222222222,
              "#7201a8"
             ],
             [
              0.3333333333333333,
              "#9c179e"
             ],
             [
              0.4444444444444444,
              "#bd3786"
             ],
             [
              0.5555555555555556,
              "#d8576b"
             ],
             [
              0.6666666666666666,
              "#ed7953"
             ],
             [
              0.7777777777777778,
              "#fb9f3a"
             ],
             [
              0.8888888888888888,
              "#fdca26"
             ],
             [
              1,
              "#f0f921"
             ]
            ],
            "type": "surface"
           }
          ],
          "table": [
           {
            "cells": {
             "fill": {
              "color": "#EBF0F8"
             },
             "line": {
              "color": "white"
             }
            },
            "header": {
             "fill": {
              "color": "#C8D4E3"
             },
             "line": {
              "color": "white"
             }
            },
            "type": "table"
           }
          ]
         },
         "layout": {
          "annotationdefaults": {
           "arrowcolor": "#2a3f5f",
           "arrowhead": 0,
           "arrowwidth": 1
          },
          "autotypenumbers": "strict",
          "coloraxis": {
           "colorbar": {
            "outlinewidth": 0,
            "ticks": ""
           }
          },
          "colorscale": {
           "diverging": [
            [
             0,
             "#8e0152"
            ],
            [
             0.1,
             "#c51b7d"
            ],
            [
             0.2,
             "#de77ae"
            ],
            [
             0.3,
             "#f1b6da"
            ],
            [
             0.4,
             "#fde0ef"
            ],
            [
             0.5,
             "#f7f7f7"
            ],
            [
             0.6,
             "#e6f5d0"
            ],
            [
             0.7,
             "#b8e186"
            ],
            [
             0.8,
             "#7fbc41"
            ],
            [
             0.9,
             "#4d9221"
            ],
            [
             1,
             "#276419"
            ]
           ],
           "sequential": [
            [
             0,
             "#0d0887"
            ],
            [
             0.1111111111111111,
             "#46039f"
            ],
            [
             0.2222222222222222,
             "#7201a8"
            ],
            [
             0.3333333333333333,
             "#9c179e"
            ],
            [
             0.4444444444444444,
             "#bd3786"
            ],
            [
             0.5555555555555556,
             "#d8576b"
            ],
            [
             0.6666666666666666,
             "#ed7953"
            ],
            [
             0.7777777777777778,
             "#fb9f3a"
            ],
            [
             0.8888888888888888,
             "#fdca26"
            ],
            [
             1,
             "#f0f921"
            ]
           ],
           "sequentialminus": [
            [
             0,
             "#0d0887"
            ],
            [
             0.1111111111111111,
             "#46039f"
            ],
            [
             0.2222222222222222,
             "#7201a8"
            ],
            [
             0.3333333333333333,
             "#9c179e"
            ],
            [
             0.4444444444444444,
             "#bd3786"
            ],
            [
             0.5555555555555556,
             "#d8576b"
            ],
            [
             0.6666666666666666,
             "#ed7953"
            ],
            [
             0.7777777777777778,
             "#fb9f3a"
            ],
            [
             0.8888888888888888,
             "#fdca26"
            ],
            [
             1,
             "#f0f921"
            ]
           ]
          },
          "colorway": [
           "#636efa",
           "#EF553B",
           "#00cc96",
           "#ab63fa",
           "#FFA15A",
           "#19d3f3",
           "#FF6692",
           "#B6E880",
           "#FF97FF",
           "#FECB52"
          ],
          "font": {
           "color": "#2a3f5f"
          },
          "geo": {
           "bgcolor": "white",
           "lakecolor": "white",
           "landcolor": "#E5ECF6",
           "showlakes": true,
           "showland": true,
           "subunitcolor": "white"
          },
          "hoverlabel": {
           "align": "left"
          },
          "hovermode": "closest",
          "mapbox": {
           "style": "light"
          },
          "paper_bgcolor": "white",
          "plot_bgcolor": "#E5ECF6",
          "polar": {
           "angularaxis": {
            "gridcolor": "white",
            "linecolor": "white",
            "ticks": ""
           },
           "bgcolor": "#E5ECF6",
           "radialaxis": {
            "gridcolor": "white",
            "linecolor": "white",
            "ticks": ""
           }
          },
          "scene": {
           "xaxis": {
            "backgroundcolor": "#E5ECF6",
            "gridcolor": "white",
            "gridwidth": 2,
            "linecolor": "white",
            "showbackground": true,
            "ticks": "",
            "zerolinecolor": "white"
           },
           "yaxis": {
            "backgroundcolor": "#E5ECF6",
            "gridcolor": "white",
            "gridwidth": 2,
            "linecolor": "white",
            "showbackground": true,
            "ticks": "",
            "zerolinecolor": "white"
           },
           "zaxis": {
            "backgroundcolor": "#E5ECF6",
            "gridcolor": "white",
            "gridwidth": 2,
            "linecolor": "white",
            "showbackground": true,
            "ticks": "",
            "zerolinecolor": "white"
           }
          },
          "shapedefaults": {
           "line": {
            "color": "#2a3f5f"
           }
          },
          "ternary": {
           "aaxis": {
            "gridcolor": "white",
            "linecolor": "white",
            "ticks": ""
           },
           "baxis": {
            "gridcolor": "white",
            "linecolor": "white",
            "ticks": ""
           },
           "bgcolor": "#E5ECF6",
           "caxis": {
            "gridcolor": "white",
            "linecolor": "white",
            "ticks": ""
           }
          },
          "title": {
           "x": 0.05
          },
          "xaxis": {
           "automargin": true,
           "gridcolor": "white",
           "linecolor": "white",
           "ticks": "",
           "title": {
            "standoff": 15
           },
           "zerolinecolor": "white",
           "zerolinewidth": 2
          },
          "yaxis": {
           "automargin": true,
           "gridcolor": "white",
           "linecolor": "white",
           "ticks": "",
           "title": {
            "standoff": 15
           },
           "zerolinecolor": "white",
           "zerolinewidth": 2
          }
         }
        },
        "title": {
         "text": "Boxplots der numerischen Merkmale"
        },
        "xaxis": {
         "anchor": "y",
         "domain": [
          0,
          0.46
         ],
         "showgrid": false
        },
        "xaxis2": {
         "anchor": "y2",
         "domain": [
          0.54,
          1
         ],
         "showgrid": false
        },
        "xaxis3": {
         "anchor": "y3",
         "domain": [
          0,
          0.46
         ],
         "showgrid": false
        },
        "xaxis4": {
         "anchor": "y4",
         "domain": [
          0.54,
          1
         ],
         "showgrid": false
        },
        "yaxis": {
         "anchor": "x",
         "domain": [
          0.575,
          1
         ],
         "showgrid": true
        },
        "yaxis2": {
         "anchor": "x2",
         "domain": [
          0.575,
          1
         ],
         "showgrid": true
        },
        "yaxis3": {
         "anchor": "x3",
         "domain": [
          0,
          0.425
         ],
         "showgrid": true
        },
        "yaxis4": {
         "anchor": "x4",
         "domain": [
          0,
          0.425
         ],
         "showgrid": true
        }
       }
      },
      "text/html": [
       "<div>                        <script type=\"text/javascript\">window.PlotlyConfig = {MathJaxConfig: 'local'};</script>\n",
       "        <script charset=\"utf-8\" src=\"https://cdn.plot.ly/plotly-3.1.0.min.js\" integrity=\"sha256-Ei4740bWZhaUTQuD6q9yQlgVCMPBz6CZWhevDYPv93A=\" crossorigin=\"anonymous\"></script>                <div id=\"0f5875a8-06d8-4212-ae7e-f3ef321b4dd0\" class=\"plotly-graph-div\" style=\"height:600px; width:100%;\"></div>            <script type=\"text/javascript\">                window.PLOTLYENV=window.PLOTLYENV || {};                                if (document.getElementById(\"0f5875a8-06d8-4212-ae7e-f3ef321b4dd0\")) {                    Plotly.newPlot(                        \"0f5875a8-06d8-4212-ae7e-f3ef321b4dd0\",                        [{\"boxpoints\":\"outliers\",\"marker\":{\"line\":{\"color\":\"black\",\"width\":1}},\"name\":\"Age\",\"whiskerwidth\":0.8,\"y\":{\"dtype\":\"i1\",\"bdata\":\"Fi01IxwZGBY8HCAsLDAsJCoiPyQbHiEZJSUYGiwYOhceORcXGz0ZFjMpQiIzFjo0Gy8eHDY2OiIkGCMnICMfFxwjFyQZPx4oHiIdHUIsGx4bFh4nHBgdJBQwLSZGIRQfISIhGio0QR4kSkQUISIkFSIbKBsVJhoVMkIfFxgaGzUWGhkePScYGicuGB0bNyQlLRwiJSMaHzEwHCw4GiAqMSEYFhoZHyYbHCAiHCcfHEsYFywXHB8YGhkhJRcXIB0cFxckGRYqKDwlOSYaKBsTJx8gNy4uFhscFCEvFTcdJBlBGh4dHiIjPR8kIxslJCI\\u002fHRYXHCEaGScsFxo5LyonHSAcGyoxJhgkIhoaFCUoKxg1Gh4fKSAcISUqLRciKxgiG0MWHBsfGB0XJB8XFhsbGx4xIRQkFS88OhQgFyQtHiIXFjIWMB0WJRUbFkEpHRwsGRobJiAgJigyJS0qFikcKRcjMiIrLxhAHx4fGRkdHSguLykgGBkZJSMZGx8iGBhCGTskIRUsFyMaIBcWHBclMRcXSiMYGCgfHBlCGUMZHxcjMhsnMzAYGBo3GhocGDYuNisaGCkvHiEXHRkwPx07OSEgHSMbGC4aHSgkGys1FysmIhwqKxQZHyBEIScWHjcuFScrGBYXHhweKi4eHigYHB05JS0eLxYXKBYdJDlAGTEcGhkhHTAeKBcb\"},\"type\":\"box\",\"xaxis\":\"x\",\"yaxis\":\"y\"},{\"boxpoints\":\"outliers\",\"marker\":{\"line\":{\"color\":\"black\",\"width\":1}},\"name\":\"Job\",\"whiskerwidth\":0.8,\"y\":{\"dtype\":\"i1\",\"bdata\":\"AgICAwMCAgIBAgEDAgECAQICAgICAgMBAgICAgECAQADAgMBAgMCAgMBAwICAgEBAgIDAgICAgICAgIDAgICAgECAgMCAgIBAgMCAgEBAAMDAgICAgICAwICAQIDAgICAgMCAgICAgMCAwACAgECAgMCAwECAwIBAgMCAgEBAgMCAgEDAQICAgEBAgICAgMCAwIBAgECAwICAwMCAgICAgECAQIBAgEBAwIDAgECAgMDAgMBAgECAQIDAQIAAgICAQICAAICAgMCAwMCAwIBAwICAwICAgICAgEBAgADAwIAAAICAwICAgICAgICAgMCAQICAQICAgECAQICAwMBAwECAgICAgICAwICAgIBAgICAQICAQICAgIDAQIBAgECAgMCAgIBAQICAgIBAQECAgIBAQICAQECAQEBAgECAgECAgICAQICAgICAgICAgICAQIAAQMCAgEDAQIDAgECAgIDAQICAgIBAQICAgECAgMCAgICAgICAQIBAwIDAgEBAgICAgEBAwEBAgECAQIBAgEBAAICAQEBAgMAAgICAQEBAgICAgECAgEDAAIBAgICAgMCAgIBAgICAgECAgICAQIBAgICAgICAQIDAwICAgMBAgMCAgMBAgMDAgMCAgICAgIBAQICAwEDAgICAgACAgIDAQECAgEBAQIAAgECAgIDAgICAwEDAwIC\"},\"type\":\"box\",\"xaxis\":\"x2\",\"yaxis\":\"y2\"},{\"boxpoints\":\"outliers\",\"marker\":{\"line\":{\"color\":\"black\",\"width\":1}},\"name\":\"Credit amount\",\"whiskerwidth\":0.8,\"y\":{\"dtype\":\"i2\",\"bdata\":\"PxfKHgYTJBtyFA8F1BAfBq8EewUCBSMxVwrBCAwHXgWZAW8JtBp5B7QP6hbCBYoSNAjJBMoBhgQ8GCsY\\u002fxdIBU0XsQipB1UYbwWhB1U47wOMBEIX9gV9D6MS+A7bBgsJDwVEMckIVASBBSYFST4+CiEJEwl\\u002fB6IuvheCBakFiAF0GJAGuRA+CSsHDQNJCL0CfwJEB6sN5xr+AlkHxQK7ElgNngnuDVwD+xTYFk4eNxsCBQgFUwG4DYwcawQpBo8HtgMQCIYFVg0RClIBOwJnEXQDCRSXBKICrAwED0sP1wvdBbcDyRCQBIYDfymQBagZrRR0ByAMSQ\\u002fNC3EC0Sq5Hk0MchBiAx8HzwraCf0RhQeaAssIZghlCHkGQwa2FCIDEiP0C94uJg\\u002fiKbQSnh1EBAAEtiQTGbwS6Ca5CtwODgTXAtUEFAGlDq0CugrEAjsOmRCSB14LYwpGDXkRLATXGfAcDhA4DTUISRDxBW8WDw6NDFcRbQ9yA64OcAS\\u002fAzcY3gRmCccIqQlCDnYNuQu+OQUe7jewMjIFzhwWCdcDsQylB\\u002fAtEgosCccE9wcdBKsDrwcTCr4D2wqmBEAsUAdYCEINYQJUBkUK6BMyBxAK6AXREkEPOg1XASQOuQbJC2wLewYUDMABjgLdBCoMIBQNBMYF9Q2xBCYOuQR+IEoISiMVBSsFMwx1FWYEwAS3BDgJwhr3An8KSQJhAlEFswR2DM8bWQQeH\\u002f4IlgLhCEcKDwkcDlMe6Qv+BTALNQVyAlcbywevBDMF5gjgDYgHCgarAhEGXAVmGqIMJgM6BHILBAsgBDQMUAn3B+8KCQXBBMYIgQGeCqMDogWREBkJlgMtB\\u002fsEDAtvCuUC2AQdDTAOXA5xDUQOQgcoCkQInQVMDhEGSwUSEe4CHAVYB+cRswOsAjQdggf\\u002fCJYfhQ94A30Q2RgRBRoEFwSoDesSyQvbFVAJgSYuC0MOzwNHClALTwRxB7sYYQXHCeAJoBmZC7YERgiuBHIEyzYEGDkFsQHMBBYDWgcQGfsEAxnDB\\u002fgCKC0cEbgQFQkYBLMJBQfPCfoErAHQA0kDEwWzAkwIpgiDBCQMIQ6BH8gFtQ0gD0UTggVEA5UHUBhuF6QETAsDB7AQNyROAkMk8gaLA+QBnSXrC1sPCB3xPUEFyAuYCtsCQgZ+D8AEKC4XCToEjQs7FFQFxQK7CKIFdw+HCVUJjAI\\u002fBWYFBg4qBZQHjgXZDxsDOD2KCXsIqBYuCjkQQQpTBIASWQz4RzA6NwkRDVYF0gfYGrkCGQQ5KEAF0waGBtoFfwfpAg8IkBg1B6YgFQ0GDmEIERBlB88EggSmD\\u002f0LMQnGAdgJYw\\u002fqBakEgRzqBPEC8ATCIGsLJSCZBZEYsxnPBncPEQ81B+AR\"},\"type\":\"box\",\"xaxis\":\"x3\",\"yaxis\":\"y3\"},{\"boxpoints\":\"outliers\",\"marker\":{\"line\":{\"color\":\"black\",\"width\":1}},\"name\":\"Duration\",\"whiskerwidth\":0.8,\"y\":{\"dtype\":\"i1\",\"bdata\":\"MCoYJB4MMAwYDxgYBgoMBgwHPBIYEgwtEgoJDBIeMAYbJBIkCSQwDAgqDCoLHhgKEiQSDAwMNhIkJAkYDA4GDxIMIQwVCgwMDAwMJAwMBiQbEjAGJCQYGAwJDBgKEgsYDxgIFQwGFSQSCRAMEjAbLQkMEgwMHgwYGx4SJBgMMAwYJBIYFR4wGAYMHgwMGBIPDjAeGC8wMAwYJBgqMBUkCgwICRgMJAwPHhgYEggkBhg8GAYNGAoYFRISCg0YCQkMGB4MEhIkEjwwJBIMEg8MJAYnDCQMGA8MGAwMEhIYBgkqDAwUMCQHDxgLDAYkDwwYGBgGCRISGAwPDBgeBhsMJBIGGCQJGBgPDwwPDAYGBhIwEhokBiQPFRIwEgwSGAwwDAkMEhgSGAYYDDAYDwkMJBIMJBIJDBIMDBgGGBgHCRgKGCQMChUYBh4VDBIGCRgSGCoSDxIeGAwwDBgkDgweEgwGBh4MHkgYJCQMDw8YDA8wGB4bMAwJCQYJPBQJBgwJEjAYGBgIGBIeGAoYDQ8MBhIMBgwSDAweDCQMEhInDAwSMCgVGBIUJAYqDwgGJDAwJCQSDCQIFRISLQ8MGCQJDBQSDxgSDAYYDAsSCRgMMBsMJBUSEAwYGDAGGBgJDBgMEjAMGAkMHgkGPA8wGBIkGAwYCRwYFQYbCw8YPBgGDx4VJA8qGBgkHi0t\"},\"type\":\"box\",\"xaxis\":\"x4\",\"yaxis\":\"y4\"}],                        {\"template\":{\"data\":{\"histogram2dcontour\":[{\"type\":\"histogram2dcontour\",\"colorbar\":{\"outlinewidth\":0,\"ticks\":\"\"},\"colorscale\":[[0.0,\"#0d0887\"],[0.1111111111111111,\"#46039f\"],[0.2222222222222222,\"#7201a8\"],[0.3333333333333333,\"#9c179e\"],[0.4444444444444444,\"#bd3786\"],[0.5555555555555556,\"#d8576b\"],[0.6666666666666666,\"#ed7953\"],[0.7777777777777778,\"#fb9f3a\"],[0.8888888888888888,\"#fdca26\"],[1.0,\"#f0f921\"]]}],\"choropleth\":[{\"type\":\"choropleth\",\"colorbar\":{\"outlinewidth\":0,\"ticks\":\"\"}}],\"histogram2d\":[{\"type\":\"histogram2d\",\"colorbar\":{\"outlinewidth\":0,\"ticks\":\"\"},\"colorscale\":[[0.0,\"#0d0887\"],[0.1111111111111111,\"#46039f\"],[0.2222222222222222,\"#7201a8\"],[0.3333333333333333,\"#9c179e\"],[0.4444444444444444,\"#bd3786\"],[0.5555555555555556,\"#d8576b\"],[0.6666666666666666,\"#ed7953\"],[0.7777777777777778,\"#fb9f3a\"],[0.8888888888888888,\"#fdca26\"],[1.0,\"#f0f921\"]]}],\"heatmap\":[{\"type\":\"heatmap\",\"colorbar\":{\"outlinewidth\":0,\"ticks\":\"\"},\"colorscale\":[[0.0,\"#0d0887\"],[0.1111111111111111,\"#46039f\"],[0.2222222222222222,\"#7201a8\"],[0.3333333333333333,\"#9c179e\"],[0.4444444444444444,\"#bd3786\"],[0.5555555555555556,\"#d8576b\"],[0.6666666666666666,\"#ed7953\"],[0.7777777777777778,\"#fb9f3a\"],[0.8888888888888888,\"#fdca26\"],[1.0,\"#f0f921\"]]}],\"contourcarpet\":[{\"type\":\"contourcarpet\",\"colorbar\":{\"outlinewidth\":0,\"ticks\":\"\"}}],\"contour\":[{\"type\":\"contour\",\"colorbar\":{\"outlinewidth\":0,\"ticks\":\"\"},\"colorscale\":[[0.0,\"#0d0887\"],[0.1111111111111111,\"#46039f\"],[0.2222222222222222,\"#7201a8\"],[0.3333333333333333,\"#9c179e\"],[0.4444444444444444,\"#bd3786\"],[0.5555555555555556,\"#d8576b\"],[0.6666666666666666,\"#ed7953\"],[0.7777777777777778,\"#fb9f3a\"],[0.8888888888888888,\"#fdca26\"],[1.0,\"#f0f921\"]]}],\"surface\":[{\"type\":\"surface\",\"colorbar\":{\"outlinewidth\":0,\"ticks\":\"\"},\"colorscale\":[[0.0,\"#0d0887\"],[0.1111111111111111,\"#46039f\"],[0.2222222222222222,\"#7201a8\"],[0.3333333333333333,\"#9c179e\"],[0.4444444444444444,\"#bd3786\"],[0.5555555555555556,\"#d8576b\"],[0.6666666666666666,\"#ed7953\"],[0.7777777777777778,\"#fb9f3a\"],[0.8888888888888888,\"#fdca26\"],[1.0,\"#f0f921\"]]}],\"mesh3d\":[{\"type\":\"mesh3d\",\"colorbar\":{\"outlinewidth\":0,\"ticks\":\"\"}}],\"scatter\":[{\"fillpattern\":{\"fillmode\":\"overlay\",\"size\":10,\"solidity\":0.2},\"type\":\"scatter\"}],\"parcoords\":[{\"type\":\"parcoords\",\"line\":{\"colorbar\":{\"outlinewidth\":0,\"ticks\":\"\"}}}],\"scatterpolargl\":[{\"type\":\"scatterpolargl\",\"marker\":{\"colorbar\":{\"outlinewidth\":0,\"ticks\":\"\"}}}],\"bar\":[{\"error_x\":{\"color\":\"#2a3f5f\"},\"error_y\":{\"color\":\"#2a3f5f\"},\"marker\":{\"line\":{\"color\":\"#E5ECF6\",\"width\":0.5},\"pattern\":{\"fillmode\":\"overlay\",\"size\":10,\"solidity\":0.2}},\"type\":\"bar\"}],\"scattergeo\":[{\"type\":\"scattergeo\",\"marker\":{\"colorbar\":{\"outlinewidth\":0,\"ticks\":\"\"}}}],\"scatterpolar\":[{\"type\":\"scatterpolar\",\"marker\":{\"colorbar\":{\"outlinewidth\":0,\"ticks\":\"\"}}}],\"histogram\":[{\"marker\":{\"pattern\":{\"fillmode\":\"overlay\",\"size\":10,\"solidity\":0.2}},\"type\":\"histogram\"}],\"scattergl\":[{\"type\":\"scattergl\",\"marker\":{\"colorbar\":{\"outlinewidth\":0,\"ticks\":\"\"}}}],\"scatter3d\":[{\"type\":\"scatter3d\",\"line\":{\"colorbar\":{\"outlinewidth\":0,\"ticks\":\"\"}},\"marker\":{\"colorbar\":{\"outlinewidth\":0,\"ticks\":\"\"}}}],\"scattermap\":[{\"type\":\"scattermap\",\"marker\":{\"colorbar\":{\"outlinewidth\":0,\"ticks\":\"\"}}}],\"scattermapbox\":[{\"type\":\"scattermapbox\",\"marker\":{\"colorbar\":{\"outlinewidth\":0,\"ticks\":\"\"}}}],\"scatterternary\":[{\"type\":\"scatterternary\",\"marker\":{\"colorbar\":{\"outlinewidth\":0,\"ticks\":\"\"}}}],\"scattercarpet\":[{\"type\":\"scattercarpet\",\"marker\":{\"colorbar\":{\"outlinewidth\":0,\"ticks\":\"\"}}}],\"carpet\":[{\"aaxis\":{\"endlinecolor\":\"#2a3f5f\",\"gridcolor\":\"white\",\"linecolor\":\"white\",\"minorgridcolor\":\"white\",\"startlinecolor\":\"#2a3f5f\"},\"baxis\":{\"endlinecolor\":\"#2a3f5f\",\"gridcolor\":\"white\",\"linecolor\":\"white\",\"minorgridcolor\":\"white\",\"startlinecolor\":\"#2a3f5f\"},\"type\":\"carpet\"}],\"table\":[{\"cells\":{\"fill\":{\"color\":\"#EBF0F8\"},\"line\":{\"color\":\"white\"}},\"header\":{\"fill\":{\"color\":\"#C8D4E3\"},\"line\":{\"color\":\"white\"}},\"type\":\"table\"}],\"barpolar\":[{\"marker\":{\"line\":{\"color\":\"#E5ECF6\",\"width\":0.5},\"pattern\":{\"fillmode\":\"overlay\",\"size\":10,\"solidity\":0.2}},\"type\":\"barpolar\"}],\"pie\":[{\"automargin\":true,\"type\":\"pie\"}]},\"layout\":{\"autotypenumbers\":\"strict\",\"colorway\":[\"#636efa\",\"#EF553B\",\"#00cc96\",\"#ab63fa\",\"#FFA15A\",\"#19d3f3\",\"#FF6692\",\"#B6E880\",\"#FF97FF\",\"#FECB52\"],\"font\":{\"color\":\"#2a3f5f\"},\"hovermode\":\"closest\",\"hoverlabel\":{\"align\":\"left\"},\"paper_bgcolor\":\"white\",\"plot_bgcolor\":\"#E5ECF6\",\"polar\":{\"bgcolor\":\"#E5ECF6\",\"angularaxis\":{\"gridcolor\":\"white\",\"linecolor\":\"white\",\"ticks\":\"\"},\"radialaxis\":{\"gridcolor\":\"white\",\"linecolor\":\"white\",\"ticks\":\"\"}},\"ternary\":{\"bgcolor\":\"#E5ECF6\",\"aaxis\":{\"gridcolor\":\"white\",\"linecolor\":\"white\",\"ticks\":\"\"},\"baxis\":{\"gridcolor\":\"white\",\"linecolor\":\"white\",\"ticks\":\"\"},\"caxis\":{\"gridcolor\":\"white\",\"linecolor\":\"white\",\"ticks\":\"\"}},\"coloraxis\":{\"colorbar\":{\"outlinewidth\":0,\"ticks\":\"\"}},\"colorscale\":{\"sequential\":[[0.0,\"#0d0887\"],[0.1111111111111111,\"#46039f\"],[0.2222222222222222,\"#7201a8\"],[0.3333333333333333,\"#9c179e\"],[0.4444444444444444,\"#bd3786\"],[0.5555555555555556,\"#d8576b\"],[0.6666666666666666,\"#ed7953\"],[0.7777777777777778,\"#fb9f3a\"],[0.8888888888888888,\"#fdca26\"],[1.0,\"#f0f921\"]],\"sequentialminus\":[[0.0,\"#0d0887\"],[0.1111111111111111,\"#46039f\"],[0.2222222222222222,\"#7201a8\"],[0.3333333333333333,\"#9c179e\"],[0.4444444444444444,\"#bd3786\"],[0.5555555555555556,\"#d8576b\"],[0.6666666666666666,\"#ed7953\"],[0.7777777777777778,\"#fb9f3a\"],[0.8888888888888888,\"#fdca26\"],[1.0,\"#f0f921\"]],\"diverging\":[[0,\"#8e0152\"],[0.1,\"#c51b7d\"],[0.2,\"#de77ae\"],[0.3,\"#f1b6da\"],[0.4,\"#fde0ef\"],[0.5,\"#f7f7f7\"],[0.6,\"#e6f5d0\"],[0.7,\"#b8e186\"],[0.8,\"#7fbc41\"],[0.9,\"#4d9221\"],[1,\"#276419\"]]},\"xaxis\":{\"gridcolor\":\"white\",\"linecolor\":\"white\",\"ticks\":\"\",\"title\":{\"standoff\":15},\"zerolinecolor\":\"white\",\"automargin\":true,\"zerolinewidth\":2},\"yaxis\":{\"gridcolor\":\"white\",\"linecolor\":\"white\",\"ticks\":\"\",\"title\":{\"standoff\":15},\"zerolinecolor\":\"white\",\"automargin\":true,\"zerolinewidth\":2},\"scene\":{\"xaxis\":{\"backgroundcolor\":\"#E5ECF6\",\"gridcolor\":\"white\",\"linecolor\":\"white\",\"showbackground\":true,\"ticks\":\"\",\"zerolinecolor\":\"white\",\"gridwidth\":2},\"yaxis\":{\"backgroundcolor\":\"#E5ECF6\",\"gridcolor\":\"white\",\"linecolor\":\"white\",\"showbackground\":true,\"ticks\":\"\",\"zerolinecolor\":\"white\",\"gridwidth\":2},\"zaxis\":{\"backgroundcolor\":\"#E5ECF6\",\"gridcolor\":\"white\",\"linecolor\":\"white\",\"showbackground\":true,\"ticks\":\"\",\"zerolinecolor\":\"white\",\"gridwidth\":2}},\"shapedefaults\":{\"line\":{\"color\":\"#2a3f5f\"}},\"annotationdefaults\":{\"arrowcolor\":\"#2a3f5f\",\"arrowhead\":0,\"arrowwidth\":1},\"geo\":{\"bgcolor\":\"white\",\"landcolor\":\"#E5ECF6\",\"subunitcolor\":\"white\",\"showland\":true,\"showlakes\":true,\"lakecolor\":\"white\"},\"title\":{\"x\":0.05},\"mapbox\":{\"style\":\"light\"}}},\"xaxis\":{\"anchor\":\"y\",\"domain\":[0.0,0.46],\"showgrid\":false},\"yaxis\":{\"anchor\":\"x\",\"domain\":[0.575,1.0],\"showgrid\":true},\"xaxis2\":{\"anchor\":\"y2\",\"domain\":[0.54,1.0],\"showgrid\":false},\"yaxis2\":{\"anchor\":\"x2\",\"domain\":[0.575,1.0],\"showgrid\":true},\"xaxis3\":{\"anchor\":\"y3\",\"domain\":[0.0,0.46],\"showgrid\":false},\"yaxis3\":{\"anchor\":\"x3\",\"domain\":[0.0,0.425],\"showgrid\":true},\"xaxis4\":{\"anchor\":\"y4\",\"domain\":[0.54,1.0],\"showgrid\":false},\"yaxis4\":{\"anchor\":\"x4\",\"domain\":[0.0,0.425],\"showgrid\":true},\"annotations\":[{\"font\":{\"size\":16},\"showarrow\":false,\"text\":\"Age\",\"x\":0.23,\"xanchor\":\"center\",\"xref\":\"paper\",\"y\":1.0,\"yanchor\":\"bottom\",\"yref\":\"paper\"},{\"font\":{\"size\":16},\"showarrow\":false,\"text\":\"Job\",\"x\":0.77,\"xanchor\":\"center\",\"xref\":\"paper\",\"y\":1.0,\"yanchor\":\"bottom\",\"yref\":\"paper\"},{\"font\":{\"size\":16},\"showarrow\":false,\"text\":\"Credit amount\",\"x\":0.23,\"xanchor\":\"center\",\"xref\":\"paper\",\"y\":0.425,\"yanchor\":\"bottom\",\"yref\":\"paper\"},{\"font\":{\"size\":16},\"showarrow\":false,\"text\":\"Duration\",\"x\":0.77,\"xanchor\":\"center\",\"xref\":\"paper\",\"y\":0.425,\"yanchor\":\"bottom\",\"yref\":\"paper\"}],\"title\":{\"text\":\"Boxplots der numerischen Merkmale\"},\"showlegend\":false,\"height\":600},                        {\"responsive\": true}                    )                };            </script>        </div>"
      ],
      "text/plain": [
       "Figure({\n",
       "    'data': [{'boxpoints': 'outliers',\n",
       "              'marker': {'line': {'color': 'black', 'width': 1}},\n",
       "              'name': 'Age',\n",
       "              'type': 'box',\n",
       "              'whiskerwidth': 0.8,\n",
       "              'xaxis': 'x',\n",
       "              'y': {'bdata': ('Fi01IxwZGBY8HCAsLDAsJCoiPyQbHi' ... '0eLxYXKBYdJDlAGTEcGhkhHTAeKBcb'),\n",
       "                    'dtype': 'i1'},\n",
       "              'yaxis': 'y'},\n",
       "             {'boxpoints': 'outliers',\n",
       "              'marker': {'line': {'color': 'black', 'width': 1}},\n",
       "              'name': 'Job',\n",
       "              'type': 'box',\n",
       "              'whiskerwidth': 0.8,\n",
       "              'xaxis': 'x2',\n",
       "              'y': {'bdata': ('AgICAwMCAgIBAgEDAgECAQICAgICAg' ... 'ECAgEBAQIAAgECAgIDAgICAwEDAwIC'),\n",
       "                    'dtype': 'i1'},\n",
       "              'yaxis': 'y2'},\n",
       "             {'boxpoints': 'outliers',\n",
       "              'marker': {'line': {'color': 'black', 'width': 1}},\n",
       "              'name': 'Credit amount',\n",
       "              'type': 'box',\n",
       "              'whiskerwidth': 0.8,\n",
       "              'xaxis': 'x3',\n",
       "              'y': {'bdata': ('PxfKHgYTJBtyFA8F1BAfBq8EewUCBS' ... 'TCIGsLJSCZBZEYsxnPBncPEQ81B+AR'),\n",
       "                    'dtype': 'i2'},\n",
       "              'yaxis': 'y3'},\n",
       "             {'boxpoints': 'outliers',\n",
       "              'marker': {'line': {'color': 'black', 'width': 1}},\n",
       "              'name': 'Duration',\n",
       "              'type': 'box',\n",
       "              'whiskerwidth': 0.8,\n",
       "              'xaxis': 'x4',\n",
       "              'y': {'bdata': ('MCoYJB4MMAwYDxgYBgoMBgwHPBIYEg' ... 'wYFQYbCw8YPBgGDx4VJA8qGBgkHi0t'),\n",
       "                    'dtype': 'i1'},\n",
       "              'yaxis': 'y4'}],\n",
       "    'layout': {'annotations': [{'font': {'size': 16},\n",
       "                                'showarrow': False,\n",
       "                                'text': 'Age',\n",
       "                                'x': 0.23,\n",
       "                                'xanchor': 'center',\n",
       "                                'xref': 'paper',\n",
       "                                'y': 1.0,\n",
       "                                'yanchor': 'bottom',\n",
       "                                'yref': 'paper'},\n",
       "                               {'font': {'size': 16},\n",
       "                                'showarrow': False,\n",
       "                                'text': 'Job',\n",
       "                                'x': 0.77,\n",
       "                                'xanchor': 'center',\n",
       "                                'xref': 'paper',\n",
       "                                'y': 1.0,\n",
       "                                'yanchor': 'bottom',\n",
       "                                'yref': 'paper'},\n",
       "                               {'font': {'size': 16},\n",
       "                                'showarrow': False,\n",
       "                                'text': 'Credit amount',\n",
       "                                'x': 0.23,\n",
       "                                'xanchor': 'center',\n",
       "                                'xref': 'paper',\n",
       "                                'y': 0.425,\n",
       "                                'yanchor': 'bottom',\n",
       "                                'yref': 'paper'},\n",
       "                               {'font': {'size': 16},\n",
       "                                'showarrow': False,\n",
       "                                'text': 'Duration',\n",
       "                                'x': 0.77,\n",
       "                                'xanchor': 'center',\n",
       "                                'xref': 'paper',\n",
       "                                'y': 0.425,\n",
       "                                'yanchor': 'bottom',\n",
       "                                'yref': 'paper'}],\n",
       "               'height': 600,\n",
       "               'showlegend': False,\n",
       "               'template': '...',\n",
       "               'title': {'text': 'Boxplots der numerischen Merkmale'},\n",
       "               'xaxis': {'anchor': 'y', 'domain': [0.0, 0.46], 'showgrid': False},\n",
       "               'xaxis2': {'anchor': 'y2', 'domain': [0.54, 1.0], 'showgrid': False},\n",
       "               'xaxis3': {'anchor': 'y3', 'domain': [0.0, 0.46], 'showgrid': False},\n",
       "               'xaxis4': {'anchor': 'y4', 'domain': [0.54, 1.0], 'showgrid': False},\n",
       "               'yaxis': {'anchor': 'x', 'domain': [0.575, 1.0], 'showgrid': True},\n",
       "               'yaxis2': {'anchor': 'x2', 'domain': [0.575, 1.0], 'showgrid': True},\n",
       "               'yaxis3': {'anchor': 'x3', 'domain': [0.0, 0.425], 'showgrid': True},\n",
       "               'yaxis4': {'anchor': 'x4', 'domain': [0.0, 0.425], 'showgrid': True}}\n",
       "})"
      ]
     },
     "execution_count": 61,
     "metadata": {},
     "output_type": "execute_result"
    }
   ],
   "source": [
    "\n",
    "# 1) Subplot-Raster festlegen:\n",
    "cols_per_row = 2\n",
    "rows = math.ceil(len(numeric_cols) / cols_per_row)\n",
    "\n",
    "fig2 = make_subplots(\n",
    "    rows=rows,\n",
    "    cols=cols_per_row,\n",
    "    subplot_titles=numeric_cols,\n",
    "    horizontal_spacing=0.08,\n",
    "    vertical_spacing=0.15\n",
    ")\n",
    "\n",
    "# 2) Boxplots je numerischer Spalte hinzufügen:\n",
    "for i, col in enumerate(numeric_cols):\n",
    "    r = i // cols_per_row + 1\n",
    "    c = i % cols_per_row + 1\n",
    "    fig2.add_trace(\n",
    "        go.Box(\n",
    "            y=df[col],\n",
    "            name=col,\n",
    "            boxpoints=\"outliers\",   \n",
    "            marker_line_color=\"black\",\n",
    "            marker_line_width=1,\n",
    "            whiskerwidth=0.8\n",
    "        ),\n",
    "        row=r, col=c\n",
    "    )\n",
    "\n",
    "# 3) Layout anpassen:\n",
    "fig2.update_xaxes(showgrid=False)\n",
    "fig2.update_yaxes(showgrid=True)\n",
    "fig2.update_layout(\n",
    "    title=\"Boxplots der numerischen Merkmale\",\n",
    "    showlegend=False,\n",
    "    height=300 * rows\n",
    ")\n",
    "\n",
    "fig2\n"
   ]
  },
  {
   "cell_type": "markdown",
   "id": "a0d7430a",
   "metadata": {},
   "source": [
    "Die Boxplots bestätigen die Ergebnisse aus den Histogrammen:\n",
    "- Kredithöhe und Laufzeit haben viele Ausreißer nach oben.\n",
    "- Alter ist überwiegend zwischen 20–40 Jahren konzentriert.\n",
    "- Job ist kategorial, daher ist der Boxplot hier nur eingeschränkt aussagekräftig.\n",
    "\n",
    "Wichtig: Ausreißer sind keine Fehler, aber man muss entscheiden, ob man sie mitmodelliert oder behandelt (z.B. Transformation, Skalierung oder Entfernen).\n",
    "<br>\n",
    "<br>\n",
    "Mit den Boxplots haben wir gesehen, dass es einige Ausreißer bei der Kreditlaufzeit (Duration) gibt, die über 70 Monate liegen.\n",
    "Jetzt wollen wir uns diese Fälle gezielt anschauen:"
   ]
  },
  {
   "cell_type": "code",
   "execution_count": 62,
   "id": "cc34cc14",
   "metadata": {},
   "outputs": [
    {
     "data": {
      "application/vnd.microsoft.datawrangler.viewer.v0+json": {
       "columns": [
        {
         "name": "index",
         "rawType": "int64",
         "type": "integer"
        },
        {
         "name": "Age",
         "rawType": "int64",
         "type": "integer"
        },
        {
         "name": "Sex",
         "rawType": "object",
         "type": "string"
        },
        {
         "name": "Job",
         "rawType": "int64",
         "type": "integer"
        },
        {
         "name": "Housing",
         "rawType": "object",
         "type": "string"
        },
        {
         "name": "Saving accounts",
         "rawType": "object",
         "type": "string"
        },
        {
         "name": "Checking account",
         "rawType": "object",
         "type": "string"
        },
        {
         "name": "Credit amount",
         "rawType": "int64",
         "type": "integer"
        },
        {
         "name": "Duration",
         "rawType": "int64",
         "type": "integer"
        },
        {
         "name": "Purpose",
         "rawType": "object",
         "type": "string"
        },
        {
         "name": "Risk",
         "rawType": "object",
         "type": "string"
        }
       ],
       "ref": "620edb9e-ccad-42ee-9e3a-ccc89351d7e0",
       "rows": [
        [
         "358",
         "24",
         "male",
         "2",
         "own",
         "moderate",
         "moderate",
         "5595",
         "72",
         "radio/TV",
         "bad"
        ]
       ],
       "shape": {
        "columns": 10,
        "rows": 1
       }
      },
      "text/html": [
       "<div>\n",
       "<style scoped>\n",
       "    .dataframe tbody tr th:only-of-type {\n",
       "        vertical-align: middle;\n",
       "    }\n",
       "\n",
       "    .dataframe tbody tr th {\n",
       "        vertical-align: top;\n",
       "    }\n",
       "\n",
       "    .dataframe thead th {\n",
       "        text-align: right;\n",
       "    }\n",
       "</style>\n",
       "<table border=\"1\" class=\"dataframe\">\n",
       "  <thead>\n",
       "    <tr style=\"text-align: right;\">\n",
       "      <th></th>\n",
       "      <th>Age</th>\n",
       "      <th>Sex</th>\n",
       "      <th>Job</th>\n",
       "      <th>Housing</th>\n",
       "      <th>Saving accounts</th>\n",
       "      <th>Checking account</th>\n",
       "      <th>Credit amount</th>\n",
       "      <th>Duration</th>\n",
       "      <th>Purpose</th>\n",
       "      <th>Risk</th>\n",
       "    </tr>\n",
       "  </thead>\n",
       "  <tbody>\n",
       "    <tr>\n",
       "      <th>358</th>\n",
       "      <td>24</td>\n",
       "      <td>male</td>\n",
       "      <td>2</td>\n",
       "      <td>own</td>\n",
       "      <td>moderate</td>\n",
       "      <td>moderate</td>\n",
       "      <td>5595</td>\n",
       "      <td>72</td>\n",
       "      <td>radio/TV</td>\n",
       "      <td>bad</td>\n",
       "    </tr>\n",
       "  </tbody>\n",
       "</table>\n",
       "</div>"
      ],
      "text/plain": [
       "     Age   Sex  Job Housing Saving accounts Checking account  Credit amount  \\\n",
       "358   24  male    2     own        moderate         moderate           5595   \n",
       "\n",
       "     Duration   Purpose Risk  \n",
       "358        72  radio/TV  bad  "
      ]
     },
     "execution_count": 62,
     "metadata": {},
     "output_type": "execute_result"
    }
   ],
   "source": [
    "df.query(\"Duration > 70\")"
   ]
  },
  {
   "cell_type": "markdown",
   "id": "92567125",
   "metadata": {},
   "source": [
    "Es ist nur ein starker Ausreißer über dem Wert 70 vorhanden. Einige Kredite laufen länger als 60 Monate (also über 5 Jahre), laut dem Boxplot sind sie ebenfalls Ausreißer. Schauen wir uns an wie viele es sind:"
   ]
  },
  {
   "cell_type": "code",
   "execution_count": 63,
   "id": "e5fcce50",
   "metadata": {},
   "outputs": [
    {
     "data": {
      "application/vnd.microsoft.datawrangler.viewer.v0+json": {
       "columns": [
        {
         "name": "index",
         "rawType": "int64",
         "type": "integer"
        },
        {
         "name": "Age",
         "rawType": "int64",
         "type": "integer"
        },
        {
         "name": "Sex",
         "rawType": "object",
         "type": "string"
        },
        {
         "name": "Job",
         "rawType": "int64",
         "type": "integer"
        },
        {
         "name": "Housing",
         "rawType": "object",
         "type": "string"
        },
        {
         "name": "Saving accounts",
         "rawType": "object",
         "type": "string"
        },
        {
         "name": "Checking account",
         "rawType": "object",
         "type": "string"
        },
        {
         "name": "Credit amount",
         "rawType": "int64",
         "type": "integer"
        },
        {
         "name": "Duration",
         "rawType": "int64",
         "type": "integer"
        },
        {
         "name": "Purpose",
         "rawType": "object",
         "type": "string"
        },
        {
         "name": "Risk",
         "rawType": "object",
         "type": "string"
        }
       ],
       "ref": "5c94a2d8-a048-4c1b-a7cf-a8ee0db2bc91",
       "rows": [
        [
         "18",
         "63",
         "male",
         "2",
         "own",
         "little",
         "little",
         "6836",
         "60",
         "business",
         "bad"
        ],
        [
         "176",
         "24",
         "female",
         "3",
         "own",
         "moderate",
         "moderate",
         "7408",
         "60",
         "car",
         "bad"
        ],
        [
         "199",
         "60",
         "female",
         "3",
         "free",
         "moderate",
         "moderate",
         "14782",
         "60",
         "vacation/others",
         "bad"
        ],
        [
         "358",
         "24",
         "male",
         "2",
         "own",
         "moderate",
         "moderate",
         "5595",
         "72",
         "radio/TV",
         "bad"
        ],
        [
         "378",
         "27",
         "male",
         "3",
         "own",
         "little",
         "moderate",
         "14027",
         "60",
         "car",
         "bad"
        ],
        [
         "489",
         "42",
         "male",
         "2",
         "free",
         "little",
         "moderate",
         "6288",
         "60",
         "education",
         "bad"
        ],
        [
         "507",
         "36",
         "male",
         "2",
         "rent",
         "little",
         "little",
         "7297",
         "60",
         "business",
         "bad"
        ]
       ],
       "shape": {
        "columns": 10,
        "rows": 7
       }
      },
      "text/html": [
       "<div>\n",
       "<style scoped>\n",
       "    .dataframe tbody tr th:only-of-type {\n",
       "        vertical-align: middle;\n",
       "    }\n",
       "\n",
       "    .dataframe tbody tr th {\n",
       "        vertical-align: top;\n",
       "    }\n",
       "\n",
       "    .dataframe thead th {\n",
       "        text-align: right;\n",
       "    }\n",
       "</style>\n",
       "<table border=\"1\" class=\"dataframe\">\n",
       "  <thead>\n",
       "    <tr style=\"text-align: right;\">\n",
       "      <th></th>\n",
       "      <th>Age</th>\n",
       "      <th>Sex</th>\n",
       "      <th>Job</th>\n",
       "      <th>Housing</th>\n",
       "      <th>Saving accounts</th>\n",
       "      <th>Checking account</th>\n",
       "      <th>Credit amount</th>\n",
       "      <th>Duration</th>\n",
       "      <th>Purpose</th>\n",
       "      <th>Risk</th>\n",
       "    </tr>\n",
       "  </thead>\n",
       "  <tbody>\n",
       "    <tr>\n",
       "      <th>18</th>\n",
       "      <td>63</td>\n",
       "      <td>male</td>\n",
       "      <td>2</td>\n",
       "      <td>own</td>\n",
       "      <td>little</td>\n",
       "      <td>little</td>\n",
       "      <td>6836</td>\n",
       "      <td>60</td>\n",
       "      <td>business</td>\n",
       "      <td>bad</td>\n",
       "    </tr>\n",
       "    <tr>\n",
       "      <th>176</th>\n",
       "      <td>24</td>\n",
       "      <td>female</td>\n",
       "      <td>3</td>\n",
       "      <td>own</td>\n",
       "      <td>moderate</td>\n",
       "      <td>moderate</td>\n",
       "      <td>7408</td>\n",
       "      <td>60</td>\n",
       "      <td>car</td>\n",
       "      <td>bad</td>\n",
       "    </tr>\n",
       "    <tr>\n",
       "      <th>199</th>\n",
       "      <td>60</td>\n",
       "      <td>female</td>\n",
       "      <td>3</td>\n",
       "      <td>free</td>\n",
       "      <td>moderate</td>\n",
       "      <td>moderate</td>\n",
       "      <td>14782</td>\n",
       "      <td>60</td>\n",
       "      <td>vacation/others</td>\n",
       "      <td>bad</td>\n",
       "    </tr>\n",
       "    <tr>\n",
       "      <th>358</th>\n",
       "      <td>24</td>\n",
       "      <td>male</td>\n",
       "      <td>2</td>\n",
       "      <td>own</td>\n",
       "      <td>moderate</td>\n",
       "      <td>moderate</td>\n",
       "      <td>5595</td>\n",
       "      <td>72</td>\n",
       "      <td>radio/TV</td>\n",
       "      <td>bad</td>\n",
       "    </tr>\n",
       "    <tr>\n",
       "      <th>378</th>\n",
       "      <td>27</td>\n",
       "      <td>male</td>\n",
       "      <td>3</td>\n",
       "      <td>own</td>\n",
       "      <td>little</td>\n",
       "      <td>moderate</td>\n",
       "      <td>14027</td>\n",
       "      <td>60</td>\n",
       "      <td>car</td>\n",
       "      <td>bad</td>\n",
       "    </tr>\n",
       "    <tr>\n",
       "      <th>489</th>\n",
       "      <td>42</td>\n",
       "      <td>male</td>\n",
       "      <td>2</td>\n",
       "      <td>free</td>\n",
       "      <td>little</td>\n",
       "      <td>moderate</td>\n",
       "      <td>6288</td>\n",
       "      <td>60</td>\n",
       "      <td>education</td>\n",
       "      <td>bad</td>\n",
       "    </tr>\n",
       "    <tr>\n",
       "      <th>507</th>\n",
       "      <td>36</td>\n",
       "      <td>male</td>\n",
       "      <td>2</td>\n",
       "      <td>rent</td>\n",
       "      <td>little</td>\n",
       "      <td>little</td>\n",
       "      <td>7297</td>\n",
       "      <td>60</td>\n",
       "      <td>business</td>\n",
       "      <td>bad</td>\n",
       "    </tr>\n",
       "  </tbody>\n",
       "</table>\n",
       "</div>"
      ],
      "text/plain": [
       "     Age     Sex  Job Housing Saving accounts Checking account  Credit amount  \\\n",
       "18    63    male    2     own          little           little           6836   \n",
       "176   24  female    3     own        moderate         moderate           7408   \n",
       "199   60  female    3    free        moderate         moderate          14782   \n",
       "358   24    male    2     own        moderate         moderate           5595   \n",
       "378   27    male    3     own          little         moderate          14027   \n",
       "489   42    male    2    free          little         moderate           6288   \n",
       "507   36    male    2    rent          little           little           7297   \n",
       "\n",
       "     Duration          Purpose Risk  \n",
       "18         60         business  bad  \n",
       "176        60              car  bad  \n",
       "199        60  vacation/others  bad  \n",
       "358        72         radio/TV  bad  \n",
       "378        60              car  bad  \n",
       "489        60        education  bad  \n",
       "507        60         business  bad  "
      ]
     },
     "execution_count": 63,
     "metadata": {},
     "output_type": "execute_result"
    }
   ],
   "source": [
    "df.query(\"Duration >= 60\")"
   ]
  },
  {
   "cell_type": "markdown",
   "id": "c71fa610",
   "metadata": {},
   "source": [
    "Die Abfrage hat 7 Fälle ergeben, bei denen die Kreditlaufzeit mindestens 60 Monate beträgt. Auffällig sind dabei mehrere Punkte:\n",
    "\n",
    "**1. Höhe der Kredite:**\n",
    "- Alle Kredite in dieser Gruppe sind relativ hoch (zwischen ca. 5.500 € und fast 15.000 €).\n",
    "- Längere Laufzeiten sind oft mit höheren Kreditbeträgen verbunden.\n",
    "\n",
    "**2. Verwendungszweck:**\n",
    "- Die Zwecke sind vielfältig: Business, Car, Vacation/others, Radio/TV, Education.\n",
    "- Lange Laufzeiten kommen also nicht nur bei einem Zweck vor, sondern in mehreren Bereichen.\n",
    "\n",
    "**3. Risikoeinschätzung:**\n",
    "- Alle diese Kredite sind mit \"bad\" (hohes Risiko) klassifiziert.\n",
    "- Offensichtlich betrachtet die Bank Kredite mit langen Laufzeiten eher als riskant.\n",
    "\n",
    "**4. Altersverteilung:**\n",
    "- Sowohl jüngere Kreditnehmer (24–27 Jahre) als auch ältere (60+ Jahre) kommen hier vor.\n",
    "- Es gibt also kein einheitliches Muster beim Alter – aber die Risikoeinstufung ist in allen Fällen gleich (\"bad)."
   ]
  },
  {
   "cell_type": "markdown",
   "id": "674e847b",
   "metadata": {},
   "source": [
    "Nachdem wir uns die numerischen Merkmale mit Histogrammen und Boxplots angesehen haben, wollen wir nun auch die kategorialen Merkmale untersuchen. Bei kategorialen Daten interessiert uns vor allem:\n",
    "- Welche Kategorien gibt es überhaupt?\n",
    "- Wie häufig kommen die einzelnen Kategorien vor?\n",
    "\n",
    "Um das sichtbar zu machen, erstellen wir für jede kategoriale Spalte ein Balkendiagramm, das die Verteilung zeigt:"
   ]
  },
  {
   "cell_type": "code",
   "execution_count": 64,
   "id": "1737be54",
   "metadata": {},
   "outputs": [
    {
     "ename": "ValueError",
     "evalue": "Mime type rendering requires nbformat>=4.2.0 but it is not installed",
     "output_type": "error",
     "traceback": [
      "\u001b[31m---------------------------------------------------------------------------\u001b[39m",
      "\u001b[31mValueError\u001b[39m                                Traceback (most recent call last)",
      "\u001b[36mFile \u001b[39m\u001b[32md:\\Maschinen\\Kredite_Aufgabe\\.venv\\Lib\\site-packages\\IPython\\core\\formatters.py:984\u001b[39m, in \u001b[36mIPythonDisplayFormatter.__call__\u001b[39m\u001b[34m(self, obj)\u001b[39m\n\u001b[32m    982\u001b[39m method = get_real_method(obj, \u001b[38;5;28mself\u001b[39m.print_method)\n\u001b[32m    983\u001b[39m \u001b[38;5;28;01mif\u001b[39;00m method \u001b[38;5;129;01mis\u001b[39;00m \u001b[38;5;129;01mnot\u001b[39;00m \u001b[38;5;28;01mNone\u001b[39;00m:\n\u001b[32m--> \u001b[39m\u001b[32m984\u001b[39m     \u001b[43mmethod\u001b[49m\u001b[43m(\u001b[49m\u001b[43m)\u001b[49m\n\u001b[32m    985\u001b[39m     \u001b[38;5;28;01mreturn\u001b[39;00m \u001b[38;5;28;01mTrue\u001b[39;00m\n",
      "\u001b[36mFile \u001b[39m\u001b[32md:\\Maschinen\\Kredite_Aufgabe\\.venv\\Lib\\site-packages\\plotly\\basedatatypes.py:850\u001b[39m, in \u001b[36mBaseFigure._ipython_display_\u001b[39m\u001b[34m(self)\u001b[39m\n\u001b[32m    847\u001b[39m \u001b[38;5;28;01mimport\u001b[39;00m\u001b[38;5;250m \u001b[39m\u001b[34;01mplotly\u001b[39;00m\u001b[34;01m.\u001b[39;00m\u001b[34;01mio\u001b[39;00m\u001b[38;5;250m \u001b[39m\u001b[38;5;28;01mas\u001b[39;00m\u001b[38;5;250m \u001b[39m\u001b[34;01mpio\u001b[39;00m\n\u001b[32m    849\u001b[39m \u001b[38;5;28;01mif\u001b[39;00m pio.renderers.render_on_display \u001b[38;5;129;01mand\u001b[39;00m pio.renderers.default:\n\u001b[32m--> \u001b[39m\u001b[32m850\u001b[39m     \u001b[43mpio\u001b[49m\u001b[43m.\u001b[49m\u001b[43mshow\u001b[49m\u001b[43m(\u001b[49m\u001b[38;5;28;43mself\u001b[39;49m\u001b[43m)\u001b[49m\n\u001b[32m    851\u001b[39m \u001b[38;5;28;01melse\u001b[39;00m:\n\u001b[32m    852\u001b[39m     \u001b[38;5;28mprint\u001b[39m(\u001b[38;5;28mrepr\u001b[39m(\u001b[38;5;28mself\u001b[39m))\n",
      "\u001b[36mFile \u001b[39m\u001b[32md:\\Maschinen\\Kredite_Aufgabe\\.venv\\Lib\\site-packages\\plotly\\io\\_renderers.py:415\u001b[39m, in \u001b[36mshow\u001b[39m\u001b[34m(fig, renderer, validate, **kwargs)\u001b[39m\n\u001b[32m    410\u001b[39m     \u001b[38;5;28;01mraise\u001b[39;00m \u001b[38;5;167;01mValueError\u001b[39;00m(\n\u001b[32m    411\u001b[39m         \u001b[33m\"\u001b[39m\u001b[33mMime type rendering requires ipython but it is not installed\u001b[39m\u001b[33m\"\u001b[39m\n\u001b[32m    412\u001b[39m     )\n\u001b[32m    414\u001b[39m \u001b[38;5;28;01mif\u001b[39;00m \u001b[38;5;129;01mnot\u001b[39;00m nbformat \u001b[38;5;129;01mor\u001b[39;00m Version(nbformat.__version__) < Version(\u001b[33m\"\u001b[39m\u001b[33m4.2.0\u001b[39m\u001b[33m\"\u001b[39m):\n\u001b[32m--> \u001b[39m\u001b[32m415\u001b[39m     \u001b[38;5;28;01mraise\u001b[39;00m \u001b[38;5;167;01mValueError\u001b[39;00m(\n\u001b[32m    416\u001b[39m         \u001b[33m\"\u001b[39m\u001b[33mMime type rendering requires nbformat>=4.2.0 but it is not installed\u001b[39m\u001b[33m\"\u001b[39m\n\u001b[32m    417\u001b[39m     )\n\u001b[32m    419\u001b[39m display_jupyter_version_warnings()\n\u001b[32m    421\u001b[39m ipython_display.display(bundle, raw=\u001b[38;5;28;01mTrue\u001b[39;00m)\n",
      "\u001b[31mValueError\u001b[39m: Mime type rendering requires nbformat>=4.2.0 but it is not installed"
     ]
    },
    {
     "data": {
      "application/vnd.plotly.v1+json": {
       "config": {
        "plotlyServerURL": "https://plot.ly"
       },
       "data": [
        {
         "marker": {
          "line": {
           "color": "black",
           "width": 1
          }
         },
         "name": "Sex",
         "type": "bar",
         "x": [
          "male",
          "female"
         ],
         "xaxis": "x",
         "y": {
          "bdata": "YgGoAA==",
          "dtype": "i2"
         },
         "yaxis": "y"
        },
        {
         "marker": {
          "line": {
           "color": "black",
           "width": 1
          }
         },
         "name": "Housing",
         "type": "bar",
         "x": [
          "own",
          "rent",
          "free"
         ],
         "xaxis": "x2",
         "y": {
          "bdata": "XQFsAEEA",
          "dtype": "i2"
         },
         "yaxis": "y2"
        },
        {
         "marker": {
          "line": {
           "color": "black",
           "width": 1
          }
         },
         "name": "Saving accounts",
         "type": "bar",
         "x": [
          "little",
          "moderate",
          "quite rich",
          "rich"
         ],
         "xaxis": "x3",
         "y": {
          "bdata": "nAFAABcAFwA=",
          "dtype": "i2"
         },
         "yaxis": "y3"
        },
        {
         "marker": {
          "line": {
           "color": "black",
           "width": 1
          }
         },
         "name": "Checking account",
         "type": "bar",
         "x": [
          "little",
          "moderate",
          "rich"
         ],
         "xaxis": "x4",
         "y": {
          "bdata": "9QDgADUA",
          "dtype": "i2"
         },
         "yaxis": "y4"
        },
        {
         "marker": {
          "line": {
           "color": "black",
           "width": 1
          }
         },
         "name": "Purpose",
         "type": "bar",
         "x": [
          "car",
          "radio/TV",
          "furniture/equipment",
          "business",
          "education",
          "repairs",
          "vacation/others",
          "domestic appliances"
         ],
         "xaxis": "x5",
         "y": {
          "bdata": "rQCEAGsANQAcAA4ACQAGAA==",
          "dtype": "i2"
         },
         "yaxis": "y5"
        },
        {
         "marker": {
          "line": {
           "color": "black",
           "width": 1
          }
         },
         "name": "Risk",
         "type": "bar",
         "x": [
          "good",
          "bad"
         ],
         "xaxis": "x6",
         "y": {
          "bdata": "IwHnAA==",
          "dtype": "i2"
         },
         "yaxis": "y6"
        }
       ],
       "layout": {
        "annotations": [
         {
          "font": {
           "size": 16
          },
          "showarrow": false,
          "text": "Sex",
          "x": 0.13999999999999999,
          "xanchor": "center",
          "xref": "paper",
          "y": 1,
          "yanchor": "bottom",
          "yref": "paper"
         },
         {
          "font": {
           "size": 16
          },
          "showarrow": false,
          "text": "Housing",
          "x": 0.49999999999999994,
          "xanchor": "center",
          "xref": "paper",
          "y": 1,
          "yanchor": "bottom",
          "yref": "paper"
         },
         {
          "font": {
           "size": 16
          },
          "showarrow": false,
          "text": "Saving accounts",
          "x": 0.86,
          "xanchor": "center",
          "xref": "paper",
          "y": 1,
          "yanchor": "bottom",
          "yref": "paper"
         },
         {
          "font": {
           "size": 16
          },
          "showarrow": false,
          "text": "Checking account",
          "x": 0.13999999999999999,
          "xanchor": "center",
          "xref": "paper",
          "y": 0.425,
          "yanchor": "bottom",
          "yref": "paper"
         },
         {
          "font": {
           "size": 16
          },
          "showarrow": false,
          "text": "Purpose",
          "x": 0.49999999999999994,
          "xanchor": "center",
          "xref": "paper",
          "y": 0.425,
          "yanchor": "bottom",
          "yref": "paper"
         },
         {
          "font": {
           "size": 16
          },
          "showarrow": false,
          "text": "Risk",
          "x": 0.86,
          "xanchor": "center",
          "xref": "paper",
          "y": 0.425,
          "yanchor": "bottom",
          "yref": "paper"
         }
        ],
        "height": 700,
        "showlegend": false,
        "template": {
         "data": {
          "bar": [
           {
            "error_x": {
             "color": "#2a3f5f"
            },
            "error_y": {
             "color": "#2a3f5f"
            },
            "marker": {
             "line": {
              "color": "#E5ECF6",
              "width": 0.5
             },
             "pattern": {
              "fillmode": "overlay",
              "size": 10,
              "solidity": 0.2
             }
            },
            "type": "bar"
           }
          ],
          "barpolar": [
           {
            "marker": {
             "line": {
              "color": "#E5ECF6",
              "width": 0.5
             },
             "pattern": {
              "fillmode": "overlay",
              "size": 10,
              "solidity": 0.2
             }
            },
            "type": "barpolar"
           }
          ],
          "carpet": [
           {
            "aaxis": {
             "endlinecolor": "#2a3f5f",
             "gridcolor": "white",
             "linecolor": "white",
             "minorgridcolor": "white",
             "startlinecolor": "#2a3f5f"
            },
            "baxis": {
             "endlinecolor": "#2a3f5f",
             "gridcolor": "white",
             "linecolor": "white",
             "minorgridcolor": "white",
             "startlinecolor": "#2a3f5f"
            },
            "type": "carpet"
           }
          ],
          "choropleth": [
           {
            "colorbar": {
             "outlinewidth": 0,
             "ticks": ""
            },
            "type": "choropleth"
           }
          ],
          "contour": [
           {
            "colorbar": {
             "outlinewidth": 0,
             "ticks": ""
            },
            "colorscale": [
             [
              0,
              "#0d0887"
             ],
             [
              0.1111111111111111,
              "#46039f"
             ],
             [
              0.2222222222222222,
              "#7201a8"
             ],
             [
              0.3333333333333333,
              "#9c179e"
             ],
             [
              0.4444444444444444,
              "#bd3786"
             ],
             [
              0.5555555555555556,
              "#d8576b"
             ],
             [
              0.6666666666666666,
              "#ed7953"
             ],
             [
              0.7777777777777778,
              "#fb9f3a"
             ],
             [
              0.8888888888888888,
              "#fdca26"
             ],
             [
              1,
              "#f0f921"
             ]
            ],
            "type": "contour"
           }
          ],
          "contourcarpet": [
           {
            "colorbar": {
             "outlinewidth": 0,
             "ticks": ""
            },
            "type": "contourcarpet"
           }
          ],
          "heatmap": [
           {
            "colorbar": {
             "outlinewidth": 0,
             "ticks": ""
            },
            "colorscale": [
             [
              0,
              "#0d0887"
             ],
             [
              0.1111111111111111,
              "#46039f"
             ],
             [
              0.2222222222222222,
              "#7201a8"
             ],
             [
              0.3333333333333333,
              "#9c179e"
             ],
             [
              0.4444444444444444,
              "#bd3786"
             ],
             [
              0.5555555555555556,
              "#d8576b"
             ],
             [
              0.6666666666666666,
              "#ed7953"
             ],
             [
              0.7777777777777778,
              "#fb9f3a"
             ],
             [
              0.8888888888888888,
              "#fdca26"
             ],
             [
              1,
              "#f0f921"
             ]
            ],
            "type": "heatmap"
           }
          ],
          "histogram": [
           {
            "marker": {
             "pattern": {
              "fillmode": "overlay",
              "size": 10,
              "solidity": 0.2
             }
            },
            "type": "histogram"
           }
          ],
          "histogram2d": [
           {
            "colorbar": {
             "outlinewidth": 0,
             "ticks": ""
            },
            "colorscale": [
             [
              0,
              "#0d0887"
             ],
             [
              0.1111111111111111,
              "#46039f"
             ],
             [
              0.2222222222222222,
              "#7201a8"
             ],
             [
              0.3333333333333333,
              "#9c179e"
             ],
             [
              0.4444444444444444,
              "#bd3786"
             ],
             [
              0.5555555555555556,
              "#d8576b"
             ],
             [
              0.6666666666666666,
              "#ed7953"
             ],
             [
              0.7777777777777778,
              "#fb9f3a"
             ],
             [
              0.8888888888888888,
              "#fdca26"
             ],
             [
              1,
              "#f0f921"
             ]
            ],
            "type": "histogram2d"
           }
          ],
          "histogram2dcontour": [
           {
            "colorbar": {
             "outlinewidth": 0,
             "ticks": ""
            },
            "colorscale": [
             [
              0,
              "#0d0887"
             ],
             [
              0.1111111111111111,
              "#46039f"
             ],
             [
              0.2222222222222222,
              "#7201a8"
             ],
             [
              0.3333333333333333,
              "#9c179e"
             ],
             [
              0.4444444444444444,
              "#bd3786"
             ],
             [
              0.5555555555555556,
              "#d8576b"
             ],
             [
              0.6666666666666666,
              "#ed7953"
             ],
             [
              0.7777777777777778,
              "#fb9f3a"
             ],
             [
              0.8888888888888888,
              "#fdca26"
             ],
             [
              1,
              "#f0f921"
             ]
            ],
            "type": "histogram2dcontour"
           }
          ],
          "mesh3d": [
           {
            "colorbar": {
             "outlinewidth": 0,
             "ticks": ""
            },
            "type": "mesh3d"
           }
          ],
          "parcoords": [
           {
            "line": {
             "colorbar": {
              "outlinewidth": 0,
              "ticks": ""
             }
            },
            "type": "parcoords"
           }
          ],
          "pie": [
           {
            "automargin": true,
            "type": "pie"
           }
          ],
          "scatter": [
           {
            "fillpattern": {
             "fillmode": "overlay",
             "size": 10,
             "solidity": 0.2
            },
            "type": "scatter"
           }
          ],
          "scatter3d": [
           {
            "line": {
             "colorbar": {
              "outlinewidth": 0,
              "ticks": ""
             }
            },
            "marker": {
             "colorbar": {
              "outlinewidth": 0,
              "ticks": ""
             }
            },
            "type": "scatter3d"
           }
          ],
          "scattercarpet": [
           {
            "marker": {
             "colorbar": {
              "outlinewidth": 0,
              "ticks": ""
             }
            },
            "type": "scattercarpet"
           }
          ],
          "scattergeo": [
           {
            "marker": {
             "colorbar": {
              "outlinewidth": 0,
              "ticks": ""
             }
            },
            "type": "scattergeo"
           }
          ],
          "scattergl": [
           {
            "marker": {
             "colorbar": {
              "outlinewidth": 0,
              "ticks": ""
             }
            },
            "type": "scattergl"
           }
          ],
          "scattermap": [
           {
            "marker": {
             "colorbar": {
              "outlinewidth": 0,
              "ticks": ""
             }
            },
            "type": "scattermap"
           }
          ],
          "scattermapbox": [
           {
            "marker": {
             "colorbar": {
              "outlinewidth": 0,
              "ticks": ""
             }
            },
            "type": "scattermapbox"
           }
          ],
          "scatterpolar": [
           {
            "marker": {
             "colorbar": {
              "outlinewidth": 0,
              "ticks": ""
             }
            },
            "type": "scatterpolar"
           }
          ],
          "scatterpolargl": [
           {
            "marker": {
             "colorbar": {
              "outlinewidth": 0,
              "ticks": ""
             }
            },
            "type": "scatterpolargl"
           }
          ],
          "scatterternary": [
           {
            "marker": {
             "colorbar": {
              "outlinewidth": 0,
              "ticks": ""
             }
            },
            "type": "scatterternary"
           }
          ],
          "surface": [
           {
            "colorbar": {
             "outlinewidth": 0,
             "ticks": ""
            },
            "colorscale": [
             [
              0,
              "#0d0887"
             ],
             [
              0.1111111111111111,
              "#46039f"
             ],
             [
              0.2222222222222222,
              "#7201a8"
             ],
             [
              0.3333333333333333,
              "#9c179e"
             ],
             [
              0.4444444444444444,
              "#bd3786"
             ],
             [
              0.5555555555555556,
              "#d8576b"
             ],
             [
              0.6666666666666666,
              "#ed7953"
             ],
             [
              0.7777777777777778,
              "#fb9f3a"
             ],
             [
              0.8888888888888888,
              "#fdca26"
             ],
             [
              1,
              "#f0f921"
             ]
            ],
            "type": "surface"
           }
          ],
          "table": [
           {
            "cells": {
             "fill": {
              "color": "#EBF0F8"
             },
             "line": {
              "color": "white"
             }
            },
            "header": {
             "fill": {
              "color": "#C8D4E3"
             },
             "line": {
              "color": "white"
             }
            },
            "type": "table"
           }
          ]
         },
         "layout": {
          "annotationdefaults": {
           "arrowcolor": "#2a3f5f",
           "arrowhead": 0,
           "arrowwidth": 1
          },
          "autotypenumbers": "strict",
          "coloraxis": {
           "colorbar": {
            "outlinewidth": 0,
            "ticks": ""
           }
          },
          "colorscale": {
           "diverging": [
            [
             0,
             "#8e0152"
            ],
            [
             0.1,
             "#c51b7d"
            ],
            [
             0.2,
             "#de77ae"
            ],
            [
             0.3,
             "#f1b6da"
            ],
            [
             0.4,
             "#fde0ef"
            ],
            [
             0.5,
             "#f7f7f7"
            ],
            [
             0.6,
             "#e6f5d0"
            ],
            [
             0.7,
             "#b8e186"
            ],
            [
             0.8,
             "#7fbc41"
            ],
            [
             0.9,
             "#4d9221"
            ],
            [
             1,
             "#276419"
            ]
           ],
           "sequential": [
            [
             0,
             "#0d0887"
            ],
            [
             0.1111111111111111,
             "#46039f"
            ],
            [
             0.2222222222222222,
             "#7201a8"
            ],
            [
             0.3333333333333333,
             "#9c179e"
            ],
            [
             0.4444444444444444,
             "#bd3786"
            ],
            [
             0.5555555555555556,
             "#d8576b"
            ],
            [
             0.6666666666666666,
             "#ed7953"
            ],
            [
             0.7777777777777778,
             "#fb9f3a"
            ],
            [
             0.8888888888888888,
             "#fdca26"
            ],
            [
             1,
             "#f0f921"
            ]
           ],
           "sequentialminus": [
            [
             0,
             "#0d0887"
            ],
            [
             0.1111111111111111,
             "#46039f"
            ],
            [
             0.2222222222222222,
             "#7201a8"
            ],
            [
             0.3333333333333333,
             "#9c179e"
            ],
            [
             0.4444444444444444,
             "#bd3786"
            ],
            [
             0.5555555555555556,
             "#d8576b"
            ],
            [
             0.6666666666666666,
             "#ed7953"
            ],
            [
             0.7777777777777778,
             "#fb9f3a"
            ],
            [
             0.8888888888888888,
             "#fdca26"
            ],
            [
             1,
             "#f0f921"
            ]
           ]
          },
          "colorway": [
           "#636efa",
           "#EF553B",
           "#00cc96",
           "#ab63fa",
           "#FFA15A",
           "#19d3f3",
           "#FF6692",
           "#B6E880",
           "#FF97FF",
           "#FECB52"
          ],
          "font": {
           "color": "#2a3f5f"
          },
          "geo": {
           "bgcolor": "white",
           "lakecolor": "white",
           "landcolor": "#E5ECF6",
           "showlakes": true,
           "showland": true,
           "subunitcolor": "white"
          },
          "hoverlabel": {
           "align": "left"
          },
          "hovermode": "closest",
          "mapbox": {
           "style": "light"
          },
          "paper_bgcolor": "white",
          "plot_bgcolor": "#E5ECF6",
          "polar": {
           "angularaxis": {
            "gridcolor": "white",
            "linecolor": "white",
            "ticks": ""
           },
           "bgcolor": "#E5ECF6",
           "radialaxis": {
            "gridcolor": "white",
            "linecolor": "white",
            "ticks": ""
           }
          },
          "scene": {
           "xaxis": {
            "backgroundcolor": "#E5ECF6",
            "gridcolor": "white",
            "gridwidth": 2,
            "linecolor": "white",
            "showbackground": true,
            "ticks": "",
            "zerolinecolor": "white"
           },
           "yaxis": {
            "backgroundcolor": "#E5ECF6",
            "gridcolor": "white",
            "gridwidth": 2,
            "linecolor": "white",
            "showbackground": true,
            "ticks": "",
            "zerolinecolor": "white"
           },
           "zaxis": {
            "backgroundcolor": "#E5ECF6",
            "gridcolor": "white",
            "gridwidth": 2,
            "linecolor": "white",
            "showbackground": true,
            "ticks": "",
            "zerolinecolor": "white"
           }
          },
          "shapedefaults": {
           "line": {
            "color": "#2a3f5f"
           }
          },
          "ternary": {
           "aaxis": {
            "gridcolor": "white",
            "linecolor": "white",
            "ticks": ""
           },
           "baxis": {
            "gridcolor": "white",
            "linecolor": "white",
            "ticks": ""
           },
           "bgcolor": "#E5ECF6",
           "caxis": {
            "gridcolor": "white",
            "linecolor": "white",
            "ticks": ""
           }
          },
          "title": {
           "x": 0.05
          },
          "xaxis": {
           "automargin": true,
           "gridcolor": "white",
           "linecolor": "white",
           "ticks": "",
           "title": {
            "standoff": 15
           },
           "zerolinecolor": "white",
           "zerolinewidth": 2
          },
          "yaxis": {
           "automargin": true,
           "gridcolor": "white",
           "linecolor": "white",
           "ticks": "",
           "title": {
            "standoff": 15
           },
           "zerolinecolor": "white",
           "zerolinewidth": 2
          }
         }
        },
        "title": {
         "text": "Verteilung der kategorialen Merkmale"
        },
        "xaxis": {
         "anchor": "y",
         "domain": [
          0,
          0.27999999999999997
         ],
         "showgrid": false,
         "tickangle": 45
        },
        "xaxis2": {
         "anchor": "y2",
         "domain": [
          0.36,
          0.6399999999999999
         ],
         "showgrid": false,
         "tickangle": 45
        },
        "xaxis3": {
         "anchor": "y3",
         "domain": [
          0.72,
          1
         ],
         "showgrid": false,
         "tickangle": 45
        },
        "xaxis4": {
         "anchor": "y4",
         "domain": [
          0,
          0.27999999999999997
         ],
         "showgrid": false,
         "tickangle": 45
        },
        "xaxis5": {
         "anchor": "y5",
         "domain": [
          0.36,
          0.6399999999999999
         ],
         "showgrid": false,
         "tickangle": 45
        },
        "xaxis6": {
         "anchor": "y6",
         "domain": [
          0.72,
          1
         ],
         "showgrid": false,
         "tickangle": 45
        },
        "yaxis": {
         "anchor": "x",
         "domain": [
          0.575,
          1
         ],
         "showgrid": false
        },
        "yaxis2": {
         "anchor": "x2",
         "domain": [
          0.575,
          1
         ],
         "showgrid": false
        },
        "yaxis3": {
         "anchor": "x3",
         "domain": [
          0.575,
          1
         ],
         "showgrid": false
        },
        "yaxis4": {
         "anchor": "x4",
         "domain": [
          0,
          0.425
         ],
         "showgrid": false
        },
        "yaxis5": {
         "anchor": "x5",
         "domain": [
          0,
          0.425
         ],
         "showgrid": false
        },
        "yaxis6": {
         "anchor": "x6",
         "domain": [
          0,
          0.425
         ],
         "showgrid": false
        }
       }
      },
      "text/html": [
       "<div>                        <script type=\"text/javascript\">window.PlotlyConfig = {MathJaxConfig: 'local'};</script>\n",
       "        <script charset=\"utf-8\" src=\"https://cdn.plot.ly/plotly-3.1.0.min.js\" integrity=\"sha256-Ei4740bWZhaUTQuD6q9yQlgVCMPBz6CZWhevDYPv93A=\" crossorigin=\"anonymous\"></script>                <div id=\"68445a40-d5a9-4846-b307-0b094531931d\" class=\"plotly-graph-div\" style=\"height:700px; width:100%;\"></div>            <script type=\"text/javascript\">                window.PLOTLYENV=window.PLOTLYENV || {};                                if (document.getElementById(\"68445a40-d5a9-4846-b307-0b094531931d\")) {                    Plotly.newPlot(                        \"68445a40-d5a9-4846-b307-0b094531931d\",                        [{\"marker\":{\"line\":{\"color\":\"black\",\"width\":1}},\"name\":\"Sex\",\"x\":[\"male\",\"female\"],\"y\":{\"dtype\":\"i2\",\"bdata\":\"YgGoAA==\"},\"type\":\"bar\",\"xaxis\":\"x\",\"yaxis\":\"y\"},{\"marker\":{\"line\":{\"color\":\"black\",\"width\":1}},\"name\":\"Housing\",\"x\":[\"own\",\"rent\",\"free\"],\"y\":{\"dtype\":\"i2\",\"bdata\":\"XQFsAEEA\"},\"type\":\"bar\",\"xaxis\":\"x2\",\"yaxis\":\"y2\"},{\"marker\":{\"line\":{\"color\":\"black\",\"width\":1}},\"name\":\"Saving accounts\",\"x\":[\"little\",\"moderate\",\"quite rich\",\"rich\"],\"y\":{\"dtype\":\"i2\",\"bdata\":\"nAFAABcAFwA=\"},\"type\":\"bar\",\"xaxis\":\"x3\",\"yaxis\":\"y3\"},{\"marker\":{\"line\":{\"color\":\"black\",\"width\":1}},\"name\":\"Checking account\",\"x\":[\"little\",\"moderate\",\"rich\"],\"y\":{\"dtype\":\"i2\",\"bdata\":\"9QDgADUA\"},\"type\":\"bar\",\"xaxis\":\"x4\",\"yaxis\":\"y4\"},{\"marker\":{\"line\":{\"color\":\"black\",\"width\":1}},\"name\":\"Purpose\",\"x\":[\"car\",\"radio\\u002fTV\",\"furniture\\u002fequipment\",\"business\",\"education\",\"repairs\",\"vacation\\u002fothers\",\"domestic appliances\"],\"y\":{\"dtype\":\"i2\",\"bdata\":\"rQCEAGsANQAcAA4ACQAGAA==\"},\"type\":\"bar\",\"xaxis\":\"x5\",\"yaxis\":\"y5\"},{\"marker\":{\"line\":{\"color\":\"black\",\"width\":1}},\"name\":\"Risk\",\"x\":[\"good\",\"bad\"],\"y\":{\"dtype\":\"i2\",\"bdata\":\"IwHnAA==\"},\"type\":\"bar\",\"xaxis\":\"x6\",\"yaxis\":\"y6\"}],                        {\"template\":{\"data\":{\"histogram2dcontour\":[{\"type\":\"histogram2dcontour\",\"colorbar\":{\"outlinewidth\":0,\"ticks\":\"\"},\"colorscale\":[[0.0,\"#0d0887\"],[0.1111111111111111,\"#46039f\"],[0.2222222222222222,\"#7201a8\"],[0.3333333333333333,\"#9c179e\"],[0.4444444444444444,\"#bd3786\"],[0.5555555555555556,\"#d8576b\"],[0.6666666666666666,\"#ed7953\"],[0.7777777777777778,\"#fb9f3a\"],[0.8888888888888888,\"#fdca26\"],[1.0,\"#f0f921\"]]}],\"choropleth\":[{\"type\":\"choropleth\",\"colorbar\":{\"outlinewidth\":0,\"ticks\":\"\"}}],\"histogram2d\":[{\"type\":\"histogram2d\",\"colorbar\":{\"outlinewidth\":0,\"ticks\":\"\"},\"colorscale\":[[0.0,\"#0d0887\"],[0.1111111111111111,\"#46039f\"],[0.2222222222222222,\"#7201a8\"],[0.3333333333333333,\"#9c179e\"],[0.4444444444444444,\"#bd3786\"],[0.5555555555555556,\"#d8576b\"],[0.6666666666666666,\"#ed7953\"],[0.7777777777777778,\"#fb9f3a\"],[0.8888888888888888,\"#fdca26\"],[1.0,\"#f0f921\"]]}],\"heatmap\":[{\"type\":\"heatmap\",\"colorbar\":{\"outlinewidth\":0,\"ticks\":\"\"},\"colorscale\":[[0.0,\"#0d0887\"],[0.1111111111111111,\"#46039f\"],[0.2222222222222222,\"#7201a8\"],[0.3333333333333333,\"#9c179e\"],[0.4444444444444444,\"#bd3786\"],[0.5555555555555556,\"#d8576b\"],[0.6666666666666666,\"#ed7953\"],[0.7777777777777778,\"#fb9f3a\"],[0.8888888888888888,\"#fdca26\"],[1.0,\"#f0f921\"]]}],\"contourcarpet\":[{\"type\":\"contourcarpet\",\"colorbar\":{\"outlinewidth\":0,\"ticks\":\"\"}}],\"contour\":[{\"type\":\"contour\",\"colorbar\":{\"outlinewidth\":0,\"ticks\":\"\"},\"colorscale\":[[0.0,\"#0d0887\"],[0.1111111111111111,\"#46039f\"],[0.2222222222222222,\"#7201a8\"],[0.3333333333333333,\"#9c179e\"],[0.4444444444444444,\"#bd3786\"],[0.5555555555555556,\"#d8576b\"],[0.6666666666666666,\"#ed7953\"],[0.7777777777777778,\"#fb9f3a\"],[0.8888888888888888,\"#fdca26\"],[1.0,\"#f0f921\"]]}],\"surface\":[{\"type\":\"surface\",\"colorbar\":{\"outlinewidth\":0,\"ticks\":\"\"},\"colorscale\":[[0.0,\"#0d0887\"],[0.1111111111111111,\"#46039f\"],[0.2222222222222222,\"#7201a8\"],[0.3333333333333333,\"#9c179e\"],[0.4444444444444444,\"#bd3786\"],[0.5555555555555556,\"#d8576b\"],[0.6666666666666666,\"#ed7953\"],[0.7777777777777778,\"#fb9f3a\"],[0.8888888888888888,\"#fdca26\"],[1.0,\"#f0f921\"]]}],\"mesh3d\":[{\"type\":\"mesh3d\",\"colorbar\":{\"outlinewidth\":0,\"ticks\":\"\"}}],\"scatter\":[{\"fillpattern\":{\"fillmode\":\"overlay\",\"size\":10,\"solidity\":0.2},\"type\":\"scatter\"}],\"parcoords\":[{\"type\":\"parcoords\",\"line\":{\"colorbar\":{\"outlinewidth\":0,\"ticks\":\"\"}}}],\"scatterpolargl\":[{\"type\":\"scatterpolargl\",\"marker\":{\"colorbar\":{\"outlinewidth\":0,\"ticks\":\"\"}}}],\"bar\":[{\"error_x\":{\"color\":\"#2a3f5f\"},\"error_y\":{\"color\":\"#2a3f5f\"},\"marker\":{\"line\":{\"color\":\"#E5ECF6\",\"width\":0.5},\"pattern\":{\"fillmode\":\"overlay\",\"size\":10,\"solidity\":0.2}},\"type\":\"bar\"}],\"scattergeo\":[{\"type\":\"scattergeo\",\"marker\":{\"colorbar\":{\"outlinewidth\":0,\"ticks\":\"\"}}}],\"scatterpolar\":[{\"type\":\"scatterpolar\",\"marker\":{\"colorbar\":{\"outlinewidth\":0,\"ticks\":\"\"}}}],\"histogram\":[{\"marker\":{\"pattern\":{\"fillmode\":\"overlay\",\"size\":10,\"solidity\":0.2}},\"type\":\"histogram\"}],\"scattergl\":[{\"type\":\"scattergl\",\"marker\":{\"colorbar\":{\"outlinewidth\":0,\"ticks\":\"\"}}}],\"scatter3d\":[{\"type\":\"scatter3d\",\"line\":{\"colorbar\":{\"outlinewidth\":0,\"ticks\":\"\"}},\"marker\":{\"colorbar\":{\"outlinewidth\":0,\"ticks\":\"\"}}}],\"scattermap\":[{\"type\":\"scattermap\",\"marker\":{\"colorbar\":{\"outlinewidth\":0,\"ticks\":\"\"}}}],\"scattermapbox\":[{\"type\":\"scattermapbox\",\"marker\":{\"colorbar\":{\"outlinewidth\":0,\"ticks\":\"\"}}}],\"scatterternary\":[{\"type\":\"scatterternary\",\"marker\":{\"colorbar\":{\"outlinewidth\":0,\"ticks\":\"\"}}}],\"scattercarpet\":[{\"type\":\"scattercarpet\",\"marker\":{\"colorbar\":{\"outlinewidth\":0,\"ticks\":\"\"}}}],\"carpet\":[{\"aaxis\":{\"endlinecolor\":\"#2a3f5f\",\"gridcolor\":\"white\",\"linecolor\":\"white\",\"minorgridcolor\":\"white\",\"startlinecolor\":\"#2a3f5f\"},\"baxis\":{\"endlinecolor\":\"#2a3f5f\",\"gridcolor\":\"white\",\"linecolor\":\"white\",\"minorgridcolor\":\"white\",\"startlinecolor\":\"#2a3f5f\"},\"type\":\"carpet\"}],\"table\":[{\"cells\":{\"fill\":{\"color\":\"#EBF0F8\"},\"line\":{\"color\":\"white\"}},\"header\":{\"fill\":{\"color\":\"#C8D4E3\"},\"line\":{\"color\":\"white\"}},\"type\":\"table\"}],\"barpolar\":[{\"marker\":{\"line\":{\"color\":\"#E5ECF6\",\"width\":0.5},\"pattern\":{\"fillmode\":\"overlay\",\"size\":10,\"solidity\":0.2}},\"type\":\"barpolar\"}],\"pie\":[{\"automargin\":true,\"type\":\"pie\"}]},\"layout\":{\"autotypenumbers\":\"strict\",\"colorway\":[\"#636efa\",\"#EF553B\",\"#00cc96\",\"#ab63fa\",\"#FFA15A\",\"#19d3f3\",\"#FF6692\",\"#B6E880\",\"#FF97FF\",\"#FECB52\"],\"font\":{\"color\":\"#2a3f5f\"},\"hovermode\":\"closest\",\"hoverlabel\":{\"align\":\"left\"},\"paper_bgcolor\":\"white\",\"plot_bgcolor\":\"#E5ECF6\",\"polar\":{\"bgcolor\":\"#E5ECF6\",\"angularaxis\":{\"gridcolor\":\"white\",\"linecolor\":\"white\",\"ticks\":\"\"},\"radialaxis\":{\"gridcolor\":\"white\",\"linecolor\":\"white\",\"ticks\":\"\"}},\"ternary\":{\"bgcolor\":\"#E5ECF6\",\"aaxis\":{\"gridcolor\":\"white\",\"linecolor\":\"white\",\"ticks\":\"\"},\"baxis\":{\"gridcolor\":\"white\",\"linecolor\":\"white\",\"ticks\":\"\"},\"caxis\":{\"gridcolor\":\"white\",\"linecolor\":\"white\",\"ticks\":\"\"}},\"coloraxis\":{\"colorbar\":{\"outlinewidth\":0,\"ticks\":\"\"}},\"colorscale\":{\"sequential\":[[0.0,\"#0d0887\"],[0.1111111111111111,\"#46039f\"],[0.2222222222222222,\"#7201a8\"],[0.3333333333333333,\"#9c179e\"],[0.4444444444444444,\"#bd3786\"],[0.5555555555555556,\"#d8576b\"],[0.6666666666666666,\"#ed7953\"],[0.7777777777777778,\"#fb9f3a\"],[0.8888888888888888,\"#fdca26\"],[1.0,\"#f0f921\"]],\"sequentialminus\":[[0.0,\"#0d0887\"],[0.1111111111111111,\"#46039f\"],[0.2222222222222222,\"#7201a8\"],[0.3333333333333333,\"#9c179e\"],[0.4444444444444444,\"#bd3786\"],[0.5555555555555556,\"#d8576b\"],[0.6666666666666666,\"#ed7953\"],[0.7777777777777778,\"#fb9f3a\"],[0.8888888888888888,\"#fdca26\"],[1.0,\"#f0f921\"]],\"diverging\":[[0,\"#8e0152\"],[0.1,\"#c51b7d\"],[0.2,\"#de77ae\"],[0.3,\"#f1b6da\"],[0.4,\"#fde0ef\"],[0.5,\"#f7f7f7\"],[0.6,\"#e6f5d0\"],[0.7,\"#b8e186\"],[0.8,\"#7fbc41\"],[0.9,\"#4d9221\"],[1,\"#276419\"]]},\"xaxis\":{\"gridcolor\":\"white\",\"linecolor\":\"white\",\"ticks\":\"\",\"title\":{\"standoff\":15},\"zerolinecolor\":\"white\",\"automargin\":true,\"zerolinewidth\":2},\"yaxis\":{\"gridcolor\":\"white\",\"linecolor\":\"white\",\"ticks\":\"\",\"title\":{\"standoff\":15},\"zerolinecolor\":\"white\",\"automargin\":true,\"zerolinewidth\":2},\"scene\":{\"xaxis\":{\"backgroundcolor\":\"#E5ECF6\",\"gridcolor\":\"white\",\"linecolor\":\"white\",\"showbackground\":true,\"ticks\":\"\",\"zerolinecolor\":\"white\",\"gridwidth\":2},\"yaxis\":{\"backgroundcolor\":\"#E5ECF6\",\"gridcolor\":\"white\",\"linecolor\":\"white\",\"showbackground\":true,\"ticks\":\"\",\"zerolinecolor\":\"white\",\"gridwidth\":2},\"zaxis\":{\"backgroundcolor\":\"#E5ECF6\",\"gridcolor\":\"white\",\"linecolor\":\"white\",\"showbackground\":true,\"ticks\":\"\",\"zerolinecolor\":\"white\",\"gridwidth\":2}},\"shapedefaults\":{\"line\":{\"color\":\"#2a3f5f\"}},\"annotationdefaults\":{\"arrowcolor\":\"#2a3f5f\",\"arrowhead\":0,\"arrowwidth\":1},\"geo\":{\"bgcolor\":\"white\",\"landcolor\":\"#E5ECF6\",\"subunitcolor\":\"white\",\"showland\":true,\"showlakes\":true,\"lakecolor\":\"white\"},\"title\":{\"x\":0.05},\"mapbox\":{\"style\":\"light\"}}},\"xaxis\":{\"anchor\":\"y\",\"domain\":[0.0,0.27999999999999997],\"showgrid\":false,\"tickangle\":45},\"yaxis\":{\"anchor\":\"x\",\"domain\":[0.575,1.0],\"showgrid\":false},\"xaxis2\":{\"anchor\":\"y2\",\"domain\":[0.36,0.6399999999999999],\"showgrid\":false,\"tickangle\":45},\"yaxis2\":{\"anchor\":\"x2\",\"domain\":[0.575,1.0],\"showgrid\":false},\"xaxis3\":{\"anchor\":\"y3\",\"domain\":[0.72,1.0],\"showgrid\":false,\"tickangle\":45},\"yaxis3\":{\"anchor\":\"x3\",\"domain\":[0.575,1.0],\"showgrid\":false},\"xaxis4\":{\"anchor\":\"y4\",\"domain\":[0.0,0.27999999999999997],\"showgrid\":false,\"tickangle\":45},\"yaxis4\":{\"anchor\":\"x4\",\"domain\":[0.0,0.425],\"showgrid\":false},\"xaxis5\":{\"anchor\":\"y5\",\"domain\":[0.36,0.6399999999999999],\"showgrid\":false,\"tickangle\":45},\"yaxis5\":{\"anchor\":\"x5\",\"domain\":[0.0,0.425],\"showgrid\":false},\"xaxis6\":{\"anchor\":\"y6\",\"domain\":[0.72,1.0],\"showgrid\":false,\"tickangle\":45},\"yaxis6\":{\"anchor\":\"x6\",\"domain\":[0.0,0.425],\"showgrid\":false},\"annotations\":[{\"font\":{\"size\":16},\"showarrow\":false,\"text\":\"Sex\",\"x\":0.13999999999999999,\"xanchor\":\"center\",\"xref\":\"paper\",\"y\":1.0,\"yanchor\":\"bottom\",\"yref\":\"paper\"},{\"font\":{\"size\":16},\"showarrow\":false,\"text\":\"Housing\",\"x\":0.49999999999999994,\"xanchor\":\"center\",\"xref\":\"paper\",\"y\":1.0,\"yanchor\":\"bottom\",\"yref\":\"paper\"},{\"font\":{\"size\":16},\"showarrow\":false,\"text\":\"Saving accounts\",\"x\":0.86,\"xanchor\":\"center\",\"xref\":\"paper\",\"y\":1.0,\"yanchor\":\"bottom\",\"yref\":\"paper\"},{\"font\":{\"size\":16},\"showarrow\":false,\"text\":\"Checking account\",\"x\":0.13999999999999999,\"xanchor\":\"center\",\"xref\":\"paper\",\"y\":0.425,\"yanchor\":\"bottom\",\"yref\":\"paper\"},{\"font\":{\"size\":16},\"showarrow\":false,\"text\":\"Purpose\",\"x\":0.49999999999999994,\"xanchor\":\"center\",\"xref\":\"paper\",\"y\":0.425,\"yanchor\":\"bottom\",\"yref\":\"paper\"},{\"font\":{\"size\":16},\"showarrow\":false,\"text\":\"Risk\",\"x\":0.86,\"xanchor\":\"center\",\"xref\":\"paper\",\"y\":0.425,\"yanchor\":\"bottom\",\"yref\":\"paper\"}],\"title\":{\"text\":\"Verteilung der kategorialen Merkmale\"},\"showlegend\":false,\"height\":700},                        {\"responsive\": true}                    )                };            </script>        </div>"
      ],
      "text/plain": [
       "Figure({\n",
       "    'data': [{'marker': {'line': {'color': 'black', 'width': 1}},\n",
       "              'name': 'Sex',\n",
       "              'type': 'bar',\n",
       "              'x': array(['male', 'female'], dtype=object),\n",
       "              'xaxis': 'x',\n",
       "              'y': {'bdata': 'YgGoAA==', 'dtype': 'i2'},\n",
       "              'yaxis': 'y'},\n",
       "             {'marker': {'line': {'color': 'black', 'width': 1}},\n",
       "              'name': 'Housing',\n",
       "              'type': 'bar',\n",
       "              'x': array(['own', 'rent', 'free'], dtype=object),\n",
       "              'xaxis': 'x2',\n",
       "              'y': {'bdata': 'XQFsAEEA', 'dtype': 'i2'},\n",
       "              'yaxis': 'y2'},\n",
       "             {'marker': {'line': {'color': 'black', 'width': 1}},\n",
       "              'name': 'Saving accounts',\n",
       "              'type': 'bar',\n",
       "              'x': array(['little', 'moderate', 'quite rich', 'rich'], dtype=object),\n",
       "              'xaxis': 'x3',\n",
       "              'y': {'bdata': 'nAFAABcAFwA=', 'dtype': 'i2'},\n",
       "              'yaxis': 'y3'},\n",
       "             {'marker': {'line': {'color': 'black', 'width': 1}},\n",
       "              'name': 'Checking account',\n",
       "              'type': 'bar',\n",
       "              'x': array(['little', 'moderate', 'rich'], dtype=object),\n",
       "              'xaxis': 'x4',\n",
       "              'y': {'bdata': '9QDgADUA', 'dtype': 'i2'},\n",
       "              'yaxis': 'y4'},\n",
       "             {'marker': {'line': {'color': 'black', 'width': 1}},\n",
       "              'name': 'Purpose',\n",
       "              'type': 'bar',\n",
       "              'x': array(['car', 'radio/TV', 'furniture/equipment', 'business', 'education',\n",
       "                          'repairs', 'vacation/others', 'domestic appliances'], dtype=object),\n",
       "              'xaxis': 'x5',\n",
       "              'y': {'bdata': 'rQCEAGsANQAcAA4ACQAGAA==', 'dtype': 'i2'},\n",
       "              'yaxis': 'y5'},\n",
       "             {'marker': {'line': {'color': 'black', 'width': 1}},\n",
       "              'name': 'Risk',\n",
       "              'type': 'bar',\n",
       "              'x': array(['good', 'bad'], dtype=object),\n",
       "              'xaxis': 'x6',\n",
       "              'y': {'bdata': 'IwHnAA==', 'dtype': 'i2'},\n",
       "              'yaxis': 'y6'}],\n",
       "    'layout': {'annotations': [{'font': {'size': 16},\n",
       "                                'showarrow': False,\n",
       "                                'text': 'Sex',\n",
       "                                'x': 0.13999999999999999,\n",
       "                                'xanchor': 'center',\n",
       "                                'xref': 'paper',\n",
       "                                'y': 1.0,\n",
       "                                'yanchor': 'bottom',\n",
       "                                'yref': 'paper'},\n",
       "                               {'font': {'size': 16},\n",
       "                                'showarrow': False,\n",
       "                                'text': 'Housing',\n",
       "                                'x': 0.49999999999999994,\n",
       "                                'xanchor': 'center',\n",
       "                                'xref': 'paper',\n",
       "                                'y': 1.0,\n",
       "                                'yanchor': 'bottom',\n",
       "                                'yref': 'paper'},\n",
       "                               {'font': {'size': 16},\n",
       "                                'showarrow': False,\n",
       "                                'text': 'Saving accounts',\n",
       "                                'x': 0.86,\n",
       "                                'xanchor': 'center',\n",
       "                                'xref': 'paper',\n",
       "                                'y': 1.0,\n",
       "                                'yanchor': 'bottom',\n",
       "                                'yref': 'paper'},\n",
       "                               {'font': {'size': 16},\n",
       "                                'showarrow': False,\n",
       "                                'text': 'Checking account',\n",
       "                                'x': 0.13999999999999999,\n",
       "                                'xanchor': 'center',\n",
       "                                'xref': 'paper',\n",
       "                                'y': 0.425,\n",
       "                                'yanchor': 'bottom',\n",
       "                                'yref': 'paper'},\n",
       "                               {'font': {'size': 16},\n",
       "                                'showarrow': False,\n",
       "                                'text': 'Purpose',\n",
       "                                'x': 0.49999999999999994,\n",
       "                                'xanchor': 'center',\n",
       "                                'xref': 'paper',\n",
       "                                'y': 0.425,\n",
       "                                'yanchor': 'bottom',\n",
       "                                'yref': 'paper'},\n",
       "                               {'font': {'size': 16},\n",
       "                                'showarrow': False,\n",
       "                                'text': 'Risk',\n",
       "                                'x': 0.86,\n",
       "                                'xanchor': 'center',\n",
       "                                'xref': 'paper',\n",
       "                                'y': 0.425,\n",
       "                                'yanchor': 'bottom',\n",
       "                                'yref': 'paper'}],\n",
       "               'height': 700,\n",
       "               'showlegend': False,\n",
       "               'template': '...',\n",
       "               'title': {'text': 'Verteilung der kategorialen Merkmale'},\n",
       "               'xaxis': {'anchor': 'y', 'domain': [0.0, 0.27999999999999997], 'showgrid': False, 'tickangle': 45},\n",
       "               'xaxis2': {'anchor': 'y2', 'domain': [0.36, 0.6399999999999999], 'showgrid': False, 'tickangle': 45},\n",
       "               'xaxis3': {'anchor': 'y3', 'domain': [0.72, 1.0], 'showgrid': False, 'tickangle': 45},\n",
       "               'xaxis4': {'anchor': 'y4', 'domain': [0.0, 0.27999999999999997], 'showgrid': False, 'tickangle': 45},\n",
       "               'xaxis5': {'anchor': 'y5', 'domain': [0.36, 0.6399999999999999], 'showgrid': False, 'tickangle': 45},\n",
       "               'xaxis6': {'anchor': 'y6', 'domain': [0.72, 1.0], 'showgrid': False, 'tickangle': 45},\n",
       "               'yaxis': {'anchor': 'x', 'domain': [0.575, 1.0], 'showgrid': False},\n",
       "               'yaxis2': {'anchor': 'x2', 'domain': [0.575, 1.0], 'showgrid': False},\n",
       "               'yaxis3': {'anchor': 'x3', 'domain': [0.575, 1.0], 'showgrid': False},\n",
       "               'yaxis4': {'anchor': 'x4', 'domain': [0.0, 0.425], 'showgrid': False},\n",
       "               'yaxis5': {'anchor': 'x5', 'domain': [0.0, 0.425], 'showgrid': False},\n",
       "               'yaxis6': {'anchor': 'x6', 'domain': [0.0, 0.425], 'showgrid': False}}\n",
       "})"
      ]
     },
     "execution_count": 64,
     "metadata": {},
     "output_type": "execute_result"
    }
   ],
   "source": [
    "# 1) Kategorische Spalten ermitteln:\n",
    "categorical_cols = df.select_dtypes(include=[\"object\"]).columns.tolist()\n",
    "\n",
    "# 2) Subplot-Raster anlegen:\n",
    "cols_per_row = 3\n",
    "rows = math.ceil(len(categorical_cols) / cols_per_row)\n",
    "\n",
    "fig3 = make_subplots(\n",
    "    rows=rows,\n",
    "    cols=cols_per_row,\n",
    "    subplot_titles=categorical_cols,\n",
    "    horizontal_spacing=0.08,\n",
    "    vertical_spacing=0.15\n",
    ")\n",
    "\n",
    "# 3) Für jede kategoriale Spalte ein Balkendiagramm hinzufügen:\n",
    "for i, col in enumerate(categorical_cols):\n",
    "    r = i // cols_per_row + 1\n",
    "    c = i % cols_per_row + 1\n",
    "    \n",
    "    value_counts = df[col].value_counts().sort_values(ascending=False)\n",
    "    \n",
    "    fig3.add_trace(\n",
    "        go.Bar(\n",
    "            x=value_counts.index.astype(str), \n",
    "            y=value_counts.values,             \n",
    "            marker_line_color=\"black\",\n",
    "            marker_line_width=1,\n",
    "            name=col\n",
    "        ),\n",
    "        row=r, col=c\n",
    "    )\n",
    "\n",
    "# 4) Layout anpassen:\n",
    "fig3.update_xaxes(showgrid=False, tickangle=45)\n",
    "fig3.update_yaxes(showgrid=False)\n",
    "fig3.update_layout(\n",
    "    title=\"Verteilung der kategorialen Merkmale\",\n",
    "    showlegend=False,\n",
    "    height=350 * rows\n",
    ")\n",
    "\n",
    "fig3"
   ]
  },
  {
   "cell_type": "markdown",
   "id": "197b23a8",
   "metadata": {},
   "source": [
    "Fassen wir einige wichtige Beobachtungen zusammen:\n",
    "\n",
    "**1. Geschlecht (Sex):**\n",
    "- Es gibt deutlich mehr männliche Kreditnehmer als weibliche.\n",
    "- Männer machen ungefähr 2/3 der Daten aus.\n",
    "\n",
    "**2. Wohnsituation (Housing):**\n",
    "- Die Mehrheit der Kreditnehmer wohnt im eigenen Haus.\n",
    "- Mieten ist weniger verbreitet, und nur wenige wohnen \"kostenlos\" (z.B. bei Eltern).\n",
    "\n",
    "**3.Sparguthaben (Saving accounts):**\n",
    "- Sehr viele Kreditnehmer haben nur wenig Ersparnisse (\"little\").\n",
    "- Kategorien wie \"moderate\", \"quite rich\" und \"rich\" sind deutlich seltener.\n",
    "- Wenig Ersparnisse deuten darauf hin, dass viele Kunden finanziell nicht stark abgesichert sind\n",
    "\n",
    "**4. Kontostand (Checking account):**\n",
    "- Auch hier dominieren die Kategorien \"little\" und \"moderate\".\n",
    "- \"Rich\" ist deutlich seltener.\n",
    "- Viele Kunden verfügen also nur über geringe bis mittlere Kontostände.\n",
    "\n",
    "**5. Verwendungszweck (Purpose):**\n",
    "- Am häufigsten wird ein Kredit für den Autokauf (\"car\") aufgenommen.\n",
    "- Danach folgen Radio/TV und Möbel.\n",
    "- Bildung, Urlaub oder Reparaturen sind seltener vertreten.\n",
    "- Kredite werden oft für größere Anschaffungen im Alltag genutzt.\n",
    "\n",
    "**6. Kreditrisiko (Risk):**\n",
    "- Es gibt mehr \"good\"-Kredite (niedriges Risiko) als \"bad\"-Kredite (hohes Risiko).\n",
    "- Das Verhältnis ist ungefähr 70% \"good\" zu 30% \"bad\".\n",
    "- Der Datensatz ist leicht unausgeglichen, aber beide Klassen sind vorhanden."
   ]
  },
  {
   "cell_type": "markdown",
   "id": "91f31a98",
   "metadata": {},
   "source": [
    "Nachdem wir die einzelnen Merkmale bereits einzeln betrachtet haben, wollen wir nun untersuchen, wie stark die numerischen Variablen miteinander zusammenhängen. Dazu berechnen wir die Korrelationsmatrix. Korrelation beschreibt, ob zwei Variablen einen gemeinsamen Trend haben:\n",
    "- Werte nahe +1: Starker positiver Zusammenhang (beide steigen gemeinsam).\n",
    "- Werte nahe -1: Starker negativer Zusammenhang (eine steigt, während die andere fällt).\n",
    "- Werte um 0: Kein oder nur sehr schwacher Zusammenhang."
   ]
  },
  {
   "cell_type": "code",
   "execution_count": 65,
   "id": "095856f0",
   "metadata": {},
   "outputs": [
    {
     "data": {
      "application/vnd.microsoft.datawrangler.viewer.v0+json": {
       "columns": [
        {
         "name": "index",
         "rawType": "object",
         "type": "string"
        },
        {
         "name": "Age",
         "rawType": "float64",
         "type": "float"
        },
        {
         "name": "Job",
         "rawType": "float64",
         "type": "float"
        },
        {
         "name": "Credit amount",
         "rawType": "float64",
         "type": "float"
        },
        {
         "name": "Duration",
         "rawType": "float64",
         "type": "float"
        }
       ],
       "ref": "b7562305-a646-43b2-a1eb-e8dc4bf76a02",
       "rows": [
        [
         "Age",
         "1.0",
         "0.039770677795296784",
         "0.08201393437429419",
         "0.001548978639527198"
        ],
        [
         "Job",
         "0.039770677795296784",
         "1.0",
         "0.33472091261588316",
         "0.2007939915792599"
        ],
        [
         "Credit amount",
         "0.08201393437429419",
         "0.33472091261588316",
         "1.0",
         "0.6132978631068117"
        ],
        [
         "Duration",
         "0.001548978639527198",
         "0.2007939915792599",
         "0.6132978631068117",
         "1.0"
        ]
       ],
       "shape": {
        "columns": 4,
        "rows": 4
       }
      },
      "text/html": [
       "<div>\n",
       "<style scoped>\n",
       "    .dataframe tbody tr th:only-of-type {\n",
       "        vertical-align: middle;\n",
       "    }\n",
       "\n",
       "    .dataframe tbody tr th {\n",
       "        vertical-align: top;\n",
       "    }\n",
       "\n",
       "    .dataframe thead th {\n",
       "        text-align: right;\n",
       "    }\n",
       "</style>\n",
       "<table border=\"1\" class=\"dataframe\">\n",
       "  <thead>\n",
       "    <tr style=\"text-align: right;\">\n",
       "      <th></th>\n",
       "      <th>Age</th>\n",
       "      <th>Job</th>\n",
       "      <th>Credit amount</th>\n",
       "      <th>Duration</th>\n",
       "    </tr>\n",
       "  </thead>\n",
       "  <tbody>\n",
       "    <tr>\n",
       "      <th>Age</th>\n",
       "      <td>1.000000</td>\n",
       "      <td>0.039771</td>\n",
       "      <td>0.082014</td>\n",
       "      <td>0.001549</td>\n",
       "    </tr>\n",
       "    <tr>\n",
       "      <th>Job</th>\n",
       "      <td>0.039771</td>\n",
       "      <td>1.000000</td>\n",
       "      <td>0.334721</td>\n",
       "      <td>0.200794</td>\n",
       "    </tr>\n",
       "    <tr>\n",
       "      <th>Credit amount</th>\n",
       "      <td>0.082014</td>\n",
       "      <td>0.334721</td>\n",
       "      <td>1.000000</td>\n",
       "      <td>0.613298</td>\n",
       "    </tr>\n",
       "    <tr>\n",
       "      <th>Duration</th>\n",
       "      <td>0.001549</td>\n",
       "      <td>0.200794</td>\n",
       "      <td>0.613298</td>\n",
       "      <td>1.000000</td>\n",
       "    </tr>\n",
       "  </tbody>\n",
       "</table>\n",
       "</div>"
      ],
      "text/plain": [
       "                    Age       Job  Credit amount  Duration\n",
       "Age            1.000000  0.039771       0.082014  0.001549\n",
       "Job            0.039771  1.000000       0.334721  0.200794\n",
       "Credit amount  0.082014  0.334721       1.000000  0.613298\n",
       "Duration       0.001549  0.200794       0.613298  1.000000"
      ]
     },
     "execution_count": 65,
     "metadata": {},
     "output_type": "execute_result"
    }
   ],
   "source": [
    "corr = df[numeric_cols].corr()\n",
    "corr"
   ]
  },
  {
   "cell_type": "markdown",
   "id": "fae75415",
   "metadata": {},
   "source": [
    "Die Korrelationsmatrix in Tabellenform ist oft schwer zu überblicken.\n",
    "Darum wollen wir die Werte grafisch als Heatmap darstellen:"
   ]
  },
  {
   "cell_type": "code",
   "execution_count": 66,
   "id": "cce6dd9e",
   "metadata": {},
   "outputs": [
    {
     "ename": "ValueError",
     "evalue": "Mime type rendering requires nbformat>=4.2.0 but it is not installed",
     "output_type": "error",
     "traceback": [
      "\u001b[31m---------------------------------------------------------------------------\u001b[39m",
      "\u001b[31mValueError\u001b[39m                                Traceback (most recent call last)",
      "\u001b[36mFile \u001b[39m\u001b[32md:\\Maschinen\\Kredite_Aufgabe\\.venv\\Lib\\site-packages\\IPython\\core\\formatters.py:984\u001b[39m, in \u001b[36mIPythonDisplayFormatter.__call__\u001b[39m\u001b[34m(self, obj)\u001b[39m\n\u001b[32m    982\u001b[39m method = get_real_method(obj, \u001b[38;5;28mself\u001b[39m.print_method)\n\u001b[32m    983\u001b[39m \u001b[38;5;28;01mif\u001b[39;00m method \u001b[38;5;129;01mis\u001b[39;00m \u001b[38;5;129;01mnot\u001b[39;00m \u001b[38;5;28;01mNone\u001b[39;00m:\n\u001b[32m--> \u001b[39m\u001b[32m984\u001b[39m     \u001b[43mmethod\u001b[49m\u001b[43m(\u001b[49m\u001b[43m)\u001b[49m\n\u001b[32m    985\u001b[39m     \u001b[38;5;28;01mreturn\u001b[39;00m \u001b[38;5;28;01mTrue\u001b[39;00m\n",
      "\u001b[36mFile \u001b[39m\u001b[32md:\\Maschinen\\Kredite_Aufgabe\\.venv\\Lib\\site-packages\\plotly\\basedatatypes.py:850\u001b[39m, in \u001b[36mBaseFigure._ipython_display_\u001b[39m\u001b[34m(self)\u001b[39m\n\u001b[32m    847\u001b[39m \u001b[38;5;28;01mimport\u001b[39;00m\u001b[38;5;250m \u001b[39m\u001b[34;01mplotly\u001b[39;00m\u001b[34;01m.\u001b[39;00m\u001b[34;01mio\u001b[39;00m\u001b[38;5;250m \u001b[39m\u001b[38;5;28;01mas\u001b[39;00m\u001b[38;5;250m \u001b[39m\u001b[34;01mpio\u001b[39;00m\n\u001b[32m    849\u001b[39m \u001b[38;5;28;01mif\u001b[39;00m pio.renderers.render_on_display \u001b[38;5;129;01mand\u001b[39;00m pio.renderers.default:\n\u001b[32m--> \u001b[39m\u001b[32m850\u001b[39m     \u001b[43mpio\u001b[49m\u001b[43m.\u001b[49m\u001b[43mshow\u001b[49m\u001b[43m(\u001b[49m\u001b[38;5;28;43mself\u001b[39;49m\u001b[43m)\u001b[49m\n\u001b[32m    851\u001b[39m \u001b[38;5;28;01melse\u001b[39;00m:\n\u001b[32m    852\u001b[39m     \u001b[38;5;28mprint\u001b[39m(\u001b[38;5;28mrepr\u001b[39m(\u001b[38;5;28mself\u001b[39m))\n",
      "\u001b[36mFile \u001b[39m\u001b[32md:\\Maschinen\\Kredite_Aufgabe\\.venv\\Lib\\site-packages\\plotly\\io\\_renderers.py:415\u001b[39m, in \u001b[36mshow\u001b[39m\u001b[34m(fig, renderer, validate, **kwargs)\u001b[39m\n\u001b[32m    410\u001b[39m     \u001b[38;5;28;01mraise\u001b[39;00m \u001b[38;5;167;01mValueError\u001b[39;00m(\n\u001b[32m    411\u001b[39m         \u001b[33m\"\u001b[39m\u001b[33mMime type rendering requires ipython but it is not installed\u001b[39m\u001b[33m\"\u001b[39m\n\u001b[32m    412\u001b[39m     )\n\u001b[32m    414\u001b[39m \u001b[38;5;28;01mif\u001b[39;00m \u001b[38;5;129;01mnot\u001b[39;00m nbformat \u001b[38;5;129;01mor\u001b[39;00m Version(nbformat.__version__) < Version(\u001b[33m\"\u001b[39m\u001b[33m4.2.0\u001b[39m\u001b[33m\"\u001b[39m):\n\u001b[32m--> \u001b[39m\u001b[32m415\u001b[39m     \u001b[38;5;28;01mraise\u001b[39;00m \u001b[38;5;167;01mValueError\u001b[39;00m(\n\u001b[32m    416\u001b[39m         \u001b[33m\"\u001b[39m\u001b[33mMime type rendering requires nbformat>=4.2.0 but it is not installed\u001b[39m\u001b[33m\"\u001b[39m\n\u001b[32m    417\u001b[39m     )\n\u001b[32m    419\u001b[39m display_jupyter_version_warnings()\n\u001b[32m    421\u001b[39m ipython_display.display(bundle, raw=\u001b[38;5;28;01mTrue\u001b[39;00m)\n",
      "\u001b[31mValueError\u001b[39m: Mime type rendering requires nbformat>=4.2.0 but it is not installed"
     ]
    },
    {
     "data": {
      "application/vnd.plotly.v1+json": {
       "config": {
        "plotlyServerURL": "https://plot.ly"
       },
       "data": [
        {
         "coloraxis": "coloraxis",
         "hovertemplate": "x: %{x}<br>y: %{y}<br>color: %{z}<extra></extra>",
         "name": "0",
         "texttemplate": "%{z}",
         "type": "heatmap",
         "x": [
          "Age",
          "Job",
          "Credit amount",
          "Duration"
         ],
         "xaxis": "x",
         "y": [
          "Age",
          "Job",
          "Credit amount",
          "Duration"
         ],
         "yaxis": "y",
         "z": {
          "bdata": "AAAAAAAA8D97FK5H4XqkP3sUrkfherQ/AAAAAAAAAAB7FK5H4XqkPwAAAAAAAPA/H4XrUbge1T+amZmZmZnJP3sUrkfherQ/H4XrUbge1T8AAAAAAADwP4XrUbgeheM/AAAAAAAAAACamZmZmZnJP4XrUbgeheM/AAAAAAAA8D8=",
          "dtype": "f8",
          "shape": "4, 4"
         }
        }
       ],
       "layout": {
        "coloraxis": {
         "cmax": 1,
         "cmin": -1,
         "colorscale": [
          [
           0,
           "rgb(5,48,97)"
          ],
          [
           0.1,
           "rgb(33,102,172)"
          ],
          [
           0.2,
           "rgb(67,147,195)"
          ],
          [
           0.3,
           "rgb(146,197,222)"
          ],
          [
           0.4,
           "rgb(209,229,240)"
          ],
          [
           0.5,
           "rgb(247,247,247)"
          ],
          [
           0.6,
           "rgb(253,219,199)"
          ],
          [
           0.7,
           "rgb(244,165,130)"
          ],
          [
           0.8,
           "rgb(214,96,77)"
          ],
          [
           0.9,
           "rgb(178,24,43)"
          ],
          [
           1,
           "rgb(103,0,31)"
          ]
         ]
        },
        "margin": {
         "b": 40,
         "l": 60,
         "r": 20,
         "t": 60
        },
        "template": {
         "data": {
          "bar": [
           {
            "error_x": {
             "color": "#2a3f5f"
            },
            "error_y": {
             "color": "#2a3f5f"
            },
            "marker": {
             "line": {
              "color": "#E5ECF6",
              "width": 0.5
             },
             "pattern": {
              "fillmode": "overlay",
              "size": 10,
              "solidity": 0.2
             }
            },
            "type": "bar"
           }
          ],
          "barpolar": [
           {
            "marker": {
             "line": {
              "color": "#E5ECF6",
              "width": 0.5
             },
             "pattern": {
              "fillmode": "overlay",
              "size": 10,
              "solidity": 0.2
             }
            },
            "type": "barpolar"
           }
          ],
          "carpet": [
           {
            "aaxis": {
             "endlinecolor": "#2a3f5f",
             "gridcolor": "white",
             "linecolor": "white",
             "minorgridcolor": "white",
             "startlinecolor": "#2a3f5f"
            },
            "baxis": {
             "endlinecolor": "#2a3f5f",
             "gridcolor": "white",
             "linecolor": "white",
             "minorgridcolor": "white",
             "startlinecolor": "#2a3f5f"
            },
            "type": "carpet"
           }
          ],
          "choropleth": [
           {
            "colorbar": {
             "outlinewidth": 0,
             "ticks": ""
            },
            "type": "choropleth"
           }
          ],
          "contour": [
           {
            "colorbar": {
             "outlinewidth": 0,
             "ticks": ""
            },
            "colorscale": [
             [
              0,
              "#0d0887"
             ],
             [
              0.1111111111111111,
              "#46039f"
             ],
             [
              0.2222222222222222,
              "#7201a8"
             ],
             [
              0.3333333333333333,
              "#9c179e"
             ],
             [
              0.4444444444444444,
              "#bd3786"
             ],
             [
              0.5555555555555556,
              "#d8576b"
             ],
             [
              0.6666666666666666,
              "#ed7953"
             ],
             [
              0.7777777777777778,
              "#fb9f3a"
             ],
             [
              0.8888888888888888,
              "#fdca26"
             ],
             [
              1,
              "#f0f921"
             ]
            ],
            "type": "contour"
           }
          ],
          "contourcarpet": [
           {
            "colorbar": {
             "outlinewidth": 0,
             "ticks": ""
            },
            "type": "contourcarpet"
           }
          ],
          "heatmap": [
           {
            "colorbar": {
             "outlinewidth": 0,
             "ticks": ""
            },
            "colorscale": [
             [
              0,
              "#0d0887"
             ],
             [
              0.1111111111111111,
              "#46039f"
             ],
             [
              0.2222222222222222,
              "#7201a8"
             ],
             [
              0.3333333333333333,
              "#9c179e"
             ],
             [
              0.4444444444444444,
              "#bd3786"
             ],
             [
              0.5555555555555556,
              "#d8576b"
             ],
             [
              0.6666666666666666,
              "#ed7953"
             ],
             [
              0.7777777777777778,
              "#fb9f3a"
             ],
             [
              0.8888888888888888,
              "#fdca26"
             ],
             [
              1,
              "#f0f921"
             ]
            ],
            "type": "heatmap"
           }
          ],
          "histogram": [
           {
            "marker": {
             "pattern": {
              "fillmode": "overlay",
              "size": 10,
              "solidity": 0.2
             }
            },
            "type": "histogram"
           }
          ],
          "histogram2d": [
           {
            "colorbar": {
             "outlinewidth": 0,
             "ticks": ""
            },
            "colorscale": [
             [
              0,
              "#0d0887"
             ],
             [
              0.1111111111111111,
              "#46039f"
             ],
             [
              0.2222222222222222,
              "#7201a8"
             ],
             [
              0.3333333333333333,
              "#9c179e"
             ],
             [
              0.4444444444444444,
              "#bd3786"
             ],
             [
              0.5555555555555556,
              "#d8576b"
             ],
             [
              0.6666666666666666,
              "#ed7953"
             ],
             [
              0.7777777777777778,
              "#fb9f3a"
             ],
             [
              0.8888888888888888,
              "#fdca26"
             ],
             [
              1,
              "#f0f921"
             ]
            ],
            "type": "histogram2d"
           }
          ],
          "histogram2dcontour": [
           {
            "colorbar": {
             "outlinewidth": 0,
             "ticks": ""
            },
            "colorscale": [
             [
              0,
              "#0d0887"
             ],
             [
              0.1111111111111111,
              "#46039f"
             ],
             [
              0.2222222222222222,
              "#7201a8"
             ],
             [
              0.3333333333333333,
              "#9c179e"
             ],
             [
              0.4444444444444444,
              "#bd3786"
             ],
             [
              0.5555555555555556,
              "#d8576b"
             ],
             [
              0.6666666666666666,
              "#ed7953"
             ],
             [
              0.7777777777777778,
              "#fb9f3a"
             ],
             [
              0.8888888888888888,
              "#fdca26"
             ],
             [
              1,
              "#f0f921"
             ]
            ],
            "type": "histogram2dcontour"
           }
          ],
          "mesh3d": [
           {
            "colorbar": {
             "outlinewidth": 0,
             "ticks": ""
            },
            "type": "mesh3d"
           }
          ],
          "parcoords": [
           {
            "line": {
             "colorbar": {
              "outlinewidth": 0,
              "ticks": ""
             }
            },
            "type": "parcoords"
           }
          ],
          "pie": [
           {
            "automargin": true,
            "type": "pie"
           }
          ],
          "scatter": [
           {
            "fillpattern": {
             "fillmode": "overlay",
             "size": 10,
             "solidity": 0.2
            },
            "type": "scatter"
           }
          ],
          "scatter3d": [
           {
            "line": {
             "colorbar": {
              "outlinewidth": 0,
              "ticks": ""
             }
            },
            "marker": {
             "colorbar": {
              "outlinewidth": 0,
              "ticks": ""
             }
            },
            "type": "scatter3d"
           }
          ],
          "scattercarpet": [
           {
            "marker": {
             "colorbar": {
              "outlinewidth": 0,
              "ticks": ""
             }
            },
            "type": "scattercarpet"
           }
          ],
          "scattergeo": [
           {
            "marker": {
             "colorbar": {
              "outlinewidth": 0,
              "ticks": ""
             }
            },
            "type": "scattergeo"
           }
          ],
          "scattergl": [
           {
            "marker": {
             "colorbar": {
              "outlinewidth": 0,
              "ticks": ""
             }
            },
            "type": "scattergl"
           }
          ],
          "scattermap": [
           {
            "marker": {
             "colorbar": {
              "outlinewidth": 0,
              "ticks": ""
             }
            },
            "type": "scattermap"
           }
          ],
          "scattermapbox": [
           {
            "marker": {
             "colorbar": {
              "outlinewidth": 0,
              "ticks": ""
             }
            },
            "type": "scattermapbox"
           }
          ],
          "scatterpolar": [
           {
            "marker": {
             "colorbar": {
              "outlinewidth": 0,
              "ticks": ""
             }
            },
            "type": "scatterpolar"
           }
          ],
          "scatterpolargl": [
           {
            "marker": {
             "colorbar": {
              "outlinewidth": 0,
              "ticks": ""
             }
            },
            "type": "scatterpolargl"
           }
          ],
          "scatterternary": [
           {
            "marker": {
             "colorbar": {
              "outlinewidth": 0,
              "ticks": ""
             }
            },
            "type": "scatterternary"
           }
          ],
          "surface": [
           {
            "colorbar": {
             "outlinewidth": 0,
             "ticks": ""
            },
            "colorscale": [
             [
              0,
              "#0d0887"
             ],
             [
              0.1111111111111111,
              "#46039f"
             ],
             [
              0.2222222222222222,
              "#7201a8"
             ],
             [
              0.3333333333333333,
              "#9c179e"
             ],
             [
              0.4444444444444444,
              "#bd3786"
             ],
             [
              0.5555555555555556,
              "#d8576b"
             ],
             [
              0.6666666666666666,
              "#ed7953"
             ],
             [
              0.7777777777777778,
              "#fb9f3a"
             ],
             [
              0.8888888888888888,
              "#fdca26"
             ],
             [
              1,
              "#f0f921"
             ]
            ],
            "type": "surface"
           }
          ],
          "table": [
           {
            "cells": {
             "fill": {
              "color": "#EBF0F8"
             },
             "line": {
              "color": "white"
             }
            },
            "header": {
             "fill": {
              "color": "#C8D4E3"
             },
             "line": {
              "color": "white"
             }
            },
            "type": "table"
           }
          ]
         },
         "layout": {
          "annotationdefaults": {
           "arrowcolor": "#2a3f5f",
           "arrowhead": 0,
           "arrowwidth": 1
          },
          "autotypenumbers": "strict",
          "coloraxis": {
           "colorbar": {
            "outlinewidth": 0,
            "ticks": ""
           }
          },
          "colorscale": {
           "diverging": [
            [
             0,
             "#8e0152"
            ],
            [
             0.1,
             "#c51b7d"
            ],
            [
             0.2,
             "#de77ae"
            ],
            [
             0.3,
             "#f1b6da"
            ],
            [
             0.4,
             "#fde0ef"
            ],
            [
             0.5,
             "#f7f7f7"
            ],
            [
             0.6,
             "#e6f5d0"
            ],
            [
             0.7,
             "#b8e186"
            ],
            [
             0.8,
             "#7fbc41"
            ],
            [
             0.9,
             "#4d9221"
            ],
            [
             1,
             "#276419"
            ]
           ],
           "sequential": [
            [
             0,
             "#0d0887"
            ],
            [
             0.1111111111111111,
             "#46039f"
            ],
            [
             0.2222222222222222,
             "#7201a8"
            ],
            [
             0.3333333333333333,
             "#9c179e"
            ],
            [
             0.4444444444444444,
             "#bd3786"
            ],
            [
             0.5555555555555556,
             "#d8576b"
            ],
            [
             0.6666666666666666,
             "#ed7953"
            ],
            [
             0.7777777777777778,
             "#fb9f3a"
            ],
            [
             0.8888888888888888,
             "#fdca26"
            ],
            [
             1,
             "#f0f921"
            ]
           ],
           "sequentialminus": [
            [
             0,
             "#0d0887"
            ],
            [
             0.1111111111111111,
             "#46039f"
            ],
            [
             0.2222222222222222,
             "#7201a8"
            ],
            [
             0.3333333333333333,
             "#9c179e"
            ],
            [
             0.4444444444444444,
             "#bd3786"
            ],
            [
             0.5555555555555556,
             "#d8576b"
            ],
            [
             0.6666666666666666,
             "#ed7953"
            ],
            [
             0.7777777777777778,
             "#fb9f3a"
            ],
            [
             0.8888888888888888,
             "#fdca26"
            ],
            [
             1,
             "#f0f921"
            ]
           ]
          },
          "colorway": [
           "#636efa",
           "#EF553B",
           "#00cc96",
           "#ab63fa",
           "#FFA15A",
           "#19d3f3",
           "#FF6692",
           "#B6E880",
           "#FF97FF",
           "#FECB52"
          ],
          "font": {
           "color": "#2a3f5f"
          },
          "geo": {
           "bgcolor": "white",
           "lakecolor": "white",
           "landcolor": "#E5ECF6",
           "showlakes": true,
           "showland": true,
           "subunitcolor": "white"
          },
          "hoverlabel": {
           "align": "left"
          },
          "hovermode": "closest",
          "mapbox": {
           "style": "light"
          },
          "paper_bgcolor": "white",
          "plot_bgcolor": "#E5ECF6",
          "polar": {
           "angularaxis": {
            "gridcolor": "white",
            "linecolor": "white",
            "ticks": ""
           },
           "bgcolor": "#E5ECF6",
           "radialaxis": {
            "gridcolor": "white",
            "linecolor": "white",
            "ticks": ""
           }
          },
          "scene": {
           "xaxis": {
            "backgroundcolor": "#E5ECF6",
            "gridcolor": "white",
            "gridwidth": 2,
            "linecolor": "white",
            "showbackground": true,
            "ticks": "",
            "zerolinecolor": "white"
           },
           "yaxis": {
            "backgroundcolor": "#E5ECF6",
            "gridcolor": "white",
            "gridwidth": 2,
            "linecolor": "white",
            "showbackground": true,
            "ticks": "",
            "zerolinecolor": "white"
           },
           "zaxis": {
            "backgroundcolor": "#E5ECF6",
            "gridcolor": "white",
            "gridwidth": 2,
            "linecolor": "white",
            "showbackground": true,
            "ticks": "",
            "zerolinecolor": "white"
           }
          },
          "shapedefaults": {
           "line": {
            "color": "#2a3f5f"
           }
          },
          "ternary": {
           "aaxis": {
            "gridcolor": "white",
            "linecolor": "white",
            "ticks": ""
           },
           "baxis": {
            "gridcolor": "white",
            "linecolor": "white",
            "ticks": ""
           },
           "bgcolor": "#E5ECF6",
           "caxis": {
            "gridcolor": "white",
            "linecolor": "white",
            "ticks": ""
           }
          },
          "title": {
           "x": 0.05
          },
          "xaxis": {
           "automargin": true,
           "gridcolor": "white",
           "linecolor": "white",
           "ticks": "",
           "title": {
            "standoff": 15
           },
           "zerolinecolor": "white",
           "zerolinewidth": 2
          },
          "yaxis": {
           "automargin": true,
           "gridcolor": "white",
           "linecolor": "white",
           "ticks": "",
           "title": {
            "standoff": 15
           },
           "zerolinecolor": "white",
           "zerolinewidth": 2
          }
         }
        },
        "title": {
         "text": "Korrelationsmatrix der numerischen Merkmale"
        },
        "xaxis": {
         "anchor": "y",
         "domain": [
          0,
          1
         ]
        },
        "yaxis": {
         "anchor": "x",
         "autorange": "reversed",
         "domain": [
          0,
          1
         ]
        }
       }
      },
      "text/html": [
       "<div>                        <script type=\"text/javascript\">window.PlotlyConfig = {MathJaxConfig: 'local'};</script>\n",
       "        <script charset=\"utf-8\" src=\"https://cdn.plot.ly/plotly-3.1.0.min.js\" integrity=\"sha256-Ei4740bWZhaUTQuD6q9yQlgVCMPBz6CZWhevDYPv93A=\" crossorigin=\"anonymous\"></script>                <div id=\"9d861135-2513-44f4-9e2b-def08044aeca\" class=\"plotly-graph-div\" style=\"height:100%; width:100%;\"></div>            <script type=\"text/javascript\">                window.PLOTLYENV=window.PLOTLYENV || {};                                if (document.getElementById(\"9d861135-2513-44f4-9e2b-def08044aeca\")) {                    Plotly.newPlot(                        \"9d861135-2513-44f4-9e2b-def08044aeca\",                        [{\"coloraxis\":\"coloraxis\",\"name\":\"0\",\"texttemplate\":\"%{z}\",\"x\":[\"Age\",\"Job\",\"Credit amount\",\"Duration\"],\"y\":[\"Age\",\"Job\",\"Credit amount\",\"Duration\"],\"z\":{\"dtype\":\"f8\",\"bdata\":\"AAAAAAAA8D97FK5H4XqkP3sUrkfherQ\\u002fAAAAAAAAAAB7FK5H4XqkPwAAAAAAAPA\\u002fH4XrUbge1T+amZmZmZnJP3sUrkfherQ\\u002fH4XrUbge1T8AAAAAAADwP4XrUbgeheM\\u002fAAAAAAAAAACamZmZmZnJP4XrUbgeheM\\u002fAAAAAAAA8D8=\",\"shape\":\"4, 4\"},\"type\":\"heatmap\",\"xaxis\":\"x\",\"yaxis\":\"y\",\"hovertemplate\":\"x: %{x}\\u003cbr\\u003ey: %{y}\\u003cbr\\u003ecolor: %{z}\\u003cextra\\u003e\\u003c\\u002fextra\\u003e\"}],                        {\"template\":{\"data\":{\"histogram2dcontour\":[{\"type\":\"histogram2dcontour\",\"colorbar\":{\"outlinewidth\":0,\"ticks\":\"\"},\"colorscale\":[[0.0,\"#0d0887\"],[0.1111111111111111,\"#46039f\"],[0.2222222222222222,\"#7201a8\"],[0.3333333333333333,\"#9c179e\"],[0.4444444444444444,\"#bd3786\"],[0.5555555555555556,\"#d8576b\"],[0.6666666666666666,\"#ed7953\"],[0.7777777777777778,\"#fb9f3a\"],[0.8888888888888888,\"#fdca26\"],[1.0,\"#f0f921\"]]}],\"choropleth\":[{\"type\":\"choropleth\",\"colorbar\":{\"outlinewidth\":0,\"ticks\":\"\"}}],\"histogram2d\":[{\"type\":\"histogram2d\",\"colorbar\":{\"outlinewidth\":0,\"ticks\":\"\"},\"colorscale\":[[0.0,\"#0d0887\"],[0.1111111111111111,\"#46039f\"],[0.2222222222222222,\"#7201a8\"],[0.3333333333333333,\"#9c179e\"],[0.4444444444444444,\"#bd3786\"],[0.5555555555555556,\"#d8576b\"],[0.6666666666666666,\"#ed7953\"],[0.7777777777777778,\"#fb9f3a\"],[0.8888888888888888,\"#fdca26\"],[1.0,\"#f0f921\"]]}],\"heatmap\":[{\"type\":\"heatmap\",\"colorbar\":{\"outlinewidth\":0,\"ticks\":\"\"},\"colorscale\":[[0.0,\"#0d0887\"],[0.1111111111111111,\"#46039f\"],[0.2222222222222222,\"#7201a8\"],[0.3333333333333333,\"#9c179e\"],[0.4444444444444444,\"#bd3786\"],[0.5555555555555556,\"#d8576b\"],[0.6666666666666666,\"#ed7953\"],[0.7777777777777778,\"#fb9f3a\"],[0.8888888888888888,\"#fdca26\"],[1.0,\"#f0f921\"]]}],\"contourcarpet\":[{\"type\":\"contourcarpet\",\"colorbar\":{\"outlinewidth\":0,\"ticks\":\"\"}}],\"contour\":[{\"type\":\"contour\",\"colorbar\":{\"outlinewidth\":0,\"ticks\":\"\"},\"colorscale\":[[0.0,\"#0d0887\"],[0.1111111111111111,\"#46039f\"],[0.2222222222222222,\"#7201a8\"],[0.3333333333333333,\"#9c179e\"],[0.4444444444444444,\"#bd3786\"],[0.5555555555555556,\"#d8576b\"],[0.6666666666666666,\"#ed7953\"],[0.7777777777777778,\"#fb9f3a\"],[0.8888888888888888,\"#fdca26\"],[1.0,\"#f0f921\"]]}],\"surface\":[{\"type\":\"surface\",\"colorbar\":{\"outlinewidth\":0,\"ticks\":\"\"},\"colorscale\":[[0.0,\"#0d0887\"],[0.1111111111111111,\"#46039f\"],[0.2222222222222222,\"#7201a8\"],[0.3333333333333333,\"#9c179e\"],[0.4444444444444444,\"#bd3786\"],[0.5555555555555556,\"#d8576b\"],[0.6666666666666666,\"#ed7953\"],[0.7777777777777778,\"#fb9f3a\"],[0.8888888888888888,\"#fdca26\"],[1.0,\"#f0f921\"]]}],\"mesh3d\":[{\"type\":\"mesh3d\",\"colorbar\":{\"outlinewidth\":0,\"ticks\":\"\"}}],\"scatter\":[{\"fillpattern\":{\"fillmode\":\"overlay\",\"size\":10,\"solidity\":0.2},\"type\":\"scatter\"}],\"parcoords\":[{\"type\":\"parcoords\",\"line\":{\"colorbar\":{\"outlinewidth\":0,\"ticks\":\"\"}}}],\"scatterpolargl\":[{\"type\":\"scatterpolargl\",\"marker\":{\"colorbar\":{\"outlinewidth\":0,\"ticks\":\"\"}}}],\"bar\":[{\"error_x\":{\"color\":\"#2a3f5f\"},\"error_y\":{\"color\":\"#2a3f5f\"},\"marker\":{\"line\":{\"color\":\"#E5ECF6\",\"width\":0.5},\"pattern\":{\"fillmode\":\"overlay\",\"size\":10,\"solidity\":0.2}},\"type\":\"bar\"}],\"scattergeo\":[{\"type\":\"scattergeo\",\"marker\":{\"colorbar\":{\"outlinewidth\":0,\"ticks\":\"\"}}}],\"scatterpolar\":[{\"type\":\"scatterpolar\",\"marker\":{\"colorbar\":{\"outlinewidth\":0,\"ticks\":\"\"}}}],\"histogram\":[{\"marker\":{\"pattern\":{\"fillmode\":\"overlay\",\"size\":10,\"solidity\":0.2}},\"type\":\"histogram\"}],\"scattergl\":[{\"type\":\"scattergl\",\"marker\":{\"colorbar\":{\"outlinewidth\":0,\"ticks\":\"\"}}}],\"scatter3d\":[{\"type\":\"scatter3d\",\"line\":{\"colorbar\":{\"outlinewidth\":0,\"ticks\":\"\"}},\"marker\":{\"colorbar\":{\"outlinewidth\":0,\"ticks\":\"\"}}}],\"scattermap\":[{\"type\":\"scattermap\",\"marker\":{\"colorbar\":{\"outlinewidth\":0,\"ticks\":\"\"}}}],\"scattermapbox\":[{\"type\":\"scattermapbox\",\"marker\":{\"colorbar\":{\"outlinewidth\":0,\"ticks\":\"\"}}}],\"scatterternary\":[{\"type\":\"scatterternary\",\"marker\":{\"colorbar\":{\"outlinewidth\":0,\"ticks\":\"\"}}}],\"scattercarpet\":[{\"type\":\"scattercarpet\",\"marker\":{\"colorbar\":{\"outlinewidth\":0,\"ticks\":\"\"}}}],\"carpet\":[{\"aaxis\":{\"endlinecolor\":\"#2a3f5f\",\"gridcolor\":\"white\",\"linecolor\":\"white\",\"minorgridcolor\":\"white\",\"startlinecolor\":\"#2a3f5f\"},\"baxis\":{\"endlinecolor\":\"#2a3f5f\",\"gridcolor\":\"white\",\"linecolor\":\"white\",\"minorgridcolor\":\"white\",\"startlinecolor\":\"#2a3f5f\"},\"type\":\"carpet\"}],\"table\":[{\"cells\":{\"fill\":{\"color\":\"#EBF0F8\"},\"line\":{\"color\":\"white\"}},\"header\":{\"fill\":{\"color\":\"#C8D4E3\"},\"line\":{\"color\":\"white\"}},\"type\":\"table\"}],\"barpolar\":[{\"marker\":{\"line\":{\"color\":\"#E5ECF6\",\"width\":0.5},\"pattern\":{\"fillmode\":\"overlay\",\"size\":10,\"solidity\":0.2}},\"type\":\"barpolar\"}],\"pie\":[{\"automargin\":true,\"type\":\"pie\"}]},\"layout\":{\"autotypenumbers\":\"strict\",\"colorway\":[\"#636efa\",\"#EF553B\",\"#00cc96\",\"#ab63fa\",\"#FFA15A\",\"#19d3f3\",\"#FF6692\",\"#B6E880\",\"#FF97FF\",\"#FECB52\"],\"font\":{\"color\":\"#2a3f5f\"},\"hovermode\":\"closest\",\"hoverlabel\":{\"align\":\"left\"},\"paper_bgcolor\":\"white\",\"plot_bgcolor\":\"#E5ECF6\",\"polar\":{\"bgcolor\":\"#E5ECF6\",\"angularaxis\":{\"gridcolor\":\"white\",\"linecolor\":\"white\",\"ticks\":\"\"},\"radialaxis\":{\"gridcolor\":\"white\",\"linecolor\":\"white\",\"ticks\":\"\"}},\"ternary\":{\"bgcolor\":\"#E5ECF6\",\"aaxis\":{\"gridcolor\":\"white\",\"linecolor\":\"white\",\"ticks\":\"\"},\"baxis\":{\"gridcolor\":\"white\",\"linecolor\":\"white\",\"ticks\":\"\"},\"caxis\":{\"gridcolor\":\"white\",\"linecolor\":\"white\",\"ticks\":\"\"}},\"coloraxis\":{\"colorbar\":{\"outlinewidth\":0,\"ticks\":\"\"}},\"colorscale\":{\"sequential\":[[0.0,\"#0d0887\"],[0.1111111111111111,\"#46039f\"],[0.2222222222222222,\"#7201a8\"],[0.3333333333333333,\"#9c179e\"],[0.4444444444444444,\"#bd3786\"],[0.5555555555555556,\"#d8576b\"],[0.6666666666666666,\"#ed7953\"],[0.7777777777777778,\"#fb9f3a\"],[0.8888888888888888,\"#fdca26\"],[1.0,\"#f0f921\"]],\"sequentialminus\":[[0.0,\"#0d0887\"],[0.1111111111111111,\"#46039f\"],[0.2222222222222222,\"#7201a8\"],[0.3333333333333333,\"#9c179e\"],[0.4444444444444444,\"#bd3786\"],[0.5555555555555556,\"#d8576b\"],[0.6666666666666666,\"#ed7953\"],[0.7777777777777778,\"#fb9f3a\"],[0.8888888888888888,\"#fdca26\"],[1.0,\"#f0f921\"]],\"diverging\":[[0,\"#8e0152\"],[0.1,\"#c51b7d\"],[0.2,\"#de77ae\"],[0.3,\"#f1b6da\"],[0.4,\"#fde0ef\"],[0.5,\"#f7f7f7\"],[0.6,\"#e6f5d0\"],[0.7,\"#b8e186\"],[0.8,\"#7fbc41\"],[0.9,\"#4d9221\"],[1,\"#276419\"]]},\"xaxis\":{\"gridcolor\":\"white\",\"linecolor\":\"white\",\"ticks\":\"\",\"title\":{\"standoff\":15},\"zerolinecolor\":\"white\",\"automargin\":true,\"zerolinewidth\":2},\"yaxis\":{\"gridcolor\":\"white\",\"linecolor\":\"white\",\"ticks\":\"\",\"title\":{\"standoff\":15},\"zerolinecolor\":\"white\",\"automargin\":true,\"zerolinewidth\":2},\"scene\":{\"xaxis\":{\"backgroundcolor\":\"#E5ECF6\",\"gridcolor\":\"white\",\"linecolor\":\"white\",\"showbackground\":true,\"ticks\":\"\",\"zerolinecolor\":\"white\",\"gridwidth\":2},\"yaxis\":{\"backgroundcolor\":\"#E5ECF6\",\"gridcolor\":\"white\",\"linecolor\":\"white\",\"showbackground\":true,\"ticks\":\"\",\"zerolinecolor\":\"white\",\"gridwidth\":2},\"zaxis\":{\"backgroundcolor\":\"#E5ECF6\",\"gridcolor\":\"white\",\"linecolor\":\"white\",\"showbackground\":true,\"ticks\":\"\",\"zerolinecolor\":\"white\",\"gridwidth\":2}},\"shapedefaults\":{\"line\":{\"color\":\"#2a3f5f\"}},\"annotationdefaults\":{\"arrowcolor\":\"#2a3f5f\",\"arrowhead\":0,\"arrowwidth\":1},\"geo\":{\"bgcolor\":\"white\",\"landcolor\":\"#E5ECF6\",\"subunitcolor\":\"white\",\"showland\":true,\"showlakes\":true,\"lakecolor\":\"white\"},\"title\":{\"x\":0.05},\"mapbox\":{\"style\":\"light\"}}},\"xaxis\":{\"anchor\":\"y\",\"domain\":[0.0,1.0]},\"yaxis\":{\"anchor\":\"x\",\"domain\":[0.0,1.0],\"autorange\":\"reversed\"},\"coloraxis\":{\"colorscale\":[[0.0,\"rgb(5,48,97)\"],[0.1,\"rgb(33,102,172)\"],[0.2,\"rgb(67,147,195)\"],[0.3,\"rgb(146,197,222)\"],[0.4,\"rgb(209,229,240)\"],[0.5,\"rgb(247,247,247)\"],[0.6,\"rgb(253,219,199)\"],[0.7,\"rgb(244,165,130)\"],[0.8,\"rgb(214,96,77)\"],[0.9,\"rgb(178,24,43)\"],[1.0,\"rgb(103,0,31)\"]],\"cmin\":-1,\"cmax\":1},\"title\":{\"text\":\"Korrelationsmatrix der numerischen Merkmale\"},\"margin\":{\"l\":60,\"r\":20,\"t\":60,\"b\":40}},                        {\"responsive\": true}                    )                };            </script>        </div>"
      ],
      "text/plain": [
       "Figure({\n",
       "    'data': [{'coloraxis': 'coloraxis',\n",
       "              'hovertemplate': 'x: %{x}<br>y: %{y}<br>color: %{z}<extra></extra>',\n",
       "              'name': '0',\n",
       "              'texttemplate': '%{z}',\n",
       "              'type': 'heatmap',\n",
       "              'x': array(['Age', 'Job', 'Credit amount', 'Duration'], dtype=object),\n",
       "              'xaxis': 'x',\n",
       "              'y': array(['Age', 'Job', 'Credit amount', 'Duration'], dtype=object),\n",
       "              'yaxis': 'y',\n",
       "              'z': {'bdata': ('AAAAAAAA8D97FK5H4XqkP3sUrkfher' ... 'mZmZnJP4XrUbgeheM/AAAAAAAA8D8='),\n",
       "                    'dtype': 'f8',\n",
       "                    'shape': '4, 4'}}],\n",
       "    'layout': {'coloraxis': {'cmax': 1,\n",
       "                             'cmin': -1,\n",
       "                             'colorscale': [[0.0, 'rgb(5,48,97)'], [0.1,\n",
       "                                            'rgb(33,102,172)'], [0.2,\n",
       "                                            'rgb(67,147,195)'], [0.3,\n",
       "                                            'rgb(146,197,222)'], [0.4,\n",
       "                                            'rgb(209,229,240)'], [0.5,\n",
       "                                            'rgb(247,247,247)'], [0.6,\n",
       "                                            'rgb(253,219,199)'], [0.7,\n",
       "                                            'rgb(244,165,130)'], [0.8,\n",
       "                                            'rgb(214,96,77)'], [0.9,\n",
       "                                            'rgb(178,24,43)'], [1.0,\n",
       "                                            'rgb(103,0,31)']]},\n",
       "               'margin': {'b': 40, 'l': 60, 'r': 20, 't': 60},\n",
       "               'template': '...',\n",
       "               'title': {'text': 'Korrelationsmatrix der numerischen Merkmale'},\n",
       "               'xaxis': {'anchor': 'y', 'domain': [0.0, 1.0]},\n",
       "               'yaxis': {'anchor': 'x', 'autorange': 'reversed', 'domain': [0.0, 1.0]}}\n",
       "})"
      ]
     },
     "execution_count": 66,
     "metadata": {},
     "output_type": "execute_result"
    }
   ],
   "source": [
    "import plotly.express as px\n",
    "\n",
    "corr = df[numeric_cols].corr().round(2)\n",
    "\n",
    "fig4 = px.imshow(\n",
    "    corr,\n",
    "    text_auto=True,       \n",
    "    color_continuous_scale=\"RdBu_r\",\n",
    "    zmin=-1, zmax=1,   \n",
    "    aspect=\"auto\",\n",
    "    title=\"Korrelationsmatrix der numerischen Merkmale\"\n",
    ")\n",
    "\n",
    "fig4.update_layout(margin=dict(l=60, r=20, t=60, b=40))\n",
    "fig4"
   ]
  },
  {
   "cell_type": "markdown",
   "id": "a59e1f7b",
   "metadata": {},
   "source": [
    "Bisher haben wir die Merkmale getrennt voneinander betrachtet. Jetzt wollen wir herausfinden, ob es einen Zusammenhang zwischen der Job-Kategorie und der Höhe des aufgenommenen Kredits gibt:"
   ]
  },
  {
   "cell_type": "code",
   "execution_count": 67,
   "id": "3980dcde",
   "metadata": {},
   "outputs": [
    {
     "data": {
      "application/vnd.microsoft.datawrangler.viewer.v0+json": {
       "columns": [
        {
         "name": "Job",
         "rawType": "int64",
         "type": "integer"
        },
        {
         "name": "Credit amount",
         "rawType": "float64",
         "type": "float"
        }
       ],
       "ref": "7f585198-87bb-4cb0-a25b-8350bcc2b371",
       "rows": [
        [
         "0",
         "1767.857142857143"
        ],
        [
         "1",
         "2250.7155172413795"
        ],
        [
         "2",
         "3129.1309904153354"
        ],
        [
         "3",
         "5648.784810126583"
        ]
       ],
       "shape": {
        "columns": 1,
        "rows": 4
       }
      },
      "text/plain": [
       "Job\n",
       "0    1767.857143\n",
       "1    2250.715517\n",
       "2    3129.130990\n",
       "3    5648.784810\n",
       "Name: Credit amount, dtype: float64"
      ]
     },
     "execution_count": 67,
     "metadata": {},
     "output_type": "execute_result"
    }
   ],
   "source": [
    "df.groupby(\"Job\")[\"Credit amount\"].mean()"
   ]
  },
  {
   "cell_type": "markdown",
   "id": "e92b30e8",
   "metadata": {},
   "source": [
    "Die Analyse zeigt einen klaren Zusammenhang zwischen Job-Kategorie und Kredithöhe. Menschen in höheren Job-Kategorien nehmen im Durchschnitt deutlich größere Kredite auf als Personen in niedrigeren Kategorien.\n",
    "<br>\n",
    "<br>\n",
    "Wir wollen nun untersuchen, ob es Unterschiede in der durchschnittlichen Kredithöhe zwischen Männern und Frauen gibt:"
   ]
  },
  {
   "cell_type": "code",
   "execution_count": 68,
   "id": "b5f5954d",
   "metadata": {},
   "outputs": [
    {
     "data": {
      "application/vnd.microsoft.datawrangler.viewer.v0+json": {
       "columns": [
        {
         "name": "Sex",
         "rawType": "object",
         "type": "string"
        },
        {
         "name": "Credit amount",
         "rawType": "float64",
         "type": "float"
        }
       ],
       "ref": "d9472438-22de-4cf0-862d-4bf41fc251f8",
       "rows": [
        [
         "female",
         "2937.2023809523807"
        ],
        [
         "male",
         "3440.8333333333335"
        ]
       ],
       "shape": {
        "columns": 1,
        "rows": 2
       }
      },
      "text/plain": [
       "Sex\n",
       "female    2937.202381\n",
       "male      3440.833333\n",
       "Name: Credit amount, dtype: float64"
      ]
     },
     "execution_count": 68,
     "metadata": {},
     "output_type": "execute_result"
    }
   ],
   "source": [
    "df.groupby(\"Sex\")[\"Credit amount\"].mean()"
   ]
  },
  {
   "cell_type": "markdown",
   "id": "a0e76315",
   "metadata": {},
   "source": [
    "Männer nehmen in diesem Datensatz im Durchschnitt höhere Kredite auf als Frauen. Der Unterschied ist zwar sichtbar, aber nicht so groß, dass er allein entscheidend wäre.\n",
    "<br>\n",
    "<br>\n",
    "Bisher haben wir uns Durchschnittswerte nur für eine Gruppierung angeschaut (z. B. nach Job oder nach Geschlecht).\n",
    "Jetzt wollen wir gleichzeitig zwei Merkmale kombinieren und sehen, wie sich die Kredithöhen danach unterscheiden:"
   ]
  },
  {
   "cell_type": "code",
   "execution_count": 69,
   "id": "25cddc32",
   "metadata": {},
   "outputs": [
    {
     "data": {
      "application/vnd.microsoft.datawrangler.viewer.v0+json": {
       "columns": [
        {
         "name": "Housing",
         "rawType": "object",
         "type": "string"
        },
        {
         "name": "business",
         "rawType": "float64",
         "type": "float"
        },
        {
         "name": "car",
         "rawType": "float64",
         "type": "float"
        },
        {
         "name": "domestic appliances",
         "rawType": "float64",
         "type": "float"
        },
        {
         "name": "education",
         "rawType": "float64",
         "type": "float"
        },
        {
         "name": "furniture/equipment",
         "rawType": "float64",
         "type": "float"
        },
        {
         "name": "radio/TV",
         "rawType": "float64",
         "type": "float"
        },
        {
         "name": "repairs",
         "rawType": "float64",
         "type": "float"
        },
        {
         "name": "vacation/others",
         "rawType": "float64",
         "type": "float"
        }
       ],
       "ref": "5ae47333-b703-4ce1-8507-7c0d27425fb8",
       "rows": [
        [
         "free",
         "4705.0",
         "5180.314285714286",
         null,
         "5314.25",
         "4419.444444444444",
         "2097.0",
         "1190.0",
         "7842.666666666667"
        ],
        [
         "own",
         "3725.9736842105262",
         "3120.4854368932038",
         "1333.5",
         "2625.076923076923",
         "3031.1",
         "2307.6138613861385",
         "2993.5",
         "10321.833333333334"
        ],
        [
         "rent",
         "6180.833333333333",
         "3398.285714285714",
         null,
         "2627.8571428571427",
         "2890.285714285714",
         "2138.0",
         "2384.0",
         null
        ]
       ],
       "shape": {
        "columns": 8,
        "rows": 3
       }
      },
      "text/html": [
       "<div>\n",
       "<style scoped>\n",
       "    .dataframe tbody tr th:only-of-type {\n",
       "        vertical-align: middle;\n",
       "    }\n",
       "\n",
       "    .dataframe tbody tr th {\n",
       "        vertical-align: top;\n",
       "    }\n",
       "\n",
       "    .dataframe thead th {\n",
       "        text-align: right;\n",
       "    }\n",
       "</style>\n",
       "<table border=\"1\" class=\"dataframe\">\n",
       "  <thead>\n",
       "    <tr style=\"text-align: right;\">\n",
       "      <th>Purpose</th>\n",
       "      <th>business</th>\n",
       "      <th>car</th>\n",
       "      <th>domestic appliances</th>\n",
       "      <th>education</th>\n",
       "      <th>furniture/equipment</th>\n",
       "      <th>radio/TV</th>\n",
       "      <th>repairs</th>\n",
       "      <th>vacation/others</th>\n",
       "    </tr>\n",
       "    <tr>\n",
       "      <th>Housing</th>\n",
       "      <th></th>\n",
       "      <th></th>\n",
       "      <th></th>\n",
       "      <th></th>\n",
       "      <th></th>\n",
       "      <th></th>\n",
       "      <th></th>\n",
       "      <th></th>\n",
       "    </tr>\n",
       "  </thead>\n",
       "  <tbody>\n",
       "    <tr>\n",
       "      <th>free</th>\n",
       "      <td>4705.000000</td>\n",
       "      <td>5180.314286</td>\n",
       "      <td>NaN</td>\n",
       "      <td>5314.250000</td>\n",
       "      <td>4419.444444</td>\n",
       "      <td>2097.000000</td>\n",
       "      <td>1190.0</td>\n",
       "      <td>7842.666667</td>\n",
       "    </tr>\n",
       "    <tr>\n",
       "      <th>own</th>\n",
       "      <td>3725.973684</td>\n",
       "      <td>3120.485437</td>\n",
       "      <td>1333.5</td>\n",
       "      <td>2625.076923</td>\n",
       "      <td>3031.100000</td>\n",
       "      <td>2307.613861</td>\n",
       "      <td>2993.5</td>\n",
       "      <td>10321.833333</td>\n",
       "    </tr>\n",
       "    <tr>\n",
       "      <th>rent</th>\n",
       "      <td>6180.833333</td>\n",
       "      <td>3398.285714</td>\n",
       "      <td>NaN</td>\n",
       "      <td>2627.857143</td>\n",
       "      <td>2890.285714</td>\n",
       "      <td>2138.000000</td>\n",
       "      <td>2384.0</td>\n",
       "      <td>NaN</td>\n",
       "    </tr>\n",
       "  </tbody>\n",
       "</table>\n",
       "</div>"
      ],
      "text/plain": [
       "Purpose     business          car  domestic appliances    education  \\\n",
       "Housing                                                               \n",
       "free     4705.000000  5180.314286                  NaN  5314.250000   \n",
       "own      3725.973684  3120.485437               1333.5  2625.076923   \n",
       "rent     6180.833333  3398.285714                  NaN  2627.857143   \n",
       "\n",
       "Purpose  furniture/equipment     radio/TV  repairs  vacation/others  \n",
       "Housing                                                              \n",
       "free             4419.444444  2097.000000   1190.0      7842.666667  \n",
       "own              3031.100000  2307.613861   2993.5     10321.833333  \n",
       "rent             2890.285714  2138.000000   2384.0              NaN  "
      ]
     },
     "execution_count": 69,
     "metadata": {},
     "output_type": "execute_result"
    }
   ],
   "source": [
    "pd.pivot_table(df, values=\"Credit amount\", index=\"Housing\", columns=\"Purpose\")"
   ]
  },
  {
   "cell_type": "markdown",
   "id": "6134e4f3",
   "metadata": {},
   "source": [
    "Hier sind einige wichtige Beobachtungen aus der Pivot-Tabelle:\n",
    "\n",
    "**1. Wohnsituation macht einen Unterschied:**\n",
    "\n",
    "Mieter (rent) haben für business im Schnitt die höchsten Beträge (~6.181 €).\n",
    "- Eigentümer `own` liegen häufig mittig (z.B. business ~3.726 €, radio/TV ~2.308 €).\n",
    "- Kostenlos wohnend `free` ist teils hoch (z.B. car ~5.180 €, education ~5.314 €).\n",
    "\n",
    "**2. Zweckabhängige Ausreißer:**\n",
    "- `vacation/others` ist bei Eigentümern besonders hoch (~10.322 €) und auch bei free erhöht (~7.843 €).\n",
    "- `car` ist bei free deutlich teurer (~5.180 €) als bei own/rent (~3.120–3.398 €).\n",
    "`radio/TV` ist in allen Wohnformen relativ niedrig (~2.100–2.300 €).\n",
    "- `repairs` und `domestic appliances` sind eher niedrig (bei `domestic appliances` sogar nur Werte für own vorhanden: ~1.334 €).\n",
    "\n",
    "**3. Datenlücken (NaN) beachten:**\n",
    "- NaN bedeutet: Für diese Kombination liegen keine Fälle vor (z.B. domestic appliances bei free/rent, vacation/others bei rent).\n",
    "- Interpretationen sollten deshalb vorsichtig sein – fehlende Kombinationen können das Gesamtbild verzerren.\n",
    "\n",
    "Die Art der Wohnsituation beeinflusst, wie viel Geld Menschen für bestimmte Zwecke aufnehmen. Große Kredite sind besonders mit Business, Urlaub und Auto verbunden, während Konsumgüter wie Radio/TV nur geringe Kreditsummen benötigen.\n",
    "<br>\n",
    "<br>\n",
    "Jetzt stellen wir zwei wichtige Merkmale, Alter und Kreditbetrag, in einem gemeinsamen Diagramm dar. Zusätzlich binden wir weitere Informationen ein:\n",
    "- Geschlecht (über die Farbe),\n",
    "- Kreditlaufzeit (über die Größe der Punkte).\n",
    "\n",
    "So entsteht eine multidimensionale Visualisierung, in der wir mehrere Zusammenhänge gleichzeitig erkennen können:"
   ]
  },
  {
   "cell_type": "code",
   "execution_count": 70,
   "id": "6e7a118a",
   "metadata": {},
   "outputs": [
    {
     "ename": "ValueError",
     "evalue": "Mime type rendering requires nbformat>=4.2.0 but it is not installed",
     "output_type": "error",
     "traceback": [
      "\u001b[31m---------------------------------------------------------------------------\u001b[39m",
      "\u001b[31mValueError\u001b[39m                                Traceback (most recent call last)",
      "\u001b[36mFile \u001b[39m\u001b[32md:\\Maschinen\\Kredite_Aufgabe\\.venv\\Lib\\site-packages\\IPython\\core\\formatters.py:984\u001b[39m, in \u001b[36mIPythonDisplayFormatter.__call__\u001b[39m\u001b[34m(self, obj)\u001b[39m\n\u001b[32m    982\u001b[39m method = get_real_method(obj, \u001b[38;5;28mself\u001b[39m.print_method)\n\u001b[32m    983\u001b[39m \u001b[38;5;28;01mif\u001b[39;00m method \u001b[38;5;129;01mis\u001b[39;00m \u001b[38;5;129;01mnot\u001b[39;00m \u001b[38;5;28;01mNone\u001b[39;00m:\n\u001b[32m--> \u001b[39m\u001b[32m984\u001b[39m     \u001b[43mmethod\u001b[49m\u001b[43m(\u001b[49m\u001b[43m)\u001b[49m\n\u001b[32m    985\u001b[39m     \u001b[38;5;28;01mreturn\u001b[39;00m \u001b[38;5;28;01mTrue\u001b[39;00m\n",
      "\u001b[36mFile \u001b[39m\u001b[32md:\\Maschinen\\Kredite_Aufgabe\\.venv\\Lib\\site-packages\\plotly\\basedatatypes.py:850\u001b[39m, in \u001b[36mBaseFigure._ipython_display_\u001b[39m\u001b[34m(self)\u001b[39m\n\u001b[32m    847\u001b[39m \u001b[38;5;28;01mimport\u001b[39;00m\u001b[38;5;250m \u001b[39m\u001b[34;01mplotly\u001b[39;00m\u001b[34;01m.\u001b[39;00m\u001b[34;01mio\u001b[39;00m\u001b[38;5;250m \u001b[39m\u001b[38;5;28;01mas\u001b[39;00m\u001b[38;5;250m \u001b[39m\u001b[34;01mpio\u001b[39;00m\n\u001b[32m    849\u001b[39m \u001b[38;5;28;01mif\u001b[39;00m pio.renderers.render_on_display \u001b[38;5;129;01mand\u001b[39;00m pio.renderers.default:\n\u001b[32m--> \u001b[39m\u001b[32m850\u001b[39m     \u001b[43mpio\u001b[49m\u001b[43m.\u001b[49m\u001b[43mshow\u001b[49m\u001b[43m(\u001b[49m\u001b[38;5;28;43mself\u001b[39;49m\u001b[43m)\u001b[49m\n\u001b[32m    851\u001b[39m \u001b[38;5;28;01melse\u001b[39;00m:\n\u001b[32m    852\u001b[39m     \u001b[38;5;28mprint\u001b[39m(\u001b[38;5;28mrepr\u001b[39m(\u001b[38;5;28mself\u001b[39m))\n",
      "\u001b[36mFile \u001b[39m\u001b[32md:\\Maschinen\\Kredite_Aufgabe\\.venv\\Lib\\site-packages\\plotly\\io\\_renderers.py:415\u001b[39m, in \u001b[36mshow\u001b[39m\u001b[34m(fig, renderer, validate, **kwargs)\u001b[39m\n\u001b[32m    410\u001b[39m     \u001b[38;5;28;01mraise\u001b[39;00m \u001b[38;5;167;01mValueError\u001b[39;00m(\n\u001b[32m    411\u001b[39m         \u001b[33m\"\u001b[39m\u001b[33mMime type rendering requires ipython but it is not installed\u001b[39m\u001b[33m\"\u001b[39m\n\u001b[32m    412\u001b[39m     )\n\u001b[32m    414\u001b[39m \u001b[38;5;28;01mif\u001b[39;00m \u001b[38;5;129;01mnot\u001b[39;00m nbformat \u001b[38;5;129;01mor\u001b[39;00m Version(nbformat.__version__) < Version(\u001b[33m\"\u001b[39m\u001b[33m4.2.0\u001b[39m\u001b[33m\"\u001b[39m):\n\u001b[32m--> \u001b[39m\u001b[32m415\u001b[39m     \u001b[38;5;28;01mraise\u001b[39;00m \u001b[38;5;167;01mValueError\u001b[39;00m(\n\u001b[32m    416\u001b[39m         \u001b[33m\"\u001b[39m\u001b[33mMime type rendering requires nbformat>=4.2.0 but it is not installed\u001b[39m\u001b[33m\"\u001b[39m\n\u001b[32m    417\u001b[39m     )\n\u001b[32m    419\u001b[39m display_jupyter_version_warnings()\n\u001b[32m    421\u001b[39m ipython_display.display(bundle, raw=\u001b[38;5;28;01mTrue\u001b[39;00m)\n",
      "\u001b[31mValueError\u001b[39m: Mime type rendering requires nbformat>=4.2.0 but it is not installed"
     ]
    },
    {
     "data": {
      "application/vnd.plotly.v1+json": {
       "config": {
        "plotlyServerURL": "https://plot.ly"
       },
       "data": [
        {
         "hovertemplate": "Sex=female<br>Alter=%{x}<br>Kreditbetrag=%{y}<br>Duration=%{marker.size}<extra></extra>",
         "legendgroup": "female",
         "marker": {
          "color": "#636efa",
          "opacity": 0.7,
          "size": {
           "bdata": "MAwwDA8YGAwMMAYSJCoYEg8hFQwMJAYYDBILGAkSCQwGDB4YLwwYMCQIGA88DRgVGAkeDBISPDASDAYMGBIMDDAkBgwYBhIMHhsYGAYSEg8SEgwJEgYYMBgPDBIMGAYYBwkYCiQMChUYHgwYGBIeBg8YGwwJBgYMCRIwCBgeDwwGEgwSJBISDBUSFA8kEhIPDxgSDAsMFRgwCRIJDAkPMBgMGBgYBhUP",
           "dtype": "i1"
          },
          "sizemode": "area",
          "sizeref": 0.18,
          "symbol": "circle"
         },
         "mode": "markers",
         "name": "female",
         "orientation": "v",
         "showlegend": true,
         "type": "scatter",
         "x": {
          "bdata": "FhkYFhwgLCohOhcXFyk6GxcXGR0sHicdFCEUIkohIhsnLhg3IzEsGioYGhsYFxgaFx0XJBYoPCUmEx83FDcaHh4iGyIdFxoXOSobGCUYGhwlLRhDHB0XHxcWGxQ6FCAXLR4iFzIWMB0WFRYcGRscMhkvIBkZIxgYQhk7LBcaFyUxFxcYGRlDFycwGBo2IRcZHSMbGCg1HBkgFhUWFxwuHhwdOR05QBwZ",
          "dtype": "i1"
         },
         "xaxis": "x",
         "y": {
          "bdata": "PxcPBdQQHwZ7BQIFIzGZAcIF/xdIBakHVRhCF9sGDwWIAbkQKwerDVkHuxJcA04eAgVrBCkGEAgJFKwM3QW3A5oCywhmCEMG4ilEBBMZ6CbcDtUEpQ47DvAcNQhvFg8Org6/A2YJxwhCDrkLvjkFHrAy1wOlBxIKrwemBGECVAboEzIHVwHJC3sGwAEqDPUNJg5+IDMMtwRhAnYMWQRHChwO6QtyAq8E5girAhEGZhqiDCYDcgv3B4EBngqjA6IFGQmWAy0H+wRvCuUC2AQdDTAOcQ1CB0wOSwXuAn0QFwRHCmEF4AmZC7YErgSxAcwEFgNaBxAZ+AIoLbgQzwn6BKwB0ANJA0wIgR+1DSAPRAOkBAMHsBDyBggdfg/ABBcJdw+HCVUJjAIqBRsDLgqAEvhHVgUZBIYG2gXpAjUHpiAREGUHzwSpBOoE8QJrC5kF",
          "dtype": "i2"
         },
         "yaxis": "y"
        },
        {
         "hovertemplate": "Sex=male<br>Alter=%{x}<br>Kreditbetrag=%{y}<br>Duration=%{marker.size}<extra></extra>",
         "legendgroup": "male",
         "marker": {
          "color": "#EF553B",
          "opacity": 0.7,
          "size": {
           "bdata": "KhgkHhgGCgwGBzwSGBItEgoJDBIeGyQJJDAMCAwqCx4KJBIMDAw2EiQkCRgMDgYSDAwKDAwMDCQMBhsSMCQkGAkMGAoYDwgVDAYVJBIQDDAbLRIMDB4MGBseEiQYDDAMGCQSGBUeMBgMDBIPDjAeGDAwGCQqFQoMCQwkDB4YGBIIJAYYGAYYChISCg0JDBgSJCQMEg8kJyQMGA8MDAwSGAYJKhQHDxgLDCQPGBgJEhgMDxgGDCQSBiQJGA8PDA8MBgYwGiQGJBUwDBIYMAwMGBIYDAkkEgwkCQwSDBgYBhUSBgkSKg8SHhgMMAwYJA4MEgwGHgweSBgkJAwPGAwPMB4wCQk8FAkYGBgSGAoYDQYMDAweDAwnDBIwKBgkBioIBiQwMCQSDCQIFS0MGCQJDBQSBhgMEgkYMBsMJBIQDBgGGBgMGAwwDBgeBjwYEiQJHBgVBhsLDzwPHiQqGBgkHi0t",
           "dtype": "i1"
          },
          "sizemode": "area",
          "sizeref": 0.18,
          "symbol": "circle"
         },
         "mode": "markers",
         "name": "male",
         "orientation": "v",
         "showlegend": true,
         "type": "scatter",
         "x": {
          "bdata": "LTUjHDwsMCwkIj8kGx4ZJSUYGiwYHjkbPRkWM0IiMxY0Lx4cNjY6IiQYIycgIx8cIyQ/HigeIh1CGxsWHhwYJDAtJkYfISEaKjRBHiREFCIkFSgbFSYaFTJCHxcYGhs1FhoZHj0nGBodGyQlLRwiJRofMBw4IDEhFhkfJhwgIhwnHxxLFywcHxkhJRcgHBcZKjkaKBsnIC4uFhscIS8VHSQZQR0jPR8kIyUkPxYcIRknLBovJx0gHCoxJiQiGhoUKCs1Hh8pICEqFyIrIhsWGx8YJBsbHjEhJBUvPCQWJRtBKR0sGiYgICYoMiUtKhYpKRcjIisvGEAfHh8ZHR0oLikYJRkbHyIkIRUjIBcWHEojGCgfHEIZHyMyGzMYGjcaHBg2LisaGCkvHh0wPx07OSEgLhodJBsrFysmIiorFB9EISceNy4nKxgeHioeKBglLR4vFhcoFiQZMRohHTAeKBcb",
          "dtype": "i1"
         },
         "xaxis": "x",
         "y": {
          "bdata": "yh4GEyQbchSvBFcKwQgMB14Fbwm0GnkHtA/qFooSNAjJBMoBhgQ8GCsYTRexCG8FoQdVOO8DjAT2BX0PoxL4DgsJRDHJCFQEgQUmBUk+PgohCRMJfweiLr4XggWpBXQYkAY+CQ0DSQi9An8CRAfnGv4CxQJYDZ4J7g37FNgWNxsIBVMBuA2MHI8HtgOGBVYNEQpSATsCZxF0A5cEogIED0sP1wvJEJAEhgN/KZAFqBmtFHQHIAxJD80LcQLRKrkeTQxyEGIDHwfPCtoJ/RGFB2UIeQa2FCIDEiP0C94uJg+0Ep4dAAS2JLwSuQoOBNcCFAGtAroKxAKZEJIHXgtjCkYNeREsBNcZDhA4DUkQ8QWNDFcRbQ9yA3AENxjeBKkJdg3uNzIFzhwWCbEM8C0sCccE9wcdBKsDEwq+A9sKQCxQB1gIQg1FChAK6AXREkEPOg0kDrkGbAsUDI4C3QQgFA0ExgWxBLkESghKIxUFKwV1FWYEwAQ4CcIa9wJ/CkkCUQWzBM8bHh/+CJYC4QgPCVMe/gUwCzUFVxvLBzMF4A2IBwoGXAU6BAQLIAQ0DFAJ7woJBcEExgiREAwLXA5EDigKRAidBREGEhEcBVgH5xGzA6wCNB2CB/8Ilh+FD3gD2RgRBRoEqA3rEskL2xVQCYEmLgtDDs8DUAtPBHEHuxjHCaAZRghyBMs2BBg5BfsEAxnDBxwRFQkYBLMJBQcTBbMCpgiDBCQMIQ7IBUUTggWVB1AYbhdMCzckTgJDJIsD5AGdJesLWw/xPUEFyAuYCtsCQgYoLjoEjQs7FFQFxQK7CKIFPwVmBQYOlAeOBdkPOD2KCXsIqBY5EEEKUwRZDDA6NwkRDdIH2Bq5AjkoQAXTBn8HDwiQGBUNBg5hCIIEpg/9CzEJxgHYCWMP6gWBHPAEwiAlIJEYsxnPBncPEQ81B+AR",
          "dtype": "i2"
         },
         "yaxis": "y"
        }
       ],
       "layout": {
        "legend": {
         "itemsizing": "constant",
         "title": {
          "text": "Geschlecht"
         },
         "tracegroupgap": 0
        },
        "margin": {
         "b": 40,
         "l": 40,
         "r": 40,
         "t": 60
        },
        "template": {
         "data": {
          "bar": [
           {
            "error_x": {
             "color": "#2a3f5f"
            },
            "error_y": {
             "color": "#2a3f5f"
            },
            "marker": {
             "line": {
              "color": "#E5ECF6",
              "width": 0.5
             },
             "pattern": {
              "fillmode": "overlay",
              "size": 10,
              "solidity": 0.2
             }
            },
            "type": "bar"
           }
          ],
          "barpolar": [
           {
            "marker": {
             "line": {
              "color": "#E5ECF6",
              "width": 0.5
             },
             "pattern": {
              "fillmode": "overlay",
              "size": 10,
              "solidity": 0.2
             }
            },
            "type": "barpolar"
           }
          ],
          "carpet": [
           {
            "aaxis": {
             "endlinecolor": "#2a3f5f",
             "gridcolor": "white",
             "linecolor": "white",
             "minorgridcolor": "white",
             "startlinecolor": "#2a3f5f"
            },
            "baxis": {
             "endlinecolor": "#2a3f5f",
             "gridcolor": "white",
             "linecolor": "white",
             "minorgridcolor": "white",
             "startlinecolor": "#2a3f5f"
            },
            "type": "carpet"
           }
          ],
          "choropleth": [
           {
            "colorbar": {
             "outlinewidth": 0,
             "ticks": ""
            },
            "type": "choropleth"
           }
          ],
          "contour": [
           {
            "colorbar": {
             "outlinewidth": 0,
             "ticks": ""
            },
            "colorscale": [
             [
              0,
              "#0d0887"
             ],
             [
              0.1111111111111111,
              "#46039f"
             ],
             [
              0.2222222222222222,
              "#7201a8"
             ],
             [
              0.3333333333333333,
              "#9c179e"
             ],
             [
              0.4444444444444444,
              "#bd3786"
             ],
             [
              0.5555555555555556,
              "#d8576b"
             ],
             [
              0.6666666666666666,
              "#ed7953"
             ],
             [
              0.7777777777777778,
              "#fb9f3a"
             ],
             [
              0.8888888888888888,
              "#fdca26"
             ],
             [
              1,
              "#f0f921"
             ]
            ],
            "type": "contour"
           }
          ],
          "contourcarpet": [
           {
            "colorbar": {
             "outlinewidth": 0,
             "ticks": ""
            },
            "type": "contourcarpet"
           }
          ],
          "heatmap": [
           {
            "colorbar": {
             "outlinewidth": 0,
             "ticks": ""
            },
            "colorscale": [
             [
              0,
              "#0d0887"
             ],
             [
              0.1111111111111111,
              "#46039f"
             ],
             [
              0.2222222222222222,
              "#7201a8"
             ],
             [
              0.3333333333333333,
              "#9c179e"
             ],
             [
              0.4444444444444444,
              "#bd3786"
             ],
             [
              0.5555555555555556,
              "#d8576b"
             ],
             [
              0.6666666666666666,
              "#ed7953"
             ],
             [
              0.7777777777777778,
              "#fb9f3a"
             ],
             [
              0.8888888888888888,
              "#fdca26"
             ],
             [
              1,
              "#f0f921"
             ]
            ],
            "type": "heatmap"
           }
          ],
          "histogram": [
           {
            "marker": {
             "pattern": {
              "fillmode": "overlay",
              "size": 10,
              "solidity": 0.2
             }
            },
            "type": "histogram"
           }
          ],
          "histogram2d": [
           {
            "colorbar": {
             "outlinewidth": 0,
             "ticks": ""
            },
            "colorscale": [
             [
              0,
              "#0d0887"
             ],
             [
              0.1111111111111111,
              "#46039f"
             ],
             [
              0.2222222222222222,
              "#7201a8"
             ],
             [
              0.3333333333333333,
              "#9c179e"
             ],
             [
              0.4444444444444444,
              "#bd3786"
             ],
             [
              0.5555555555555556,
              "#d8576b"
             ],
             [
              0.6666666666666666,
              "#ed7953"
             ],
             [
              0.7777777777777778,
              "#fb9f3a"
             ],
             [
              0.8888888888888888,
              "#fdca26"
             ],
             [
              1,
              "#f0f921"
             ]
            ],
            "type": "histogram2d"
           }
          ],
          "histogram2dcontour": [
           {
            "colorbar": {
             "outlinewidth": 0,
             "ticks": ""
            },
            "colorscale": [
             [
              0,
              "#0d0887"
             ],
             [
              0.1111111111111111,
              "#46039f"
             ],
             [
              0.2222222222222222,
              "#7201a8"
             ],
             [
              0.3333333333333333,
              "#9c179e"
             ],
             [
              0.4444444444444444,
              "#bd3786"
             ],
             [
              0.5555555555555556,
              "#d8576b"
             ],
             [
              0.6666666666666666,
              "#ed7953"
             ],
             [
              0.7777777777777778,
              "#fb9f3a"
             ],
             [
              0.8888888888888888,
              "#fdca26"
             ],
             [
              1,
              "#f0f921"
             ]
            ],
            "type": "histogram2dcontour"
           }
          ],
          "mesh3d": [
           {
            "colorbar": {
             "outlinewidth": 0,
             "ticks": ""
            },
            "type": "mesh3d"
           }
          ],
          "parcoords": [
           {
            "line": {
             "colorbar": {
              "outlinewidth": 0,
              "ticks": ""
             }
            },
            "type": "parcoords"
           }
          ],
          "pie": [
           {
            "automargin": true,
            "type": "pie"
           }
          ],
          "scatter": [
           {
            "fillpattern": {
             "fillmode": "overlay",
             "size": 10,
             "solidity": 0.2
            },
            "type": "scatter"
           }
          ],
          "scatter3d": [
           {
            "line": {
             "colorbar": {
              "outlinewidth": 0,
              "ticks": ""
             }
            },
            "marker": {
             "colorbar": {
              "outlinewidth": 0,
              "ticks": ""
             }
            },
            "type": "scatter3d"
           }
          ],
          "scattercarpet": [
           {
            "marker": {
             "colorbar": {
              "outlinewidth": 0,
              "ticks": ""
             }
            },
            "type": "scattercarpet"
           }
          ],
          "scattergeo": [
           {
            "marker": {
             "colorbar": {
              "outlinewidth": 0,
              "ticks": ""
             }
            },
            "type": "scattergeo"
           }
          ],
          "scattergl": [
           {
            "marker": {
             "colorbar": {
              "outlinewidth": 0,
              "ticks": ""
             }
            },
            "type": "scattergl"
           }
          ],
          "scattermap": [
           {
            "marker": {
             "colorbar": {
              "outlinewidth": 0,
              "ticks": ""
             }
            },
            "type": "scattermap"
           }
          ],
          "scattermapbox": [
           {
            "marker": {
             "colorbar": {
              "outlinewidth": 0,
              "ticks": ""
             }
            },
            "type": "scattermapbox"
           }
          ],
          "scatterpolar": [
           {
            "marker": {
             "colorbar": {
              "outlinewidth": 0,
              "ticks": ""
             }
            },
            "type": "scatterpolar"
           }
          ],
          "scatterpolargl": [
           {
            "marker": {
             "colorbar": {
              "outlinewidth": 0,
              "ticks": ""
             }
            },
            "type": "scatterpolargl"
           }
          ],
          "scatterternary": [
           {
            "marker": {
             "colorbar": {
              "outlinewidth": 0,
              "ticks": ""
             }
            },
            "type": "scatterternary"
           }
          ],
          "surface": [
           {
            "colorbar": {
             "outlinewidth": 0,
             "ticks": ""
            },
            "colorscale": [
             [
              0,
              "#0d0887"
             ],
             [
              0.1111111111111111,
              "#46039f"
             ],
             [
              0.2222222222222222,
              "#7201a8"
             ],
             [
              0.3333333333333333,
              "#9c179e"
             ],
             [
              0.4444444444444444,
              "#bd3786"
             ],
             [
              0.5555555555555556,
              "#d8576b"
             ],
             [
              0.6666666666666666,
              "#ed7953"
             ],
             [
              0.7777777777777778,
              "#fb9f3a"
             ],
             [
              0.8888888888888888,
              "#fdca26"
             ],
             [
              1,
              "#f0f921"
             ]
            ],
            "type": "surface"
           }
          ],
          "table": [
           {
            "cells": {
             "fill": {
              "color": "#EBF0F8"
             },
             "line": {
              "color": "white"
             }
            },
            "header": {
             "fill": {
              "color": "#C8D4E3"
             },
             "line": {
              "color": "white"
             }
            },
            "type": "table"
           }
          ]
         },
         "layout": {
          "annotationdefaults": {
           "arrowcolor": "#2a3f5f",
           "arrowhead": 0,
           "arrowwidth": 1
          },
          "autotypenumbers": "strict",
          "coloraxis": {
           "colorbar": {
            "outlinewidth": 0,
            "ticks": ""
           }
          },
          "colorscale": {
           "diverging": [
            [
             0,
             "#8e0152"
            ],
            [
             0.1,
             "#c51b7d"
            ],
            [
             0.2,
             "#de77ae"
            ],
            [
             0.3,
             "#f1b6da"
            ],
            [
             0.4,
             "#fde0ef"
            ],
            [
             0.5,
             "#f7f7f7"
            ],
            [
             0.6,
             "#e6f5d0"
            ],
            [
             0.7,
             "#b8e186"
            ],
            [
             0.8,
             "#7fbc41"
            ],
            [
             0.9,
             "#4d9221"
            ],
            [
             1,
             "#276419"
            ]
           ],
           "sequential": [
            [
             0,
             "#0d0887"
            ],
            [
             0.1111111111111111,
             "#46039f"
            ],
            [
             0.2222222222222222,
             "#7201a8"
            ],
            [
             0.3333333333333333,
             "#9c179e"
            ],
            [
             0.4444444444444444,
             "#bd3786"
            ],
            [
             0.5555555555555556,
             "#d8576b"
            ],
            [
             0.6666666666666666,
             "#ed7953"
            ],
            [
             0.7777777777777778,
             "#fb9f3a"
            ],
            [
             0.8888888888888888,
             "#fdca26"
            ],
            [
             1,
             "#f0f921"
            ]
           ],
           "sequentialminus": [
            [
             0,
             "#0d0887"
            ],
            [
             0.1111111111111111,
             "#46039f"
            ],
            [
             0.2222222222222222,
             "#7201a8"
            ],
            [
             0.3333333333333333,
             "#9c179e"
            ],
            [
             0.4444444444444444,
             "#bd3786"
            ],
            [
             0.5555555555555556,
             "#d8576b"
            ],
            [
             0.6666666666666666,
             "#ed7953"
            ],
            [
             0.7777777777777778,
             "#fb9f3a"
            ],
            [
             0.8888888888888888,
             "#fdca26"
            ],
            [
             1,
             "#f0f921"
            ]
           ]
          },
          "colorway": [
           "#636efa",
           "#EF553B",
           "#00cc96",
           "#ab63fa",
           "#FFA15A",
           "#19d3f3",
           "#FF6692",
           "#B6E880",
           "#FF97FF",
           "#FECB52"
          ],
          "font": {
           "color": "#2a3f5f"
          },
          "geo": {
           "bgcolor": "white",
           "lakecolor": "white",
           "landcolor": "#E5ECF6",
           "showlakes": true,
           "showland": true,
           "subunitcolor": "white"
          },
          "hoverlabel": {
           "align": "left"
          },
          "hovermode": "closest",
          "mapbox": {
           "style": "light"
          },
          "paper_bgcolor": "white",
          "plot_bgcolor": "#E5ECF6",
          "polar": {
           "angularaxis": {
            "gridcolor": "white",
            "linecolor": "white",
            "ticks": ""
           },
           "bgcolor": "#E5ECF6",
           "radialaxis": {
            "gridcolor": "white",
            "linecolor": "white",
            "ticks": ""
           }
          },
          "scene": {
           "xaxis": {
            "backgroundcolor": "#E5ECF6",
            "gridcolor": "white",
            "gridwidth": 2,
            "linecolor": "white",
            "showbackground": true,
            "ticks": "",
            "zerolinecolor": "white"
           },
           "yaxis": {
            "backgroundcolor": "#E5ECF6",
            "gridcolor": "white",
            "gridwidth": 2,
            "linecolor": "white",
            "showbackground": true,
            "ticks": "",
            "zerolinecolor": "white"
           },
           "zaxis": {
            "backgroundcolor": "#E5ECF6",
            "gridcolor": "white",
            "gridwidth": 2,
            "linecolor": "white",
            "showbackground": true,
            "ticks": "",
            "zerolinecolor": "white"
           }
          },
          "shapedefaults": {
           "line": {
            "color": "#2a3f5f"
           }
          },
          "ternary": {
           "aaxis": {
            "gridcolor": "white",
            "linecolor": "white",
            "ticks": ""
           },
           "baxis": {
            "gridcolor": "white",
            "linecolor": "white",
            "ticks": ""
           },
           "bgcolor": "#E5ECF6",
           "caxis": {
            "gridcolor": "white",
            "linecolor": "white",
            "ticks": ""
           }
          },
          "title": {
           "x": 0.05
          },
          "xaxis": {
           "automargin": true,
           "gridcolor": "white",
           "linecolor": "white",
           "ticks": "",
           "title": {
            "standoff": 15
           },
           "zerolinecolor": "white",
           "zerolinewidth": 2
          },
          "yaxis": {
           "automargin": true,
           "gridcolor": "white",
           "linecolor": "white",
           "ticks": "",
           "title": {
            "standoff": 15
           },
           "zerolinecolor": "white",
           "zerolinewidth": 2
          }
         }
        },
        "title": {
         "text": "Alter vs. Kreditbetrag"
        },
        "xaxis": {
         "anchor": "y",
         "domain": [
          0,
          1
         ],
         "title": {
          "text": "Alter"
         }
        },
        "yaxis": {
         "anchor": "x",
         "domain": [
          0,
          1
         ],
         "title": {
          "text": "Kreditbetrag"
         }
        }
       }
      },
      "text/html": [
       "<div>                        <script type=\"text/javascript\">window.PlotlyConfig = {MathJaxConfig: 'local'};</script>\n",
       "        <script charset=\"utf-8\" src=\"https://cdn.plot.ly/plotly-3.1.0.min.js\" integrity=\"sha256-Ei4740bWZhaUTQuD6q9yQlgVCMPBz6CZWhevDYPv93A=\" crossorigin=\"anonymous\"></script>                <div id=\"ce070fff-ae67-41b8-ae6f-30f6d9fa2290\" class=\"plotly-graph-div\" style=\"height:100%; width:100%;\"></div>            <script type=\"text/javascript\">                window.PLOTLYENV=window.PLOTLYENV || {};                                if (document.getElementById(\"ce070fff-ae67-41b8-ae6f-30f6d9fa2290\")) {                    Plotly.newPlot(                        \"ce070fff-ae67-41b8-ae6f-30f6d9fa2290\",                        [{\"hovertemplate\":\"Sex=female\\u003cbr\\u003eAlter=%{x}\\u003cbr\\u003eKreditbetrag=%{y}\\u003cbr\\u003eDuration=%{marker.size}\\u003cextra\\u003e\\u003c\\u002fextra\\u003e\",\"legendgroup\":\"female\",\"marker\":{\"color\":\"#636efa\",\"opacity\":0.7,\"size\":{\"dtype\":\"i1\",\"bdata\":\"MAwwDA8YGAwMMAYSJCoYEg8hFQwMJAYYDBILGAkSCQwGDB4YLwwYMCQIGA88DRgVGAkeDBISPDASDAYMGBIMDDAkBgwYBhIMHhsYGAYSEg8SEgwJEgYYMBgPDBIMGAYYBwkYCiQMChUYHgwYGBIeBg8YGwwJBgYMCRIwCBgeDwwGEgwSJBISDBUSFA8kEhIPDxgSDAsMFRgwCRIJDAkPMBgMGBgYBhUP\"},\"sizemode\":\"area\",\"sizeref\":0.18,\"symbol\":\"circle\"},\"mode\":\"markers\",\"name\":\"female\",\"orientation\":\"v\",\"showlegend\":true,\"x\":{\"dtype\":\"i1\",\"bdata\":\"FhkYFhwgLCohOhcXFyk6GxcXGR0sHicdFCEUIkohIhsnLhg3IzEsGioYGhsYFxgaFx0XJBYoPCUmEx83FDcaHh4iGyIdFxoXOSobGCUYGhwlLRhDHB0XHxcWGxQ6FCAXLR4iFzIWMB0WFRYcGRscMhkvIBkZIxgYQhk7LBcaFyUxFxcYGRlDFycwGBo2IRcZHSMbGCg1HBkgFhUWFxwuHhwdOR05QBwZ\"},\"xaxis\":\"x\",\"y\":{\"dtype\":\"i2\",\"bdata\":\"PxcPBdQQHwZ7BQIFIzGZAcIF\\u002fxdIBakHVRhCF9sGDwWIAbkQKwerDVkHuxJcA04eAgVrBCkGEAgJFKwM3QW3A5oCywhmCEMG4ilEBBMZ6CbcDtUEpQ47DvAcNQhvFg8Org6\\u002fA2YJxwhCDrkLvjkFHrAy1wOlBxIKrwemBGECVAboEzIHVwHJC3sGwAEqDPUNJg5+IDMMtwRhAnYMWQRHChwO6QtyAq8E5girAhEGZhqiDCYDcgv3B4EBngqjA6IFGQmWAy0H+wRvCuUC2AQdDTAOcQ1CB0wOSwXuAn0QFwRHCmEF4AmZC7YErgSxAcwEFgNaBxAZ+AIoLbgQzwn6BKwB0ANJA0wIgR+1DSAPRAOkBAMHsBDyBggdfg\\u002fABBcJdw+HCVUJjAIqBRsDLgqAEvhHVgUZBIYG2gXpAjUHpiAREGUHzwSpBOoE8QJrC5kF\"},\"yaxis\":\"y\",\"type\":\"scatter\"},{\"hovertemplate\":\"Sex=male\\u003cbr\\u003eAlter=%{x}\\u003cbr\\u003eKreditbetrag=%{y}\\u003cbr\\u003eDuration=%{marker.size}\\u003cextra\\u003e\\u003c\\u002fextra\\u003e\",\"legendgroup\":\"male\",\"marker\":{\"color\":\"#EF553B\",\"opacity\":0.7,\"size\":{\"dtype\":\"i1\",\"bdata\":\"KhgkHhgGCgwGBzwSGBItEgoJDBIeGyQJJDAMCAwqCx4KJBIMDAw2EiQkCRgMDgYSDAwKDAwMDCQMBhsSMCQkGAkMGAoYDwgVDAYVJBIQDDAbLRIMDB4MGBseEiQYDDAMGCQSGBUeMBgMDBIPDjAeGDAwGCQqFQoMCQwkDB4YGBIIJAYYGAYYChISCg0JDBgSJCQMEg8kJyQMGA8MDAwSGAYJKhQHDxgLDCQPGBgJEhgMDxgGDCQSBiQJGA8PDA8MBgYwGiQGJBUwDBIYMAwMGBIYDAkkEgwkCQwSDBgYBhUSBgkSKg8SHhgMMAwYJA4MEgwGHgweSBgkJAwPGAwPMB4wCQk8FAkYGBgSGAoYDQYMDAweDAwnDBIwKBgkBioIBiQwMCQSDCQIFS0MGCQJDBQSBhgMEgkYMBsMJBIQDBgGGBgMGAwwDBgeBjwYEiQJHBgVBhsLDzwPHiQqGBgkHi0t\"},\"sizemode\":\"area\",\"sizeref\":0.18,\"symbol\":\"circle\"},\"mode\":\"markers\",\"name\":\"male\",\"orientation\":\"v\",\"showlegend\":true,\"x\":{\"dtype\":\"i1\",\"bdata\":\"LTUjHDwsMCwkIj8kGx4ZJSUYGiwYHjkbPRkWM0IiMxY0Lx4cNjY6IiQYIycgIx8cIyQ\\u002fHigeIh1CGxsWHhwYJDAtJkYfISEaKjRBHiREFCIkFSgbFSYaFTJCHxcYGhs1FhoZHj0nGBodGyQlLRwiJRofMBw4IDEhFhkfJhwgIhwnHxxLFywcHxkhJRcgHBcZKjkaKBsnIC4uFhscIS8VHSQZQR0jPR8kIyUkPxYcIRknLBovJx0gHCoxJiQiGhoUKCs1Hh8pICEqFyIrIhsWGx8YJBsbHjEhJBUvPCQWJRtBKR0sGiYgICYoMiUtKhYpKRcjIisvGEAfHh8ZHR0oLikYJRkbHyIkIRUjIBcWHEojGCgfHEIZHyMyGzMYGjcaHBg2LisaGCkvHh0wPx07OSEgLhodJBsrFysmIiorFB9EISceNy4nKxgeHioeKBglLR4vFhcoFiQZMRohHTAeKBcb\"},\"xaxis\":\"x\",\"y\":{\"dtype\":\"i2\",\"bdata\":\"yh4GEyQbchSvBFcKwQgMB14Fbwm0GnkHtA\\u002fqFooSNAjJBMoBhgQ8GCsYTRexCG8FoQdVOO8DjAT2BX0PoxL4DgsJRDHJCFQEgQUmBUk+PgohCRMJfweiLr4XggWpBXQYkAY+CQ0DSQi9An8CRAfnGv4CxQJYDZ4J7g37FNgWNxsIBVMBuA2MHI8HtgOGBVYNEQpSATsCZxF0A5cEogIED0sP1wvJEJAEhgN\\u002fKZAFqBmtFHQHIAxJD80LcQLRKrkeTQxyEGIDHwfPCtoJ\\u002fRGFB2UIeQa2FCIDEiP0C94uJg+0Ep4dAAS2JLwSuQoOBNcCFAGtAroKxAKZEJIHXgtjCkYNeREsBNcZDhA4DUkQ8QWNDFcRbQ9yA3AENxjeBKkJdg3uNzIFzhwWCbEM8C0sCccE9wcdBKsDEwq+A9sKQCxQB1gIQg1FChAK6AXREkEPOg0kDrkGbAsUDI4C3QQgFA0ExgWxBLkESghKIxUFKwV1FWYEwAQ4CcIa9wJ\\u002fCkkCUQWzBM8bHh\\u002f+CJYC4QgPCVMe\\u002fgUwCzUFVxvLBzMF4A2IBwoGXAU6BAQLIAQ0DFAJ7woJBcEExgiREAwLXA5EDigKRAidBREGEhEcBVgH5xGzA6wCNB2CB\\u002f8Ilh+FD3gD2RgRBRoEqA3rEskL2xVQCYEmLgtDDs8DUAtPBHEHuxjHCaAZRghyBMs2BBg5BfsEAxnDBxwRFQkYBLMJBQcTBbMCpgiDBCQMIQ7IBUUTggWVB1AYbhdMCzckTgJDJIsD5AGdJesLWw\\u002fxPUEFyAuYCtsCQgYoLjoEjQs7FFQFxQK7CKIFPwVmBQYOlAeOBdkPOD2KCXsIqBY5EEEKUwRZDDA6NwkRDdIH2Bq5AjkoQAXTBn8HDwiQGBUNBg5hCIIEpg\\u002f9CzEJxgHYCWMP6gWBHPAEwiAlIJEYsxnPBncPEQ81B+AR\"},\"yaxis\":\"y\",\"type\":\"scatter\"}],                        {\"template\":{\"data\":{\"histogram2dcontour\":[{\"type\":\"histogram2dcontour\",\"colorbar\":{\"outlinewidth\":0,\"ticks\":\"\"},\"colorscale\":[[0.0,\"#0d0887\"],[0.1111111111111111,\"#46039f\"],[0.2222222222222222,\"#7201a8\"],[0.3333333333333333,\"#9c179e\"],[0.4444444444444444,\"#bd3786\"],[0.5555555555555556,\"#d8576b\"],[0.6666666666666666,\"#ed7953\"],[0.7777777777777778,\"#fb9f3a\"],[0.8888888888888888,\"#fdca26\"],[1.0,\"#f0f921\"]]}],\"choropleth\":[{\"type\":\"choropleth\",\"colorbar\":{\"outlinewidth\":0,\"ticks\":\"\"}}],\"histogram2d\":[{\"type\":\"histogram2d\",\"colorbar\":{\"outlinewidth\":0,\"ticks\":\"\"},\"colorscale\":[[0.0,\"#0d0887\"],[0.1111111111111111,\"#46039f\"],[0.2222222222222222,\"#7201a8\"],[0.3333333333333333,\"#9c179e\"],[0.4444444444444444,\"#bd3786\"],[0.5555555555555556,\"#d8576b\"],[0.6666666666666666,\"#ed7953\"],[0.7777777777777778,\"#fb9f3a\"],[0.8888888888888888,\"#fdca26\"],[1.0,\"#f0f921\"]]}],\"heatmap\":[{\"type\":\"heatmap\",\"colorbar\":{\"outlinewidth\":0,\"ticks\":\"\"},\"colorscale\":[[0.0,\"#0d0887\"],[0.1111111111111111,\"#46039f\"],[0.2222222222222222,\"#7201a8\"],[0.3333333333333333,\"#9c179e\"],[0.4444444444444444,\"#bd3786\"],[0.5555555555555556,\"#d8576b\"],[0.6666666666666666,\"#ed7953\"],[0.7777777777777778,\"#fb9f3a\"],[0.8888888888888888,\"#fdca26\"],[1.0,\"#f0f921\"]]}],\"contourcarpet\":[{\"type\":\"contourcarpet\",\"colorbar\":{\"outlinewidth\":0,\"ticks\":\"\"}}],\"contour\":[{\"type\":\"contour\",\"colorbar\":{\"outlinewidth\":0,\"ticks\":\"\"},\"colorscale\":[[0.0,\"#0d0887\"],[0.1111111111111111,\"#46039f\"],[0.2222222222222222,\"#7201a8\"],[0.3333333333333333,\"#9c179e\"],[0.4444444444444444,\"#bd3786\"],[0.5555555555555556,\"#d8576b\"],[0.6666666666666666,\"#ed7953\"],[0.7777777777777778,\"#fb9f3a\"],[0.8888888888888888,\"#fdca26\"],[1.0,\"#f0f921\"]]}],\"surface\":[{\"type\":\"surface\",\"colorbar\":{\"outlinewidth\":0,\"ticks\":\"\"},\"colorscale\":[[0.0,\"#0d0887\"],[0.1111111111111111,\"#46039f\"],[0.2222222222222222,\"#7201a8\"],[0.3333333333333333,\"#9c179e\"],[0.4444444444444444,\"#bd3786\"],[0.5555555555555556,\"#d8576b\"],[0.6666666666666666,\"#ed7953\"],[0.7777777777777778,\"#fb9f3a\"],[0.8888888888888888,\"#fdca26\"],[1.0,\"#f0f921\"]]}],\"mesh3d\":[{\"type\":\"mesh3d\",\"colorbar\":{\"outlinewidth\":0,\"ticks\":\"\"}}],\"scatter\":[{\"fillpattern\":{\"fillmode\":\"overlay\",\"size\":10,\"solidity\":0.2},\"type\":\"scatter\"}],\"parcoords\":[{\"type\":\"parcoords\",\"line\":{\"colorbar\":{\"outlinewidth\":0,\"ticks\":\"\"}}}],\"scatterpolargl\":[{\"type\":\"scatterpolargl\",\"marker\":{\"colorbar\":{\"outlinewidth\":0,\"ticks\":\"\"}}}],\"bar\":[{\"error_x\":{\"color\":\"#2a3f5f\"},\"error_y\":{\"color\":\"#2a3f5f\"},\"marker\":{\"line\":{\"color\":\"#E5ECF6\",\"width\":0.5},\"pattern\":{\"fillmode\":\"overlay\",\"size\":10,\"solidity\":0.2}},\"type\":\"bar\"}],\"scattergeo\":[{\"type\":\"scattergeo\",\"marker\":{\"colorbar\":{\"outlinewidth\":0,\"ticks\":\"\"}}}],\"scatterpolar\":[{\"type\":\"scatterpolar\",\"marker\":{\"colorbar\":{\"outlinewidth\":0,\"ticks\":\"\"}}}],\"histogram\":[{\"marker\":{\"pattern\":{\"fillmode\":\"overlay\",\"size\":10,\"solidity\":0.2}},\"type\":\"histogram\"}],\"scattergl\":[{\"type\":\"scattergl\",\"marker\":{\"colorbar\":{\"outlinewidth\":0,\"ticks\":\"\"}}}],\"scatter3d\":[{\"type\":\"scatter3d\",\"line\":{\"colorbar\":{\"outlinewidth\":0,\"ticks\":\"\"}},\"marker\":{\"colorbar\":{\"outlinewidth\":0,\"ticks\":\"\"}}}],\"scattermap\":[{\"type\":\"scattermap\",\"marker\":{\"colorbar\":{\"outlinewidth\":0,\"ticks\":\"\"}}}],\"scattermapbox\":[{\"type\":\"scattermapbox\",\"marker\":{\"colorbar\":{\"outlinewidth\":0,\"ticks\":\"\"}}}],\"scatterternary\":[{\"type\":\"scatterternary\",\"marker\":{\"colorbar\":{\"outlinewidth\":0,\"ticks\":\"\"}}}],\"scattercarpet\":[{\"type\":\"scattercarpet\",\"marker\":{\"colorbar\":{\"outlinewidth\":0,\"ticks\":\"\"}}}],\"carpet\":[{\"aaxis\":{\"endlinecolor\":\"#2a3f5f\",\"gridcolor\":\"white\",\"linecolor\":\"white\",\"minorgridcolor\":\"white\",\"startlinecolor\":\"#2a3f5f\"},\"baxis\":{\"endlinecolor\":\"#2a3f5f\",\"gridcolor\":\"white\",\"linecolor\":\"white\",\"minorgridcolor\":\"white\",\"startlinecolor\":\"#2a3f5f\"},\"type\":\"carpet\"}],\"table\":[{\"cells\":{\"fill\":{\"color\":\"#EBF0F8\"},\"line\":{\"color\":\"white\"}},\"header\":{\"fill\":{\"color\":\"#C8D4E3\"},\"line\":{\"color\":\"white\"}},\"type\":\"table\"}],\"barpolar\":[{\"marker\":{\"line\":{\"color\":\"#E5ECF6\",\"width\":0.5},\"pattern\":{\"fillmode\":\"overlay\",\"size\":10,\"solidity\":0.2}},\"type\":\"barpolar\"}],\"pie\":[{\"automargin\":true,\"type\":\"pie\"}]},\"layout\":{\"autotypenumbers\":\"strict\",\"colorway\":[\"#636efa\",\"#EF553B\",\"#00cc96\",\"#ab63fa\",\"#FFA15A\",\"#19d3f3\",\"#FF6692\",\"#B6E880\",\"#FF97FF\",\"#FECB52\"],\"font\":{\"color\":\"#2a3f5f\"},\"hovermode\":\"closest\",\"hoverlabel\":{\"align\":\"left\"},\"paper_bgcolor\":\"white\",\"plot_bgcolor\":\"#E5ECF6\",\"polar\":{\"bgcolor\":\"#E5ECF6\",\"angularaxis\":{\"gridcolor\":\"white\",\"linecolor\":\"white\",\"ticks\":\"\"},\"radialaxis\":{\"gridcolor\":\"white\",\"linecolor\":\"white\",\"ticks\":\"\"}},\"ternary\":{\"bgcolor\":\"#E5ECF6\",\"aaxis\":{\"gridcolor\":\"white\",\"linecolor\":\"white\",\"ticks\":\"\"},\"baxis\":{\"gridcolor\":\"white\",\"linecolor\":\"white\",\"ticks\":\"\"},\"caxis\":{\"gridcolor\":\"white\",\"linecolor\":\"white\",\"ticks\":\"\"}},\"coloraxis\":{\"colorbar\":{\"outlinewidth\":0,\"ticks\":\"\"}},\"colorscale\":{\"sequential\":[[0.0,\"#0d0887\"],[0.1111111111111111,\"#46039f\"],[0.2222222222222222,\"#7201a8\"],[0.3333333333333333,\"#9c179e\"],[0.4444444444444444,\"#bd3786\"],[0.5555555555555556,\"#d8576b\"],[0.6666666666666666,\"#ed7953\"],[0.7777777777777778,\"#fb9f3a\"],[0.8888888888888888,\"#fdca26\"],[1.0,\"#f0f921\"]],\"sequentialminus\":[[0.0,\"#0d0887\"],[0.1111111111111111,\"#46039f\"],[0.2222222222222222,\"#7201a8\"],[0.3333333333333333,\"#9c179e\"],[0.4444444444444444,\"#bd3786\"],[0.5555555555555556,\"#d8576b\"],[0.6666666666666666,\"#ed7953\"],[0.7777777777777778,\"#fb9f3a\"],[0.8888888888888888,\"#fdca26\"],[1.0,\"#f0f921\"]],\"diverging\":[[0,\"#8e0152\"],[0.1,\"#c51b7d\"],[0.2,\"#de77ae\"],[0.3,\"#f1b6da\"],[0.4,\"#fde0ef\"],[0.5,\"#f7f7f7\"],[0.6,\"#e6f5d0\"],[0.7,\"#b8e186\"],[0.8,\"#7fbc41\"],[0.9,\"#4d9221\"],[1,\"#276419\"]]},\"xaxis\":{\"gridcolor\":\"white\",\"linecolor\":\"white\",\"ticks\":\"\",\"title\":{\"standoff\":15},\"zerolinecolor\":\"white\",\"automargin\":true,\"zerolinewidth\":2},\"yaxis\":{\"gridcolor\":\"white\",\"linecolor\":\"white\",\"ticks\":\"\",\"title\":{\"standoff\":15},\"zerolinecolor\":\"white\",\"automargin\":true,\"zerolinewidth\":2},\"scene\":{\"xaxis\":{\"backgroundcolor\":\"#E5ECF6\",\"gridcolor\":\"white\",\"linecolor\":\"white\",\"showbackground\":true,\"ticks\":\"\",\"zerolinecolor\":\"white\",\"gridwidth\":2},\"yaxis\":{\"backgroundcolor\":\"#E5ECF6\",\"gridcolor\":\"white\",\"linecolor\":\"white\",\"showbackground\":true,\"ticks\":\"\",\"zerolinecolor\":\"white\",\"gridwidth\":2},\"zaxis\":{\"backgroundcolor\":\"#E5ECF6\",\"gridcolor\":\"white\",\"linecolor\":\"white\",\"showbackground\":true,\"ticks\":\"\",\"zerolinecolor\":\"white\",\"gridwidth\":2}},\"shapedefaults\":{\"line\":{\"color\":\"#2a3f5f\"}},\"annotationdefaults\":{\"arrowcolor\":\"#2a3f5f\",\"arrowhead\":0,\"arrowwidth\":1},\"geo\":{\"bgcolor\":\"white\",\"landcolor\":\"#E5ECF6\",\"subunitcolor\":\"white\",\"showland\":true,\"showlakes\":true,\"lakecolor\":\"white\"},\"title\":{\"x\":0.05},\"mapbox\":{\"style\":\"light\"}}},\"xaxis\":{\"anchor\":\"y\",\"domain\":[0.0,1.0],\"title\":{\"text\":\"Alter\"}},\"yaxis\":{\"anchor\":\"x\",\"domain\":[0.0,1.0],\"title\":{\"text\":\"Kreditbetrag\"}},\"legend\":{\"title\":{\"text\":\"Geschlecht\"},\"tracegroupgap\":0,\"itemsizing\":\"constant\"},\"title\":{\"text\":\"Alter vs. Kreditbetrag\"},\"margin\":{\"l\":40,\"r\":40,\"t\":60,\"b\":40}},                        {\"responsive\": true}                    )                };            </script>        </div>"
      ],
      "text/plain": [
       "Figure({\n",
       "    'data': [{'hovertemplate': ('Sex=female<br>Alter=%{x}<br>Kr' ... '=%{marker.size}<extra></extra>'),\n",
       "              'legendgroup': 'female',\n",
       "              'marker': {'color': '#636efa',\n",
       "                         'opacity': 0.7,\n",
       "                         'size': {'bdata': ('MAwwDA8YGAwMMAYSJCoYEg8hFQwMJA' ... 'gSDAsMFRgwCRIJDAkPMBgMGBgYBhUP'),\n",
       "                                  'dtype': 'i1'},\n",
       "                         'sizemode': 'area',\n",
       "                         'sizeref': 0.18,\n",
       "                         'symbol': 'circle'},\n",
       "              'mode': 'markers',\n",
       "              'name': 'female',\n",
       "              'orientation': 'v',\n",
       "              'showlegend': True,\n",
       "              'type': 'scatter',\n",
       "              'x': {'bdata': ('FhkYFhwgLCohOhcXFyk6GxcXGR0sHi' ... 'MbGCg1HBkgFhUWFxwuHhwdOR05QBwZ'),\n",
       "                    'dtype': 'i1'},\n",
       "              'xaxis': 'x',\n",
       "              'y': {'bdata': ('PxcPBdQQHwZ7BQIFIzGZAcIF/xdIBa' ... 'XpAjUHpiAREGUHzwSpBOoE8QJrC5kF'),\n",
       "                    'dtype': 'i2'},\n",
       "              'yaxis': 'y'},\n",
       "             {'hovertemplate': ('Sex=male<br>Alter=%{x}<br>Kred' ... '=%{marker.size}<extra></extra>'),\n",
       "              'legendgroup': 'male',\n",
       "              'marker': {'color': '#EF553B',\n",
       "                         'opacity': 0.7,\n",
       "                         'size': {'bdata': ('KhgkHhgGCgwGBzwSGBItEgoJDBIeGy' ... 'wYEiQJHBgVBhsLDzwPHiQqGBgkHi0t'),\n",
       "                                  'dtype': 'i1'},\n",
       "                         'sizemode': 'area',\n",
       "                         'sizeref': 0.18,\n",
       "                         'symbol': 'circle'},\n",
       "              'mode': 'markers',\n",
       "              'name': 'male',\n",
       "              'orientation': 'v',\n",
       "              'showlegend': True,\n",
       "              'type': 'scatter',\n",
       "              'x': {'bdata': ('LTUjHDwsMCwkIj8kGx4ZJSUYGiwYHj' ... 'oeKBglLR4vFhcoFiQZMRohHTAeKBcb'),\n",
       "                    'dtype': 'i1'},\n",
       "              'xaxis': 'x',\n",
       "              'y': {'bdata': ('yh4GEyQbchSvBFcKwQgMB14Fbwm0Gn' ... 'WBHPAEwiAlIJEYsxnPBncPEQ81B+AR'),\n",
       "                    'dtype': 'i2'},\n",
       "              'yaxis': 'y'}],\n",
       "    'layout': {'legend': {'itemsizing': 'constant', 'title': {'text': 'Geschlecht'}, 'tracegroupgap': 0},\n",
       "               'margin': {'b': 40, 'l': 40, 'r': 40, 't': 60},\n",
       "               'template': '...',\n",
       "               'title': {'text': 'Alter vs. Kreditbetrag'},\n",
       "               'xaxis': {'anchor': 'y', 'domain': [0.0, 1.0], 'title': {'text': 'Alter'}},\n",
       "               'yaxis': {'anchor': 'x', 'domain': [0.0, 1.0], 'title': {'text': 'Kreditbetrag'}}}\n",
       "})"
      ]
     },
     "execution_count": 70,
     "metadata": {},
     "output_type": "execute_result"
    }
   ],
   "source": [
    "fig5 = px.scatter(\n",
    "    df,\n",
    "    x=\"Age\",\n",
    "    y=\"Credit amount\",\n",
    "    color=\"Sex\",       \n",
    "    size=\"Duration\",   \n",
    "    opacity=0.7,         \n",
    "    title=\"Alter vs. Kreditbetrag\",\n",
    "    labels={\"Age\": \"Alter\", \"Credit amount\": \"Kreditbetrag\"}\n",
    ")\n",
    "\n",
    "fig5.update_layout(\n",
    "    legend_title=\"Geschlecht\",\n",
    "    margin=dict(l=40, r=40, t=60, b=40)\n",
    ")\n",
    "\n",
    "fig5"
   ]
  },
  {
   "cell_type": "markdown",
   "id": "c9f602b0",
   "metadata": {},
   "source": [
    "Im Diagramm sieht man, dass die meisten Kredite im Bereich zwischen 1.000 € und 5.000 € aufgenommen werden, unabhängig vom Alter. Besonders viele Punkte liegen bei jüngeren Personen im Alter zwischen 20 und 40 Jahren.\n",
    "<br>\n",
    "<br>\n",
    "Es gibt allerdings auch einige Ausreißer mit sehr hohen Kreditbeträgen (bis über 15.000 €), die bei unterschiedlichen Altersgruppen vorkommen. Die größeren Kreise zeigen zudem, dass hohe Kredite oft mit längeren Laufzeiten verbunden sind.\n",
    "<br>\n",
    "<br>\n",
    "Zwischen Männern und Frauen erkennt man keinen extrem deutlichen Unterschied – beide Geschlechter nehmen Kredite in vergleichbaren Größenordnungen auf. Allerdings scheinen Männer im Datensatz häufiger vertreten zu sein.\n",
    "<br>\n",
    "<br>\n",
    "Die Mehrheit der Kredite bewegt sich im niedrigen bis mittleren Bereich, junge Kreditnehmer sind stärker vertreten, und hohe Kredite gehen meist mit langen Laufzeiten einher.\n",
    "<br>\n",
    "<br>\n",
    "Wir wollen uns nun anschauen, wie sich der Kreditbetrag in Abhängigkeit vom Sparguthaben (Saving accounts) verteilt. Dafür eignet sich ein Violinplot:\n",
    "- Er kombiniert die Vorteile von Boxplots (Median, Quartile, Ausreißer) mit einer Dichtedarstellung.\n",
    "- So kann man sofort erkennen, wo die meisten Werte liegen und ob es Bereiche gibt, in denen besonders viele oder wenige Kreditbeträge vorkommen.\n",
    "\n",
    "Damit können wir untersuchen, ob Kunden mit höherem Sparguthaben auch höhere Kredite aufnehmen – oder ob sich der Unterschied eher gering ausfällt:"
   ]
  },
  {
   "cell_type": "code",
   "execution_count": 71,
   "id": "829add30",
   "metadata": {},
   "outputs": [
    {
     "ename": "ValueError",
     "evalue": "Mime type rendering requires nbformat>=4.2.0 but it is not installed",
     "output_type": "error",
     "traceback": [
      "\u001b[31m---------------------------------------------------------------------------\u001b[39m",
      "\u001b[31mValueError\u001b[39m                                Traceback (most recent call last)",
      "\u001b[36mFile \u001b[39m\u001b[32md:\\Maschinen\\Kredite_Aufgabe\\.venv\\Lib\\site-packages\\IPython\\core\\formatters.py:984\u001b[39m, in \u001b[36mIPythonDisplayFormatter.__call__\u001b[39m\u001b[34m(self, obj)\u001b[39m\n\u001b[32m    982\u001b[39m method = get_real_method(obj, \u001b[38;5;28mself\u001b[39m.print_method)\n\u001b[32m    983\u001b[39m \u001b[38;5;28;01mif\u001b[39;00m method \u001b[38;5;129;01mis\u001b[39;00m \u001b[38;5;129;01mnot\u001b[39;00m \u001b[38;5;28;01mNone\u001b[39;00m:\n\u001b[32m--> \u001b[39m\u001b[32m984\u001b[39m     \u001b[43mmethod\u001b[49m\u001b[43m(\u001b[49m\u001b[43m)\u001b[49m\n\u001b[32m    985\u001b[39m     \u001b[38;5;28;01mreturn\u001b[39;00m \u001b[38;5;28;01mTrue\u001b[39;00m\n",
      "\u001b[36mFile \u001b[39m\u001b[32md:\\Maschinen\\Kredite_Aufgabe\\.venv\\Lib\\site-packages\\plotly\\basedatatypes.py:850\u001b[39m, in \u001b[36mBaseFigure._ipython_display_\u001b[39m\u001b[34m(self)\u001b[39m\n\u001b[32m    847\u001b[39m \u001b[38;5;28;01mimport\u001b[39;00m\u001b[38;5;250m \u001b[39m\u001b[34;01mplotly\u001b[39;00m\u001b[34;01m.\u001b[39;00m\u001b[34;01mio\u001b[39;00m\u001b[38;5;250m \u001b[39m\u001b[38;5;28;01mas\u001b[39;00m\u001b[38;5;250m \u001b[39m\u001b[34;01mpio\u001b[39;00m\n\u001b[32m    849\u001b[39m \u001b[38;5;28;01mif\u001b[39;00m pio.renderers.render_on_display \u001b[38;5;129;01mand\u001b[39;00m pio.renderers.default:\n\u001b[32m--> \u001b[39m\u001b[32m850\u001b[39m     \u001b[43mpio\u001b[49m\u001b[43m.\u001b[49m\u001b[43mshow\u001b[49m\u001b[43m(\u001b[49m\u001b[38;5;28;43mself\u001b[39;49m\u001b[43m)\u001b[49m\n\u001b[32m    851\u001b[39m \u001b[38;5;28;01melse\u001b[39;00m:\n\u001b[32m    852\u001b[39m     \u001b[38;5;28mprint\u001b[39m(\u001b[38;5;28mrepr\u001b[39m(\u001b[38;5;28mself\u001b[39m))\n",
      "\u001b[36mFile \u001b[39m\u001b[32md:\\Maschinen\\Kredite_Aufgabe\\.venv\\Lib\\site-packages\\plotly\\io\\_renderers.py:415\u001b[39m, in \u001b[36mshow\u001b[39m\u001b[34m(fig, renderer, validate, **kwargs)\u001b[39m\n\u001b[32m    410\u001b[39m     \u001b[38;5;28;01mraise\u001b[39;00m \u001b[38;5;167;01mValueError\u001b[39;00m(\n\u001b[32m    411\u001b[39m         \u001b[33m\"\u001b[39m\u001b[33mMime type rendering requires ipython but it is not installed\u001b[39m\u001b[33m\"\u001b[39m\n\u001b[32m    412\u001b[39m     )\n\u001b[32m    414\u001b[39m \u001b[38;5;28;01mif\u001b[39;00m \u001b[38;5;129;01mnot\u001b[39;00m nbformat \u001b[38;5;129;01mor\u001b[39;00m Version(nbformat.__version__) < Version(\u001b[33m\"\u001b[39m\u001b[33m4.2.0\u001b[39m\u001b[33m\"\u001b[39m):\n\u001b[32m--> \u001b[39m\u001b[32m415\u001b[39m     \u001b[38;5;28;01mraise\u001b[39;00m \u001b[38;5;167;01mValueError\u001b[39;00m(\n\u001b[32m    416\u001b[39m         \u001b[33m\"\u001b[39m\u001b[33mMime type rendering requires nbformat>=4.2.0 but it is not installed\u001b[39m\u001b[33m\"\u001b[39m\n\u001b[32m    417\u001b[39m     )\n\u001b[32m    419\u001b[39m display_jupyter_version_warnings()\n\u001b[32m    421\u001b[39m ipython_display.display(bundle, raw=\u001b[38;5;28;01mTrue\u001b[39;00m)\n",
      "\u001b[31mValueError\u001b[39m: Mime type rendering requires nbformat>=4.2.0 but it is not installed"
     ]
    },
    {
     "data": {
      "application/vnd.plotly.v1+json": {
       "config": {
        "plotlyServerURL": "https://plot.ly"
       },
       "data": [
        {
         "alignmentgroup": "True",
         "box": {
          "visible": true
         },
         "hovertemplate": "Sparguthaben=%{x}<br>Kreditbetrag=%{y}<extra></extra>",
         "legendgroup": "little",
         "marker": {
          "color": "#636efa"
         },
         "name": "little",
         "offsetgroup": "little",
         "orientation": "v",
         "points": "all",
         "scalegroup": "True",
         "showlegend": true,
         "type": "violin",
         "x": [
          "little",
          "little",
          "little",
          "little",
          "little",
          "little",
          "little",
          "little",
          "little",
          "little",
          "little",
          "little",
          "little",
          "little",
          "little",
          "little",
          "little",
          "little",
          "little",
          "little",
          "little",
          "little",
          "little",
          "little",
          "little",
          "little",
          "little",
          "little",
          "little",
          "little",
          "little",
          "little",
          "little",
          "little",
          "little",
          "little",
          "little",
          "little",
          "little",
          "little",
          "little",
          "little",
          "little",
          "little",
          "little",
          "little",
          "little",
          "little",
          "little",
          "little",
          "little",
          "little",
          "little",
          "little",
          "little",
          "little",
          "little",
          "little",
          "little",
          "little",
          "little",
          "little",
          "little",
          "little",
          "little",
          "little",
          "little",
          "little",
          "little",
          "little",
          "little",
          "little",
          "little",
          "little",
          "little",
          "little",
          "little",
          "little",
          "little",
          "little",
          "little",
          "little",
          "little",
          "little",
          "little",
          "little",
          "little",
          "little",
          "little",
          "little",
          "little",
          "little",
          "little",
          "little",
          "little",
          "little",
          "little",
          "little",
          "little",
          "little",
          "little",
          "little",
          "little",
          "little",
          "little",
          "little",
          "little",
          "little",
          "little",
          "little",
          "little",
          "little",
          "little",
          "little",
          "little",
          "little",
          "little",
          "little",
          "little",
          "little",
          "little",
          "little",
          "little",
          "little",
          "little",
          "little",
          "little",
          "little",
          "little",
          "little",
          "little",
          "little",
          "little",
          "little",
          "little",
          "little",
          "little",
          "little",
          "little",
          "little",
          "little",
          "little",
          "little",
          "little",
          "little",
          "little",
          "little",
          "little",
          "little",
          "little",
          "little",
          "little",
          "little",
          "little",
          "little",
          "little",
          "little",
          "little",
          "little",
          "little",
          "little",
          "little",
          "little",
          "little",
          "little",
          "little",
          "little",
          "little",
          "little",
          "little",
          "little",
          "little",
          "little",
          "little",
          "little",
          "little",
          "little",
          "little",
          "little",
          "little",
          "little",
          "little",
          "little",
          "little",
          "little",
          "little",
          "little",
          "little",
          "little",
          "little",
          "little",
          "little",
          "little",
          "little",
          "little",
          "little",
          "little",
          "little",
          "little",
          "little",
          "little",
          "little",
          "little",
          "little",
          "little",
          "little",
          "little",
          "little",
          "little",
          "little",
          "little",
          "little",
          "little",
          "little",
          "little",
          "little",
          "little",
          "little",
          "little",
          "little",
          "little",
          "little",
          "little",
          "little",
          "little",
          "little",
          "little",
          "little",
          "little",
          "little",
          "little",
          "little",
          "little",
          "little",
          "little",
          "little",
          "little",
          "little",
          "little",
          "little",
          "little",
          "little",
          "little",
          "little",
          "little",
          "little",
          "little",
          "little",
          "little",
          "little",
          "little",
          "little",
          "little",
          "little",
          "little",
          "little",
          "little",
          "little",
          "little",
          "little",
          "little",
          "little",
          "little",
          "little",
          "little",
          "little",
          "little",
          "little",
          "little",
          "little",
          "little",
          "little",
          "little",
          "little",
          "little",
          "little",
          "little",
          "little",
          "little",
          "little",
          "little",
          "little",
          "little",
          "little",
          "little",
          "little",
          "little",
          "little",
          "little",
          "little",
          "little",
          "little",
          "little",
          "little",
          "little",
          "little",
          "little",
          "little",
          "little",
          "little",
          "little",
          "little",
          "little",
          "little",
          "little",
          "little",
          "little",
          "little",
          "little",
          "little",
          "little",
          "little",
          "little",
          "little",
          "little",
          "little",
          "little",
          "little",
          "little",
          "little",
          "little",
          "little",
          "little",
          "little",
          "little",
          "little",
          "little",
          "little",
          "little",
          "little",
          "little",
          "little",
          "little",
          "little",
          "little",
          "little",
          "little",
          "little",
          "little",
          "little",
          "little",
          "little",
          "little",
          "little",
          "little",
          "little",
          "little",
          "little",
          "little",
          "little",
          "little",
          "little",
          "little",
          "little",
          "little",
          "little",
          "little",
          "little",
          "little",
          "little",
          "little",
          "little",
          "little",
          "little",
          "little",
          "little",
          "little",
          "little",
          "little",
          "little",
          "little",
          "little",
          "little",
          "little",
          "little",
          "little",
          "little",
          "little",
          "little",
          "little",
          "little",
          "little",
          "little",
          "little",
          "little",
          "little",
          "little",
          "little",
          "little",
          "little",
          "little",
          "little",
          "little",
          "little",
          "little",
          "little",
          "little",
          "little",
          "little",
          "little",
          "little",
          "little",
          "little",
          "little",
          "little",
          "little",
          "little",
          "little",
          "little",
          "little",
          "little",
          "little"
         ],
         "x0": " ",
         "xaxis": "x",
         "y": {
          "bdata": "PxfKHgYTJBtyFA8F1BAfBq8EewUjMcEIXgVvCbQatA/CBYoSNAjJBMoBPBj/F00XsQipB1UYbwWhB1U4jARCF/YFfQ+jEvgO2wYLCQ8FVASBBUk+IQkTCX8Hoi6+F4gBdBgrBw0DSQi9An8CRAerDecaWQe7ElgNnglcA/sU2BYCBVMBjBxrBI8HtgMQCIYFVg0RCjsCZxF0AwkUlwSsDEsP3QXJEJAEhgN/KZAFqBmtFHQHIAxJD80LcQK5Hk0MchBiAx8H2gn9EYUHywhmCGUIeQZDBrYUIgMSI/QL3i7iKbQSRAQABLYkExm8Eugm3A4OBNUEFAGlDq0CugrEAjsOmRCSB14LRg15ESwE1xkOEDgNNQhJEPEFbxYPDlcRbQ9yA78DNxjeBGYJxwipCUIOdg25CwUe7jewMjIFzhyxDKUHEgosCccE9wcdBK8HEwq+A9sKpgRALFAHWAhCDWECVAZFCugTMgcQCtESQQ86DVcBJA65BskLbAt7BsABjgLdBCoMIBTGBfUNsQS5BH4gSggVBTMMdRW3BPcCfwpJAmECUQV2DM8bWQQeH/4IlgLhCA8JHA5THukL/gUwCzUFcgJXG68EMwXgDYgHCgarAlwFZhqiDCYDOgRyCwQLIAQ0DFAJ9wfvCgkFwQTGCIEBngqiBZEQGQmWAy0H+wQwDlwORA5CBygKRAhMDhEGSwUSEe4CHAVYB+cRswOsAjQdggf/CIUPeAN9ENkYEQUaBBcE6xLJC1AJzwNPBHEHuxjgCZkLtgRGCK4EcgTLNjkFzARaBxAZAxnDB/gCKC0YBAUHzwn6BKwB0AMTBbMCTAimCIMEJAwhDoEftQ0gD0UTggVQGG4XpARMCwMHsBA3JE4CQyTyBosD5AGdJesLWw8IHfE9QQXIC5gK2wJCBn4PwAQoLhcJOgSNCzsUVAXFArsIogV3D4cJVQmMAj8FBg6UB44F2Q8bAzg9igl7CKgWLgo5EEEKUwSAElkM+EcwOhENVgXSB9gauQIZBDkoQAXTBoYG2gXpAg8IkBg1BwYOYQhlB4IEpg8xCcYBYw+pBIEc8QLCICUgmQWRGLMZzwZ3DxEPNQc=",
          "dtype": "i2"
         },
         "y0": " ",
         "yaxis": "y"
        },
        {
         "alignmentgroup": "True",
         "box": {
          "visible": true
         },
         "hovertemplate": "Sparguthaben=%{x}<br>Kreditbetrag=%{y}<extra></extra>",
         "legendgroup": "moderate",
         "marker": {
          "color": "#EF553B"
         },
         "name": "moderate",
         "offsetgroup": "moderate",
         "orientation": "v",
         "points": "all",
         "scalegroup": "True",
         "showlegend": true,
         "type": "violin",
         "x": [
          "moderate",
          "moderate",
          "moderate",
          "moderate",
          "moderate",
          "moderate",
          "moderate",
          "moderate",
          "moderate",
          "moderate",
          "moderate",
          "moderate",
          "moderate",
          "moderate",
          "moderate",
          "moderate",
          "moderate",
          "moderate",
          "moderate",
          "moderate",
          "moderate",
          "moderate",
          "moderate",
          "moderate",
          "moderate",
          "moderate",
          "moderate",
          "moderate",
          "moderate",
          "moderate",
          "moderate",
          "moderate",
          "moderate",
          "moderate",
          "moderate",
          "moderate",
          "moderate",
          "moderate",
          "moderate",
          "moderate",
          "moderate",
          "moderate",
          "moderate",
          "moderate",
          "moderate",
          "moderate",
          "moderate",
          "moderate",
          "moderate",
          "moderate",
          "moderate",
          "moderate",
          "moderate",
          "moderate",
          "moderate",
          "moderate",
          "moderate",
          "moderate",
          "moderate",
          "moderate",
          "moderate",
          "moderate",
          "moderate",
          "moderate"
         ],
         "x0": " ",
         "xaxis": "x",
         "y": {
          "bdata": "AgUMB+oWKxhEMckIPgqpBe4NNxsIBbgNogIED9cLtwPPCiYPnh3XAvAcvjnwLRQMDQRKIysFZgTABMIaswRHCssH5ggRBqMDbwrlAtgEcQ2dBZYf2xWBJi4LRwpQC2EFxwmgGQQYHBG4EBUJSQNEA2YFNwl/B/0L6gXwBGsL4BE=",
          "dtype": "i2"
         },
         "y0": " ",
         "yaxis": "y"
        },
        {
         "alignmentgroup": "True",
         "box": {
          "visible": true
         },
         "hovertemplate": "Sparguthaben=%{x}<br>Kreditbetrag=%{y}<extra></extra>",
         "legendgroup": "quite rich",
         "marker": {
          "color": "#00cc96"
         },
         "name": "quite rich",
         "offsetgroup": "quite rich",
         "orientation": "v",
         "points": "all",
         "scalegroup": "True",
         "showlegend": true,
         "type": "violin",
         "x": [
          "quite rich",
          "quite rich",
          "quite rich",
          "quite rich",
          "quite rich",
          "quite rich",
          "quite rich",
          "quite rich",
          "quite rich",
          "quite rich",
          "quite rich",
          "quite rich",
          "quite rich",
          "quite rich",
          "quite rich",
          "quite rich",
          "quite rich",
          "quite rich",
          "quite rich",
          "quite rich",
          "quite rich",
          "quite rich",
          "quite rich"
         ],
         "x0": " ",
         "xaxis": "x",
         "y": {
          "bdata": "VwqGBEgFggWQBrkQPgn+AlIBjQyuDhYJqwM4CQwLFgOzCcgFpiAVDREQ2AnqBA==",
          "dtype": "i2"
         },
         "y0": " ",
         "yaxis": "y"
        },
        {
         "alignmentgroup": "True",
         "box": {
          "visible": true
         },
         "hovertemplate": "Sparguthaben=%{x}<br>Kreditbetrag=%{y}<extra></extra>",
         "legendgroup": "rich",
         "marker": {
          "color": "#ab63fa"
         },
         "name": "rich",
         "offsetgroup": "rich",
         "orientation": "v",
         "points": "all",
         "scalegroup": "True",
         "showlegend": true,
         "type": "violin",
         "x": [
          "rich",
          "rich",
          "rich",
          "rich",
          "rich",
          "rich",
          "rich",
          "rich",
          "rich",
          "rich",
          "rich",
          "rich",
          "rich",
          "rich",
          "rich",
          "rich",
          "rich",
          "rich",
          "rich",
          "rich",
          "rich",
          "rich",
          "rich"
         ],
         "x0": " ",
         "xaxis": "x",
         "y": {
          "bdata": "mQF5B+8DJgXFAk4eKQbRKpoCuQpjCnAE1wPoBSYOHQ2oDUMOsQH7BJUHKgXPBA==",
          "dtype": "i2"
         },
         "y0": " ",
         "yaxis": "y"
        }
       ],
       "layout": {
        "legend": {
         "title": {
          "text": "Sparguthaben"
         },
         "tracegroupgap": 0
        },
        "margin": {
         "b": 40,
         "l": 40,
         "r": 40,
         "t": 60
        },
        "showlegend": false,
        "template": {
         "data": {
          "bar": [
           {
            "error_x": {
             "color": "#2a3f5f"
            },
            "error_y": {
             "color": "#2a3f5f"
            },
            "marker": {
             "line": {
              "color": "#E5ECF6",
              "width": 0.5
             },
             "pattern": {
              "fillmode": "overlay",
              "size": 10,
              "solidity": 0.2
             }
            },
            "type": "bar"
           }
          ],
          "barpolar": [
           {
            "marker": {
             "line": {
              "color": "#E5ECF6",
              "width": 0.5
             },
             "pattern": {
              "fillmode": "overlay",
              "size": 10,
              "solidity": 0.2
             }
            },
            "type": "barpolar"
           }
          ],
          "carpet": [
           {
            "aaxis": {
             "endlinecolor": "#2a3f5f",
             "gridcolor": "white",
             "linecolor": "white",
             "minorgridcolor": "white",
             "startlinecolor": "#2a3f5f"
            },
            "baxis": {
             "endlinecolor": "#2a3f5f",
             "gridcolor": "white",
             "linecolor": "white",
             "minorgridcolor": "white",
             "startlinecolor": "#2a3f5f"
            },
            "type": "carpet"
           }
          ],
          "choropleth": [
           {
            "colorbar": {
             "outlinewidth": 0,
             "ticks": ""
            },
            "type": "choropleth"
           }
          ],
          "contour": [
           {
            "colorbar": {
             "outlinewidth": 0,
             "ticks": ""
            },
            "colorscale": [
             [
              0,
              "#0d0887"
             ],
             [
              0.1111111111111111,
              "#46039f"
             ],
             [
              0.2222222222222222,
              "#7201a8"
             ],
             [
              0.3333333333333333,
              "#9c179e"
             ],
             [
              0.4444444444444444,
              "#bd3786"
             ],
             [
              0.5555555555555556,
              "#d8576b"
             ],
             [
              0.6666666666666666,
              "#ed7953"
             ],
             [
              0.7777777777777778,
              "#fb9f3a"
             ],
             [
              0.8888888888888888,
              "#fdca26"
             ],
             [
              1,
              "#f0f921"
             ]
            ],
            "type": "contour"
           }
          ],
          "contourcarpet": [
           {
            "colorbar": {
             "outlinewidth": 0,
             "ticks": ""
            },
            "type": "contourcarpet"
           }
          ],
          "heatmap": [
           {
            "colorbar": {
             "outlinewidth": 0,
             "ticks": ""
            },
            "colorscale": [
             [
              0,
              "#0d0887"
             ],
             [
              0.1111111111111111,
              "#46039f"
             ],
             [
              0.2222222222222222,
              "#7201a8"
             ],
             [
              0.3333333333333333,
              "#9c179e"
             ],
             [
              0.4444444444444444,
              "#bd3786"
             ],
             [
              0.5555555555555556,
              "#d8576b"
             ],
             [
              0.6666666666666666,
              "#ed7953"
             ],
             [
              0.7777777777777778,
              "#fb9f3a"
             ],
             [
              0.8888888888888888,
              "#fdca26"
             ],
             [
              1,
              "#f0f921"
             ]
            ],
            "type": "heatmap"
           }
          ],
          "histogram": [
           {
            "marker": {
             "pattern": {
              "fillmode": "overlay",
              "size": 10,
              "solidity": 0.2
             }
            },
            "type": "histogram"
           }
          ],
          "histogram2d": [
           {
            "colorbar": {
             "outlinewidth": 0,
             "ticks": ""
            },
            "colorscale": [
             [
              0,
              "#0d0887"
             ],
             [
              0.1111111111111111,
              "#46039f"
             ],
             [
              0.2222222222222222,
              "#7201a8"
             ],
             [
              0.3333333333333333,
              "#9c179e"
             ],
             [
              0.4444444444444444,
              "#bd3786"
             ],
             [
              0.5555555555555556,
              "#d8576b"
             ],
             [
              0.6666666666666666,
              "#ed7953"
             ],
             [
              0.7777777777777778,
              "#fb9f3a"
             ],
             [
              0.8888888888888888,
              "#fdca26"
             ],
             [
              1,
              "#f0f921"
             ]
            ],
            "type": "histogram2d"
           }
          ],
          "histogram2dcontour": [
           {
            "colorbar": {
             "outlinewidth": 0,
             "ticks": ""
            },
            "colorscale": [
             [
              0,
              "#0d0887"
             ],
             [
              0.1111111111111111,
              "#46039f"
             ],
             [
              0.2222222222222222,
              "#7201a8"
             ],
             [
              0.3333333333333333,
              "#9c179e"
             ],
             [
              0.4444444444444444,
              "#bd3786"
             ],
             [
              0.5555555555555556,
              "#d8576b"
             ],
             [
              0.6666666666666666,
              "#ed7953"
             ],
             [
              0.7777777777777778,
              "#fb9f3a"
             ],
             [
              0.8888888888888888,
              "#fdca26"
             ],
             [
              1,
              "#f0f921"
             ]
            ],
            "type": "histogram2dcontour"
           }
          ],
          "mesh3d": [
           {
            "colorbar": {
             "outlinewidth": 0,
             "ticks": ""
            },
            "type": "mesh3d"
           }
          ],
          "parcoords": [
           {
            "line": {
             "colorbar": {
              "outlinewidth": 0,
              "ticks": ""
             }
            },
            "type": "parcoords"
           }
          ],
          "pie": [
           {
            "automargin": true,
            "type": "pie"
           }
          ],
          "scatter": [
           {
            "fillpattern": {
             "fillmode": "overlay",
             "size": 10,
             "solidity": 0.2
            },
            "type": "scatter"
           }
          ],
          "scatter3d": [
           {
            "line": {
             "colorbar": {
              "outlinewidth": 0,
              "ticks": ""
             }
            },
            "marker": {
             "colorbar": {
              "outlinewidth": 0,
              "ticks": ""
             }
            },
            "type": "scatter3d"
           }
          ],
          "scattercarpet": [
           {
            "marker": {
             "colorbar": {
              "outlinewidth": 0,
              "ticks": ""
             }
            },
            "type": "scattercarpet"
           }
          ],
          "scattergeo": [
           {
            "marker": {
             "colorbar": {
              "outlinewidth": 0,
              "ticks": ""
             }
            },
            "type": "scattergeo"
           }
          ],
          "scattergl": [
           {
            "marker": {
             "colorbar": {
              "outlinewidth": 0,
              "ticks": ""
             }
            },
            "type": "scattergl"
           }
          ],
          "scattermap": [
           {
            "marker": {
             "colorbar": {
              "outlinewidth": 0,
              "ticks": ""
             }
            },
            "type": "scattermap"
           }
          ],
          "scattermapbox": [
           {
            "marker": {
             "colorbar": {
              "outlinewidth": 0,
              "ticks": ""
             }
            },
            "type": "scattermapbox"
           }
          ],
          "scatterpolar": [
           {
            "marker": {
             "colorbar": {
              "outlinewidth": 0,
              "ticks": ""
             }
            },
            "type": "scatterpolar"
           }
          ],
          "scatterpolargl": [
           {
            "marker": {
             "colorbar": {
              "outlinewidth": 0,
              "ticks": ""
             }
            },
            "type": "scatterpolargl"
           }
          ],
          "scatterternary": [
           {
            "marker": {
             "colorbar": {
              "outlinewidth": 0,
              "ticks": ""
             }
            },
            "type": "scatterternary"
           }
          ],
          "surface": [
           {
            "colorbar": {
             "outlinewidth": 0,
             "ticks": ""
            },
            "colorscale": [
             [
              0,
              "#0d0887"
             ],
             [
              0.1111111111111111,
              "#46039f"
             ],
             [
              0.2222222222222222,
              "#7201a8"
             ],
             [
              0.3333333333333333,
              "#9c179e"
             ],
             [
              0.4444444444444444,
              "#bd3786"
             ],
             [
              0.5555555555555556,
              "#d8576b"
             ],
             [
              0.6666666666666666,
              "#ed7953"
             ],
             [
              0.7777777777777778,
              "#fb9f3a"
             ],
             [
              0.8888888888888888,
              "#fdca26"
             ],
             [
              1,
              "#f0f921"
             ]
            ],
            "type": "surface"
           }
          ],
          "table": [
           {
            "cells": {
             "fill": {
              "color": "#EBF0F8"
             },
             "line": {
              "color": "white"
             }
            },
            "header": {
             "fill": {
              "color": "#C8D4E3"
             },
             "line": {
              "color": "white"
             }
            },
            "type": "table"
           }
          ]
         },
         "layout": {
          "annotationdefaults": {
           "arrowcolor": "#2a3f5f",
           "arrowhead": 0,
           "arrowwidth": 1
          },
          "autotypenumbers": "strict",
          "coloraxis": {
           "colorbar": {
            "outlinewidth": 0,
            "ticks": ""
           }
          },
          "colorscale": {
           "diverging": [
            [
             0,
             "#8e0152"
            ],
            [
             0.1,
             "#c51b7d"
            ],
            [
             0.2,
             "#de77ae"
            ],
            [
             0.3,
             "#f1b6da"
            ],
            [
             0.4,
             "#fde0ef"
            ],
            [
             0.5,
             "#f7f7f7"
            ],
            [
             0.6,
             "#e6f5d0"
            ],
            [
             0.7,
             "#b8e186"
            ],
            [
             0.8,
             "#7fbc41"
            ],
            [
             0.9,
             "#4d9221"
            ],
            [
             1,
             "#276419"
            ]
           ],
           "sequential": [
            [
             0,
             "#0d0887"
            ],
            [
             0.1111111111111111,
             "#46039f"
            ],
            [
             0.2222222222222222,
             "#7201a8"
            ],
            [
             0.3333333333333333,
             "#9c179e"
            ],
            [
             0.4444444444444444,
             "#bd3786"
            ],
            [
             0.5555555555555556,
             "#d8576b"
            ],
            [
             0.6666666666666666,
             "#ed7953"
            ],
            [
             0.7777777777777778,
             "#fb9f3a"
            ],
            [
             0.8888888888888888,
             "#fdca26"
            ],
            [
             1,
             "#f0f921"
            ]
           ],
           "sequentialminus": [
            [
             0,
             "#0d0887"
            ],
            [
             0.1111111111111111,
             "#46039f"
            ],
            [
             0.2222222222222222,
             "#7201a8"
            ],
            [
             0.3333333333333333,
             "#9c179e"
            ],
            [
             0.4444444444444444,
             "#bd3786"
            ],
            [
             0.5555555555555556,
             "#d8576b"
            ],
            [
             0.6666666666666666,
             "#ed7953"
            ],
            [
             0.7777777777777778,
             "#fb9f3a"
            ],
            [
             0.8888888888888888,
             "#fdca26"
            ],
            [
             1,
             "#f0f921"
            ]
           ]
          },
          "colorway": [
           "#636efa",
           "#EF553B",
           "#00cc96",
           "#ab63fa",
           "#FFA15A",
           "#19d3f3",
           "#FF6692",
           "#B6E880",
           "#FF97FF",
           "#FECB52"
          ],
          "font": {
           "color": "#2a3f5f"
          },
          "geo": {
           "bgcolor": "white",
           "lakecolor": "white",
           "landcolor": "#E5ECF6",
           "showlakes": true,
           "showland": true,
           "subunitcolor": "white"
          },
          "hoverlabel": {
           "align": "left"
          },
          "hovermode": "closest",
          "mapbox": {
           "style": "light"
          },
          "paper_bgcolor": "white",
          "plot_bgcolor": "#E5ECF6",
          "polar": {
           "angularaxis": {
            "gridcolor": "white",
            "linecolor": "white",
            "ticks": ""
           },
           "bgcolor": "#E5ECF6",
           "radialaxis": {
            "gridcolor": "white",
            "linecolor": "white",
            "ticks": ""
           }
          },
          "scene": {
           "xaxis": {
            "backgroundcolor": "#E5ECF6",
            "gridcolor": "white",
            "gridwidth": 2,
            "linecolor": "white",
            "showbackground": true,
            "ticks": "",
            "zerolinecolor": "white"
           },
           "yaxis": {
            "backgroundcolor": "#E5ECF6",
            "gridcolor": "white",
            "gridwidth": 2,
            "linecolor": "white",
            "showbackground": true,
            "ticks": "",
            "zerolinecolor": "white"
           },
           "zaxis": {
            "backgroundcolor": "#E5ECF6",
            "gridcolor": "white",
            "gridwidth": 2,
            "linecolor": "white",
            "showbackground": true,
            "ticks": "",
            "zerolinecolor": "white"
           }
          },
          "shapedefaults": {
           "line": {
            "color": "#2a3f5f"
           }
          },
          "ternary": {
           "aaxis": {
            "gridcolor": "white",
            "linecolor": "white",
            "ticks": ""
           },
           "baxis": {
            "gridcolor": "white",
            "linecolor": "white",
            "ticks": ""
           },
           "bgcolor": "#E5ECF6",
           "caxis": {
            "gridcolor": "white",
            "linecolor": "white",
            "ticks": ""
           }
          },
          "title": {
           "x": 0.05
          },
          "xaxis": {
           "automargin": true,
           "gridcolor": "white",
           "linecolor": "white",
           "ticks": "",
           "title": {
            "standoff": 15
           },
           "zerolinecolor": "white",
           "zerolinewidth": 2
          },
          "yaxis": {
           "automargin": true,
           "gridcolor": "white",
           "linecolor": "white",
           "ticks": "",
           "title": {
            "standoff": 15
           },
           "zerolinecolor": "white",
           "zerolinewidth": 2
          }
         }
        },
        "title": {
         "text": "Verteilung der Kreditbeträge nach Sparguthaben"
        },
        "violinmode": "overlay",
        "xaxis": {
         "anchor": "y",
         "categoryarray": [
          "little",
          "moderate",
          "quite rich",
          "rich"
         ],
         "categoryorder": "array",
         "domain": [
          0,
          1
         ],
         "title": {
          "text": "Sparguthaben"
         }
        },
        "yaxis": {
         "anchor": "x",
         "domain": [
          0,
          1
         ],
         "title": {
          "text": "Kreditbetrag"
         }
        }
       }
      },
      "text/html": [
       "<div>                        <script type=\"text/javascript\">window.PlotlyConfig = {MathJaxConfig: 'local'};</script>\n",
       "        <script charset=\"utf-8\" src=\"https://cdn.plot.ly/plotly-3.1.0.min.js\" integrity=\"sha256-Ei4740bWZhaUTQuD6q9yQlgVCMPBz6CZWhevDYPv93A=\" crossorigin=\"anonymous\"></script>                <div id=\"66a55cd6-5960-4220-9dd6-50c214e7e23b\" class=\"plotly-graph-div\" style=\"height:100%; width:100%;\"></div>            <script type=\"text/javascript\">                window.PLOTLYENV=window.PLOTLYENV || {};                                if (document.getElementById(\"66a55cd6-5960-4220-9dd6-50c214e7e23b\")) {                    Plotly.newPlot(                        \"66a55cd6-5960-4220-9dd6-50c214e7e23b\",                        [{\"alignmentgroup\":\"True\",\"box\":{\"visible\":true},\"hovertemplate\":\"Sparguthaben=%{x}\\u003cbr\\u003eKreditbetrag=%{y}\\u003cextra\\u003e\\u003c\\u002fextra\\u003e\",\"legendgroup\":\"little\",\"marker\":{\"color\":\"#636efa\"},\"name\":\"little\",\"offsetgroup\":\"little\",\"orientation\":\"v\",\"points\":\"all\",\"scalegroup\":\"True\",\"showlegend\":true,\"x\":[\"little\",\"little\",\"little\",\"little\",\"little\",\"little\",\"little\",\"little\",\"little\",\"little\",\"little\",\"little\",\"little\",\"little\",\"little\",\"little\",\"little\",\"little\",\"little\",\"little\",\"little\",\"little\",\"little\",\"little\",\"little\",\"little\",\"little\",\"little\",\"little\",\"little\",\"little\",\"little\",\"little\",\"little\",\"little\",\"little\",\"little\",\"little\",\"little\",\"little\",\"little\",\"little\",\"little\",\"little\",\"little\",\"little\",\"little\",\"little\",\"little\",\"little\",\"little\",\"little\",\"little\",\"little\",\"little\",\"little\",\"little\",\"little\",\"little\",\"little\",\"little\",\"little\",\"little\",\"little\",\"little\",\"little\",\"little\",\"little\",\"little\",\"little\",\"little\",\"little\",\"little\",\"little\",\"little\",\"little\",\"little\",\"little\",\"little\",\"little\",\"little\",\"little\",\"little\",\"little\",\"little\",\"little\",\"little\",\"little\",\"little\",\"little\",\"little\",\"little\",\"little\",\"little\",\"little\",\"little\",\"little\",\"little\",\"little\",\"little\",\"little\",\"little\",\"little\",\"little\",\"little\",\"little\",\"little\",\"little\",\"little\",\"little\",\"little\",\"little\",\"little\",\"little\",\"little\",\"little\",\"little\",\"little\",\"little\",\"little\",\"little\",\"little\",\"little\",\"little\",\"little\",\"little\",\"little\",\"little\",\"little\",\"little\",\"little\",\"little\",\"little\",\"little\",\"little\",\"little\",\"little\",\"little\",\"little\",\"little\",\"little\",\"little\",\"little\",\"little\",\"little\",\"little\",\"little\",\"little\",\"little\",\"little\",\"little\",\"little\",\"little\",\"little\",\"little\",\"little\",\"little\",\"little\",\"little\",\"little\",\"little\",\"little\",\"little\",\"little\",\"little\",\"little\",\"little\",\"little\",\"little\",\"little\",\"little\",\"little\",\"little\",\"little\",\"little\",\"little\",\"little\",\"little\",\"little\",\"little\",\"little\",\"little\",\"little\",\"little\",\"little\",\"little\",\"little\",\"little\",\"little\",\"little\",\"little\",\"little\",\"little\",\"little\",\"little\",\"little\",\"little\",\"little\",\"little\",\"little\",\"little\",\"little\",\"little\",\"little\",\"little\",\"little\",\"little\",\"little\",\"little\",\"little\",\"little\",\"little\",\"little\",\"little\",\"little\",\"little\",\"little\",\"little\",\"little\",\"little\",\"little\",\"little\",\"little\",\"little\",\"little\",\"little\",\"little\",\"little\",\"little\",\"little\",\"little\",\"little\",\"little\",\"little\",\"little\",\"little\",\"little\",\"little\",\"little\",\"little\",\"little\",\"little\",\"little\",\"little\",\"little\",\"little\",\"little\",\"little\",\"little\",\"little\",\"little\",\"little\",\"little\",\"little\",\"little\",\"little\",\"little\",\"little\",\"little\",\"little\",\"little\",\"little\",\"little\",\"little\",\"little\",\"little\",\"little\",\"little\",\"little\",\"little\",\"little\",\"little\",\"little\",\"little\",\"little\",\"little\",\"little\",\"little\",\"little\",\"little\",\"little\",\"little\",\"little\",\"little\",\"little\",\"little\",\"little\",\"little\",\"little\",\"little\",\"little\",\"little\",\"little\",\"little\",\"little\",\"little\",\"little\",\"little\",\"little\",\"little\",\"little\",\"little\",\"little\",\"little\",\"little\",\"little\",\"little\",\"little\",\"little\",\"little\",\"little\",\"little\",\"little\",\"little\",\"little\",\"little\",\"little\",\"little\",\"little\",\"little\",\"little\",\"little\",\"little\",\"little\",\"little\",\"little\",\"little\",\"little\",\"little\",\"little\",\"little\",\"little\",\"little\",\"little\",\"little\",\"little\",\"little\",\"little\",\"little\",\"little\",\"little\",\"little\",\"little\",\"little\",\"little\",\"little\",\"little\",\"little\",\"little\",\"little\",\"little\",\"little\",\"little\",\"little\",\"little\",\"little\",\"little\",\"little\",\"little\",\"little\",\"little\",\"little\",\"little\",\"little\",\"little\",\"little\",\"little\",\"little\",\"little\",\"little\",\"little\",\"little\",\"little\",\"little\",\"little\",\"little\",\"little\",\"little\",\"little\",\"little\",\"little\",\"little\",\"little\",\"little\",\"little\",\"little\",\"little\",\"little\",\"little\",\"little\",\"little\",\"little\",\"little\",\"little\",\"little\",\"little\",\"little\",\"little\",\"little\",\"little\",\"little\",\"little\",\"little\",\"little\",\"little\",\"little\",\"little\",\"little\",\"little\",\"little\",\"little\",\"little\"],\"x0\":\" \",\"xaxis\":\"x\",\"y\":{\"dtype\":\"i2\",\"bdata\":\"PxfKHgYTJBtyFA8F1BAfBq8EewUjMcEIXgVvCbQatA\\u002fCBYoSNAjJBMoBPBj\\u002fF00XsQipB1UYbwWhB1U4jARCF\\u002fYFfQ+jEvgO2wYLCQ8FVASBBUk+IQkTCX8Hoi6+F4gBdBgrBw0DSQi9An8CRAerDecaWQe7ElgNnglcA\\u002fsU2BYCBVMBjBxrBI8HtgMQCIYFVg0RCjsCZxF0AwkUlwSsDEsP3QXJEJAEhgN\\u002fKZAFqBmtFHQHIAxJD80LcQK5Hk0MchBiAx8H2gn9EYUHywhmCGUIeQZDBrYUIgMSI\\u002fQL3i7iKbQSRAQABLYkExm8Eugm3A4OBNUEFAGlDq0CugrEAjsOmRCSB14LRg15ESwE1xkOEDgNNQhJEPEFbxYPDlcRbQ9yA78DNxjeBGYJxwipCUIOdg25CwUe7jewMjIFzhyxDKUHEgosCccE9wcdBK8HEwq+A9sKpgRALFAHWAhCDWECVAZFCugTMgcQCtESQQ86DVcBJA65BskLbAt7BsABjgLdBCoMIBTGBfUNsQS5BH4gSggVBTMMdRW3BPcCfwpJAmECUQV2DM8bWQQeH\\u002f4IlgLhCA8JHA5THukL\\u002fgUwCzUFcgJXG68EMwXgDYgHCgarAlwFZhqiDCYDOgRyCwQLIAQ0DFAJ9wfvCgkFwQTGCIEBngqiBZEQGQmWAy0H+wQwDlwORA5CBygKRAhMDhEGSwUSEe4CHAVYB+cRswOsAjQdggf\\u002fCIUPeAN9ENkYEQUaBBcE6xLJC1AJzwNPBHEHuxjgCZkLtgRGCK4EcgTLNjkFzARaBxAZAxnDB\\u002fgCKC0YBAUHzwn6BKwB0AMTBbMCTAimCIMEJAwhDoEftQ0gD0UTggVQGG4XpARMCwMHsBA3JE4CQyTyBosD5AGdJesLWw8IHfE9QQXIC5gK2wJCBn4PwAQoLhcJOgSNCzsUVAXFArsIogV3D4cJVQmMAj8FBg6UB44F2Q8bAzg9igl7CKgWLgo5EEEKUwSAElkM+EcwOhENVgXSB9gauQIZBDkoQAXTBoYG2gXpAg8IkBg1BwYOYQhlB4IEpg8xCcYBYw+pBIEc8QLCICUgmQWRGLMZzwZ3DxEPNQc=\"},\"y0\":\" \",\"yaxis\":\"y\",\"type\":\"violin\"},{\"alignmentgroup\":\"True\",\"box\":{\"visible\":true},\"hovertemplate\":\"Sparguthaben=%{x}\\u003cbr\\u003eKreditbetrag=%{y}\\u003cextra\\u003e\\u003c\\u002fextra\\u003e\",\"legendgroup\":\"moderate\",\"marker\":{\"color\":\"#EF553B\"},\"name\":\"moderate\",\"offsetgroup\":\"moderate\",\"orientation\":\"v\",\"points\":\"all\",\"scalegroup\":\"True\",\"showlegend\":true,\"x\":[\"moderate\",\"moderate\",\"moderate\",\"moderate\",\"moderate\",\"moderate\",\"moderate\",\"moderate\",\"moderate\",\"moderate\",\"moderate\",\"moderate\",\"moderate\",\"moderate\",\"moderate\",\"moderate\",\"moderate\",\"moderate\",\"moderate\",\"moderate\",\"moderate\",\"moderate\",\"moderate\",\"moderate\",\"moderate\",\"moderate\",\"moderate\",\"moderate\",\"moderate\",\"moderate\",\"moderate\",\"moderate\",\"moderate\",\"moderate\",\"moderate\",\"moderate\",\"moderate\",\"moderate\",\"moderate\",\"moderate\",\"moderate\",\"moderate\",\"moderate\",\"moderate\",\"moderate\",\"moderate\",\"moderate\",\"moderate\",\"moderate\",\"moderate\",\"moderate\",\"moderate\",\"moderate\",\"moderate\",\"moderate\",\"moderate\",\"moderate\",\"moderate\",\"moderate\",\"moderate\",\"moderate\",\"moderate\",\"moderate\",\"moderate\"],\"x0\":\" \",\"xaxis\":\"x\",\"y\":{\"dtype\":\"i2\",\"bdata\":\"AgUMB+oWKxhEMckIPgqpBe4NNxsIBbgNogIED9cLtwPPCiYPnh3XAvAcvjnwLRQMDQRKIysFZgTABMIaswRHCssH5ggRBqMDbwrlAtgEcQ2dBZYf2xWBJi4LRwpQC2EFxwmgGQQYHBG4EBUJSQNEA2YFNwl\\u002fB\\u002f0L6gXwBGsL4BE=\"},\"y0\":\" \",\"yaxis\":\"y\",\"type\":\"violin\"},{\"alignmentgroup\":\"True\",\"box\":{\"visible\":true},\"hovertemplate\":\"Sparguthaben=%{x}\\u003cbr\\u003eKreditbetrag=%{y}\\u003cextra\\u003e\\u003c\\u002fextra\\u003e\",\"legendgroup\":\"quite rich\",\"marker\":{\"color\":\"#00cc96\"},\"name\":\"quite rich\",\"offsetgroup\":\"quite rich\",\"orientation\":\"v\",\"points\":\"all\",\"scalegroup\":\"True\",\"showlegend\":true,\"x\":[\"quite rich\",\"quite rich\",\"quite rich\",\"quite rich\",\"quite rich\",\"quite rich\",\"quite rich\",\"quite rich\",\"quite rich\",\"quite rich\",\"quite rich\",\"quite rich\",\"quite rich\",\"quite rich\",\"quite rich\",\"quite rich\",\"quite rich\",\"quite rich\",\"quite rich\",\"quite rich\",\"quite rich\",\"quite rich\",\"quite rich\"],\"x0\":\" \",\"xaxis\":\"x\",\"y\":{\"dtype\":\"i2\",\"bdata\":\"VwqGBEgFggWQBrkQPgn+AlIBjQyuDhYJqwM4CQwLFgOzCcgFpiAVDREQ2AnqBA==\"},\"y0\":\" \",\"yaxis\":\"y\",\"type\":\"violin\"},{\"alignmentgroup\":\"True\",\"box\":{\"visible\":true},\"hovertemplate\":\"Sparguthaben=%{x}\\u003cbr\\u003eKreditbetrag=%{y}\\u003cextra\\u003e\\u003c\\u002fextra\\u003e\",\"legendgroup\":\"rich\",\"marker\":{\"color\":\"#ab63fa\"},\"name\":\"rich\",\"offsetgroup\":\"rich\",\"orientation\":\"v\",\"points\":\"all\",\"scalegroup\":\"True\",\"showlegend\":true,\"x\":[\"rich\",\"rich\",\"rich\",\"rich\",\"rich\",\"rich\",\"rich\",\"rich\",\"rich\",\"rich\",\"rich\",\"rich\",\"rich\",\"rich\",\"rich\",\"rich\",\"rich\",\"rich\",\"rich\",\"rich\",\"rich\",\"rich\",\"rich\"],\"x0\":\" \",\"xaxis\":\"x\",\"y\":{\"dtype\":\"i2\",\"bdata\":\"mQF5B+8DJgXFAk4eKQbRKpoCuQpjCnAE1wPoBSYOHQ2oDUMOsQH7BJUHKgXPBA==\"},\"y0\":\" \",\"yaxis\":\"y\",\"type\":\"violin\"}],                        {\"template\":{\"data\":{\"histogram2dcontour\":[{\"type\":\"histogram2dcontour\",\"colorbar\":{\"outlinewidth\":0,\"ticks\":\"\"},\"colorscale\":[[0.0,\"#0d0887\"],[0.1111111111111111,\"#46039f\"],[0.2222222222222222,\"#7201a8\"],[0.3333333333333333,\"#9c179e\"],[0.4444444444444444,\"#bd3786\"],[0.5555555555555556,\"#d8576b\"],[0.6666666666666666,\"#ed7953\"],[0.7777777777777778,\"#fb9f3a\"],[0.8888888888888888,\"#fdca26\"],[1.0,\"#f0f921\"]]}],\"choropleth\":[{\"type\":\"choropleth\",\"colorbar\":{\"outlinewidth\":0,\"ticks\":\"\"}}],\"histogram2d\":[{\"type\":\"histogram2d\",\"colorbar\":{\"outlinewidth\":0,\"ticks\":\"\"},\"colorscale\":[[0.0,\"#0d0887\"],[0.1111111111111111,\"#46039f\"],[0.2222222222222222,\"#7201a8\"],[0.3333333333333333,\"#9c179e\"],[0.4444444444444444,\"#bd3786\"],[0.5555555555555556,\"#d8576b\"],[0.6666666666666666,\"#ed7953\"],[0.7777777777777778,\"#fb9f3a\"],[0.8888888888888888,\"#fdca26\"],[1.0,\"#f0f921\"]]}],\"heatmap\":[{\"type\":\"heatmap\",\"colorbar\":{\"outlinewidth\":0,\"ticks\":\"\"},\"colorscale\":[[0.0,\"#0d0887\"],[0.1111111111111111,\"#46039f\"],[0.2222222222222222,\"#7201a8\"],[0.3333333333333333,\"#9c179e\"],[0.4444444444444444,\"#bd3786\"],[0.5555555555555556,\"#d8576b\"],[0.6666666666666666,\"#ed7953\"],[0.7777777777777778,\"#fb9f3a\"],[0.8888888888888888,\"#fdca26\"],[1.0,\"#f0f921\"]]}],\"contourcarpet\":[{\"type\":\"contourcarpet\",\"colorbar\":{\"outlinewidth\":0,\"ticks\":\"\"}}],\"contour\":[{\"type\":\"contour\",\"colorbar\":{\"outlinewidth\":0,\"ticks\":\"\"},\"colorscale\":[[0.0,\"#0d0887\"],[0.1111111111111111,\"#46039f\"],[0.2222222222222222,\"#7201a8\"],[0.3333333333333333,\"#9c179e\"],[0.4444444444444444,\"#bd3786\"],[0.5555555555555556,\"#d8576b\"],[0.6666666666666666,\"#ed7953\"],[0.7777777777777778,\"#fb9f3a\"],[0.8888888888888888,\"#fdca26\"],[1.0,\"#f0f921\"]]}],\"surface\":[{\"type\":\"surface\",\"colorbar\":{\"outlinewidth\":0,\"ticks\":\"\"},\"colorscale\":[[0.0,\"#0d0887\"],[0.1111111111111111,\"#46039f\"],[0.2222222222222222,\"#7201a8\"],[0.3333333333333333,\"#9c179e\"],[0.4444444444444444,\"#bd3786\"],[0.5555555555555556,\"#d8576b\"],[0.6666666666666666,\"#ed7953\"],[0.7777777777777778,\"#fb9f3a\"],[0.8888888888888888,\"#fdca26\"],[1.0,\"#f0f921\"]]}],\"mesh3d\":[{\"type\":\"mesh3d\",\"colorbar\":{\"outlinewidth\":0,\"ticks\":\"\"}}],\"scatter\":[{\"fillpattern\":{\"fillmode\":\"overlay\",\"size\":10,\"solidity\":0.2},\"type\":\"scatter\"}],\"parcoords\":[{\"type\":\"parcoords\",\"line\":{\"colorbar\":{\"outlinewidth\":0,\"ticks\":\"\"}}}],\"scatterpolargl\":[{\"type\":\"scatterpolargl\",\"marker\":{\"colorbar\":{\"outlinewidth\":0,\"ticks\":\"\"}}}],\"bar\":[{\"error_x\":{\"color\":\"#2a3f5f\"},\"error_y\":{\"color\":\"#2a3f5f\"},\"marker\":{\"line\":{\"color\":\"#E5ECF6\",\"width\":0.5},\"pattern\":{\"fillmode\":\"overlay\",\"size\":10,\"solidity\":0.2}},\"type\":\"bar\"}],\"scattergeo\":[{\"type\":\"scattergeo\",\"marker\":{\"colorbar\":{\"outlinewidth\":0,\"ticks\":\"\"}}}],\"scatterpolar\":[{\"type\":\"scatterpolar\",\"marker\":{\"colorbar\":{\"outlinewidth\":0,\"ticks\":\"\"}}}],\"histogram\":[{\"marker\":{\"pattern\":{\"fillmode\":\"overlay\",\"size\":10,\"solidity\":0.2}},\"type\":\"histogram\"}],\"scattergl\":[{\"type\":\"scattergl\",\"marker\":{\"colorbar\":{\"outlinewidth\":0,\"ticks\":\"\"}}}],\"scatter3d\":[{\"type\":\"scatter3d\",\"line\":{\"colorbar\":{\"outlinewidth\":0,\"ticks\":\"\"}},\"marker\":{\"colorbar\":{\"outlinewidth\":0,\"ticks\":\"\"}}}],\"scattermap\":[{\"type\":\"scattermap\",\"marker\":{\"colorbar\":{\"outlinewidth\":0,\"ticks\":\"\"}}}],\"scattermapbox\":[{\"type\":\"scattermapbox\",\"marker\":{\"colorbar\":{\"outlinewidth\":0,\"ticks\":\"\"}}}],\"scatterternary\":[{\"type\":\"scatterternary\",\"marker\":{\"colorbar\":{\"outlinewidth\":0,\"ticks\":\"\"}}}],\"scattercarpet\":[{\"type\":\"scattercarpet\",\"marker\":{\"colorbar\":{\"outlinewidth\":0,\"ticks\":\"\"}}}],\"carpet\":[{\"aaxis\":{\"endlinecolor\":\"#2a3f5f\",\"gridcolor\":\"white\",\"linecolor\":\"white\",\"minorgridcolor\":\"white\",\"startlinecolor\":\"#2a3f5f\"},\"baxis\":{\"endlinecolor\":\"#2a3f5f\",\"gridcolor\":\"white\",\"linecolor\":\"white\",\"minorgridcolor\":\"white\",\"startlinecolor\":\"#2a3f5f\"},\"type\":\"carpet\"}],\"table\":[{\"cells\":{\"fill\":{\"color\":\"#EBF0F8\"},\"line\":{\"color\":\"white\"}},\"header\":{\"fill\":{\"color\":\"#C8D4E3\"},\"line\":{\"color\":\"white\"}},\"type\":\"table\"}],\"barpolar\":[{\"marker\":{\"line\":{\"color\":\"#E5ECF6\",\"width\":0.5},\"pattern\":{\"fillmode\":\"overlay\",\"size\":10,\"solidity\":0.2}},\"type\":\"barpolar\"}],\"pie\":[{\"automargin\":true,\"type\":\"pie\"}]},\"layout\":{\"autotypenumbers\":\"strict\",\"colorway\":[\"#636efa\",\"#EF553B\",\"#00cc96\",\"#ab63fa\",\"#FFA15A\",\"#19d3f3\",\"#FF6692\",\"#B6E880\",\"#FF97FF\",\"#FECB52\"],\"font\":{\"color\":\"#2a3f5f\"},\"hovermode\":\"closest\",\"hoverlabel\":{\"align\":\"left\"},\"paper_bgcolor\":\"white\",\"plot_bgcolor\":\"#E5ECF6\",\"polar\":{\"bgcolor\":\"#E5ECF6\",\"angularaxis\":{\"gridcolor\":\"white\",\"linecolor\":\"white\",\"ticks\":\"\"},\"radialaxis\":{\"gridcolor\":\"white\",\"linecolor\":\"white\",\"ticks\":\"\"}},\"ternary\":{\"bgcolor\":\"#E5ECF6\",\"aaxis\":{\"gridcolor\":\"white\",\"linecolor\":\"white\",\"ticks\":\"\"},\"baxis\":{\"gridcolor\":\"white\",\"linecolor\":\"white\",\"ticks\":\"\"},\"caxis\":{\"gridcolor\":\"white\",\"linecolor\":\"white\",\"ticks\":\"\"}},\"coloraxis\":{\"colorbar\":{\"outlinewidth\":0,\"ticks\":\"\"}},\"colorscale\":{\"sequential\":[[0.0,\"#0d0887\"],[0.1111111111111111,\"#46039f\"],[0.2222222222222222,\"#7201a8\"],[0.3333333333333333,\"#9c179e\"],[0.4444444444444444,\"#bd3786\"],[0.5555555555555556,\"#d8576b\"],[0.6666666666666666,\"#ed7953\"],[0.7777777777777778,\"#fb9f3a\"],[0.8888888888888888,\"#fdca26\"],[1.0,\"#f0f921\"]],\"sequentialminus\":[[0.0,\"#0d0887\"],[0.1111111111111111,\"#46039f\"],[0.2222222222222222,\"#7201a8\"],[0.3333333333333333,\"#9c179e\"],[0.4444444444444444,\"#bd3786\"],[0.5555555555555556,\"#d8576b\"],[0.6666666666666666,\"#ed7953\"],[0.7777777777777778,\"#fb9f3a\"],[0.8888888888888888,\"#fdca26\"],[1.0,\"#f0f921\"]],\"diverging\":[[0,\"#8e0152\"],[0.1,\"#c51b7d\"],[0.2,\"#de77ae\"],[0.3,\"#f1b6da\"],[0.4,\"#fde0ef\"],[0.5,\"#f7f7f7\"],[0.6,\"#e6f5d0\"],[0.7,\"#b8e186\"],[0.8,\"#7fbc41\"],[0.9,\"#4d9221\"],[1,\"#276419\"]]},\"xaxis\":{\"gridcolor\":\"white\",\"linecolor\":\"white\",\"ticks\":\"\",\"title\":{\"standoff\":15},\"zerolinecolor\":\"white\",\"automargin\":true,\"zerolinewidth\":2},\"yaxis\":{\"gridcolor\":\"white\",\"linecolor\":\"white\",\"ticks\":\"\",\"title\":{\"standoff\":15},\"zerolinecolor\":\"white\",\"automargin\":true,\"zerolinewidth\":2},\"scene\":{\"xaxis\":{\"backgroundcolor\":\"#E5ECF6\",\"gridcolor\":\"white\",\"linecolor\":\"white\",\"showbackground\":true,\"ticks\":\"\",\"zerolinecolor\":\"white\",\"gridwidth\":2},\"yaxis\":{\"backgroundcolor\":\"#E5ECF6\",\"gridcolor\":\"white\",\"linecolor\":\"white\",\"showbackground\":true,\"ticks\":\"\",\"zerolinecolor\":\"white\",\"gridwidth\":2},\"zaxis\":{\"backgroundcolor\":\"#E5ECF6\",\"gridcolor\":\"white\",\"linecolor\":\"white\",\"showbackground\":true,\"ticks\":\"\",\"zerolinecolor\":\"white\",\"gridwidth\":2}},\"shapedefaults\":{\"line\":{\"color\":\"#2a3f5f\"}},\"annotationdefaults\":{\"arrowcolor\":\"#2a3f5f\",\"arrowhead\":0,\"arrowwidth\":1},\"geo\":{\"bgcolor\":\"white\",\"landcolor\":\"#E5ECF6\",\"subunitcolor\":\"white\",\"showland\":true,\"showlakes\":true,\"lakecolor\":\"white\"},\"title\":{\"x\":0.05},\"mapbox\":{\"style\":\"light\"}}},\"xaxis\":{\"anchor\":\"y\",\"domain\":[0.0,1.0],\"title\":{\"text\":\"Sparguthaben\"},\"categoryorder\":\"array\",\"categoryarray\":[\"little\",\"moderate\",\"quite rich\",\"rich\"]},\"yaxis\":{\"anchor\":\"x\",\"domain\":[0.0,1.0],\"title\":{\"text\":\"Kreditbetrag\"}},\"legend\":{\"title\":{\"text\":\"Sparguthaben\"},\"tracegroupgap\":0},\"title\":{\"text\":\"Verteilung der Kreditbetr\\u00e4ge nach Sparguthaben\"},\"violinmode\":\"overlay\",\"margin\":{\"l\":40,\"r\":40,\"t\":60,\"b\":40},\"showlegend\":false},                        {\"responsive\": true}                    )                };            </script>        </div>"
      ],
      "text/plain": [
       "Figure({\n",
       "    'data': [{'alignmentgroup': 'True',\n",
       "              'box': {'visible': True},\n",
       "              'hovertemplate': 'Sparguthaben=%{x}<br>Kreditbetrag=%{y}<extra></extra>',\n",
       "              'legendgroup': 'little',\n",
       "              'marker': {'color': '#636efa'},\n",
       "              'name': 'little',\n",
       "              'offsetgroup': 'little',\n",
       "              'orientation': 'v',\n",
       "              'points': 'all',\n",
       "              'scalegroup': 'True',\n",
       "              'showlegend': True,\n",
       "              'type': 'violin',\n",
       "              'x': array(['little', 'little', 'little', ..., 'little', 'little', 'little'],\n",
       "                         shape=(412,), dtype=object),\n",
       "              'x0': ' ',\n",
       "              'xaxis': 'x',\n",
       "              'y': {'bdata': ('PxfKHgYTJBtyFA8F1BAfBq8EewUjMc' ... 'Ec8QLCICUgmQWRGLMZzwZ3DxEPNQc='),\n",
       "                    'dtype': 'i2'},\n",
       "              'y0': ' ',\n",
       "              'yaxis': 'y'},\n",
       "             {'alignmentgroup': 'True',\n",
       "              'box': {'visible': True},\n",
       "              'hovertemplate': 'Sparguthaben=%{x}<br>Kreditbetrag=%{y}<extra></extra>',\n",
       "              'legendgroup': 'moderate',\n",
       "              'marker': {'color': '#EF553B'},\n",
       "              'name': 'moderate',\n",
       "              'offsetgroup': 'moderate',\n",
       "              'orientation': 'v',\n",
       "              'points': 'all',\n",
       "              'scalegroup': 'True',\n",
       "              'showlegend': True,\n",
       "              'type': 'violin',\n",
       "              'x': array(['moderate', 'moderate', 'moderate', 'moderate', 'moderate', 'moderate',\n",
       "                          'moderate', 'moderate', 'moderate', 'moderate', 'moderate', 'moderate',\n",
       "                          'moderate', 'moderate', 'moderate', 'moderate', 'moderate', 'moderate',\n",
       "                          'moderate', 'moderate', 'moderate', 'moderate', 'moderate', 'moderate',\n",
       "                          'moderate', 'moderate', 'moderate', 'moderate', 'moderate', 'moderate',\n",
       "                          'moderate', 'moderate', 'moderate', 'moderate', 'moderate', 'moderate',\n",
       "                          'moderate', 'moderate', 'moderate', 'moderate', 'moderate', 'moderate',\n",
       "                          'moderate', 'moderate', 'moderate', 'moderate', 'moderate', 'moderate',\n",
       "                          'moderate', 'moderate', 'moderate', 'moderate', 'moderate', 'moderate',\n",
       "                          'moderate', 'moderate', 'moderate', 'moderate', 'moderate', 'moderate',\n",
       "                          'moderate', 'moderate', 'moderate', 'moderate'], dtype=object),\n",
       "              'x0': ' ',\n",
       "              'xaxis': 'x',\n",
       "              'y': {'bdata': ('AgUMB+oWKxhEMckIPgqpBe4NNxsIBb' ... 'UJSQNEA2YFNwl/B/0L6gXwBGsL4BE='),\n",
       "                    'dtype': 'i2'},\n",
       "              'y0': ' ',\n",
       "              'yaxis': 'y'},\n",
       "             {'alignmentgroup': 'True',\n",
       "              'box': {'visible': True},\n",
       "              'hovertemplate': 'Sparguthaben=%{x}<br>Kreditbetrag=%{y}<extra></extra>',\n",
       "              'legendgroup': 'quite rich',\n",
       "              'marker': {'color': '#00cc96'},\n",
       "              'name': 'quite rich',\n",
       "              'offsetgroup': 'quite rich',\n",
       "              'orientation': 'v',\n",
       "              'points': 'all',\n",
       "              'scalegroup': 'True',\n",
       "              'showlegend': True,\n",
       "              'type': 'violin',\n",
       "              'x': array(['quite rich', 'quite rich', 'quite rich', 'quite rich', 'quite rich',\n",
       "                          'quite rich', 'quite rich', 'quite rich', 'quite rich', 'quite rich',\n",
       "                          'quite rich', 'quite rich', 'quite rich', 'quite rich', 'quite rich',\n",
       "                          'quite rich', 'quite rich', 'quite rich', 'quite rich', 'quite rich',\n",
       "                          'quite rich', 'quite rich', 'quite rich'], dtype=object),\n",
       "              'x0': ' ',\n",
       "              'xaxis': 'x',\n",
       "              'y': {'bdata': 'VwqGBEgFggWQBrkQPgn+AlIBjQyuDhYJqwM4CQwLFgOzCcgFpiAVDREQ2AnqBA==', 'dtype': 'i2'},\n",
       "              'y0': ' ',\n",
       "              'yaxis': 'y'},\n",
       "             {'alignmentgroup': 'True',\n",
       "              'box': {'visible': True},\n",
       "              'hovertemplate': 'Sparguthaben=%{x}<br>Kreditbetrag=%{y}<extra></extra>',\n",
       "              'legendgroup': 'rich',\n",
       "              'marker': {'color': '#ab63fa'},\n",
       "              'name': 'rich',\n",
       "              'offsetgroup': 'rich',\n",
       "              'orientation': 'v',\n",
       "              'points': 'all',\n",
       "              'scalegroup': 'True',\n",
       "              'showlegend': True,\n",
       "              'type': 'violin',\n",
       "              'x': array(['rich', 'rich', 'rich', 'rich', 'rich', 'rich', 'rich', 'rich', 'rich',\n",
       "                          'rich', 'rich', 'rich', 'rich', 'rich', 'rich', 'rich', 'rich', 'rich',\n",
       "                          'rich', 'rich', 'rich', 'rich', 'rich'], dtype=object),\n",
       "              'x0': ' ',\n",
       "              'xaxis': 'x',\n",
       "              'y': {'bdata': 'mQF5B+8DJgXFAk4eKQbRKpoCuQpjCnAE1wPoBSYOHQ2oDUMOsQH7BJUHKgXPBA==', 'dtype': 'i2'},\n",
       "              'y0': ' ',\n",
       "              'yaxis': 'y'}],\n",
       "    'layout': {'legend': {'title': {'text': 'Sparguthaben'}, 'tracegroupgap': 0},\n",
       "               'margin': {'b': 40, 'l': 40, 'r': 40, 't': 60},\n",
       "               'showlegend': False,\n",
       "               'template': '...',\n",
       "               'title': {'text': 'Verteilung der Kreditbeträge nach Sparguthaben'},\n",
       "               'violinmode': 'overlay',\n",
       "               'xaxis': {'anchor': 'y',\n",
       "                         'categoryarray': [little, moderate, quite rich, rich],\n",
       "                         'categoryorder': 'array',\n",
       "                         'domain': [0.0, 1.0],\n",
       "                         'title': {'text': 'Sparguthaben'}},\n",
       "               'yaxis': {'anchor': 'x', 'domain': [0.0, 1.0], 'title': {'text': 'Kreditbetrag'}}}\n",
       "})"
      ]
     },
     "execution_count": 71,
     "metadata": {},
     "output_type": "execute_result"
    }
   ],
   "source": [
    "fig6 = px.violin(\n",
    "    df,\n",
    "    x=\"Saving accounts\",\n",
    "    y=\"Credit amount\",\n",
    "    box=True,      \n",
    "    points=\"all\",        \n",
    "    color=\"Saving accounts\",\n",
    "    title=\"Verteilung der Kreditbeträge nach Sparguthaben\",\n",
    "    labels={\"Saving accounts\": \"Sparguthaben\", \"Credit amount\": \"Kreditbetrag\"}\n",
    ")\n",
    "\n",
    "fig6.update_layout(showlegend=False, margin=dict(l=40, r=40, t=60, b=40))\n",
    "fig6\n"
   ]
  },
  {
   "cell_type": "markdown",
   "id": "58aaa599",
   "metadata": {},
   "source": [
    "In der Grafik sieht man die Verteilung der Kreditbeträge in Abhängigkeit vom Sparguthaben. Auffällig ist, dass in allen Kategorien die meisten Kredite im Bereich zwischen etwa 1.000 € und 5.000 € liegen. Besonders viele Personen haben nur geringe Ersparnisse (`little`), und gerade in dieser Gruppe kommen auch sehr hohe Kredite vor – bis hin zur Obergrenze im Datensatz. Das zeigt, dass auch Kunden mit wenig Rücklagen Kredite in großer Höhe aufnehmen.\n",
    "<br>\n",
    "<br>\n",
    "Bei den Kategorien `moderate`, `quite rich` und `rich` gibt es zwar insgesamt weniger Fälle, die Muster sind aber ähnlich: Die meisten Kredite liegen im unteren bis mittleren Bereich, und es tauchen immer wieder einzelne Ausreißer nach oben auf. Daraus können wir schließen, dass die Höhe der Ersparnisse nicht allein bestimmt, wie hoch ein Kredit ist. In allen Gruppen finden sich sowohl kleine als auch große Kreditbeträge, sodass andere Faktoren – zum Beispiel Beruf oder Einkommen – wahrscheinlich wichtiger sind.\n",
    "<br>\n",
    "<br>\n",
    "Bisher haben wir die Verteilung der Kredithöhen, Altersgruppen und anderer Merkmale betrachtet. Nun wollen wir uns das Zielmerkmal Risk genauer anschauen. Als erstes lassen wir uns anzeigen, wie hoch der prozentuale Anteil der beiden Kategorien good (geringes Risiko) und bad (hohes Risiko) im Datensatz ist:"
   ]
  },
  {
   "cell_type": "code",
   "execution_count": 72,
   "id": "53e11d91",
   "metadata": {},
   "outputs": [
    {
     "name": "stdout",
     "output_type": "stream",
     "text": [
      "Risk\n",
      "good    55.747126\n",
      "bad     44.252874\n",
      "Name: proportion, dtype: float64\n"
     ]
    }
   ],
   "source": [
    "print(df[\"Risk\"].value_counts(normalize=True) * 100)"
   ]
  },
  {
   "cell_type": "markdown",
   "id": "b39719be",
   "metadata": {},
   "source": [
    "Die Auswertung zeigt, dass etwa 56 % der Kredite als `good` (niedriges Risiko) und rund 44 % als `bad` (hohes Risiko) eingestuft sind. Damit ist der Datensatz zwar nicht perfekt ausgeglichen, aber beide Klassen sind ausreichend stark vertreten. Für die Modellierung heißt das: Wir müssen uns bewusst machen, dass es ein kleines Ungleichgewicht gibt, aber die Verteilung ist noch so ausgeglichen, dass man beide Klassen gut vergleichen und mit ihnen arbeiten kann.\n",
    "<br>\n",
    "<br>\n",
    "Wir haben bereits gesehen, dass das Merkmal Risk unser Ziel darstellt und zwischen good (geringes Risiko) und bad (hohes Risiko) unterscheidet. Nun wollen wir untersuchen, ob sich bestimmte numerische Merkmale wie Alter, Kredithöhe oder Laufzeit zwischen diesen beiden Gruppen unterscheiden. Dafür erstellen wir Boxplots, die die Verteilungen der Werte getrennt nach good und bad darstellen:"
   ]
  },
  {
   "cell_type": "code",
   "execution_count": 73,
   "id": "91a6383a",
   "metadata": {},
   "outputs": [
    {
     "ename": "ValueError",
     "evalue": "Mime type rendering requires nbformat>=4.2.0 but it is not installed",
     "output_type": "error",
     "traceback": [
      "\u001b[31m---------------------------------------------------------------------------\u001b[39m",
      "\u001b[31mValueError\u001b[39m                                Traceback (most recent call last)",
      "\u001b[36mFile \u001b[39m\u001b[32md:\\Maschinen\\Kredite_Aufgabe\\.venv\\Lib\\site-packages\\IPython\\core\\formatters.py:984\u001b[39m, in \u001b[36mIPythonDisplayFormatter.__call__\u001b[39m\u001b[34m(self, obj)\u001b[39m\n\u001b[32m    982\u001b[39m method = get_real_method(obj, \u001b[38;5;28mself\u001b[39m.print_method)\n\u001b[32m    983\u001b[39m \u001b[38;5;28;01mif\u001b[39;00m method \u001b[38;5;129;01mis\u001b[39;00m \u001b[38;5;129;01mnot\u001b[39;00m \u001b[38;5;28;01mNone\u001b[39;00m:\n\u001b[32m--> \u001b[39m\u001b[32m984\u001b[39m     \u001b[43mmethod\u001b[49m\u001b[43m(\u001b[49m\u001b[43m)\u001b[49m\n\u001b[32m    985\u001b[39m     \u001b[38;5;28;01mreturn\u001b[39;00m \u001b[38;5;28;01mTrue\u001b[39;00m\n",
      "\u001b[36mFile \u001b[39m\u001b[32md:\\Maschinen\\Kredite_Aufgabe\\.venv\\Lib\\site-packages\\plotly\\basedatatypes.py:850\u001b[39m, in \u001b[36mBaseFigure._ipython_display_\u001b[39m\u001b[34m(self)\u001b[39m\n\u001b[32m    847\u001b[39m \u001b[38;5;28;01mimport\u001b[39;00m\u001b[38;5;250m \u001b[39m\u001b[34;01mplotly\u001b[39;00m\u001b[34;01m.\u001b[39;00m\u001b[34;01mio\u001b[39;00m\u001b[38;5;250m \u001b[39m\u001b[38;5;28;01mas\u001b[39;00m\u001b[38;5;250m \u001b[39m\u001b[34;01mpio\u001b[39;00m\n\u001b[32m    849\u001b[39m \u001b[38;5;28;01mif\u001b[39;00m pio.renderers.render_on_display \u001b[38;5;129;01mand\u001b[39;00m pio.renderers.default:\n\u001b[32m--> \u001b[39m\u001b[32m850\u001b[39m     \u001b[43mpio\u001b[49m\u001b[43m.\u001b[49m\u001b[43mshow\u001b[49m\u001b[43m(\u001b[49m\u001b[38;5;28;43mself\u001b[39;49m\u001b[43m)\u001b[49m\n\u001b[32m    851\u001b[39m \u001b[38;5;28;01melse\u001b[39;00m:\n\u001b[32m    852\u001b[39m     \u001b[38;5;28mprint\u001b[39m(\u001b[38;5;28mrepr\u001b[39m(\u001b[38;5;28mself\u001b[39m))\n",
      "\u001b[36mFile \u001b[39m\u001b[32md:\\Maschinen\\Kredite_Aufgabe\\.venv\\Lib\\site-packages\\plotly\\io\\_renderers.py:415\u001b[39m, in \u001b[36mshow\u001b[39m\u001b[34m(fig, renderer, validate, **kwargs)\u001b[39m\n\u001b[32m    410\u001b[39m     \u001b[38;5;28;01mraise\u001b[39;00m \u001b[38;5;167;01mValueError\u001b[39;00m(\n\u001b[32m    411\u001b[39m         \u001b[33m\"\u001b[39m\u001b[33mMime type rendering requires ipython but it is not installed\u001b[39m\u001b[33m\"\u001b[39m\n\u001b[32m    412\u001b[39m     )\n\u001b[32m    414\u001b[39m \u001b[38;5;28;01mif\u001b[39;00m \u001b[38;5;129;01mnot\u001b[39;00m nbformat \u001b[38;5;129;01mor\u001b[39;00m Version(nbformat.__version__) < Version(\u001b[33m\"\u001b[39m\u001b[33m4.2.0\u001b[39m\u001b[33m\"\u001b[39m):\n\u001b[32m--> \u001b[39m\u001b[32m415\u001b[39m     \u001b[38;5;28;01mraise\u001b[39;00m \u001b[38;5;167;01mValueError\u001b[39;00m(\n\u001b[32m    416\u001b[39m         \u001b[33m\"\u001b[39m\u001b[33mMime type rendering requires nbformat>=4.2.0 but it is not installed\u001b[39m\u001b[33m\"\u001b[39m\n\u001b[32m    417\u001b[39m     )\n\u001b[32m    419\u001b[39m display_jupyter_version_warnings()\n\u001b[32m    421\u001b[39m ipython_display.display(bundle, raw=\u001b[38;5;28;01mTrue\u001b[39;00m)\n",
      "\u001b[31mValueError\u001b[39m: Mime type rendering requires nbformat>=4.2.0 but it is not installed"
     ]
    },
    {
     "data": {
      "application/vnd.plotly.v1+json": {
       "config": {
        "plotlyServerURL": "https://plot.ly"
       },
       "data": [
        {
         "boxpoints": "outliers",
         "line": {
          "color": "black"
         },
         "marker": {
          "color": "lightblue"
         },
         "name": "Age",
         "type": "box",
         "x": [
          "bad",
          "good",
          "bad",
          "good",
          "bad",
          "bad",
          "bad",
          "good",
          "bad",
          "good",
          "bad",
          "bad",
          "good",
          "good",
          "good",
          "good",
          "good",
          "good",
          "bad",
          "good",
          "good",
          "good",
          "good",
          "bad",
          "bad",
          "good",
          "good",
          "good",
          "good",
          "good",
          "bad",
          "good",
          "good",
          "bad",
          "good",
          "bad",
          "good",
          "bad",
          "bad",
          "good",
          "good",
          "good",
          "good",
          "bad",
          "good",
          "good",
          "good",
          "good",
          "good",
          "bad",
          "good",
          "bad",
          "good",
          "good",
          "bad",
          "good",
          "good",
          "good",
          "good",
          "bad",
          "good",
          "good",
          "good",
          "good",
          "good",
          "good",
          "bad",
          "good",
          "bad",
          "good",
          "good",
          "good",
          "bad",
          "good",
          "bad",
          "bad",
          "bad",
          "good",
          "good",
          "good",
          "good",
          "bad",
          "good",
          "good",
          "good",
          "good",
          "good",
          "good",
          "bad",
          "good",
          "good",
          "good",
          "good",
          "bad",
          "good",
          "bad",
          "bad",
          "bad",
          "good",
          "bad",
          "good",
          "good",
          "good",
          "bad",
          "bad",
          "bad",
          "good",
          "bad",
          "good",
          "bad",
          "bad",
          "bad",
          "bad",
          "bad",
          "bad",
          "good",
          "bad",
          "good",
          "good",
          "good",
          "bad",
          "bad",
          "good",
          "good",
          "good",
          "good",
          "bad",
          "bad",
          "good",
          "bad",
          "good",
          "bad",
          "bad",
          "good",
          "bad",
          "good",
          "good",
          "good",
          "bad",
          "bad",
          "good",
          "good",
          "good",
          "bad",
          "bad",
          "bad",
          "bad",
          "good",
          "good",
          "good",
          "good",
          "good",
          "bad",
          "bad",
          "good",
          "good",
          "bad",
          "good",
          "bad",
          "good",
          "bad",
          "bad",
          "good",
          "good",
          "bad",
          "bad",
          "good",
          "good",
          "bad",
          "bad",
          "good",
          "good",
          "good",
          "good",
          "good",
          "good",
          "bad",
          "bad",
          "bad",
          "good",
          "good",
          "good",
          "good",
          "good",
          "good",
          "good",
          "good",
          "good",
          "good",
          "bad",
          "bad",
          "bad",
          "bad",
          "bad",
          "good",
          "bad",
          "good",
          "bad",
          "good",
          "bad",
          "bad",
          "bad",
          "bad",
          "good",
          "good",
          "good",
          "good",
          "good",
          "good",
          "good",
          "good",
          "good",
          "bad",
          "bad",
          "good",
          "bad",
          "good",
          "bad",
          "good",
          "good",
          "bad",
          "bad",
          "good",
          "good",
          "good",
          "bad",
          "good",
          "good",
          "bad",
          "bad",
          "good",
          "bad",
          "bad",
          "good",
          "bad",
          "good",
          "good",
          "good",
          "good",
          "good",
          "bad",
          "bad",
          "bad",
          "bad",
          "bad",
          "bad",
          "good",
          "good",
          "good",
          "good",
          "good",
          "good",
          "bad",
          "bad",
          "good",
          "bad",
          "good",
          "good",
          "bad",
          "good",
          "good",
          "bad",
          "bad",
          "good",
          "bad",
          "bad",
          "good",
          "good",
          "good",
          "good",
          "good",
          "bad",
          "bad",
          "good",
          "good",
          "bad",
          "good",
          "good",
          "bad",
          "bad",
          "good",
          "bad",
          "good",
          "bad",
          "bad",
          "bad",
          "bad",
          "bad",
          "good",
          "good",
          "bad",
          "bad",
          "bad",
          "bad",
          "bad",
          "good",
          "good",
          "bad",
          "bad",
          "bad",
          "good",
          "good",
          "good",
          "bad",
          "bad",
          "good",
          "bad",
          "bad",
          "good",
          "good",
          "bad",
          "bad",
          "good",
          "bad",
          "bad",
          "bad",
          "bad",
          "good",
          "bad",
          "bad",
          "good",
          "good",
          "bad",
          "bad",
          "bad",
          "good",
          "good",
          "good",
          "bad",
          "good",
          "good",
          "bad",
          "good",
          "bad",
          "good",
          "bad",
          "bad",
          "bad",
          "bad",
          "good",
          "good",
          "good",
          "bad",
          "bad",
          "good",
          "bad",
          "bad",
          "bad",
          "good",
          "bad",
          "good",
          "good",
          "good",
          "good",
          "good",
          "good",
          "bad",
          "good",
          "bad",
          "good",
          "good",
          "good",
          "good",
          "good",
          "good",
          "good",
          "good",
          "good",
          "bad",
          "good",
          "good",
          "good",
          "bad",
          "bad",
          "good",
          "good",
          "bad",
          "good",
          "bad",
          "good",
          "bad",
          "bad",
          "bad",
          "good",
          "bad",
          "bad",
          "good",
          "good",
          "bad",
          "good",
          "bad",
          "good",
          "bad",
          "good",
          "good",
          "good",
          "good",
          "good",
          "bad",
          "good",
          "bad",
          "good",
          "good",
          "bad",
          "bad",
          "good",
          "good",
          "bad",
          "good",
          "bad",
          "good",
          "good",
          "good",
          "bad",
          "good",
          "bad",
          "good",
          "bad",
          "bad",
          "bad",
          "good",
          "good",
          "good",
          "bad",
          "good",
          "good",
          "bad",
          "good",
          "good",
          "bad",
          "bad",
          "bad",
          "good",
          "good",
          "bad",
          "good",
          "bad",
          "good",
          "good",
          "bad",
          "bad",
          "bad",
          "bad",
          "bad",
          "good",
          "bad",
          "good",
          "bad",
          "bad",
          "bad",
          "bad",
          "bad",
          "good",
          "good",
          "good",
          "good",
          "good",
          "good",
          "good",
          "bad",
          "bad",
          "bad",
          "bad",
          "good",
          "good",
          "good",
          "good",
          "bad",
          "bad",
          "good",
          "bad",
          "bad",
          "bad",
          "bad",
          "bad",
          "bad",
          "bad",
          "good",
          "bad",
          "bad",
          "good",
          "bad",
          "good",
          "good",
          "bad",
          "good",
          "bad",
          "bad",
          "good",
          "bad",
          "good",
          "good",
          "bad",
          "good",
          "bad",
          "bad",
          "good",
          "good",
          "good",
          "bad",
          "good",
          "good",
          "good",
          "bad",
          "good",
          "good",
          "bad",
          "bad",
          "good",
          "good",
          "bad",
          "bad",
          "good",
          "bad",
          "good",
          "good",
          "good",
          "good",
          "good",
          "good",
          "bad",
          "good"
         ],
         "xaxis": "x",
         "y": {
          "bdata": "Fi01IxwZGBY8HCAsLDAsJCoiPyQbHiEZJSUYGiwYOhceORcXGz0ZFjMpQiIzFjo0Gy8eHDY2OiIkGCMnICMfFxwjFyQZPx4oHiIdHUIsGx4bFh4nHBgdJBQwLSZGIRQfISIhGio0QR4kSkQUISIkFSIbKBsVJhoVMkIfFxgaGzUWGhkePScYGicuGB0bNyQlLRwiJSMaHzEwHCw4GiAqMSEYFhoZHyYbHCAiHCcfHEsYFywXHB8YGhkhJRcXIB0cFxckGRYqKDwlOSYaKBsTJx8gNy4uFhscFCEvFTcdJBlBGh4dHiIjPR8kIxslJCI/HRYXHCEaGScsFxo5LyonHSAcGyoxJhgkIhoaFCUoKxg1Gh4fKSAcISUqLRciKxgiG0MWHBsfGB0XJB8XFhsbGx4xIRQkFS88OhQgFyQtHiIXFjIWMB0WJRUbFkEpHRwsGRobJiAgJigyJS0qFikcKRcjMiIrLxhAHx4fGRkdHSguLykgGBkZJSMZGx8iGBhCGTskIRUsFyMaIBcWHBclMRcXSiMYGCgfHBlCGUMZHxcjMhsnMzAYGBo3GhocGDYuNisaGCkvHiEXHRkwPx07OSEgHSMbGC4aHSgkGys1FysmIhwqKxQZHyBEIScWHjcuFScrGBYXHhweKi4eHigYHB05JS0eLxYXKBYdJDlAGTEcGhkhHTAeKBcb",
          "dtype": "i1"
         },
         "yaxis": "y"
        },
        {
         "boxpoints": "outliers",
         "line": {
          "color": "black"
         },
         "marker": {
          "color": "lightblue"
         },
         "name": "Credit amount",
         "type": "box",
         "x": [
          "bad",
          "good",
          "bad",
          "good",
          "bad",
          "bad",
          "bad",
          "good",
          "bad",
          "good",
          "bad",
          "bad",
          "good",
          "good",
          "good",
          "good",
          "good",
          "good",
          "bad",
          "good",
          "good",
          "good",
          "good",
          "bad",
          "bad",
          "good",
          "good",
          "good",
          "good",
          "good",
          "bad",
          "good",
          "good",
          "bad",
          "good",
          "bad",
          "good",
          "bad",
          "bad",
          "good",
          "good",
          "good",
          "good",
          "bad",
          "good",
          "good",
          "good",
          "good",
          "good",
          "bad",
          "good",
          "bad",
          "good",
          "good",
          "bad",
          "good",
          "good",
          "good",
          "good",
          "bad",
          "good",
          "good",
          "good",
          "good",
          "good",
          "good",
          "bad",
          "good",
          "bad",
          "good",
          "good",
          "good",
          "bad",
          "good",
          "bad",
          "bad",
          "bad",
          "good",
          "good",
          "good",
          "good",
          "bad",
          "good",
          "good",
          "good",
          "good",
          "good",
          "good",
          "bad",
          "good",
          "good",
          "good",
          "good",
          "bad",
          "good",
          "bad",
          "bad",
          "bad",
          "good",
          "bad",
          "good",
          "good",
          "good",
          "bad",
          "bad",
          "bad",
          "good",
          "bad",
          "good",
          "bad",
          "bad",
          "bad",
          "bad",
          "bad",
          "bad",
          "good",
          "bad",
          "good",
          "good",
          "good",
          "bad",
          "bad",
          "good",
          "good",
          "good",
          "good",
          "bad",
          "bad",
          "good",
          "bad",
          "good",
          "bad",
          "bad",
          "good",
          "bad",
          "good",
          "good",
          "good",
          "bad",
          "bad",
          "good",
          "good",
          "good",
          "bad",
          "bad",
          "bad",
          "bad",
          "good",
          "good",
          "good",
          "good",
          "good",
          "bad",
          "bad",
          "good",
          "good",
          "bad",
          "good",
          "bad",
          "good",
          "bad",
          "bad",
          "good",
          "good",
          "bad",
          "bad",
          "good",
          "good",
          "bad",
          "bad",
          "good",
          "good",
          "good",
          "good",
          "good",
          "good",
          "bad",
          "bad",
          "bad",
          "good",
          "good",
          "good",
          "good",
          "good",
          "good",
          "good",
          "good",
          "good",
          "good",
          "bad",
          "bad",
          "bad",
          "bad",
          "bad",
          "good",
          "bad",
          "good",
          "bad",
          "good",
          "bad",
          "bad",
          "bad",
          "bad",
          "good",
          "good",
          "good",
          "good",
          "good",
          "good",
          "good",
          "good",
          "good",
          "bad",
          "bad",
          "good",
          "bad",
          "good",
          "bad",
          "good",
          "good",
          "bad",
          "bad",
          "good",
          "good",
          "good",
          "bad",
          "good",
          "good",
          "bad",
          "bad",
          "good",
          "bad",
          "bad",
          "good",
          "bad",
          "good",
          "good",
          "good",
          "good",
          "good",
          "bad",
          "bad",
          "bad",
          "bad",
          "bad",
          "bad",
          "good",
          "good",
          "good",
          "good",
          "good",
          "good",
          "bad",
          "bad",
          "good",
          "bad",
          "good",
          "good",
          "bad",
          "good",
          "good",
          "bad",
          "bad",
          "good",
          "bad",
          "bad",
          "good",
          "good",
          "good",
          "good",
          "good",
          "bad",
          "bad",
          "good",
          "good",
          "bad",
          "good",
          "good",
          "bad",
          "bad",
          "good",
          "bad",
          "good",
          "bad",
          "bad",
          "bad",
          "bad",
          "bad",
          "good",
          "good",
          "bad",
          "bad",
          "bad",
          "bad",
          "bad",
          "good",
          "good",
          "bad",
          "bad",
          "bad",
          "good",
          "good",
          "good",
          "bad",
          "bad",
          "good",
          "bad",
          "bad",
          "good",
          "good",
          "bad",
          "bad",
          "good",
          "bad",
          "bad",
          "bad",
          "bad",
          "good",
          "bad",
          "bad",
          "good",
          "good",
          "bad",
          "bad",
          "bad",
          "good",
          "good",
          "good",
          "bad",
          "good",
          "good",
          "bad",
          "good",
          "bad",
          "good",
          "bad",
          "bad",
          "bad",
          "bad",
          "good",
          "good",
          "good",
          "bad",
          "bad",
          "good",
          "bad",
          "bad",
          "bad",
          "good",
          "bad",
          "good",
          "good",
          "good",
          "good",
          "good",
          "good",
          "bad",
          "good",
          "bad",
          "good",
          "good",
          "good",
          "good",
          "good",
          "good",
          "good",
          "good",
          "good",
          "bad",
          "good",
          "good",
          "good",
          "bad",
          "bad",
          "good",
          "good",
          "bad",
          "good",
          "bad",
          "good",
          "bad",
          "bad",
          "bad",
          "good",
          "bad",
          "bad",
          "good",
          "good",
          "bad",
          "good",
          "bad",
          "good",
          "bad",
          "good",
          "good",
          "good",
          "good",
          "good",
          "bad",
          "good",
          "bad",
          "good",
          "good",
          "bad",
          "bad",
          "good",
          "good",
          "bad",
          "good",
          "bad",
          "good",
          "good",
          "good",
          "bad",
          "good",
          "bad",
          "good",
          "bad",
          "bad",
          "bad",
          "good",
          "good",
          "good",
          "bad",
          "good",
          "good",
          "bad",
          "good",
          "good",
          "bad",
          "bad",
          "bad",
          "good",
          "good",
          "bad",
          "good",
          "bad",
          "good",
          "good",
          "bad",
          "bad",
          "bad",
          "bad",
          "bad",
          "good",
          "bad",
          "good",
          "bad",
          "bad",
          "bad",
          "bad",
          "bad",
          "good",
          "good",
          "good",
          "good",
          "good",
          "good",
          "good",
          "bad",
          "bad",
          "bad",
          "bad",
          "good",
          "good",
          "good",
          "good",
          "bad",
          "bad",
          "good",
          "bad",
          "bad",
          "bad",
          "bad",
          "bad",
          "bad",
          "bad",
          "good",
          "bad",
          "bad",
          "good",
          "bad",
          "good",
          "good",
          "bad",
          "good",
          "bad",
          "bad",
          "good",
          "bad",
          "good",
          "good",
          "bad",
          "good",
          "bad",
          "bad",
          "good",
          "good",
          "good",
          "bad",
          "good",
          "good",
          "good",
          "bad",
          "good",
          "good",
          "bad",
          "bad",
          "good",
          "good",
          "bad",
          "bad",
          "good",
          "bad",
          "good",
          "good",
          "good",
          "good",
          "good",
          "good",
          "bad",
          "good"
         ],
         "xaxis": "x2",
         "y": {
          "bdata": "PxfKHgYTJBtyFA8F1BAfBq8EewUCBSMxVwrBCAwHXgWZAW8JtBp5B7QP6hbCBYoSNAjJBMoBhgQ8GCsY/xdIBU0XsQipB1UYbwWhB1U47wOMBEIX9gV9D6MS+A7bBgsJDwVEMckIVASBBSYFST4+CiEJEwl/B6IuvheCBakFiAF0GJAGuRA+CSsHDQNJCL0CfwJEB6sN5xr+AlkHxQK7ElgNngnuDVwD+xTYFk4eNxsCBQgFUwG4DYwcawQpBo8HtgMQCIYFVg0RClIBOwJnEXQDCRSXBKICrAwED0sP1wvdBbcDyRCQBIYDfymQBagZrRR0ByAMSQ/NC3EC0Sq5Hk0MchBiAx8HzwraCf0RhQeaAssIZghlCHkGQwa2FCIDEiP0C94uJg/iKbQSnh1EBAAEtiQTGbwS6Ca5CtwODgTXAtUEFAGlDq0CugrEAjsOmRCSB14LYwpGDXkRLATXGfAcDhA4DTUISRDxBW8WDw6NDFcRbQ9yA64OcAS/AzcY3gRmCccIqQlCDnYNuQu+OQUe7jewMjIFzhwWCdcDsQylB/AtEgosCccE9wcdBKsDrwcTCr4D2wqmBEAsUAdYCEINYQJUBkUK6BMyBxAK6AXREkEPOg1XASQOuQbJC2wLewYUDMABjgLdBCoMIBQNBMYF9Q2xBCYOuQR+IEoISiMVBSsFMwx1FWYEwAS3BDgJwhr3An8KSQJhAlEFswR2DM8bWQQeH/4IlgLhCEcKDwkcDlMe6Qv+BTALNQVyAlcbywevBDMF5gjgDYgHCgarAhEGXAVmGqIMJgM6BHILBAsgBDQMUAn3B+8KCQXBBMYIgQGeCqMDogWREBkJlgMtB/sEDAtvCuUC2AQdDTAOXA5xDUQOQgcoCkQInQVMDhEGSwUSEe4CHAVYB+cRswOsAjQdggf/CJYfhQ94A30Q2RgRBRoEFwSoDesSyQvbFVAJgSYuC0MOzwNHClALTwRxB7sYYQXHCeAJoBmZC7YERgiuBHIEyzYEGDkFsQHMBBYDWgcQGfsEAxnDB/gCKC0cEbgQFQkYBLMJBQfPCfoErAHQA0kDEwWzAkwIpgiDBCQMIQ6BH8gFtQ0gD0UTggVEA5UHUBhuF6QETAsDB7AQNyROAkMk8gaLA+QBnSXrC1sPCB3xPUEFyAuYCtsCQgZ+D8AEKC4XCToEjQs7FFQFxQK7CKIFdw+HCVUJjAI/BWYFBg4qBZQHjgXZDxsDOD2KCXsIqBYuCjkQQQpTBIASWQz4RzA6NwkRDVYF0gfYGrkCGQQ5KEAF0waGBtoFfwfpAg8IkBg1B6YgFQ0GDmEIERBlB88EggSmD/0LMQnGAdgJYw/qBakEgRzqBPEC8ATCIGsLJSCZBZEYsxnPBncPEQ81B+AR",
          "dtype": "i2"
         },
         "yaxis": "y2"
        },
        {
         "boxpoints": "outliers",
         "line": {
          "color": "black"
         },
         "marker": {
          "color": "lightblue"
         },
         "name": "Duration",
         "type": "box",
         "x": [
          "bad",
          "good",
          "bad",
          "good",
          "bad",
          "bad",
          "bad",
          "good",
          "bad",
          "good",
          "bad",
          "bad",
          "good",
          "good",
          "good",
          "good",
          "good",
          "good",
          "bad",
          "good",
          "good",
          "good",
          "good",
          "bad",
          "bad",
          "good",
          "good",
          "good",
          "good",
          "good",
          "bad",
          "good",
          "good",
          "bad",
          "good",
          "bad",
          "good",
          "bad",
          "bad",
          "good",
          "good",
          "good",
          "good",
          "bad",
          "good",
          "good",
          "good",
          "good",
          "good",
          "bad",
          "good",
          "bad",
          "good",
          "good",
          "bad",
          "good",
          "good",
          "good",
          "good",
          "bad",
          "good",
          "good",
          "good",
          "good",
          "good",
          "good",
          "bad",
          "good",
          "bad",
          "good",
          "good",
          "good",
          "bad",
          "good",
          "bad",
          "bad",
          "bad",
          "good",
          "good",
          "good",
          "good",
          "bad",
          "good",
          "good",
          "good",
          "good",
          "good",
          "good",
          "bad",
          "good",
          "good",
          "good",
          "good",
          "bad",
          "good",
          "bad",
          "bad",
          "bad",
          "good",
          "bad",
          "good",
          "good",
          "good",
          "bad",
          "bad",
          "bad",
          "good",
          "bad",
          "good",
          "bad",
          "bad",
          "bad",
          "bad",
          "bad",
          "bad",
          "good",
          "bad",
          "good",
          "good",
          "good",
          "bad",
          "bad",
          "good",
          "good",
          "good",
          "good",
          "bad",
          "bad",
          "good",
          "bad",
          "good",
          "bad",
          "bad",
          "good",
          "bad",
          "good",
          "good",
          "good",
          "bad",
          "bad",
          "good",
          "good",
          "good",
          "bad",
          "bad",
          "bad",
          "bad",
          "good",
          "good",
          "good",
          "good",
          "good",
          "bad",
          "bad",
          "good",
          "good",
          "bad",
          "good",
          "bad",
          "good",
          "bad",
          "bad",
          "good",
          "good",
          "bad",
          "bad",
          "good",
          "good",
          "bad",
          "bad",
          "good",
          "good",
          "good",
          "good",
          "good",
          "good",
          "bad",
          "bad",
          "bad",
          "good",
          "good",
          "good",
          "good",
          "good",
          "good",
          "good",
          "good",
          "good",
          "good",
          "bad",
          "bad",
          "bad",
          "bad",
          "bad",
          "good",
          "bad",
          "good",
          "bad",
          "good",
          "bad",
          "bad",
          "bad",
          "bad",
          "good",
          "good",
          "good",
          "good",
          "good",
          "good",
          "good",
          "good",
          "good",
          "bad",
          "bad",
          "good",
          "bad",
          "good",
          "bad",
          "good",
          "good",
          "bad",
          "bad",
          "good",
          "good",
          "good",
          "bad",
          "good",
          "good",
          "bad",
          "bad",
          "good",
          "bad",
          "bad",
          "good",
          "bad",
          "good",
          "good",
          "good",
          "good",
          "good",
          "bad",
          "bad",
          "bad",
          "bad",
          "bad",
          "bad",
          "good",
          "good",
          "good",
          "good",
          "good",
          "good",
          "bad",
          "bad",
          "good",
          "bad",
          "good",
          "good",
          "bad",
          "good",
          "good",
          "bad",
          "bad",
          "good",
          "bad",
          "bad",
          "good",
          "good",
          "good",
          "good",
          "good",
          "bad",
          "bad",
          "good",
          "good",
          "bad",
          "good",
          "good",
          "bad",
          "bad",
          "good",
          "bad",
          "good",
          "bad",
          "bad",
          "bad",
          "bad",
          "bad",
          "good",
          "good",
          "bad",
          "bad",
          "bad",
          "bad",
          "bad",
          "good",
          "good",
          "bad",
          "bad",
          "bad",
          "good",
          "good",
          "good",
          "bad",
          "bad",
          "good",
          "bad",
          "bad",
          "good",
          "good",
          "bad",
          "bad",
          "good",
          "bad",
          "bad",
          "bad",
          "bad",
          "good",
          "bad",
          "bad",
          "good",
          "good",
          "bad",
          "bad",
          "bad",
          "good",
          "good",
          "good",
          "bad",
          "good",
          "good",
          "bad",
          "good",
          "bad",
          "good",
          "bad",
          "bad",
          "bad",
          "bad",
          "good",
          "good",
          "good",
          "bad",
          "bad",
          "good",
          "bad",
          "bad",
          "bad",
          "good",
          "bad",
          "good",
          "good",
          "good",
          "good",
          "good",
          "good",
          "bad",
          "good",
          "bad",
          "good",
          "good",
          "good",
          "good",
          "good",
          "good",
          "good",
          "good",
          "good",
          "bad",
          "good",
          "good",
          "good",
          "bad",
          "bad",
          "good",
          "good",
          "bad",
          "good",
          "bad",
          "good",
          "bad",
          "bad",
          "bad",
          "good",
          "bad",
          "bad",
          "good",
          "good",
          "bad",
          "good",
          "bad",
          "good",
          "bad",
          "good",
          "good",
          "good",
          "good",
          "good",
          "bad",
          "good",
          "bad",
          "good",
          "good",
          "bad",
          "bad",
          "good",
          "good",
          "bad",
          "good",
          "bad",
          "good",
          "good",
          "good",
          "bad",
          "good",
          "bad",
          "good",
          "bad",
          "bad",
          "bad",
          "good",
          "good",
          "good",
          "bad",
          "good",
          "good",
          "bad",
          "good",
          "good",
          "bad",
          "bad",
          "bad",
          "good",
          "good",
          "bad",
          "good",
          "bad",
          "good",
          "good",
          "bad",
          "bad",
          "bad",
          "bad",
          "bad",
          "good",
          "bad",
          "good",
          "bad",
          "bad",
          "bad",
          "bad",
          "bad",
          "good",
          "good",
          "good",
          "good",
          "good",
          "good",
          "good",
          "bad",
          "bad",
          "bad",
          "bad",
          "good",
          "good",
          "good",
          "good",
          "bad",
          "bad",
          "good",
          "bad",
          "bad",
          "bad",
          "bad",
          "bad",
          "bad",
          "bad",
          "good",
          "bad",
          "bad",
          "good",
          "bad",
          "good",
          "good",
          "bad",
          "good",
          "bad",
          "bad",
          "good",
          "bad",
          "good",
          "good",
          "bad",
          "good",
          "bad",
          "bad",
          "good",
          "good",
          "good",
          "bad",
          "good",
          "good",
          "good",
          "bad",
          "good",
          "good",
          "bad",
          "bad",
          "good",
          "good",
          "bad",
          "bad",
          "good",
          "bad",
          "good",
          "good",
          "good",
          "good",
          "good",
          "good",
          "bad",
          "good"
         ],
         "xaxis": "x3",
         "y": {
          "bdata": "MCoYJB4MMAwYDxgYBgoMBgwHPBIYEgwtEgoJDBIeMAYbJBIkCSQwDAgqDCoLHhgKEiQSDAwMNhIkJAkYDA4GDxIMIQwVCgwMDAwMJAwMBiQbEjAGJCQYGAwJDBgKEgsYDxgIFQwGFSQSCRAMEjAbLQkMEgwMHgwYGx4SJBgMMAwYJBIYFR4wGAYMHgwMGBIPDjAeGC8wMAwYJBgqMBUkCgwICRgMJAwPHhgYEggkBhg8GAYNGAoYFRISCg0YCQkMGB4MEhIkEjwwJBIMEg8MJAYnDCQMGA8MGAwMEhIYBgkqDAwUMCQHDxgLDAYkDwwYGBgGCRISGAwPDBgeBhsMJBIGGCQJGBgPDwwPDAYGBhIwEhokBiQPFRIwEgwSGAwwDAkMEhgSGAYYDDAYDwkMJBIMJBIJDBIMDBgGGBgHCRgKGCQMChUYBh4VDBIGCRgSGCoSDxIeGAwwDBgkDgweEgwGBh4MHkgYJCQMDw8YDA8wGB4bMAwJCQYJPBQJBgwJEjAYGBgIGBIeGAoYDQ8MBhIMBgwSDAweDCQMEhInDAwSMCgVGBIUJAYqDwgGJDAwJCQSDCQIFRISLQ8MGCQJDBQSDxgSDAYYDAsSCRgMMBsMJBUSEAwYGDAGGBgJDBgMEjAMGAkMHgkGPA8wGBIkGAwYCRwYFQYbCw8YPBgGDx4VJA8qGBgkHi0t",
          "dtype": "i1"
         },
         "yaxis": "y3"
        }
       ],
       "layout": {
        "annotations": [
         {
          "font": {
           "size": 16
          },
          "showarrow": false,
          "text": "Age",
          "x": 0.14444444444444446,
          "xanchor": "center",
          "xref": "paper",
          "y": 1,
          "yanchor": "bottom",
          "yref": "paper"
         },
         {
          "font": {
           "size": 16
          },
          "showarrow": false,
          "text": "Credit amount",
          "x": 0.5,
          "xanchor": "center",
          "xref": "paper",
          "y": 1,
          "yanchor": "bottom",
          "yref": "paper"
         },
         {
          "font": {
           "size": 16
          },
          "showarrow": false,
          "text": "Duration",
          "x": 0.8555555555555556,
          "xanchor": "center",
          "xref": "paper",
          "y": 1,
          "yanchor": "bottom",
          "yref": "paper"
         }
        ],
        "margin": {
         "b": 40,
         "l": 40,
         "r": 40,
         "t": 60
        },
        "showlegend": false,
        "template": {
         "data": {
          "bar": [
           {
            "error_x": {
             "color": "#2a3f5f"
            },
            "error_y": {
             "color": "#2a3f5f"
            },
            "marker": {
             "line": {
              "color": "#E5ECF6",
              "width": 0.5
             },
             "pattern": {
              "fillmode": "overlay",
              "size": 10,
              "solidity": 0.2
             }
            },
            "type": "bar"
           }
          ],
          "barpolar": [
           {
            "marker": {
             "line": {
              "color": "#E5ECF6",
              "width": 0.5
             },
             "pattern": {
              "fillmode": "overlay",
              "size": 10,
              "solidity": 0.2
             }
            },
            "type": "barpolar"
           }
          ],
          "carpet": [
           {
            "aaxis": {
             "endlinecolor": "#2a3f5f",
             "gridcolor": "white",
             "linecolor": "white",
             "minorgridcolor": "white",
             "startlinecolor": "#2a3f5f"
            },
            "baxis": {
             "endlinecolor": "#2a3f5f",
             "gridcolor": "white",
             "linecolor": "white",
             "minorgridcolor": "white",
             "startlinecolor": "#2a3f5f"
            },
            "type": "carpet"
           }
          ],
          "choropleth": [
           {
            "colorbar": {
             "outlinewidth": 0,
             "ticks": ""
            },
            "type": "choropleth"
           }
          ],
          "contour": [
           {
            "colorbar": {
             "outlinewidth": 0,
             "ticks": ""
            },
            "colorscale": [
             [
              0,
              "#0d0887"
             ],
             [
              0.1111111111111111,
              "#46039f"
             ],
             [
              0.2222222222222222,
              "#7201a8"
             ],
             [
              0.3333333333333333,
              "#9c179e"
             ],
             [
              0.4444444444444444,
              "#bd3786"
             ],
             [
              0.5555555555555556,
              "#d8576b"
             ],
             [
              0.6666666666666666,
              "#ed7953"
             ],
             [
              0.7777777777777778,
              "#fb9f3a"
             ],
             [
              0.8888888888888888,
              "#fdca26"
             ],
             [
              1,
              "#f0f921"
             ]
            ],
            "type": "contour"
           }
          ],
          "contourcarpet": [
           {
            "colorbar": {
             "outlinewidth": 0,
             "ticks": ""
            },
            "type": "contourcarpet"
           }
          ],
          "heatmap": [
           {
            "colorbar": {
             "outlinewidth": 0,
             "ticks": ""
            },
            "colorscale": [
             [
              0,
              "#0d0887"
             ],
             [
              0.1111111111111111,
              "#46039f"
             ],
             [
              0.2222222222222222,
              "#7201a8"
             ],
             [
              0.3333333333333333,
              "#9c179e"
             ],
             [
              0.4444444444444444,
              "#bd3786"
             ],
             [
              0.5555555555555556,
              "#d8576b"
             ],
             [
              0.6666666666666666,
              "#ed7953"
             ],
             [
              0.7777777777777778,
              "#fb9f3a"
             ],
             [
              0.8888888888888888,
              "#fdca26"
             ],
             [
              1,
              "#f0f921"
             ]
            ],
            "type": "heatmap"
           }
          ],
          "histogram": [
           {
            "marker": {
             "pattern": {
              "fillmode": "overlay",
              "size": 10,
              "solidity": 0.2
             }
            },
            "type": "histogram"
           }
          ],
          "histogram2d": [
           {
            "colorbar": {
             "outlinewidth": 0,
             "ticks": ""
            },
            "colorscale": [
             [
              0,
              "#0d0887"
             ],
             [
              0.1111111111111111,
              "#46039f"
             ],
             [
              0.2222222222222222,
              "#7201a8"
             ],
             [
              0.3333333333333333,
              "#9c179e"
             ],
             [
              0.4444444444444444,
              "#bd3786"
             ],
             [
              0.5555555555555556,
              "#d8576b"
             ],
             [
              0.6666666666666666,
              "#ed7953"
             ],
             [
              0.7777777777777778,
              "#fb9f3a"
             ],
             [
              0.8888888888888888,
              "#fdca26"
             ],
             [
              1,
              "#f0f921"
             ]
            ],
            "type": "histogram2d"
           }
          ],
          "histogram2dcontour": [
           {
            "colorbar": {
             "outlinewidth": 0,
             "ticks": ""
            },
            "colorscale": [
             [
              0,
              "#0d0887"
             ],
             [
              0.1111111111111111,
              "#46039f"
             ],
             [
              0.2222222222222222,
              "#7201a8"
             ],
             [
              0.3333333333333333,
              "#9c179e"
             ],
             [
              0.4444444444444444,
              "#bd3786"
             ],
             [
              0.5555555555555556,
              "#d8576b"
             ],
             [
              0.6666666666666666,
              "#ed7953"
             ],
             [
              0.7777777777777778,
              "#fb9f3a"
             ],
             [
              0.8888888888888888,
              "#fdca26"
             ],
             [
              1,
              "#f0f921"
             ]
            ],
            "type": "histogram2dcontour"
           }
          ],
          "mesh3d": [
           {
            "colorbar": {
             "outlinewidth": 0,
             "ticks": ""
            },
            "type": "mesh3d"
           }
          ],
          "parcoords": [
           {
            "line": {
             "colorbar": {
              "outlinewidth": 0,
              "ticks": ""
             }
            },
            "type": "parcoords"
           }
          ],
          "pie": [
           {
            "automargin": true,
            "type": "pie"
           }
          ],
          "scatter": [
           {
            "fillpattern": {
             "fillmode": "overlay",
             "size": 10,
             "solidity": 0.2
            },
            "type": "scatter"
           }
          ],
          "scatter3d": [
           {
            "line": {
             "colorbar": {
              "outlinewidth": 0,
              "ticks": ""
             }
            },
            "marker": {
             "colorbar": {
              "outlinewidth": 0,
              "ticks": ""
             }
            },
            "type": "scatter3d"
           }
          ],
          "scattercarpet": [
           {
            "marker": {
             "colorbar": {
              "outlinewidth": 0,
              "ticks": ""
             }
            },
            "type": "scattercarpet"
           }
          ],
          "scattergeo": [
           {
            "marker": {
             "colorbar": {
              "outlinewidth": 0,
              "ticks": ""
             }
            },
            "type": "scattergeo"
           }
          ],
          "scattergl": [
           {
            "marker": {
             "colorbar": {
              "outlinewidth": 0,
              "ticks": ""
             }
            },
            "type": "scattergl"
           }
          ],
          "scattermap": [
           {
            "marker": {
             "colorbar": {
              "outlinewidth": 0,
              "ticks": ""
             }
            },
            "type": "scattermap"
           }
          ],
          "scattermapbox": [
           {
            "marker": {
             "colorbar": {
              "outlinewidth": 0,
              "ticks": ""
             }
            },
            "type": "scattermapbox"
           }
          ],
          "scatterpolar": [
           {
            "marker": {
             "colorbar": {
              "outlinewidth": 0,
              "ticks": ""
             }
            },
            "type": "scatterpolar"
           }
          ],
          "scatterpolargl": [
           {
            "marker": {
             "colorbar": {
              "outlinewidth": 0,
              "ticks": ""
             }
            },
            "type": "scatterpolargl"
           }
          ],
          "scatterternary": [
           {
            "marker": {
             "colorbar": {
              "outlinewidth": 0,
              "ticks": ""
             }
            },
            "type": "scatterternary"
           }
          ],
          "surface": [
           {
            "colorbar": {
             "outlinewidth": 0,
             "ticks": ""
            },
            "colorscale": [
             [
              0,
              "#0d0887"
             ],
             [
              0.1111111111111111,
              "#46039f"
             ],
             [
              0.2222222222222222,
              "#7201a8"
             ],
             [
              0.3333333333333333,
              "#9c179e"
             ],
             [
              0.4444444444444444,
              "#bd3786"
             ],
             [
              0.5555555555555556,
              "#d8576b"
             ],
             [
              0.6666666666666666,
              "#ed7953"
             ],
             [
              0.7777777777777778,
              "#fb9f3a"
             ],
             [
              0.8888888888888888,
              "#fdca26"
             ],
             [
              1,
              "#f0f921"
             ]
            ],
            "type": "surface"
           }
          ],
          "table": [
           {
            "cells": {
             "fill": {
              "color": "#EBF0F8"
             },
             "line": {
              "color": "white"
             }
            },
            "header": {
             "fill": {
              "color": "#C8D4E3"
             },
             "line": {
              "color": "white"
             }
            },
            "type": "table"
           }
          ]
         },
         "layout": {
          "annotationdefaults": {
           "arrowcolor": "#2a3f5f",
           "arrowhead": 0,
           "arrowwidth": 1
          },
          "autotypenumbers": "strict",
          "coloraxis": {
           "colorbar": {
            "outlinewidth": 0,
            "ticks": ""
           }
          },
          "colorscale": {
           "diverging": [
            [
             0,
             "#8e0152"
            ],
            [
             0.1,
             "#c51b7d"
            ],
            [
             0.2,
             "#de77ae"
            ],
            [
             0.3,
             "#f1b6da"
            ],
            [
             0.4,
             "#fde0ef"
            ],
            [
             0.5,
             "#f7f7f7"
            ],
            [
             0.6,
             "#e6f5d0"
            ],
            [
             0.7,
             "#b8e186"
            ],
            [
             0.8,
             "#7fbc41"
            ],
            [
             0.9,
             "#4d9221"
            ],
            [
             1,
             "#276419"
            ]
           ],
           "sequential": [
            [
             0,
             "#0d0887"
            ],
            [
             0.1111111111111111,
             "#46039f"
            ],
            [
             0.2222222222222222,
             "#7201a8"
            ],
            [
             0.3333333333333333,
             "#9c179e"
            ],
            [
             0.4444444444444444,
             "#bd3786"
            ],
            [
             0.5555555555555556,
             "#d8576b"
            ],
            [
             0.6666666666666666,
             "#ed7953"
            ],
            [
             0.7777777777777778,
             "#fb9f3a"
            ],
            [
             0.8888888888888888,
             "#fdca26"
            ],
            [
             1,
             "#f0f921"
            ]
           ],
           "sequentialminus": [
            [
             0,
             "#0d0887"
            ],
            [
             0.1111111111111111,
             "#46039f"
            ],
            [
             0.2222222222222222,
             "#7201a8"
            ],
            [
             0.3333333333333333,
             "#9c179e"
            ],
            [
             0.4444444444444444,
             "#bd3786"
            ],
            [
             0.5555555555555556,
             "#d8576b"
            ],
            [
             0.6666666666666666,
             "#ed7953"
            ],
            [
             0.7777777777777778,
             "#fb9f3a"
            ],
            [
             0.8888888888888888,
             "#fdca26"
            ],
            [
             1,
             "#f0f921"
            ]
           ]
          },
          "colorway": [
           "#636efa",
           "#EF553B",
           "#00cc96",
           "#ab63fa",
           "#FFA15A",
           "#19d3f3",
           "#FF6692",
           "#B6E880",
           "#FF97FF",
           "#FECB52"
          ],
          "font": {
           "color": "#2a3f5f"
          },
          "geo": {
           "bgcolor": "white",
           "lakecolor": "white",
           "landcolor": "#E5ECF6",
           "showlakes": true,
           "showland": true,
           "subunitcolor": "white"
          },
          "hoverlabel": {
           "align": "left"
          },
          "hovermode": "closest",
          "mapbox": {
           "style": "light"
          },
          "paper_bgcolor": "white",
          "plot_bgcolor": "#E5ECF6",
          "polar": {
           "angularaxis": {
            "gridcolor": "white",
            "linecolor": "white",
            "ticks": ""
           },
           "bgcolor": "#E5ECF6",
           "radialaxis": {
            "gridcolor": "white",
            "linecolor": "white",
            "ticks": ""
           }
          },
          "scene": {
           "xaxis": {
            "backgroundcolor": "#E5ECF6",
            "gridcolor": "white",
            "gridwidth": 2,
            "linecolor": "white",
            "showbackground": true,
            "ticks": "",
            "zerolinecolor": "white"
           },
           "yaxis": {
            "backgroundcolor": "#E5ECF6",
            "gridcolor": "white",
            "gridwidth": 2,
            "linecolor": "white",
            "showbackground": true,
            "ticks": "",
            "zerolinecolor": "white"
           },
           "zaxis": {
            "backgroundcolor": "#E5ECF6",
            "gridcolor": "white",
            "gridwidth": 2,
            "linecolor": "white",
            "showbackground": true,
            "ticks": "",
            "zerolinecolor": "white"
           }
          },
          "shapedefaults": {
           "line": {
            "color": "#2a3f5f"
           }
          },
          "ternary": {
           "aaxis": {
            "gridcolor": "white",
            "linecolor": "white",
            "ticks": ""
           },
           "baxis": {
            "gridcolor": "white",
            "linecolor": "white",
            "ticks": ""
           },
           "bgcolor": "#E5ECF6",
           "caxis": {
            "gridcolor": "white",
            "linecolor": "white",
            "ticks": ""
           }
          },
          "title": {
           "x": 0.05
          },
          "xaxis": {
           "automargin": true,
           "gridcolor": "white",
           "linecolor": "white",
           "ticks": "",
           "title": {
            "standoff": 15
           },
           "zerolinecolor": "white",
           "zerolinewidth": 2
          },
          "yaxis": {
           "automargin": true,
           "gridcolor": "white",
           "linecolor": "white",
           "ticks": "",
           "title": {
            "standoff": 15
           },
           "zerolinecolor": "white",
           "zerolinewidth": 2
          }
         }
        },
        "title": {
         "text": "Boxplots der Merkmale nach Risiko-Klasse"
        },
        "xaxis": {
         "anchor": "y",
         "domain": [
          0,
          0.2888888888888889
         ]
        },
        "xaxis2": {
         "anchor": "y2",
         "domain": [
          0.35555555555555557,
          0.6444444444444445
         ]
        },
        "xaxis3": {
         "anchor": "y3",
         "domain": [
          0.7111111111111111,
          1
         ]
        },
        "yaxis": {
         "anchor": "x",
         "domain": [
          0,
          1
         ]
        },
        "yaxis2": {
         "anchor": "x2",
         "domain": [
          0,
          1
         ]
        },
        "yaxis3": {
         "anchor": "x3",
         "domain": [
          0,
          1
         ]
        }
       }
      },
      "text/html": [
       "<div>                        <script type=\"text/javascript\">window.PlotlyConfig = {MathJaxConfig: 'local'};</script>\n",
       "        <script charset=\"utf-8\" src=\"https://cdn.plot.ly/plotly-3.1.0.min.js\" integrity=\"sha256-Ei4740bWZhaUTQuD6q9yQlgVCMPBz6CZWhevDYPv93A=\" crossorigin=\"anonymous\"></script>                <div id=\"cf8afafb-ad8f-4762-b1bc-43d2904a6807\" class=\"plotly-graph-div\" style=\"height:100%; width:100%;\"></div>            <script type=\"text/javascript\">                window.PLOTLYENV=window.PLOTLYENV || {};                                if (document.getElementById(\"cf8afafb-ad8f-4762-b1bc-43d2904a6807\")) {                    Plotly.newPlot(                        \"cf8afafb-ad8f-4762-b1bc-43d2904a6807\",                        [{\"boxpoints\":\"outliers\",\"line\":{\"color\":\"black\"},\"marker\":{\"color\":\"lightblue\"},\"name\":\"Age\",\"x\":[\"bad\",\"good\",\"bad\",\"good\",\"bad\",\"bad\",\"bad\",\"good\",\"bad\",\"good\",\"bad\",\"bad\",\"good\",\"good\",\"good\",\"good\",\"good\",\"good\",\"bad\",\"good\",\"good\",\"good\",\"good\",\"bad\",\"bad\",\"good\",\"good\",\"good\",\"good\",\"good\",\"bad\",\"good\",\"good\",\"bad\",\"good\",\"bad\",\"good\",\"bad\",\"bad\",\"good\",\"good\",\"good\",\"good\",\"bad\",\"good\",\"good\",\"good\",\"good\",\"good\",\"bad\",\"good\",\"bad\",\"good\",\"good\",\"bad\",\"good\",\"good\",\"good\",\"good\",\"bad\",\"good\",\"good\",\"good\",\"good\",\"good\",\"good\",\"bad\",\"good\",\"bad\",\"good\",\"good\",\"good\",\"bad\",\"good\",\"bad\",\"bad\",\"bad\",\"good\",\"good\",\"good\",\"good\",\"bad\",\"good\",\"good\",\"good\",\"good\",\"good\",\"good\",\"bad\",\"good\",\"good\",\"good\",\"good\",\"bad\",\"good\",\"bad\",\"bad\",\"bad\",\"good\",\"bad\",\"good\",\"good\",\"good\",\"bad\",\"bad\",\"bad\",\"good\",\"bad\",\"good\",\"bad\",\"bad\",\"bad\",\"bad\",\"bad\",\"bad\",\"good\",\"bad\",\"good\",\"good\",\"good\",\"bad\",\"bad\",\"good\",\"good\",\"good\",\"good\",\"bad\",\"bad\",\"good\",\"bad\",\"good\",\"bad\",\"bad\",\"good\",\"bad\",\"good\",\"good\",\"good\",\"bad\",\"bad\",\"good\",\"good\",\"good\",\"bad\",\"bad\",\"bad\",\"bad\",\"good\",\"good\",\"good\",\"good\",\"good\",\"bad\",\"bad\",\"good\",\"good\",\"bad\",\"good\",\"bad\",\"good\",\"bad\",\"bad\",\"good\",\"good\",\"bad\",\"bad\",\"good\",\"good\",\"bad\",\"bad\",\"good\",\"good\",\"good\",\"good\",\"good\",\"good\",\"bad\",\"bad\",\"bad\",\"good\",\"good\",\"good\",\"good\",\"good\",\"good\",\"good\",\"good\",\"good\",\"good\",\"bad\",\"bad\",\"bad\",\"bad\",\"bad\",\"good\",\"bad\",\"good\",\"bad\",\"good\",\"bad\",\"bad\",\"bad\",\"bad\",\"good\",\"good\",\"good\",\"good\",\"good\",\"good\",\"good\",\"good\",\"good\",\"bad\",\"bad\",\"good\",\"bad\",\"good\",\"bad\",\"good\",\"good\",\"bad\",\"bad\",\"good\",\"good\",\"good\",\"bad\",\"good\",\"good\",\"bad\",\"bad\",\"good\",\"bad\",\"bad\",\"good\",\"bad\",\"good\",\"good\",\"good\",\"good\",\"good\",\"bad\",\"bad\",\"bad\",\"bad\",\"bad\",\"bad\",\"good\",\"good\",\"good\",\"good\",\"good\",\"good\",\"bad\",\"bad\",\"good\",\"bad\",\"good\",\"good\",\"bad\",\"good\",\"good\",\"bad\",\"bad\",\"good\",\"bad\",\"bad\",\"good\",\"good\",\"good\",\"good\",\"good\",\"bad\",\"bad\",\"good\",\"good\",\"bad\",\"good\",\"good\",\"bad\",\"bad\",\"good\",\"bad\",\"good\",\"bad\",\"bad\",\"bad\",\"bad\",\"bad\",\"good\",\"good\",\"bad\",\"bad\",\"bad\",\"bad\",\"bad\",\"good\",\"good\",\"bad\",\"bad\",\"bad\",\"good\",\"good\",\"good\",\"bad\",\"bad\",\"good\",\"bad\",\"bad\",\"good\",\"good\",\"bad\",\"bad\",\"good\",\"bad\",\"bad\",\"bad\",\"bad\",\"good\",\"bad\",\"bad\",\"good\",\"good\",\"bad\",\"bad\",\"bad\",\"good\",\"good\",\"good\",\"bad\",\"good\",\"good\",\"bad\",\"good\",\"bad\",\"good\",\"bad\",\"bad\",\"bad\",\"bad\",\"good\",\"good\",\"good\",\"bad\",\"bad\",\"good\",\"bad\",\"bad\",\"bad\",\"good\",\"bad\",\"good\",\"good\",\"good\",\"good\",\"good\",\"good\",\"bad\",\"good\",\"bad\",\"good\",\"good\",\"good\",\"good\",\"good\",\"good\",\"good\",\"good\",\"good\",\"bad\",\"good\",\"good\",\"good\",\"bad\",\"bad\",\"good\",\"good\",\"bad\",\"good\",\"bad\",\"good\",\"bad\",\"bad\",\"bad\",\"good\",\"bad\",\"bad\",\"good\",\"good\",\"bad\",\"good\",\"bad\",\"good\",\"bad\",\"good\",\"good\",\"good\",\"good\",\"good\",\"bad\",\"good\",\"bad\",\"good\",\"good\",\"bad\",\"bad\",\"good\",\"good\",\"bad\",\"good\",\"bad\",\"good\",\"good\",\"good\",\"bad\",\"good\",\"bad\",\"good\",\"bad\",\"bad\",\"bad\",\"good\",\"good\",\"good\",\"bad\",\"good\",\"good\",\"bad\",\"good\",\"good\",\"bad\",\"bad\",\"bad\",\"good\",\"good\",\"bad\",\"good\",\"bad\",\"good\",\"good\",\"bad\",\"bad\",\"bad\",\"bad\",\"bad\",\"good\",\"bad\",\"good\",\"bad\",\"bad\",\"bad\",\"bad\",\"bad\",\"good\",\"good\",\"good\",\"good\",\"good\",\"good\",\"good\",\"bad\",\"bad\",\"bad\",\"bad\",\"good\",\"good\",\"good\",\"good\",\"bad\",\"bad\",\"good\",\"bad\",\"bad\",\"bad\",\"bad\",\"bad\",\"bad\",\"bad\",\"good\",\"bad\",\"bad\",\"good\",\"bad\",\"good\",\"good\",\"bad\",\"good\",\"bad\",\"bad\",\"good\",\"bad\",\"good\",\"good\",\"bad\",\"good\",\"bad\",\"bad\",\"good\",\"good\",\"good\",\"bad\",\"good\",\"good\",\"good\",\"bad\",\"good\",\"good\",\"bad\",\"bad\",\"good\",\"good\",\"bad\",\"bad\",\"good\",\"bad\",\"good\",\"good\",\"good\",\"good\",\"good\",\"good\",\"bad\",\"good\"],\"y\":{\"dtype\":\"i1\",\"bdata\":\"Fi01IxwZGBY8HCAsLDAsJCoiPyQbHiEZJSUYGiwYOhceORcXGz0ZFjMpQiIzFjo0Gy8eHDY2OiIkGCMnICMfFxwjFyQZPx4oHiIdHUIsGx4bFh4nHBgdJBQwLSZGIRQfISIhGio0QR4kSkQUISIkFSIbKBsVJhoVMkIfFxgaGzUWGhkePScYGicuGB0bNyQlLRwiJSMaHzEwHCw4GiAqMSEYFhoZHyYbHCAiHCcfHEsYFywXHB8YGhkhJRcXIB0cFxckGRYqKDwlOSYaKBsTJx8gNy4uFhscFCEvFTcdJBlBGh4dHiIjPR8kIxslJCI\\u002fHRYXHCEaGScsFxo5LyonHSAcGyoxJhgkIhoaFCUoKxg1Gh4fKSAcISUqLRciKxgiG0MWHBsfGB0XJB8XFhsbGx4xIRQkFS88OhQgFyQtHiIXFjIWMB0WJRUbFkEpHRwsGRobJiAgJigyJS0qFikcKRcjMiIrLxhAHx4fGRkdHSguLykgGBkZJSMZGx8iGBhCGTskIRUsFyMaIBcWHBclMRcXSiMYGCgfHBlCGUMZHxcjMhsnMzAYGBo3GhocGDYuNisaGCkvHiEXHRkwPx07OSEgHSMbGC4aHSgkGys1FysmIhwqKxQZHyBEIScWHjcuFScrGBYXHhweKi4eHigYHB05JS0eLxYXKBYdJDlAGTEcGhkhHTAeKBcb\"},\"type\":\"box\",\"xaxis\":\"x\",\"yaxis\":\"y\"},{\"boxpoints\":\"outliers\",\"line\":{\"color\":\"black\"},\"marker\":{\"color\":\"lightblue\"},\"name\":\"Credit amount\",\"x\":[\"bad\",\"good\",\"bad\",\"good\",\"bad\",\"bad\",\"bad\",\"good\",\"bad\",\"good\",\"bad\",\"bad\",\"good\",\"good\",\"good\",\"good\",\"good\",\"good\",\"bad\",\"good\",\"good\",\"good\",\"good\",\"bad\",\"bad\",\"good\",\"good\",\"good\",\"good\",\"good\",\"bad\",\"good\",\"good\",\"bad\",\"good\",\"bad\",\"good\",\"bad\",\"bad\",\"good\",\"good\",\"good\",\"good\",\"bad\",\"good\",\"good\",\"good\",\"good\",\"good\",\"bad\",\"good\",\"bad\",\"good\",\"good\",\"bad\",\"good\",\"good\",\"good\",\"good\",\"bad\",\"good\",\"good\",\"good\",\"good\",\"good\",\"good\",\"bad\",\"good\",\"bad\",\"good\",\"good\",\"good\",\"bad\",\"good\",\"bad\",\"bad\",\"bad\",\"good\",\"good\",\"good\",\"good\",\"bad\",\"good\",\"good\",\"good\",\"good\",\"good\",\"good\",\"bad\",\"good\",\"good\",\"good\",\"good\",\"bad\",\"good\",\"bad\",\"bad\",\"bad\",\"good\",\"bad\",\"good\",\"good\",\"good\",\"bad\",\"bad\",\"bad\",\"good\",\"bad\",\"good\",\"bad\",\"bad\",\"bad\",\"bad\",\"bad\",\"bad\",\"good\",\"bad\",\"good\",\"good\",\"good\",\"bad\",\"bad\",\"good\",\"good\",\"good\",\"good\",\"bad\",\"bad\",\"good\",\"bad\",\"good\",\"bad\",\"bad\",\"good\",\"bad\",\"good\",\"good\",\"good\",\"bad\",\"bad\",\"good\",\"good\",\"good\",\"bad\",\"bad\",\"bad\",\"bad\",\"good\",\"good\",\"good\",\"good\",\"good\",\"bad\",\"bad\",\"good\",\"good\",\"bad\",\"good\",\"bad\",\"good\",\"bad\",\"bad\",\"good\",\"good\",\"bad\",\"bad\",\"good\",\"good\",\"bad\",\"bad\",\"good\",\"good\",\"good\",\"good\",\"good\",\"good\",\"bad\",\"bad\",\"bad\",\"good\",\"good\",\"good\",\"good\",\"good\",\"good\",\"good\",\"good\",\"good\",\"good\",\"bad\",\"bad\",\"bad\",\"bad\",\"bad\",\"good\",\"bad\",\"good\",\"bad\",\"good\",\"bad\",\"bad\",\"bad\",\"bad\",\"good\",\"good\",\"good\",\"good\",\"good\",\"good\",\"good\",\"good\",\"good\",\"bad\",\"bad\",\"good\",\"bad\",\"good\",\"bad\",\"good\",\"good\",\"bad\",\"bad\",\"good\",\"good\",\"good\",\"bad\",\"good\",\"good\",\"bad\",\"bad\",\"good\",\"bad\",\"bad\",\"good\",\"bad\",\"good\",\"good\",\"good\",\"good\",\"good\",\"bad\",\"bad\",\"bad\",\"bad\",\"bad\",\"bad\",\"good\",\"good\",\"good\",\"good\",\"good\",\"good\",\"bad\",\"bad\",\"good\",\"bad\",\"good\",\"good\",\"bad\",\"good\",\"good\",\"bad\",\"bad\",\"good\",\"bad\",\"bad\",\"good\",\"good\",\"good\",\"good\",\"good\",\"bad\",\"bad\",\"good\",\"good\",\"bad\",\"good\",\"good\",\"bad\",\"bad\",\"good\",\"bad\",\"good\",\"bad\",\"bad\",\"bad\",\"bad\",\"bad\",\"good\",\"good\",\"bad\",\"bad\",\"bad\",\"bad\",\"bad\",\"good\",\"good\",\"bad\",\"bad\",\"bad\",\"good\",\"good\",\"good\",\"bad\",\"bad\",\"good\",\"bad\",\"bad\",\"good\",\"good\",\"bad\",\"bad\",\"good\",\"bad\",\"bad\",\"bad\",\"bad\",\"good\",\"bad\",\"bad\",\"good\",\"good\",\"bad\",\"bad\",\"bad\",\"good\",\"good\",\"good\",\"bad\",\"good\",\"good\",\"bad\",\"good\",\"bad\",\"good\",\"bad\",\"bad\",\"bad\",\"bad\",\"good\",\"good\",\"good\",\"bad\",\"bad\",\"good\",\"bad\",\"bad\",\"bad\",\"good\",\"bad\",\"good\",\"good\",\"good\",\"good\",\"good\",\"good\",\"bad\",\"good\",\"bad\",\"good\",\"good\",\"good\",\"good\",\"good\",\"good\",\"good\",\"good\",\"good\",\"bad\",\"good\",\"good\",\"good\",\"bad\",\"bad\",\"good\",\"good\",\"bad\",\"good\",\"bad\",\"good\",\"bad\",\"bad\",\"bad\",\"good\",\"bad\",\"bad\",\"good\",\"good\",\"bad\",\"good\",\"bad\",\"good\",\"bad\",\"good\",\"good\",\"good\",\"good\",\"good\",\"bad\",\"good\",\"bad\",\"good\",\"good\",\"bad\",\"bad\",\"good\",\"good\",\"bad\",\"good\",\"bad\",\"good\",\"good\",\"good\",\"bad\",\"good\",\"bad\",\"good\",\"bad\",\"bad\",\"bad\",\"good\",\"good\",\"good\",\"bad\",\"good\",\"good\",\"bad\",\"good\",\"good\",\"bad\",\"bad\",\"bad\",\"good\",\"good\",\"bad\",\"good\",\"bad\",\"good\",\"good\",\"bad\",\"bad\",\"bad\",\"bad\",\"bad\",\"good\",\"bad\",\"good\",\"bad\",\"bad\",\"bad\",\"bad\",\"bad\",\"good\",\"good\",\"good\",\"good\",\"good\",\"good\",\"good\",\"bad\",\"bad\",\"bad\",\"bad\",\"good\",\"good\",\"good\",\"good\",\"bad\",\"bad\",\"good\",\"bad\",\"bad\",\"bad\",\"bad\",\"bad\",\"bad\",\"bad\",\"good\",\"bad\",\"bad\",\"good\",\"bad\",\"good\",\"good\",\"bad\",\"good\",\"bad\",\"bad\",\"good\",\"bad\",\"good\",\"good\",\"bad\",\"good\",\"bad\",\"bad\",\"good\",\"good\",\"good\",\"bad\",\"good\",\"good\",\"good\",\"bad\",\"good\",\"good\",\"bad\",\"bad\",\"good\",\"good\",\"bad\",\"bad\",\"good\",\"bad\",\"good\",\"good\",\"good\",\"good\",\"good\",\"good\",\"bad\",\"good\"],\"y\":{\"dtype\":\"i2\",\"bdata\":\"PxfKHgYTJBtyFA8F1BAfBq8EewUCBSMxVwrBCAwHXgWZAW8JtBp5B7QP6hbCBYoSNAjJBMoBhgQ8GCsY\\u002fxdIBU0XsQipB1UYbwWhB1U47wOMBEIX9gV9D6MS+A7bBgsJDwVEMckIVASBBSYFST4+CiEJEwl\\u002fB6IuvheCBakFiAF0GJAGuRA+CSsHDQNJCL0CfwJEB6sN5xr+AlkHxQK7ElgNngnuDVwD+xTYFk4eNxsCBQgFUwG4DYwcawQpBo8HtgMQCIYFVg0RClIBOwJnEXQDCRSXBKICrAwED0sP1wvdBbcDyRCQBIYDfymQBagZrRR0ByAMSQ\\u002fNC3EC0Sq5Hk0MchBiAx8HzwraCf0RhQeaAssIZghlCHkGQwa2FCIDEiP0C94uJg\\u002fiKbQSnh1EBAAEtiQTGbwS6Ca5CtwODgTXAtUEFAGlDq0CugrEAjsOmRCSB14LYwpGDXkRLATXGfAcDhA4DTUISRDxBW8WDw6NDFcRbQ9yA64OcAS\\u002fAzcY3gRmCccIqQlCDnYNuQu+OQUe7jewMjIFzhwWCdcDsQylB\\u002fAtEgosCccE9wcdBKsDrwcTCr4D2wqmBEAsUAdYCEINYQJUBkUK6BMyBxAK6AXREkEPOg1XASQOuQbJC2wLewYUDMABjgLdBCoMIBQNBMYF9Q2xBCYOuQR+IEoISiMVBSsFMwx1FWYEwAS3BDgJwhr3An8KSQJhAlEFswR2DM8bWQQeH\\u002f4IlgLhCEcKDwkcDlMe6Qv+BTALNQVyAlcbywevBDMF5gjgDYgHCgarAhEGXAVmGqIMJgM6BHILBAsgBDQMUAn3B+8KCQXBBMYIgQGeCqMDogWREBkJlgMtB\\u002fsEDAtvCuUC2AQdDTAOXA5xDUQOQgcoCkQInQVMDhEGSwUSEe4CHAVYB+cRswOsAjQdggf\\u002fCJYfhQ94A30Q2RgRBRoEFwSoDesSyQvbFVAJgSYuC0MOzwNHClALTwRxB7sYYQXHCeAJoBmZC7YERgiuBHIEyzYEGDkFsQHMBBYDWgcQGfsEAxnDB\\u002fgCKC0cEbgQFQkYBLMJBQfPCfoErAHQA0kDEwWzAkwIpgiDBCQMIQ6BH8gFtQ0gD0UTggVEA5UHUBhuF6QETAsDB7AQNyROAkMk8gaLA+QBnSXrC1sPCB3xPUEFyAuYCtsCQgZ+D8AEKC4XCToEjQs7FFQFxQK7CKIFdw+HCVUJjAI\\u002fBWYFBg4qBZQHjgXZDxsDOD2KCXsIqBYuCjkQQQpTBIASWQz4RzA6NwkRDVYF0gfYGrkCGQQ5KEAF0waGBtoFfwfpAg8IkBg1B6YgFQ0GDmEIERBlB88EggSmD\\u002f0LMQnGAdgJYw\\u002fqBakEgRzqBPEC8ATCIGsLJSCZBZEYsxnPBncPEQ81B+AR\"},\"type\":\"box\",\"xaxis\":\"x2\",\"yaxis\":\"y2\"},{\"boxpoints\":\"outliers\",\"line\":{\"color\":\"black\"},\"marker\":{\"color\":\"lightblue\"},\"name\":\"Duration\",\"x\":[\"bad\",\"good\",\"bad\",\"good\",\"bad\",\"bad\",\"bad\",\"good\",\"bad\",\"good\",\"bad\",\"bad\",\"good\",\"good\",\"good\",\"good\",\"good\",\"good\",\"bad\",\"good\",\"good\",\"good\",\"good\",\"bad\",\"bad\",\"good\",\"good\",\"good\",\"good\",\"good\",\"bad\",\"good\",\"good\",\"bad\",\"good\",\"bad\",\"good\",\"bad\",\"bad\",\"good\",\"good\",\"good\",\"good\",\"bad\",\"good\",\"good\",\"good\",\"good\",\"good\",\"bad\",\"good\",\"bad\",\"good\",\"good\",\"bad\",\"good\",\"good\",\"good\",\"good\",\"bad\",\"good\",\"good\",\"good\",\"good\",\"good\",\"good\",\"bad\",\"good\",\"bad\",\"good\",\"good\",\"good\",\"bad\",\"good\",\"bad\",\"bad\",\"bad\",\"good\",\"good\",\"good\",\"good\",\"bad\",\"good\",\"good\",\"good\",\"good\",\"good\",\"good\",\"bad\",\"good\",\"good\",\"good\",\"good\",\"bad\",\"good\",\"bad\",\"bad\",\"bad\",\"good\",\"bad\",\"good\",\"good\",\"good\",\"bad\",\"bad\",\"bad\",\"good\",\"bad\",\"good\",\"bad\",\"bad\",\"bad\",\"bad\",\"bad\",\"bad\",\"good\",\"bad\",\"good\",\"good\",\"good\",\"bad\",\"bad\",\"good\",\"good\",\"good\",\"good\",\"bad\",\"bad\",\"good\",\"bad\",\"good\",\"bad\",\"bad\",\"good\",\"bad\",\"good\",\"good\",\"good\",\"bad\",\"bad\",\"good\",\"good\",\"good\",\"bad\",\"bad\",\"bad\",\"bad\",\"good\",\"good\",\"good\",\"good\",\"good\",\"bad\",\"bad\",\"good\",\"good\",\"bad\",\"good\",\"bad\",\"good\",\"bad\",\"bad\",\"good\",\"good\",\"bad\",\"bad\",\"good\",\"good\",\"bad\",\"bad\",\"good\",\"good\",\"good\",\"good\",\"good\",\"good\",\"bad\",\"bad\",\"bad\",\"good\",\"good\",\"good\",\"good\",\"good\",\"good\",\"good\",\"good\",\"good\",\"good\",\"bad\",\"bad\",\"bad\",\"bad\",\"bad\",\"good\",\"bad\",\"good\",\"bad\",\"good\",\"bad\",\"bad\",\"bad\",\"bad\",\"good\",\"good\",\"good\",\"good\",\"good\",\"good\",\"good\",\"good\",\"good\",\"bad\",\"bad\",\"good\",\"bad\",\"good\",\"bad\",\"good\",\"good\",\"bad\",\"bad\",\"good\",\"good\",\"good\",\"bad\",\"good\",\"good\",\"bad\",\"bad\",\"good\",\"bad\",\"bad\",\"good\",\"bad\",\"good\",\"good\",\"good\",\"good\",\"good\",\"bad\",\"bad\",\"bad\",\"bad\",\"bad\",\"bad\",\"good\",\"good\",\"good\",\"good\",\"good\",\"good\",\"bad\",\"bad\",\"good\",\"bad\",\"good\",\"good\",\"bad\",\"good\",\"good\",\"bad\",\"bad\",\"good\",\"bad\",\"bad\",\"good\",\"good\",\"good\",\"good\",\"good\",\"bad\",\"bad\",\"good\",\"good\",\"bad\",\"good\",\"good\",\"bad\",\"bad\",\"good\",\"bad\",\"good\",\"bad\",\"bad\",\"bad\",\"bad\",\"bad\",\"good\",\"good\",\"bad\",\"bad\",\"bad\",\"bad\",\"bad\",\"good\",\"good\",\"bad\",\"bad\",\"bad\",\"good\",\"good\",\"good\",\"bad\",\"bad\",\"good\",\"bad\",\"bad\",\"good\",\"good\",\"bad\",\"bad\",\"good\",\"bad\",\"bad\",\"bad\",\"bad\",\"good\",\"bad\",\"bad\",\"good\",\"good\",\"bad\",\"bad\",\"bad\",\"good\",\"good\",\"good\",\"bad\",\"good\",\"good\",\"bad\",\"good\",\"bad\",\"good\",\"bad\",\"bad\",\"bad\",\"bad\",\"good\",\"good\",\"good\",\"bad\",\"bad\",\"good\",\"bad\",\"bad\",\"bad\",\"good\",\"bad\",\"good\",\"good\",\"good\",\"good\",\"good\",\"good\",\"bad\",\"good\",\"bad\",\"good\",\"good\",\"good\",\"good\",\"good\",\"good\",\"good\",\"good\",\"good\",\"bad\",\"good\",\"good\",\"good\",\"bad\",\"bad\",\"good\",\"good\",\"bad\",\"good\",\"bad\",\"good\",\"bad\",\"bad\",\"bad\",\"good\",\"bad\",\"bad\",\"good\",\"good\",\"bad\",\"good\",\"bad\",\"good\",\"bad\",\"good\",\"good\",\"good\",\"good\",\"good\",\"bad\",\"good\",\"bad\",\"good\",\"good\",\"bad\",\"bad\",\"good\",\"good\",\"bad\",\"good\",\"bad\",\"good\",\"good\",\"good\",\"bad\",\"good\",\"bad\",\"good\",\"bad\",\"bad\",\"bad\",\"good\",\"good\",\"good\",\"bad\",\"good\",\"good\",\"bad\",\"good\",\"good\",\"bad\",\"bad\",\"bad\",\"good\",\"good\",\"bad\",\"good\",\"bad\",\"good\",\"good\",\"bad\",\"bad\",\"bad\",\"bad\",\"bad\",\"good\",\"bad\",\"good\",\"bad\",\"bad\",\"bad\",\"bad\",\"bad\",\"good\",\"good\",\"good\",\"good\",\"good\",\"good\",\"good\",\"bad\",\"bad\",\"bad\",\"bad\",\"good\",\"good\",\"good\",\"good\",\"bad\",\"bad\",\"good\",\"bad\",\"bad\",\"bad\",\"bad\",\"bad\",\"bad\",\"bad\",\"good\",\"bad\",\"bad\",\"good\",\"bad\",\"good\",\"good\",\"bad\",\"good\",\"bad\",\"bad\",\"good\",\"bad\",\"good\",\"good\",\"bad\",\"good\",\"bad\",\"bad\",\"good\",\"good\",\"good\",\"bad\",\"good\",\"good\",\"good\",\"bad\",\"good\",\"good\",\"bad\",\"bad\",\"good\",\"good\",\"bad\",\"bad\",\"good\",\"bad\",\"good\",\"good\",\"good\",\"good\",\"good\",\"good\",\"bad\",\"good\"],\"y\":{\"dtype\":\"i1\",\"bdata\":\"MCoYJB4MMAwYDxgYBgoMBgwHPBIYEgwtEgoJDBIeMAYbJBIkCSQwDAgqDCoLHhgKEiQSDAwMNhIkJAkYDA4GDxIMIQwVCgwMDAwMJAwMBiQbEjAGJCQYGAwJDBgKEgsYDxgIFQwGFSQSCRAMEjAbLQkMEgwMHgwYGx4SJBgMMAwYJBIYFR4wGAYMHgwMGBIPDjAeGC8wMAwYJBgqMBUkCgwICRgMJAwPHhgYEggkBhg8GAYNGAoYFRISCg0YCQkMGB4MEhIkEjwwJBIMEg8MJAYnDCQMGA8MGAwMEhIYBgkqDAwUMCQHDxgLDAYkDwwYGBgGCRISGAwPDBgeBhsMJBIGGCQJGBgPDwwPDAYGBhIwEhokBiQPFRIwEgwSGAwwDAkMEhgSGAYYDDAYDwkMJBIMJBIJDBIMDBgGGBgHCRgKGCQMChUYBh4VDBIGCRgSGCoSDxIeGAwwDBgkDgweEgwGBh4MHkgYJCQMDw8YDA8wGB4bMAwJCQYJPBQJBgwJEjAYGBgIGBIeGAoYDQ8MBhIMBgwSDAweDCQMEhInDAwSMCgVGBIUJAYqDwgGJDAwJCQSDCQIFRISLQ8MGCQJDBQSDxgSDAYYDAsSCRgMMBsMJBUSEAwYGDAGGBgJDBgMEjAMGAkMHgkGPA8wGBIkGAwYCRwYFQYbCw8YPBgGDx4VJA8qGBgkHi0t\"},\"type\":\"box\",\"xaxis\":\"x3\",\"yaxis\":\"y3\"}],                        {\"template\":{\"data\":{\"histogram2dcontour\":[{\"type\":\"histogram2dcontour\",\"colorbar\":{\"outlinewidth\":0,\"ticks\":\"\"},\"colorscale\":[[0.0,\"#0d0887\"],[0.1111111111111111,\"#46039f\"],[0.2222222222222222,\"#7201a8\"],[0.3333333333333333,\"#9c179e\"],[0.4444444444444444,\"#bd3786\"],[0.5555555555555556,\"#d8576b\"],[0.6666666666666666,\"#ed7953\"],[0.7777777777777778,\"#fb9f3a\"],[0.8888888888888888,\"#fdca26\"],[1.0,\"#f0f921\"]]}],\"choropleth\":[{\"type\":\"choropleth\",\"colorbar\":{\"outlinewidth\":0,\"ticks\":\"\"}}],\"histogram2d\":[{\"type\":\"histogram2d\",\"colorbar\":{\"outlinewidth\":0,\"ticks\":\"\"},\"colorscale\":[[0.0,\"#0d0887\"],[0.1111111111111111,\"#46039f\"],[0.2222222222222222,\"#7201a8\"],[0.3333333333333333,\"#9c179e\"],[0.4444444444444444,\"#bd3786\"],[0.5555555555555556,\"#d8576b\"],[0.6666666666666666,\"#ed7953\"],[0.7777777777777778,\"#fb9f3a\"],[0.8888888888888888,\"#fdca26\"],[1.0,\"#f0f921\"]]}],\"heatmap\":[{\"type\":\"heatmap\",\"colorbar\":{\"outlinewidth\":0,\"ticks\":\"\"},\"colorscale\":[[0.0,\"#0d0887\"],[0.1111111111111111,\"#46039f\"],[0.2222222222222222,\"#7201a8\"],[0.3333333333333333,\"#9c179e\"],[0.4444444444444444,\"#bd3786\"],[0.5555555555555556,\"#d8576b\"],[0.6666666666666666,\"#ed7953\"],[0.7777777777777778,\"#fb9f3a\"],[0.8888888888888888,\"#fdca26\"],[1.0,\"#f0f921\"]]}],\"contourcarpet\":[{\"type\":\"contourcarpet\",\"colorbar\":{\"outlinewidth\":0,\"ticks\":\"\"}}],\"contour\":[{\"type\":\"contour\",\"colorbar\":{\"outlinewidth\":0,\"ticks\":\"\"},\"colorscale\":[[0.0,\"#0d0887\"],[0.1111111111111111,\"#46039f\"],[0.2222222222222222,\"#7201a8\"],[0.3333333333333333,\"#9c179e\"],[0.4444444444444444,\"#bd3786\"],[0.5555555555555556,\"#d8576b\"],[0.6666666666666666,\"#ed7953\"],[0.7777777777777778,\"#fb9f3a\"],[0.8888888888888888,\"#fdca26\"],[1.0,\"#f0f921\"]]}],\"surface\":[{\"type\":\"surface\",\"colorbar\":{\"outlinewidth\":0,\"ticks\":\"\"},\"colorscale\":[[0.0,\"#0d0887\"],[0.1111111111111111,\"#46039f\"],[0.2222222222222222,\"#7201a8\"],[0.3333333333333333,\"#9c179e\"],[0.4444444444444444,\"#bd3786\"],[0.5555555555555556,\"#d8576b\"],[0.6666666666666666,\"#ed7953\"],[0.7777777777777778,\"#fb9f3a\"],[0.8888888888888888,\"#fdca26\"],[1.0,\"#f0f921\"]]}],\"mesh3d\":[{\"type\":\"mesh3d\",\"colorbar\":{\"outlinewidth\":0,\"ticks\":\"\"}}],\"scatter\":[{\"fillpattern\":{\"fillmode\":\"overlay\",\"size\":10,\"solidity\":0.2},\"type\":\"scatter\"}],\"parcoords\":[{\"type\":\"parcoords\",\"line\":{\"colorbar\":{\"outlinewidth\":0,\"ticks\":\"\"}}}],\"scatterpolargl\":[{\"type\":\"scatterpolargl\",\"marker\":{\"colorbar\":{\"outlinewidth\":0,\"ticks\":\"\"}}}],\"bar\":[{\"error_x\":{\"color\":\"#2a3f5f\"},\"error_y\":{\"color\":\"#2a3f5f\"},\"marker\":{\"line\":{\"color\":\"#E5ECF6\",\"width\":0.5},\"pattern\":{\"fillmode\":\"overlay\",\"size\":10,\"solidity\":0.2}},\"type\":\"bar\"}],\"scattergeo\":[{\"type\":\"scattergeo\",\"marker\":{\"colorbar\":{\"outlinewidth\":0,\"ticks\":\"\"}}}],\"scatterpolar\":[{\"type\":\"scatterpolar\",\"marker\":{\"colorbar\":{\"outlinewidth\":0,\"ticks\":\"\"}}}],\"histogram\":[{\"marker\":{\"pattern\":{\"fillmode\":\"overlay\",\"size\":10,\"solidity\":0.2}},\"type\":\"histogram\"}],\"scattergl\":[{\"type\":\"scattergl\",\"marker\":{\"colorbar\":{\"outlinewidth\":0,\"ticks\":\"\"}}}],\"scatter3d\":[{\"type\":\"scatter3d\",\"line\":{\"colorbar\":{\"outlinewidth\":0,\"ticks\":\"\"}},\"marker\":{\"colorbar\":{\"outlinewidth\":0,\"ticks\":\"\"}}}],\"scattermap\":[{\"type\":\"scattermap\",\"marker\":{\"colorbar\":{\"outlinewidth\":0,\"ticks\":\"\"}}}],\"scattermapbox\":[{\"type\":\"scattermapbox\",\"marker\":{\"colorbar\":{\"outlinewidth\":0,\"ticks\":\"\"}}}],\"scatterternary\":[{\"type\":\"scatterternary\",\"marker\":{\"colorbar\":{\"outlinewidth\":0,\"ticks\":\"\"}}}],\"scattercarpet\":[{\"type\":\"scattercarpet\",\"marker\":{\"colorbar\":{\"outlinewidth\":0,\"ticks\":\"\"}}}],\"carpet\":[{\"aaxis\":{\"endlinecolor\":\"#2a3f5f\",\"gridcolor\":\"white\",\"linecolor\":\"white\",\"minorgridcolor\":\"white\",\"startlinecolor\":\"#2a3f5f\"},\"baxis\":{\"endlinecolor\":\"#2a3f5f\",\"gridcolor\":\"white\",\"linecolor\":\"white\",\"minorgridcolor\":\"white\",\"startlinecolor\":\"#2a3f5f\"},\"type\":\"carpet\"}],\"table\":[{\"cells\":{\"fill\":{\"color\":\"#EBF0F8\"},\"line\":{\"color\":\"white\"}},\"header\":{\"fill\":{\"color\":\"#C8D4E3\"},\"line\":{\"color\":\"white\"}},\"type\":\"table\"}],\"barpolar\":[{\"marker\":{\"line\":{\"color\":\"#E5ECF6\",\"width\":0.5},\"pattern\":{\"fillmode\":\"overlay\",\"size\":10,\"solidity\":0.2}},\"type\":\"barpolar\"}],\"pie\":[{\"automargin\":true,\"type\":\"pie\"}]},\"layout\":{\"autotypenumbers\":\"strict\",\"colorway\":[\"#636efa\",\"#EF553B\",\"#00cc96\",\"#ab63fa\",\"#FFA15A\",\"#19d3f3\",\"#FF6692\",\"#B6E880\",\"#FF97FF\",\"#FECB52\"],\"font\":{\"color\":\"#2a3f5f\"},\"hovermode\":\"closest\",\"hoverlabel\":{\"align\":\"left\"},\"paper_bgcolor\":\"white\",\"plot_bgcolor\":\"#E5ECF6\",\"polar\":{\"bgcolor\":\"#E5ECF6\",\"angularaxis\":{\"gridcolor\":\"white\",\"linecolor\":\"white\",\"ticks\":\"\"},\"radialaxis\":{\"gridcolor\":\"white\",\"linecolor\":\"white\",\"ticks\":\"\"}},\"ternary\":{\"bgcolor\":\"#E5ECF6\",\"aaxis\":{\"gridcolor\":\"white\",\"linecolor\":\"white\",\"ticks\":\"\"},\"baxis\":{\"gridcolor\":\"white\",\"linecolor\":\"white\",\"ticks\":\"\"},\"caxis\":{\"gridcolor\":\"white\",\"linecolor\":\"white\",\"ticks\":\"\"}},\"coloraxis\":{\"colorbar\":{\"outlinewidth\":0,\"ticks\":\"\"}},\"colorscale\":{\"sequential\":[[0.0,\"#0d0887\"],[0.1111111111111111,\"#46039f\"],[0.2222222222222222,\"#7201a8\"],[0.3333333333333333,\"#9c179e\"],[0.4444444444444444,\"#bd3786\"],[0.5555555555555556,\"#d8576b\"],[0.6666666666666666,\"#ed7953\"],[0.7777777777777778,\"#fb9f3a\"],[0.8888888888888888,\"#fdca26\"],[1.0,\"#f0f921\"]],\"sequentialminus\":[[0.0,\"#0d0887\"],[0.1111111111111111,\"#46039f\"],[0.2222222222222222,\"#7201a8\"],[0.3333333333333333,\"#9c179e\"],[0.4444444444444444,\"#bd3786\"],[0.5555555555555556,\"#d8576b\"],[0.6666666666666666,\"#ed7953\"],[0.7777777777777778,\"#fb9f3a\"],[0.8888888888888888,\"#fdca26\"],[1.0,\"#f0f921\"]],\"diverging\":[[0,\"#8e0152\"],[0.1,\"#c51b7d\"],[0.2,\"#de77ae\"],[0.3,\"#f1b6da\"],[0.4,\"#fde0ef\"],[0.5,\"#f7f7f7\"],[0.6,\"#e6f5d0\"],[0.7,\"#b8e186\"],[0.8,\"#7fbc41\"],[0.9,\"#4d9221\"],[1,\"#276419\"]]},\"xaxis\":{\"gridcolor\":\"white\",\"linecolor\":\"white\",\"ticks\":\"\",\"title\":{\"standoff\":15},\"zerolinecolor\":\"white\",\"automargin\":true,\"zerolinewidth\":2},\"yaxis\":{\"gridcolor\":\"white\",\"linecolor\":\"white\",\"ticks\":\"\",\"title\":{\"standoff\":15},\"zerolinecolor\":\"white\",\"automargin\":true,\"zerolinewidth\":2},\"scene\":{\"xaxis\":{\"backgroundcolor\":\"#E5ECF6\",\"gridcolor\":\"white\",\"linecolor\":\"white\",\"showbackground\":true,\"ticks\":\"\",\"zerolinecolor\":\"white\",\"gridwidth\":2},\"yaxis\":{\"backgroundcolor\":\"#E5ECF6\",\"gridcolor\":\"white\",\"linecolor\":\"white\",\"showbackground\":true,\"ticks\":\"\",\"zerolinecolor\":\"white\",\"gridwidth\":2},\"zaxis\":{\"backgroundcolor\":\"#E5ECF6\",\"gridcolor\":\"white\",\"linecolor\":\"white\",\"showbackground\":true,\"ticks\":\"\",\"zerolinecolor\":\"white\",\"gridwidth\":2}},\"shapedefaults\":{\"line\":{\"color\":\"#2a3f5f\"}},\"annotationdefaults\":{\"arrowcolor\":\"#2a3f5f\",\"arrowhead\":0,\"arrowwidth\":1},\"geo\":{\"bgcolor\":\"white\",\"landcolor\":\"#E5ECF6\",\"subunitcolor\":\"white\",\"showland\":true,\"showlakes\":true,\"lakecolor\":\"white\"},\"title\":{\"x\":0.05},\"mapbox\":{\"style\":\"light\"}}},\"xaxis\":{\"anchor\":\"y\",\"domain\":[0.0,0.2888888888888889]},\"yaxis\":{\"anchor\":\"x\",\"domain\":[0.0,1.0]},\"xaxis2\":{\"anchor\":\"y2\",\"domain\":[0.35555555555555557,0.6444444444444445]},\"yaxis2\":{\"anchor\":\"x2\",\"domain\":[0.0,1.0]},\"xaxis3\":{\"anchor\":\"y3\",\"domain\":[0.7111111111111111,1.0]},\"yaxis3\":{\"anchor\":\"x3\",\"domain\":[0.0,1.0]},\"annotations\":[{\"font\":{\"size\":16},\"showarrow\":false,\"text\":\"Age\",\"x\":0.14444444444444446,\"xanchor\":\"center\",\"xref\":\"paper\",\"y\":1.0,\"yanchor\":\"bottom\",\"yref\":\"paper\"},{\"font\":{\"size\":16},\"showarrow\":false,\"text\":\"Credit amount\",\"x\":0.5,\"xanchor\":\"center\",\"xref\":\"paper\",\"y\":1.0,\"yanchor\":\"bottom\",\"yref\":\"paper\"},{\"font\":{\"size\":16},\"showarrow\":false,\"text\":\"Duration\",\"x\":0.8555555555555556,\"xanchor\":\"center\",\"xref\":\"paper\",\"y\":1.0,\"yanchor\":\"bottom\",\"yref\":\"paper\"}],\"margin\":{\"l\":40,\"r\":40,\"t\":60,\"b\":40},\"title\":{\"text\":\"Boxplots der Merkmale nach Risiko-Klasse\"},\"showlegend\":false},                        {\"responsive\": true}                    )                };            </script>        </div>"
      ],
      "text/plain": [
       "Figure({\n",
       "    'data': [{'boxpoints': 'outliers',\n",
       "              'line': {'color': 'black'},\n",
       "              'marker': {'color': 'lightblue'},\n",
       "              'name': 'Age',\n",
       "              'type': 'box',\n",
       "              'x': array(['bad', 'good', 'bad', ..., 'good', 'bad', 'good'],\n",
       "                         shape=(522,), dtype=object),\n",
       "              'xaxis': 'x',\n",
       "              'y': {'bdata': ('Fi01IxwZGBY8HCAsLDAsJCoiPyQbHi' ... '0eLxYXKBYdJDlAGTEcGhkhHTAeKBcb'),\n",
       "                    'dtype': 'i1'},\n",
       "              'yaxis': 'y'},\n",
       "             {'boxpoints': 'outliers',\n",
       "              'line': {'color': 'black'},\n",
       "              'marker': {'color': 'lightblue'},\n",
       "              'name': 'Credit amount',\n",
       "              'type': 'box',\n",
       "              'x': array(['bad', 'good', 'bad', ..., 'good', 'bad', 'good'],\n",
       "                         shape=(522,), dtype=object),\n",
       "              'xaxis': 'x2',\n",
       "              'y': {'bdata': ('PxfKHgYTJBtyFA8F1BAfBq8EewUCBS' ... 'TCIGsLJSCZBZEYsxnPBncPEQ81B+AR'),\n",
       "                    'dtype': 'i2'},\n",
       "              'yaxis': 'y2'},\n",
       "             {'boxpoints': 'outliers',\n",
       "              'line': {'color': 'black'},\n",
       "              'marker': {'color': 'lightblue'},\n",
       "              'name': 'Duration',\n",
       "              'type': 'box',\n",
       "              'x': array(['bad', 'good', 'bad', ..., 'good', 'bad', 'good'],\n",
       "                         shape=(522,), dtype=object),\n",
       "              'xaxis': 'x3',\n",
       "              'y': {'bdata': ('MCoYJB4MMAwYDxgYBgoMBgwHPBIYEg' ... 'wYFQYbCw8YPBgGDx4VJA8qGBgkHi0t'),\n",
       "                    'dtype': 'i1'},\n",
       "              'yaxis': 'y3'}],\n",
       "    'layout': {'annotations': [{'font': {'size': 16},\n",
       "                                'showarrow': False,\n",
       "                                'text': 'Age',\n",
       "                                'x': 0.14444444444444446,\n",
       "                                'xanchor': 'center',\n",
       "                                'xref': 'paper',\n",
       "                                'y': 1.0,\n",
       "                                'yanchor': 'bottom',\n",
       "                                'yref': 'paper'},\n",
       "                               {'font': {'size': 16},\n",
       "                                'showarrow': False,\n",
       "                                'text': 'Credit amount',\n",
       "                                'x': 0.5,\n",
       "                                'xanchor': 'center',\n",
       "                                'xref': 'paper',\n",
       "                                'y': 1.0,\n",
       "                                'yanchor': 'bottom',\n",
       "                                'yref': 'paper'},\n",
       "                               {'font': {'size': 16},\n",
       "                                'showarrow': False,\n",
       "                                'text': 'Duration',\n",
       "                                'x': 0.8555555555555556,\n",
       "                                'xanchor': 'center',\n",
       "                                'xref': 'paper',\n",
       "                                'y': 1.0,\n",
       "                                'yanchor': 'bottom',\n",
       "                                'yref': 'paper'}],\n",
       "               'margin': {'b': 40, 'l': 40, 'r': 40, 't': 60},\n",
       "               'showlegend': False,\n",
       "               'template': '...',\n",
       "               'title': {'text': 'Boxplots der Merkmale nach Risiko-Klasse'},\n",
       "               'xaxis': {'anchor': 'y', 'domain': [0.0, 0.2888888888888889]},\n",
       "               'xaxis2': {'anchor': 'y2', 'domain': [0.35555555555555557, 0.6444444444444445]},\n",
       "               'xaxis3': {'anchor': 'y3', 'domain': [0.7111111111111111, 1.0]},\n",
       "               'yaxis': {'anchor': 'x', 'domain': [0.0, 1.0]},\n",
       "               'yaxis2': {'anchor': 'x2', 'domain': [0.0, 1.0]},\n",
       "               'yaxis3': {'anchor': 'x3', 'domain': [0.0, 1.0]}}\n",
       "})"
      ]
     },
     "execution_count": 73,
     "metadata": {},
     "output_type": "execute_result"
    }
   ],
   "source": [
    "cols = [\"Age\", \"Credit amount\", \"Duration\"]\n",
    "\n",
    "# Subplot-Raster (1 Reihe, 3 Spalten):\n",
    "fig7 = make_subplots(\n",
    "    rows=1, cols=3,\n",
    "    subplot_titles=cols\n",
    ")\n",
    "\n",
    "# Für jede Spalte einen Boxplot hinzufügen:\n",
    "for i, col in enumerate(cols):\n",
    "    fig7.add_trace(\n",
    "        go.Box(\n",
    "            x=df[\"Risk\"],\n",
    "            y=df[col],\n",
    "            boxpoints=\"outliers\",   \n",
    "            marker=dict(color=\"lightblue\"),\n",
    "            line=dict(color=\"black\"),\n",
    "            name=col\n",
    "        ),\n",
    "        row=1, col=i+1\n",
    "    )\n",
    "\n",
    "fig7.update_layout(\n",
    "    title=\"Boxplots der Merkmale nach Risiko-Klasse\",\n",
    "    showlegend=False,\n",
    "    margin=dict(l=40, r=40, t=60, b=40)\n",
    ")\n",
    "\n",
    "fig7\n"
   ]
  },
  {
   "cell_type": "markdown",
   "id": "8d543217",
   "metadata": {},
   "source": [
    "In den drei Boxplots sieht man den Vergleich der Merkmale Alter, Kreditbetrag und Laufzeit zwischen den Risiko-Klassen good (niedriges Risiko) und bad (hohes Risiko).\n",
    "- Beim Alter erkennt man kaum Unterschiede: Sowohl bei „good“ als auch bei „bad“ liegen die meisten Personen zwischen 25 und 40 Jahren. Das Alter allein scheint also kein starker Einflussfaktor auf das Risiko zu sein.\n",
    "- Beim Kreditbetrag zeigt sich, dass Kunden mit hohem Risiko (bad) im Durchschnitt höhere Kredite aufnehmen und auch deutlich mehr Ausreißer nach oben haben (teilweise über 15.000 €). Das spricht dafür, dass sehr hohe Kredite häufiger riskant sind.\n",
    "- Besonders deutlich wird der Unterschied bei der Laufzeit (Duration): Kredite mit hohem Risiko haben im Mittel deutlich längere Laufzeiten. Während „good“-Kredite meist kürzer laufen, sieht man bei „bad“ viele Verträge mit 40 Monaten oder mehr.\n",
    "\n",
    "Alter spielt für das Risiko nur eine geringe Rolle, während hohe Kreditbeträge und vor allem lange Laufzeiten stärker mit einem höheren Risiko verbunden sind. Nun wollen wir diese Unterschiede auch zahlenmäßig festhalten:"
   ]
  },
  {
   "cell_type": "code",
   "execution_count": 74,
   "id": "f93a0766",
   "metadata": {},
   "outputs": [
    {
     "name": "stdout",
     "output_type": "stream",
     "text": [
      "            Age  Credit amount   Duration\n",
      "Risk                                     \n",
      "bad   34.147186    3881.090909  25.445887\n",
      "good  35.477663    2800.594502  18.079038\n"
     ]
    }
   ],
   "source": [
    "print(df.groupby(\"Risk\")[[\"Age\", \"Credit amount\", \"Duration\"]].mean())"
   ]
  },
  {
   "cell_type": "markdown",
   "id": "35adccc5",
   "metadata": {},
   "source": [
    "Die Berechnung zeigt deutliche Unterschiede zwischen den Risiko-Klassen. Personen mit hohem Risiko (bad) haben im Durchschnitt etwas weniger Alter, dafür aber höhere Kreditbeträge (ca. 3.881 € gegenüber 2.801 €) und vor allem deutlich längere Laufzeiten (25 Monate gegenüber 18 Monaten). Das bestätigt, was wir zuvor in den Boxplots gesehen haben: lange Laufzeiten und hohe Kreditbeträge erhöhen das Risiko eines Kredits, während das Alter nur eine kleine Rolle spielt.\n",
    "<br>\n",
    "<br>\n",
    "Nachdem wir die numerischen Merkmale bereits in Beziehung zum Risiko gesetzt haben, wollen wir nun die kategorialen Merkmale genauer untersuchen. Um die Unterschiede sichtbar zu machen, stellen wir für jedes dieser Merkmale ein Balkendiagramm dar. Dabei vergleichen wir die Verteilung der Kategorien getrennt nach Risiko-Klasse (good vs. bad). So erkennen wir zum Beispiel, ob bestimmte Wohnformen oder Zwecke häufiger mit riskanten Krediten verbunden sind:"
   ]
  },
  {
   "cell_type": "code",
   "execution_count": 75,
   "id": "940607aa",
   "metadata": {},
   "outputs": [
    {
     "ename": "ValueError",
     "evalue": "Mime type rendering requires nbformat>=4.2.0 but it is not installed",
     "output_type": "error",
     "traceback": [
      "\u001b[31m---------------------------------------------------------------------------\u001b[39m",
      "\u001b[31mValueError\u001b[39m                                Traceback (most recent call last)",
      "\u001b[36mFile \u001b[39m\u001b[32md:\\Maschinen\\Kredite_Aufgabe\\.venv\\Lib\\site-packages\\IPython\\core\\formatters.py:984\u001b[39m, in \u001b[36mIPythonDisplayFormatter.__call__\u001b[39m\u001b[34m(self, obj)\u001b[39m\n\u001b[32m    982\u001b[39m method = get_real_method(obj, \u001b[38;5;28mself\u001b[39m.print_method)\n\u001b[32m    983\u001b[39m \u001b[38;5;28;01mif\u001b[39;00m method \u001b[38;5;129;01mis\u001b[39;00m \u001b[38;5;129;01mnot\u001b[39;00m \u001b[38;5;28;01mNone\u001b[39;00m:\n\u001b[32m--> \u001b[39m\u001b[32m984\u001b[39m     \u001b[43mmethod\u001b[49m\u001b[43m(\u001b[49m\u001b[43m)\u001b[49m\n\u001b[32m    985\u001b[39m     \u001b[38;5;28;01mreturn\u001b[39;00m \u001b[38;5;28;01mTrue\u001b[39;00m\n",
      "\u001b[36mFile \u001b[39m\u001b[32md:\\Maschinen\\Kredite_Aufgabe\\.venv\\Lib\\site-packages\\plotly\\basedatatypes.py:850\u001b[39m, in \u001b[36mBaseFigure._ipython_display_\u001b[39m\u001b[34m(self)\u001b[39m\n\u001b[32m    847\u001b[39m \u001b[38;5;28;01mimport\u001b[39;00m\u001b[38;5;250m \u001b[39m\u001b[34;01mplotly\u001b[39;00m\u001b[34;01m.\u001b[39;00m\u001b[34;01mio\u001b[39;00m\u001b[38;5;250m \u001b[39m\u001b[38;5;28;01mas\u001b[39;00m\u001b[38;5;250m \u001b[39m\u001b[34;01mpio\u001b[39;00m\n\u001b[32m    849\u001b[39m \u001b[38;5;28;01mif\u001b[39;00m pio.renderers.render_on_display \u001b[38;5;129;01mand\u001b[39;00m pio.renderers.default:\n\u001b[32m--> \u001b[39m\u001b[32m850\u001b[39m     \u001b[43mpio\u001b[49m\u001b[43m.\u001b[49m\u001b[43mshow\u001b[49m\u001b[43m(\u001b[49m\u001b[38;5;28;43mself\u001b[39;49m\u001b[43m)\u001b[49m\n\u001b[32m    851\u001b[39m \u001b[38;5;28;01melse\u001b[39;00m:\n\u001b[32m    852\u001b[39m     \u001b[38;5;28mprint\u001b[39m(\u001b[38;5;28mrepr\u001b[39m(\u001b[38;5;28mself\u001b[39m))\n",
      "\u001b[36mFile \u001b[39m\u001b[32md:\\Maschinen\\Kredite_Aufgabe\\.venv\\Lib\\site-packages\\plotly\\io\\_renderers.py:415\u001b[39m, in \u001b[36mshow\u001b[39m\u001b[34m(fig, renderer, validate, **kwargs)\u001b[39m\n\u001b[32m    410\u001b[39m     \u001b[38;5;28;01mraise\u001b[39;00m \u001b[38;5;167;01mValueError\u001b[39;00m(\n\u001b[32m    411\u001b[39m         \u001b[33m\"\u001b[39m\u001b[33mMime type rendering requires ipython but it is not installed\u001b[39m\u001b[33m\"\u001b[39m\n\u001b[32m    412\u001b[39m     )\n\u001b[32m    414\u001b[39m \u001b[38;5;28;01mif\u001b[39;00m \u001b[38;5;129;01mnot\u001b[39;00m nbformat \u001b[38;5;129;01mor\u001b[39;00m Version(nbformat.__version__) < Version(\u001b[33m\"\u001b[39m\u001b[33m4.2.0\u001b[39m\u001b[33m\"\u001b[39m):\n\u001b[32m--> \u001b[39m\u001b[32m415\u001b[39m     \u001b[38;5;28;01mraise\u001b[39;00m \u001b[38;5;167;01mValueError\u001b[39;00m(\n\u001b[32m    416\u001b[39m         \u001b[33m\"\u001b[39m\u001b[33mMime type rendering requires nbformat>=4.2.0 but it is not installed\u001b[39m\u001b[33m\"\u001b[39m\n\u001b[32m    417\u001b[39m     )\n\u001b[32m    419\u001b[39m display_jupyter_version_warnings()\n\u001b[32m    421\u001b[39m ipython_display.display(bundle, raw=\u001b[38;5;28;01mTrue\u001b[39;00m)\n",
      "\u001b[31mValueError\u001b[39m: Mime type rendering requires nbformat>=4.2.0 but it is not installed"
     ]
    },
    {
     "data": {
      "application/vnd.plotly.v1+json": {
       "config": {
        "plotlyServerURL": "https://plot.ly"
       },
       "data": [
        {
         "marker": {
          "line": {
           "color": "black",
           "width": 1
          }
         },
         "name": "bad",
         "type": "bar",
         "x": [
          "female",
          "male"
         ],
         "xaxis": "x",
         "y": {
          "bdata": "UgCVAA==",
          "dtype": "i2"
         },
         "yaxis": "y"
        },
        {
         "marker": {
          "line": {
           "color": "black",
           "width": 1
          }
         },
         "name": "good",
         "type": "bar",
         "x": [
          "female",
          "male"
         ],
         "xaxis": "x",
         "y": {
          "bdata": "VgDNAA==",
          "dtype": "i2"
         },
         "yaxis": "y"
        },
        {
         "marker": {
          "line": {
           "color": "black",
           "width": 1
          }
         },
         "name": "bad",
         "type": "bar",
         "x": [
          "free",
          "own",
          "rent"
         ],
         "xaxis": "x2",
         "y": {
          "bdata": "JACLADgA",
          "dtype": "i2"
         },
         "yaxis": "y2"
        },
        {
         "marker": {
          "line": {
           "color": "black",
           "width": 1
          }
         },
         "name": "good",
         "type": "bar",
         "x": [
          "free",
          "own",
          "rent"
         ],
         "xaxis": "x2",
         "y": {
          "bdata": "HQDSADQA",
          "dtype": "i2"
         },
         "yaxis": "y2"
        },
        {
         "marker": {
          "line": {
           "color": "black",
           "width": 1
          }
         },
         "name": "bad",
         "type": "bar",
         "x": [
          "little",
          "moderate",
          "quite rich",
          "rich"
         ],
         "xaxis": "x3",
         "y": {
          "bdata": "vwAeAAYABAA=",
          "dtype": "i2"
         },
         "yaxis": "y3"
        },
        {
         "marker": {
          "line": {
           "color": "black",
           "width": 1
          }
         },
         "name": "good",
         "type": "bar",
         "x": [
          "little",
          "moderate",
          "quite rich",
          "rich"
         ],
         "xaxis": "x3",
         "y": {
          "bdata": "3QAiABEAEwA=",
          "dtype": "i2"
         },
         "yaxis": "y3"
        },
        {
         "marker": {
          "line": {
           "color": "black",
           "width": 1
          }
         },
         "name": "bad",
         "type": "bar",
         "x": [
          "little",
          "moderate",
          "rich"
         ],
         "xaxis": "x4",
         "y": {
          "bdata": "eWIM",
          "dtype": "i1"
         },
         "yaxis": "y4"
        },
        {
         "marker": {
          "line": {
           "color": "black",
           "width": 1
          }
         },
         "name": "good",
         "type": "bar",
         "x": [
          "little",
          "moderate",
          "rich"
         ],
         "xaxis": "x4",
         "y": {
          "bdata": "fH4p",
          "dtype": "i1"
         },
         "yaxis": "y4"
        },
        {
         "marker": {
          "line": {
           "color": "black",
           "width": 1
          }
         },
         "name": "bad",
         "type": "bar",
         "x": [
          "business",
          "car",
          "domestic appliances",
          "education",
          "furniture/equipment",
          "radio/TV",
          "repairs",
          "vacation/others"
         ],
         "xaxis": "x5",
         "y": {
          "bdata": "GFADEi0zBgQ=",
          "dtype": "i1"
         },
         "yaxis": "y5"
        },
        {
         "marker": {
          "line": {
           "color": "black",
           "width": 1
          }
         },
         "name": "good",
         "type": "bar",
         "x": [
          "business",
          "car",
          "domestic appliances",
          "education",
          "furniture/equipment",
          "radio/TV",
          "repairs",
          "vacation/others"
         ],
         "xaxis": "x5",
         "y": {
          "bdata": "HV0DCj5RCAU=",
          "dtype": "i1"
         },
         "yaxis": "y5"
        },
        {
         "marker": {
          "line": {
           "color": "black",
           "width": 1
          }
         },
         "name": "Risk",
         "type": "bar",
         "x": [
          "good",
          "bad"
         ],
         "xaxis": "x6",
         "y": {
          "bdata": "IwHnAA==",
          "dtype": "i2"
         },
         "yaxis": "y6"
        }
       ],
       "layout": {
        "annotations": [
         {
          "font": {
           "size": 16
          },
          "showarrow": false,
          "text": "Sex",
          "x": 0.13999999999999999,
          "xanchor": "center",
          "xref": "paper",
          "y": 1,
          "yanchor": "bottom",
          "yref": "paper"
         },
         {
          "font": {
           "size": 16
          },
          "showarrow": false,
          "text": "Housing",
          "x": 0.49999999999999994,
          "xanchor": "center",
          "xref": "paper",
          "y": 1,
          "yanchor": "bottom",
          "yref": "paper"
         },
         {
          "font": {
           "size": 16
          },
          "showarrow": false,
          "text": "Saving accounts",
          "x": 0.86,
          "xanchor": "center",
          "xref": "paper",
          "y": 1,
          "yanchor": "bottom",
          "yref": "paper"
         },
         {
          "font": {
           "size": 16
          },
          "showarrow": false,
          "text": "Checking account",
          "x": 0.13999999999999999,
          "xanchor": "center",
          "xref": "paper",
          "y": 0.425,
          "yanchor": "bottom",
          "yref": "paper"
         },
         {
          "font": {
           "size": 16
          },
          "showarrow": false,
          "text": "Purpose",
          "x": 0.49999999999999994,
          "xanchor": "center",
          "xref": "paper",
          "y": 0.425,
          "yanchor": "bottom",
          "yref": "paper"
         },
         {
          "font": {
           "size": 16
          },
          "showarrow": false,
          "text": "Risk",
          "x": 0.86,
          "xanchor": "center",
          "xref": "paper",
          "y": 0.425,
          "yanchor": "bottom",
          "yref": "paper"
         }
        ],
        "barmode": "group",
        "height": 700,
        "template": {
         "data": {
          "bar": [
           {
            "error_x": {
             "color": "#2a3f5f"
            },
            "error_y": {
             "color": "#2a3f5f"
            },
            "marker": {
             "line": {
              "color": "#E5ECF6",
              "width": 0.5
             },
             "pattern": {
              "fillmode": "overlay",
              "size": 10,
              "solidity": 0.2
             }
            },
            "type": "bar"
           }
          ],
          "barpolar": [
           {
            "marker": {
             "line": {
              "color": "#E5ECF6",
              "width": 0.5
             },
             "pattern": {
              "fillmode": "overlay",
              "size": 10,
              "solidity": 0.2
             }
            },
            "type": "barpolar"
           }
          ],
          "carpet": [
           {
            "aaxis": {
             "endlinecolor": "#2a3f5f",
             "gridcolor": "white",
             "linecolor": "white",
             "minorgridcolor": "white",
             "startlinecolor": "#2a3f5f"
            },
            "baxis": {
             "endlinecolor": "#2a3f5f",
             "gridcolor": "white",
             "linecolor": "white",
             "minorgridcolor": "white",
             "startlinecolor": "#2a3f5f"
            },
            "type": "carpet"
           }
          ],
          "choropleth": [
           {
            "colorbar": {
             "outlinewidth": 0,
             "ticks": ""
            },
            "type": "choropleth"
           }
          ],
          "contour": [
           {
            "colorbar": {
             "outlinewidth": 0,
             "ticks": ""
            },
            "colorscale": [
             [
              0,
              "#0d0887"
             ],
             [
              0.1111111111111111,
              "#46039f"
             ],
             [
              0.2222222222222222,
              "#7201a8"
             ],
             [
              0.3333333333333333,
              "#9c179e"
             ],
             [
              0.4444444444444444,
              "#bd3786"
             ],
             [
              0.5555555555555556,
              "#d8576b"
             ],
             [
              0.6666666666666666,
              "#ed7953"
             ],
             [
              0.7777777777777778,
              "#fb9f3a"
             ],
             [
              0.8888888888888888,
              "#fdca26"
             ],
             [
              1,
              "#f0f921"
             ]
            ],
            "type": "contour"
           }
          ],
          "contourcarpet": [
           {
            "colorbar": {
             "outlinewidth": 0,
             "ticks": ""
            },
            "type": "contourcarpet"
           }
          ],
          "heatmap": [
           {
            "colorbar": {
             "outlinewidth": 0,
             "ticks": ""
            },
            "colorscale": [
             [
              0,
              "#0d0887"
             ],
             [
              0.1111111111111111,
              "#46039f"
             ],
             [
              0.2222222222222222,
              "#7201a8"
             ],
             [
              0.3333333333333333,
              "#9c179e"
             ],
             [
              0.4444444444444444,
              "#bd3786"
             ],
             [
              0.5555555555555556,
              "#d8576b"
             ],
             [
              0.6666666666666666,
              "#ed7953"
             ],
             [
              0.7777777777777778,
              "#fb9f3a"
             ],
             [
              0.8888888888888888,
              "#fdca26"
             ],
             [
              1,
              "#f0f921"
             ]
            ],
            "type": "heatmap"
           }
          ],
          "histogram": [
           {
            "marker": {
             "pattern": {
              "fillmode": "overlay",
              "size": 10,
              "solidity": 0.2
             }
            },
            "type": "histogram"
           }
          ],
          "histogram2d": [
           {
            "colorbar": {
             "outlinewidth": 0,
             "ticks": ""
            },
            "colorscale": [
             [
              0,
              "#0d0887"
             ],
             [
              0.1111111111111111,
              "#46039f"
             ],
             [
              0.2222222222222222,
              "#7201a8"
             ],
             [
              0.3333333333333333,
              "#9c179e"
             ],
             [
              0.4444444444444444,
              "#bd3786"
             ],
             [
              0.5555555555555556,
              "#d8576b"
             ],
             [
              0.6666666666666666,
              "#ed7953"
             ],
             [
              0.7777777777777778,
              "#fb9f3a"
             ],
             [
              0.8888888888888888,
              "#fdca26"
             ],
             [
              1,
              "#f0f921"
             ]
            ],
            "type": "histogram2d"
           }
          ],
          "histogram2dcontour": [
           {
            "colorbar": {
             "outlinewidth": 0,
             "ticks": ""
            },
            "colorscale": [
             [
              0,
              "#0d0887"
             ],
             [
              0.1111111111111111,
              "#46039f"
             ],
             [
              0.2222222222222222,
              "#7201a8"
             ],
             [
              0.3333333333333333,
              "#9c179e"
             ],
             [
              0.4444444444444444,
              "#bd3786"
             ],
             [
              0.5555555555555556,
              "#d8576b"
             ],
             [
              0.6666666666666666,
              "#ed7953"
             ],
             [
              0.7777777777777778,
              "#fb9f3a"
             ],
             [
              0.8888888888888888,
              "#fdca26"
             ],
             [
              1,
              "#f0f921"
             ]
            ],
            "type": "histogram2dcontour"
           }
          ],
          "mesh3d": [
           {
            "colorbar": {
             "outlinewidth": 0,
             "ticks": ""
            },
            "type": "mesh3d"
           }
          ],
          "parcoords": [
           {
            "line": {
             "colorbar": {
              "outlinewidth": 0,
              "ticks": ""
             }
            },
            "type": "parcoords"
           }
          ],
          "pie": [
           {
            "automargin": true,
            "type": "pie"
           }
          ],
          "scatter": [
           {
            "fillpattern": {
             "fillmode": "overlay",
             "size": 10,
             "solidity": 0.2
            },
            "type": "scatter"
           }
          ],
          "scatter3d": [
           {
            "line": {
             "colorbar": {
              "outlinewidth": 0,
              "ticks": ""
             }
            },
            "marker": {
             "colorbar": {
              "outlinewidth": 0,
              "ticks": ""
             }
            },
            "type": "scatter3d"
           }
          ],
          "scattercarpet": [
           {
            "marker": {
             "colorbar": {
              "outlinewidth": 0,
              "ticks": ""
             }
            },
            "type": "scattercarpet"
           }
          ],
          "scattergeo": [
           {
            "marker": {
             "colorbar": {
              "outlinewidth": 0,
              "ticks": ""
             }
            },
            "type": "scattergeo"
           }
          ],
          "scattergl": [
           {
            "marker": {
             "colorbar": {
              "outlinewidth": 0,
              "ticks": ""
             }
            },
            "type": "scattergl"
           }
          ],
          "scattermap": [
           {
            "marker": {
             "colorbar": {
              "outlinewidth": 0,
              "ticks": ""
             }
            },
            "type": "scattermap"
           }
          ],
          "scattermapbox": [
           {
            "marker": {
             "colorbar": {
              "outlinewidth": 0,
              "ticks": ""
             }
            },
            "type": "scattermapbox"
           }
          ],
          "scatterpolar": [
           {
            "marker": {
             "colorbar": {
              "outlinewidth": 0,
              "ticks": ""
             }
            },
            "type": "scatterpolar"
           }
          ],
          "scatterpolargl": [
           {
            "marker": {
             "colorbar": {
              "outlinewidth": 0,
              "ticks": ""
             }
            },
            "type": "scatterpolargl"
           }
          ],
          "scatterternary": [
           {
            "marker": {
             "colorbar": {
              "outlinewidth": 0,
              "ticks": ""
             }
            },
            "type": "scatterternary"
           }
          ],
          "surface": [
           {
            "colorbar": {
             "outlinewidth": 0,
             "ticks": ""
            },
            "colorscale": [
             [
              0,
              "#0d0887"
             ],
             [
              0.1111111111111111,
              "#46039f"
             ],
             [
              0.2222222222222222,
              "#7201a8"
             ],
             [
              0.3333333333333333,
              "#9c179e"
             ],
             [
              0.4444444444444444,
              "#bd3786"
             ],
             [
              0.5555555555555556,
              "#d8576b"
             ],
             [
              0.6666666666666666,
              "#ed7953"
             ],
             [
              0.7777777777777778,
              "#fb9f3a"
             ],
             [
              0.8888888888888888,
              "#fdca26"
             ],
             [
              1,
              "#f0f921"
             ]
            ],
            "type": "surface"
           }
          ],
          "table": [
           {
            "cells": {
             "fill": {
              "color": "#EBF0F8"
             },
             "line": {
              "color": "white"
             }
            },
            "header": {
             "fill": {
              "color": "#C8D4E3"
             },
             "line": {
              "color": "white"
             }
            },
            "type": "table"
           }
          ]
         },
         "layout": {
          "annotationdefaults": {
           "arrowcolor": "#2a3f5f",
           "arrowhead": 0,
           "arrowwidth": 1
          },
          "autotypenumbers": "strict",
          "coloraxis": {
           "colorbar": {
            "outlinewidth": 0,
            "ticks": ""
           }
          },
          "colorscale": {
           "diverging": [
            [
             0,
             "#8e0152"
            ],
            [
             0.1,
             "#c51b7d"
            ],
            [
             0.2,
             "#de77ae"
            ],
            [
             0.3,
             "#f1b6da"
            ],
            [
             0.4,
             "#fde0ef"
            ],
            [
             0.5,
             "#f7f7f7"
            ],
            [
             0.6,
             "#e6f5d0"
            ],
            [
             0.7,
             "#b8e186"
            ],
            [
             0.8,
             "#7fbc41"
            ],
            [
             0.9,
             "#4d9221"
            ],
            [
             1,
             "#276419"
            ]
           ],
           "sequential": [
            [
             0,
             "#0d0887"
            ],
            [
             0.1111111111111111,
             "#46039f"
            ],
            [
             0.2222222222222222,
             "#7201a8"
            ],
            [
             0.3333333333333333,
             "#9c179e"
            ],
            [
             0.4444444444444444,
             "#bd3786"
            ],
            [
             0.5555555555555556,
             "#d8576b"
            ],
            [
             0.6666666666666666,
             "#ed7953"
            ],
            [
             0.7777777777777778,
             "#fb9f3a"
            ],
            [
             0.8888888888888888,
             "#fdca26"
            ],
            [
             1,
             "#f0f921"
            ]
           ],
           "sequentialminus": [
            [
             0,
             "#0d0887"
            ],
            [
             0.1111111111111111,
             "#46039f"
            ],
            [
             0.2222222222222222,
             "#7201a8"
            ],
            [
             0.3333333333333333,
             "#9c179e"
            ],
            [
             0.4444444444444444,
             "#bd3786"
            ],
            [
             0.5555555555555556,
             "#d8576b"
            ],
            [
             0.6666666666666666,
             "#ed7953"
            ],
            [
             0.7777777777777778,
             "#fb9f3a"
            ],
            [
             0.8888888888888888,
             "#fdca26"
            ],
            [
             1,
             "#f0f921"
            ]
           ]
          },
          "colorway": [
           "#636efa",
           "#EF553B",
           "#00cc96",
           "#ab63fa",
           "#FFA15A",
           "#19d3f3",
           "#FF6692",
           "#B6E880",
           "#FF97FF",
           "#FECB52"
          ],
          "font": {
           "color": "#2a3f5f"
          },
          "geo": {
           "bgcolor": "white",
           "lakecolor": "white",
           "landcolor": "#E5ECF6",
           "showlakes": true,
           "showland": true,
           "subunitcolor": "white"
          },
          "hoverlabel": {
           "align": "left"
          },
          "hovermode": "closest",
          "mapbox": {
           "style": "light"
          },
          "paper_bgcolor": "white",
          "plot_bgcolor": "#E5ECF6",
          "polar": {
           "angularaxis": {
            "gridcolor": "white",
            "linecolor": "white",
            "ticks": ""
           },
           "bgcolor": "#E5ECF6",
           "radialaxis": {
            "gridcolor": "white",
            "linecolor": "white",
            "ticks": ""
           }
          },
          "scene": {
           "xaxis": {
            "backgroundcolor": "#E5ECF6",
            "gridcolor": "white",
            "gridwidth": 2,
            "linecolor": "white",
            "showbackground": true,
            "ticks": "",
            "zerolinecolor": "white"
           },
           "yaxis": {
            "backgroundcolor": "#E5ECF6",
            "gridcolor": "white",
            "gridwidth": 2,
            "linecolor": "white",
            "showbackground": true,
            "ticks": "",
            "zerolinecolor": "white"
           },
           "zaxis": {
            "backgroundcolor": "#E5ECF6",
            "gridcolor": "white",
            "gridwidth": 2,
            "linecolor": "white",
            "showbackground": true,
            "ticks": "",
            "zerolinecolor": "white"
           }
          },
          "shapedefaults": {
           "line": {
            "color": "#2a3f5f"
           }
          },
          "ternary": {
           "aaxis": {
            "gridcolor": "white",
            "linecolor": "white",
            "ticks": ""
           },
           "baxis": {
            "gridcolor": "white",
            "linecolor": "white",
            "ticks": ""
           },
           "bgcolor": "#E5ECF6",
           "caxis": {
            "gridcolor": "white",
            "linecolor": "white",
            "ticks": ""
           }
          },
          "title": {
           "x": 0.05
          },
          "xaxis": {
           "automargin": true,
           "gridcolor": "white",
           "linecolor": "white",
           "ticks": "",
           "title": {
            "standoff": 15
           },
           "zerolinecolor": "white",
           "zerolinewidth": 2
          },
          "yaxis": {
           "automargin": true,
           "gridcolor": "white",
           "linecolor": "white",
           "ticks": "",
           "title": {
            "standoff": 15
           },
           "zerolinecolor": "white",
           "zerolinewidth": 2
          }
         }
        },
        "title": {
         "text": "Verteilung der kategorialen Merkmale"
        },
        "xaxis": {
         "anchor": "y",
         "domain": [
          0,
          0.27999999999999997
         ],
         "showgrid": false,
         "tickangle": 45
        },
        "xaxis2": {
         "anchor": "y2",
         "domain": [
          0.36,
          0.6399999999999999
         ],
         "showgrid": false,
         "tickangle": 45
        },
        "xaxis3": {
         "anchor": "y3",
         "domain": [
          0.72,
          1
         ],
         "showgrid": false,
         "tickangle": 45
        },
        "xaxis4": {
         "anchor": "y4",
         "domain": [
          0,
          0.27999999999999997
         ],
         "showgrid": false,
         "tickangle": 45
        },
        "xaxis5": {
         "anchor": "y5",
         "domain": [
          0.36,
          0.6399999999999999
         ],
         "showgrid": false,
         "tickangle": 45
        },
        "xaxis6": {
         "anchor": "y6",
         "domain": [
          0.72,
          1
         ],
         "showgrid": false,
         "tickangle": 45
        },
        "yaxis": {
         "anchor": "x",
         "domain": [
          0.575,
          1
         ],
         "showgrid": false
        },
        "yaxis2": {
         "anchor": "x2",
         "domain": [
          0.575,
          1
         ],
         "showgrid": false
        },
        "yaxis3": {
         "anchor": "x3",
         "domain": [
          0.575,
          1
         ],
         "showgrid": false
        },
        "yaxis4": {
         "anchor": "x4",
         "domain": [
          0,
          0.425
         ],
         "showgrid": false
        },
        "yaxis5": {
         "anchor": "x5",
         "domain": [
          0,
          0.425
         ],
         "showgrid": false
        },
        "yaxis6": {
         "anchor": "x6",
         "domain": [
          0,
          0.425
         ],
         "showgrid": false
        }
       }
      },
      "text/html": [
       "<div>                        <script type=\"text/javascript\">window.PlotlyConfig = {MathJaxConfig: 'local'};</script>\n",
       "        <script charset=\"utf-8\" src=\"https://cdn.plot.ly/plotly-3.1.0.min.js\" integrity=\"sha256-Ei4740bWZhaUTQuD6q9yQlgVCMPBz6CZWhevDYPv93A=\" crossorigin=\"anonymous\"></script>                <div id=\"67f2b010-ee5c-4d2c-9273-9bce93c8ec1c\" class=\"plotly-graph-div\" style=\"height:700px; width:100%;\"></div>            <script type=\"text/javascript\">                window.PLOTLYENV=window.PLOTLYENV || {};                                if (document.getElementById(\"67f2b010-ee5c-4d2c-9273-9bce93c8ec1c\")) {                    Plotly.newPlot(                        \"67f2b010-ee5c-4d2c-9273-9bce93c8ec1c\",                        [{\"marker\":{\"line\":{\"color\":\"black\",\"width\":1}},\"name\":\"bad\",\"x\":[\"female\",\"male\"],\"y\":{\"dtype\":\"i2\",\"bdata\":\"UgCVAA==\"},\"type\":\"bar\",\"xaxis\":\"x\",\"yaxis\":\"y\"},{\"marker\":{\"line\":{\"color\":\"black\",\"width\":1}},\"name\":\"good\",\"x\":[\"female\",\"male\"],\"y\":{\"dtype\":\"i2\",\"bdata\":\"VgDNAA==\"},\"type\":\"bar\",\"xaxis\":\"x\",\"yaxis\":\"y\"},{\"marker\":{\"line\":{\"color\":\"black\",\"width\":1}},\"name\":\"bad\",\"x\":[\"free\",\"own\",\"rent\"],\"y\":{\"dtype\":\"i2\",\"bdata\":\"JACLADgA\"},\"type\":\"bar\",\"xaxis\":\"x2\",\"yaxis\":\"y2\"},{\"marker\":{\"line\":{\"color\":\"black\",\"width\":1}},\"name\":\"good\",\"x\":[\"free\",\"own\",\"rent\"],\"y\":{\"dtype\":\"i2\",\"bdata\":\"HQDSADQA\"},\"type\":\"bar\",\"xaxis\":\"x2\",\"yaxis\":\"y2\"},{\"marker\":{\"line\":{\"color\":\"black\",\"width\":1}},\"name\":\"bad\",\"x\":[\"little\",\"moderate\",\"quite rich\",\"rich\"],\"y\":{\"dtype\":\"i2\",\"bdata\":\"vwAeAAYABAA=\"},\"type\":\"bar\",\"xaxis\":\"x3\",\"yaxis\":\"y3\"},{\"marker\":{\"line\":{\"color\":\"black\",\"width\":1}},\"name\":\"good\",\"x\":[\"little\",\"moderate\",\"quite rich\",\"rich\"],\"y\":{\"dtype\":\"i2\",\"bdata\":\"3QAiABEAEwA=\"},\"type\":\"bar\",\"xaxis\":\"x3\",\"yaxis\":\"y3\"},{\"marker\":{\"line\":{\"color\":\"black\",\"width\":1}},\"name\":\"bad\",\"x\":[\"little\",\"moderate\",\"rich\"],\"y\":{\"dtype\":\"i1\",\"bdata\":\"eWIM\"},\"type\":\"bar\",\"xaxis\":\"x4\",\"yaxis\":\"y4\"},{\"marker\":{\"line\":{\"color\":\"black\",\"width\":1}},\"name\":\"good\",\"x\":[\"little\",\"moderate\",\"rich\"],\"y\":{\"dtype\":\"i1\",\"bdata\":\"fH4p\"},\"type\":\"bar\",\"xaxis\":\"x4\",\"yaxis\":\"y4\"},{\"marker\":{\"line\":{\"color\":\"black\",\"width\":1}},\"name\":\"bad\",\"x\":[\"business\",\"car\",\"domestic appliances\",\"education\",\"furniture\\u002fequipment\",\"radio\\u002fTV\",\"repairs\",\"vacation\\u002fothers\"],\"y\":{\"dtype\":\"i1\",\"bdata\":\"GFADEi0zBgQ=\"},\"type\":\"bar\",\"xaxis\":\"x5\",\"yaxis\":\"y5\"},{\"marker\":{\"line\":{\"color\":\"black\",\"width\":1}},\"name\":\"good\",\"x\":[\"business\",\"car\",\"domestic appliances\",\"education\",\"furniture\\u002fequipment\",\"radio\\u002fTV\",\"repairs\",\"vacation\\u002fothers\"],\"y\":{\"dtype\":\"i1\",\"bdata\":\"HV0DCj5RCAU=\"},\"type\":\"bar\",\"xaxis\":\"x5\",\"yaxis\":\"y5\"},{\"marker\":{\"line\":{\"color\":\"black\",\"width\":1}},\"name\":\"Risk\",\"x\":[\"good\",\"bad\"],\"y\":{\"dtype\":\"i2\",\"bdata\":\"IwHnAA==\"},\"type\":\"bar\",\"xaxis\":\"x6\",\"yaxis\":\"y6\"}],                        {\"template\":{\"data\":{\"histogram2dcontour\":[{\"type\":\"histogram2dcontour\",\"colorbar\":{\"outlinewidth\":0,\"ticks\":\"\"},\"colorscale\":[[0.0,\"#0d0887\"],[0.1111111111111111,\"#46039f\"],[0.2222222222222222,\"#7201a8\"],[0.3333333333333333,\"#9c179e\"],[0.4444444444444444,\"#bd3786\"],[0.5555555555555556,\"#d8576b\"],[0.6666666666666666,\"#ed7953\"],[0.7777777777777778,\"#fb9f3a\"],[0.8888888888888888,\"#fdca26\"],[1.0,\"#f0f921\"]]}],\"choropleth\":[{\"type\":\"choropleth\",\"colorbar\":{\"outlinewidth\":0,\"ticks\":\"\"}}],\"histogram2d\":[{\"type\":\"histogram2d\",\"colorbar\":{\"outlinewidth\":0,\"ticks\":\"\"},\"colorscale\":[[0.0,\"#0d0887\"],[0.1111111111111111,\"#46039f\"],[0.2222222222222222,\"#7201a8\"],[0.3333333333333333,\"#9c179e\"],[0.4444444444444444,\"#bd3786\"],[0.5555555555555556,\"#d8576b\"],[0.6666666666666666,\"#ed7953\"],[0.7777777777777778,\"#fb9f3a\"],[0.8888888888888888,\"#fdca26\"],[1.0,\"#f0f921\"]]}],\"heatmap\":[{\"type\":\"heatmap\",\"colorbar\":{\"outlinewidth\":0,\"ticks\":\"\"},\"colorscale\":[[0.0,\"#0d0887\"],[0.1111111111111111,\"#46039f\"],[0.2222222222222222,\"#7201a8\"],[0.3333333333333333,\"#9c179e\"],[0.4444444444444444,\"#bd3786\"],[0.5555555555555556,\"#d8576b\"],[0.6666666666666666,\"#ed7953\"],[0.7777777777777778,\"#fb9f3a\"],[0.8888888888888888,\"#fdca26\"],[1.0,\"#f0f921\"]]}],\"contourcarpet\":[{\"type\":\"contourcarpet\",\"colorbar\":{\"outlinewidth\":0,\"ticks\":\"\"}}],\"contour\":[{\"type\":\"contour\",\"colorbar\":{\"outlinewidth\":0,\"ticks\":\"\"},\"colorscale\":[[0.0,\"#0d0887\"],[0.1111111111111111,\"#46039f\"],[0.2222222222222222,\"#7201a8\"],[0.3333333333333333,\"#9c179e\"],[0.4444444444444444,\"#bd3786\"],[0.5555555555555556,\"#d8576b\"],[0.6666666666666666,\"#ed7953\"],[0.7777777777777778,\"#fb9f3a\"],[0.8888888888888888,\"#fdca26\"],[1.0,\"#f0f921\"]]}],\"surface\":[{\"type\":\"surface\",\"colorbar\":{\"outlinewidth\":0,\"ticks\":\"\"},\"colorscale\":[[0.0,\"#0d0887\"],[0.1111111111111111,\"#46039f\"],[0.2222222222222222,\"#7201a8\"],[0.3333333333333333,\"#9c179e\"],[0.4444444444444444,\"#bd3786\"],[0.5555555555555556,\"#d8576b\"],[0.6666666666666666,\"#ed7953\"],[0.7777777777777778,\"#fb9f3a\"],[0.8888888888888888,\"#fdca26\"],[1.0,\"#f0f921\"]]}],\"mesh3d\":[{\"type\":\"mesh3d\",\"colorbar\":{\"outlinewidth\":0,\"ticks\":\"\"}}],\"scatter\":[{\"fillpattern\":{\"fillmode\":\"overlay\",\"size\":10,\"solidity\":0.2},\"type\":\"scatter\"}],\"parcoords\":[{\"type\":\"parcoords\",\"line\":{\"colorbar\":{\"outlinewidth\":0,\"ticks\":\"\"}}}],\"scatterpolargl\":[{\"type\":\"scatterpolargl\",\"marker\":{\"colorbar\":{\"outlinewidth\":0,\"ticks\":\"\"}}}],\"bar\":[{\"error_x\":{\"color\":\"#2a3f5f\"},\"error_y\":{\"color\":\"#2a3f5f\"},\"marker\":{\"line\":{\"color\":\"#E5ECF6\",\"width\":0.5},\"pattern\":{\"fillmode\":\"overlay\",\"size\":10,\"solidity\":0.2}},\"type\":\"bar\"}],\"scattergeo\":[{\"type\":\"scattergeo\",\"marker\":{\"colorbar\":{\"outlinewidth\":0,\"ticks\":\"\"}}}],\"scatterpolar\":[{\"type\":\"scatterpolar\",\"marker\":{\"colorbar\":{\"outlinewidth\":0,\"ticks\":\"\"}}}],\"histogram\":[{\"marker\":{\"pattern\":{\"fillmode\":\"overlay\",\"size\":10,\"solidity\":0.2}},\"type\":\"histogram\"}],\"scattergl\":[{\"type\":\"scattergl\",\"marker\":{\"colorbar\":{\"outlinewidth\":0,\"ticks\":\"\"}}}],\"scatter3d\":[{\"type\":\"scatter3d\",\"line\":{\"colorbar\":{\"outlinewidth\":0,\"ticks\":\"\"}},\"marker\":{\"colorbar\":{\"outlinewidth\":0,\"ticks\":\"\"}}}],\"scattermap\":[{\"type\":\"scattermap\",\"marker\":{\"colorbar\":{\"outlinewidth\":0,\"ticks\":\"\"}}}],\"scattermapbox\":[{\"type\":\"scattermapbox\",\"marker\":{\"colorbar\":{\"outlinewidth\":0,\"ticks\":\"\"}}}],\"scatterternary\":[{\"type\":\"scatterternary\",\"marker\":{\"colorbar\":{\"outlinewidth\":0,\"ticks\":\"\"}}}],\"scattercarpet\":[{\"type\":\"scattercarpet\",\"marker\":{\"colorbar\":{\"outlinewidth\":0,\"ticks\":\"\"}}}],\"carpet\":[{\"aaxis\":{\"endlinecolor\":\"#2a3f5f\",\"gridcolor\":\"white\",\"linecolor\":\"white\",\"minorgridcolor\":\"white\",\"startlinecolor\":\"#2a3f5f\"},\"baxis\":{\"endlinecolor\":\"#2a3f5f\",\"gridcolor\":\"white\",\"linecolor\":\"white\",\"minorgridcolor\":\"white\",\"startlinecolor\":\"#2a3f5f\"},\"type\":\"carpet\"}],\"table\":[{\"cells\":{\"fill\":{\"color\":\"#EBF0F8\"},\"line\":{\"color\":\"white\"}},\"header\":{\"fill\":{\"color\":\"#C8D4E3\"},\"line\":{\"color\":\"white\"}},\"type\":\"table\"}],\"barpolar\":[{\"marker\":{\"line\":{\"color\":\"#E5ECF6\",\"width\":0.5},\"pattern\":{\"fillmode\":\"overlay\",\"size\":10,\"solidity\":0.2}},\"type\":\"barpolar\"}],\"pie\":[{\"automargin\":true,\"type\":\"pie\"}]},\"layout\":{\"autotypenumbers\":\"strict\",\"colorway\":[\"#636efa\",\"#EF553B\",\"#00cc96\",\"#ab63fa\",\"#FFA15A\",\"#19d3f3\",\"#FF6692\",\"#B6E880\",\"#FF97FF\",\"#FECB52\"],\"font\":{\"color\":\"#2a3f5f\"},\"hovermode\":\"closest\",\"hoverlabel\":{\"align\":\"left\"},\"paper_bgcolor\":\"white\",\"plot_bgcolor\":\"#E5ECF6\",\"polar\":{\"bgcolor\":\"#E5ECF6\",\"angularaxis\":{\"gridcolor\":\"white\",\"linecolor\":\"white\",\"ticks\":\"\"},\"radialaxis\":{\"gridcolor\":\"white\",\"linecolor\":\"white\",\"ticks\":\"\"}},\"ternary\":{\"bgcolor\":\"#E5ECF6\",\"aaxis\":{\"gridcolor\":\"white\",\"linecolor\":\"white\",\"ticks\":\"\"},\"baxis\":{\"gridcolor\":\"white\",\"linecolor\":\"white\",\"ticks\":\"\"},\"caxis\":{\"gridcolor\":\"white\",\"linecolor\":\"white\",\"ticks\":\"\"}},\"coloraxis\":{\"colorbar\":{\"outlinewidth\":0,\"ticks\":\"\"}},\"colorscale\":{\"sequential\":[[0.0,\"#0d0887\"],[0.1111111111111111,\"#46039f\"],[0.2222222222222222,\"#7201a8\"],[0.3333333333333333,\"#9c179e\"],[0.4444444444444444,\"#bd3786\"],[0.5555555555555556,\"#d8576b\"],[0.6666666666666666,\"#ed7953\"],[0.7777777777777778,\"#fb9f3a\"],[0.8888888888888888,\"#fdca26\"],[1.0,\"#f0f921\"]],\"sequentialminus\":[[0.0,\"#0d0887\"],[0.1111111111111111,\"#46039f\"],[0.2222222222222222,\"#7201a8\"],[0.3333333333333333,\"#9c179e\"],[0.4444444444444444,\"#bd3786\"],[0.5555555555555556,\"#d8576b\"],[0.6666666666666666,\"#ed7953\"],[0.7777777777777778,\"#fb9f3a\"],[0.8888888888888888,\"#fdca26\"],[1.0,\"#f0f921\"]],\"diverging\":[[0,\"#8e0152\"],[0.1,\"#c51b7d\"],[0.2,\"#de77ae\"],[0.3,\"#f1b6da\"],[0.4,\"#fde0ef\"],[0.5,\"#f7f7f7\"],[0.6,\"#e6f5d0\"],[0.7,\"#b8e186\"],[0.8,\"#7fbc41\"],[0.9,\"#4d9221\"],[1,\"#276419\"]]},\"xaxis\":{\"gridcolor\":\"white\",\"linecolor\":\"white\",\"ticks\":\"\",\"title\":{\"standoff\":15},\"zerolinecolor\":\"white\",\"automargin\":true,\"zerolinewidth\":2},\"yaxis\":{\"gridcolor\":\"white\",\"linecolor\":\"white\",\"ticks\":\"\",\"title\":{\"standoff\":15},\"zerolinecolor\":\"white\",\"automargin\":true,\"zerolinewidth\":2},\"scene\":{\"xaxis\":{\"backgroundcolor\":\"#E5ECF6\",\"gridcolor\":\"white\",\"linecolor\":\"white\",\"showbackground\":true,\"ticks\":\"\",\"zerolinecolor\":\"white\",\"gridwidth\":2},\"yaxis\":{\"backgroundcolor\":\"#E5ECF6\",\"gridcolor\":\"white\",\"linecolor\":\"white\",\"showbackground\":true,\"ticks\":\"\",\"zerolinecolor\":\"white\",\"gridwidth\":2},\"zaxis\":{\"backgroundcolor\":\"#E5ECF6\",\"gridcolor\":\"white\",\"linecolor\":\"white\",\"showbackground\":true,\"ticks\":\"\",\"zerolinecolor\":\"white\",\"gridwidth\":2}},\"shapedefaults\":{\"line\":{\"color\":\"#2a3f5f\"}},\"annotationdefaults\":{\"arrowcolor\":\"#2a3f5f\",\"arrowhead\":0,\"arrowwidth\":1},\"geo\":{\"bgcolor\":\"white\",\"landcolor\":\"#E5ECF6\",\"subunitcolor\":\"white\",\"showland\":true,\"showlakes\":true,\"lakecolor\":\"white\"},\"title\":{\"x\":0.05},\"mapbox\":{\"style\":\"light\"}}},\"xaxis\":{\"anchor\":\"y\",\"domain\":[0.0,0.27999999999999997],\"showgrid\":false,\"tickangle\":45},\"yaxis\":{\"anchor\":\"x\",\"domain\":[0.575,1.0],\"showgrid\":false},\"xaxis2\":{\"anchor\":\"y2\",\"domain\":[0.36,0.6399999999999999],\"showgrid\":false,\"tickangle\":45},\"yaxis2\":{\"anchor\":\"x2\",\"domain\":[0.575,1.0],\"showgrid\":false},\"xaxis3\":{\"anchor\":\"y3\",\"domain\":[0.72,1.0],\"showgrid\":false,\"tickangle\":45},\"yaxis3\":{\"anchor\":\"x3\",\"domain\":[0.575,1.0],\"showgrid\":false},\"xaxis4\":{\"anchor\":\"y4\",\"domain\":[0.0,0.27999999999999997],\"showgrid\":false,\"tickangle\":45},\"yaxis4\":{\"anchor\":\"x4\",\"domain\":[0.0,0.425],\"showgrid\":false},\"xaxis5\":{\"anchor\":\"y5\",\"domain\":[0.36,0.6399999999999999],\"showgrid\":false,\"tickangle\":45},\"yaxis5\":{\"anchor\":\"x5\",\"domain\":[0.0,0.425],\"showgrid\":false},\"xaxis6\":{\"anchor\":\"y6\",\"domain\":[0.72,1.0],\"showgrid\":false,\"tickangle\":45},\"yaxis6\":{\"anchor\":\"x6\",\"domain\":[0.0,0.425],\"showgrid\":false},\"annotations\":[{\"font\":{\"size\":16},\"showarrow\":false,\"text\":\"Sex\",\"x\":0.13999999999999999,\"xanchor\":\"center\",\"xref\":\"paper\",\"y\":1.0,\"yanchor\":\"bottom\",\"yref\":\"paper\"},{\"font\":{\"size\":16},\"showarrow\":false,\"text\":\"Housing\",\"x\":0.49999999999999994,\"xanchor\":\"center\",\"xref\":\"paper\",\"y\":1.0,\"yanchor\":\"bottom\",\"yref\":\"paper\"},{\"font\":{\"size\":16},\"showarrow\":false,\"text\":\"Saving accounts\",\"x\":0.86,\"xanchor\":\"center\",\"xref\":\"paper\",\"y\":1.0,\"yanchor\":\"bottom\",\"yref\":\"paper\"},{\"font\":{\"size\":16},\"showarrow\":false,\"text\":\"Checking account\",\"x\":0.13999999999999999,\"xanchor\":\"center\",\"xref\":\"paper\",\"y\":0.425,\"yanchor\":\"bottom\",\"yref\":\"paper\"},{\"font\":{\"size\":16},\"showarrow\":false,\"text\":\"Purpose\",\"x\":0.49999999999999994,\"xanchor\":\"center\",\"xref\":\"paper\",\"y\":0.425,\"yanchor\":\"bottom\",\"yref\":\"paper\"},{\"font\":{\"size\":16},\"showarrow\":false,\"text\":\"Risk\",\"x\":0.86,\"xanchor\":\"center\",\"xref\":\"paper\",\"y\":0.425,\"yanchor\":\"bottom\",\"yref\":\"paper\"}],\"title\":{\"text\":\"Verteilung der kategorialen Merkmale\"},\"barmode\":\"group\",\"height\":700},                        {\"responsive\": true}                    )                };            </script>        </div>"
      ],
      "text/plain": [
       "Figure({\n",
       "    'data': [{'marker': {'line': {'color': 'black', 'width': 1}},\n",
       "              'name': 'bad',\n",
       "              'type': 'bar',\n",
       "              'x': array(['female', 'male'], dtype=object),\n",
       "              'xaxis': 'x',\n",
       "              'y': {'bdata': 'UgCVAA==', 'dtype': 'i2'},\n",
       "              'yaxis': 'y'},\n",
       "             {'marker': {'line': {'color': 'black', 'width': 1}},\n",
       "              'name': 'good',\n",
       "              'type': 'bar',\n",
       "              'x': array(['female', 'male'], dtype=object),\n",
       "              'xaxis': 'x',\n",
       "              'y': {'bdata': 'VgDNAA==', 'dtype': 'i2'},\n",
       "              'yaxis': 'y'},\n",
       "             {'marker': {'line': {'color': 'black', 'width': 1}},\n",
       "              'name': 'bad',\n",
       "              'type': 'bar',\n",
       "              'x': array(['free', 'own', 'rent'], dtype=object),\n",
       "              'xaxis': 'x2',\n",
       "              'y': {'bdata': 'JACLADgA', 'dtype': 'i2'},\n",
       "              'yaxis': 'y2'},\n",
       "             {'marker': {'line': {'color': 'black', 'width': 1}},\n",
       "              'name': 'good',\n",
       "              'type': 'bar',\n",
       "              'x': array(['free', 'own', 'rent'], dtype=object),\n",
       "              'xaxis': 'x2',\n",
       "              'y': {'bdata': 'HQDSADQA', 'dtype': 'i2'},\n",
       "              'yaxis': 'y2'},\n",
       "             {'marker': {'line': {'color': 'black', 'width': 1}},\n",
       "              'name': 'bad',\n",
       "              'type': 'bar',\n",
       "              'x': array(['little', 'moderate', 'quite rich', 'rich'], dtype=object),\n",
       "              'xaxis': 'x3',\n",
       "              'y': {'bdata': 'vwAeAAYABAA=', 'dtype': 'i2'},\n",
       "              'yaxis': 'y3'},\n",
       "             {'marker': {'line': {'color': 'black', 'width': 1}},\n",
       "              'name': 'good',\n",
       "              'type': 'bar',\n",
       "              'x': array(['little', 'moderate', 'quite rich', 'rich'], dtype=object),\n",
       "              'xaxis': 'x3',\n",
       "              'y': {'bdata': '3QAiABEAEwA=', 'dtype': 'i2'},\n",
       "              'yaxis': 'y3'},\n",
       "             {'marker': {'line': {'color': 'black', 'width': 1}},\n",
       "              'name': 'bad',\n",
       "              'type': 'bar',\n",
       "              'x': array(['little', 'moderate', 'rich'], dtype=object),\n",
       "              'xaxis': 'x4',\n",
       "              'y': {'bdata': 'eWIM', 'dtype': 'i1'},\n",
       "              'yaxis': 'y4'},\n",
       "             {'marker': {'line': {'color': 'black', 'width': 1}},\n",
       "              'name': 'good',\n",
       "              'type': 'bar',\n",
       "              'x': array(['little', 'moderate', 'rich'], dtype=object),\n",
       "              'xaxis': 'x4',\n",
       "              'y': {'bdata': 'fH4p', 'dtype': 'i1'},\n",
       "              'yaxis': 'y4'},\n",
       "             {'marker': {'line': {'color': 'black', 'width': 1}},\n",
       "              'name': 'bad',\n",
       "              'type': 'bar',\n",
       "              'x': array(['business', 'car', 'domestic appliances', 'education',\n",
       "                          'furniture/equipment', 'radio/TV', 'repairs', 'vacation/others'],\n",
       "                         dtype=object),\n",
       "              'xaxis': 'x5',\n",
       "              'y': {'bdata': 'GFADEi0zBgQ=', 'dtype': 'i1'},\n",
       "              'yaxis': 'y5'},\n",
       "             {'marker': {'line': {'color': 'black', 'width': 1}},\n",
       "              'name': 'good',\n",
       "              'type': 'bar',\n",
       "              'x': array(['business', 'car', 'domestic appliances', 'education',\n",
       "                          'furniture/equipment', 'radio/TV', 'repairs', 'vacation/others'],\n",
       "                         dtype=object),\n",
       "              'xaxis': 'x5',\n",
       "              'y': {'bdata': 'HV0DCj5RCAU=', 'dtype': 'i1'},\n",
       "              'yaxis': 'y5'},\n",
       "             {'marker': {'line': {'color': 'black', 'width': 1}},\n",
       "              'name': 'Risk',\n",
       "              'type': 'bar',\n",
       "              'x': array(['good', 'bad'], dtype=object),\n",
       "              'xaxis': 'x6',\n",
       "              'y': {'bdata': 'IwHnAA==', 'dtype': 'i2'},\n",
       "              'yaxis': 'y6'}],\n",
       "    'layout': {'annotations': [{'font': {'size': 16},\n",
       "                                'showarrow': False,\n",
       "                                'text': 'Sex',\n",
       "                                'x': 0.13999999999999999,\n",
       "                                'xanchor': 'center',\n",
       "                                'xref': 'paper',\n",
       "                                'y': 1.0,\n",
       "                                'yanchor': 'bottom',\n",
       "                                'yref': 'paper'},\n",
       "                               {'font': {'size': 16},\n",
       "                                'showarrow': False,\n",
       "                                'text': 'Housing',\n",
       "                                'x': 0.49999999999999994,\n",
       "                                'xanchor': 'center',\n",
       "                                'xref': 'paper',\n",
       "                                'y': 1.0,\n",
       "                                'yanchor': 'bottom',\n",
       "                                'yref': 'paper'},\n",
       "                               {'font': {'size': 16},\n",
       "                                'showarrow': False,\n",
       "                                'text': 'Saving accounts',\n",
       "                                'x': 0.86,\n",
       "                                'xanchor': 'center',\n",
       "                                'xref': 'paper',\n",
       "                                'y': 1.0,\n",
       "                                'yanchor': 'bottom',\n",
       "                                'yref': 'paper'},\n",
       "                               {'font': {'size': 16},\n",
       "                                'showarrow': False,\n",
       "                                'text': 'Checking account',\n",
       "                                'x': 0.13999999999999999,\n",
       "                                'xanchor': 'center',\n",
       "                                'xref': 'paper',\n",
       "                                'y': 0.425,\n",
       "                                'yanchor': 'bottom',\n",
       "                                'yref': 'paper'},\n",
       "                               {'font': {'size': 16},\n",
       "                                'showarrow': False,\n",
       "                                'text': 'Purpose',\n",
       "                                'x': 0.49999999999999994,\n",
       "                                'xanchor': 'center',\n",
       "                                'xref': 'paper',\n",
       "                                'y': 0.425,\n",
       "                                'yanchor': 'bottom',\n",
       "                                'yref': 'paper'},\n",
       "                               {'font': {'size': 16},\n",
       "                                'showarrow': False,\n",
       "                                'text': 'Risk',\n",
       "                                'x': 0.86,\n",
       "                                'xanchor': 'center',\n",
       "                                'xref': 'paper',\n",
       "                                'y': 0.425,\n",
       "                                'yanchor': 'bottom',\n",
       "                                'yref': 'paper'}],\n",
       "               'barmode': 'group',\n",
       "               'height': 700,\n",
       "               'template': '...',\n",
       "               'title': {'text': 'Verteilung der kategorialen Merkmale'},\n",
       "               'xaxis': {'anchor': 'y', 'domain': [0.0, 0.27999999999999997], 'showgrid': False, 'tickangle': 45},\n",
       "               'xaxis2': {'anchor': 'y2', 'domain': [0.36, 0.6399999999999999], 'showgrid': False, 'tickangle': 45},\n",
       "               'xaxis3': {'anchor': 'y3', 'domain': [0.72, 1.0], 'showgrid': False, 'tickangle': 45},\n",
       "               'xaxis4': {'anchor': 'y4', 'domain': [0.0, 0.27999999999999997], 'showgrid': False, 'tickangle': 45},\n",
       "               'xaxis5': {'anchor': 'y5', 'domain': [0.36, 0.6399999999999999], 'showgrid': False, 'tickangle': 45},\n",
       "               'xaxis6': {'anchor': 'y6', 'domain': [0.72, 1.0], 'showgrid': False, 'tickangle': 45},\n",
       "               'yaxis': {'anchor': 'x', 'domain': [0.575, 1.0], 'showgrid': False},\n",
       "               'yaxis2': {'anchor': 'x2', 'domain': [0.575, 1.0], 'showgrid': False},\n",
       "               'yaxis3': {'anchor': 'x3', 'domain': [0.575, 1.0], 'showgrid': False},\n",
       "               'yaxis4': {'anchor': 'x4', 'domain': [0.0, 0.425], 'showgrid': False},\n",
       "               'yaxis5': {'anchor': 'x5', 'domain': [0.0, 0.425], 'showgrid': False},\n",
       "               'yaxis6': {'anchor': 'x6', 'domain': [0.0, 0.425], 'showgrid': False}}\n",
       "})"
      ]
     },
     "execution_count": 75,
     "metadata": {},
     "output_type": "execute_result"
    }
   ],
   "source": [
    "# Subplot-Raster (3 Spalten pro Reihe):\n",
    "cols_per_row = 3\n",
    "rows = math.ceil(len(categorical_cols) / cols_per_row)\n",
    "\n",
    "fig8 = make_subplots(\n",
    "    rows=rows,\n",
    "    cols=cols_per_row,\n",
    "    subplot_titles=categorical_cols,\n",
    "    horizontal_spacing=0.08,\n",
    "    vertical_spacing=0.15\n",
    ")\n",
    "\n",
    "for i, col in enumerate(categorical_cols):\n",
    "    r = i // cols_per_row + 1\n",
    "    c = i % cols_per_row + 1\n",
    "    \n",
    "    if col != \"Risk\":\n",
    "        # Häufigkeiten nach Risk berechnen:\n",
    "        value_counts = df.groupby([col, \"Risk\"]).size().reset_index(name=\"count\")\n",
    "        \n",
    "        # Balken hinzufügen (good vs. bad):\n",
    "        for risk_class in value_counts[\"Risk\"].unique():\n",
    "            subset = value_counts[value_counts[\"Risk\"] == risk_class]\n",
    "            fig8.add_trace(\n",
    "                go.Bar(\n",
    "                    x=subset[col].astype(str),\n",
    "                    y=subset[\"count\"],\n",
    "                    name=risk_class,\n",
    "                    marker_line_color=\"black\",\n",
    "                    marker_line_width=1\n",
    "                ),\n",
    "                row=r, col=c\n",
    "            )\n",
    "    else:\n",
    "        # Nur einfache Verteilung von Risk selbst:\n",
    "        value_counts = df[col].value_counts().reset_index()\n",
    "        value_counts.columns = [col, \"count\"]\n",
    "        \n",
    "        fig8.add_trace(\n",
    "            go.Bar(\n",
    "                x=value_counts[col].astype(str),\n",
    "                y=value_counts[\"count\"],\n",
    "                name=col,\n",
    "                marker_line_color=\"black\",\n",
    "                marker_line_width=1\n",
    "            ),\n",
    "            row=r, col=c\n",
    "        )\n",
    "\n",
    "fig8.update_xaxes(showgrid=False, tickangle=45)\n",
    "fig8.update_yaxes(showgrid=False)\n",
    "fig8.update_layout(\n",
    "    title=\"Verteilung der kategorialen Merkmale\",\n",
    "    barmode=\"group\",\n",
    "    height=350 * rows\n",
    ")\n",
    "\n",
    "fig8\n"
   ]
  },
  {
   "cell_type": "markdown",
   "id": "8f213dfb",
   "metadata": {},
   "source": [
    "Die Übersicht zeigt, wie sich die Risiko-Klassen (good vs. bad) über die verschiedenen Kategorien verteilen:\n",
    "- **Geschlecht (Sex):** Männer sind häufiger vertreten als Frauen. Ein klarer Unterschied zwischen good und bad ist aber nicht erkennbar – beide Geschlechter haben in etwa denselben Anteil an riskanten Krediten.\n",
    "- **Wohnsituation (Housing):** Die meisten Kreditnehmer besitzen ein eigenes Haus (own). Mieter (rent) und Personen, die kostenlos wohnen (free), sind deutlich seltener. Auffällig ist, dass gerade bei Mietern der Anteil der bad-Kredite höher wirkt.\n",
    "- **Sparguthaben (Saving accounts):** Viele Kunden haben nur geringe Ersparnisse (little). Hier treten auch besonders viele riskante Kredite auf. Bei höheren Guthaben-Klassen (moderate, quite rich, rich) sinkt die Zahl der riskanten Kredite deutlich.\n",
    "- **Girokonto (Checking account):** Personen mit little oder moderate Guthaben auf dem Girokonto sind am häufigsten vertreten. Wer ein rich Konto hat, kommt deutlich seltener vor und scheint insgesamt etwas sicherer zu sein.\n",
    "- **Kreditverwendungszweck (Purpose):** Am häufigsten werden Kredite für Auto oder Radio/TV aufgenommen. Bei Bildung (education) oder sonstigen Zwecken (vacation/others) fällt auf, dass der Anteil riskanter Kredite relativ hoch ist.\n",
    "- **Gesamtverteilung (Risk):** Rund 56 % der Kredite gelten als good und 44 % als bad. Das hatten wir zuvor schon gesehen, wird hier aber noch einmal bestätigt.\n",
    "<br>\n",
    "<br>\n",
    "Nachdem wir unsere Daten nun gründlich analysiert und die wichtigsten Merkmale besser verstanden haben, wollen wir den Datensatz für das Modellieren vorbereiten. Dazu wählen wir gezielt bestimmte Spalten aus, die wir später als Eingabevariablen (Features) verwenden möchten. Diese Variablen liefern die Informationen, auf deren Grundlage ein Modell lernen soll, wie sich Kreditrisiken unterscheiden.\n",
    "<br>\n",
    "<br>\n",
    "Außerdem legen wir fest, welches Merkmal die Zielvariable (Target) ist. In unserem Fall ist das die Spalte Risk, also die Klassifikation in good oder bad."
   ]
  },
  {
   "cell_type": "code",
   "execution_count": 76,
   "id": "8535abe9",
   "metadata": {},
   "outputs": [
    {
     "data": {
      "application/vnd.microsoft.datawrangler.viewer.v0+json": {
       "columns": [
        {
         "name": "index",
         "rawType": "int64",
         "type": "integer"
        },
        {
         "name": "Age",
         "rawType": "int64",
         "type": "integer"
        },
        {
         "name": "Sex",
         "rawType": "object",
         "type": "string"
        },
        {
         "name": "Job",
         "rawType": "int64",
         "type": "integer"
        },
        {
         "name": "Housing",
         "rawType": "object",
         "type": "string"
        },
        {
         "name": "Saving accounts",
         "rawType": "object",
         "type": "string"
        },
        {
         "name": "Checking account",
         "rawType": "object",
         "type": "string"
        },
        {
         "name": "Credit amount",
         "rawType": "int64",
         "type": "integer"
        },
        {
         "name": "Duration",
         "rawType": "int64",
         "type": "integer"
        },
        {
         "name": "Purpose",
         "rawType": "object",
         "type": "string"
        },
        {
         "name": "Risk",
         "rawType": "object",
         "type": "string"
        }
       ],
       "ref": "28f1881f-9c57-480f-a58c-72da5acd694a",
       "rows": [
        [
         "0",
         "22",
         "female",
         "2",
         "own",
         "little",
         "moderate",
         "5951",
         "48",
         "radio/TV",
         "bad"
        ],
        [
         "1",
         "45",
         "male",
         "2",
         "free",
         "little",
         "little",
         "7882",
         "42",
         "furniture/equipment",
         "good"
        ],
        [
         "2",
         "53",
         "male",
         "2",
         "free",
         "little",
         "little",
         "4870",
         "24",
         "car",
         "bad"
        ],
        [
         "3",
         "35",
         "male",
         "3",
         "rent",
         "little",
         "moderate",
         "6948",
         "36",
         "car",
         "good"
        ],
        [
         "4",
         "28",
         "male",
         "3",
         "own",
         "little",
         "moderate",
         "5234",
         "30",
         "car",
         "bad"
        ],
        [
         "5",
         "25",
         "female",
         "2",
         "rent",
         "little",
         "moderate",
         "1295",
         "12",
         "car",
         "bad"
        ],
        [
         "6",
         "24",
         "female",
         "2",
         "rent",
         "little",
         "little",
         "4308",
         "48",
         "business",
         "bad"
        ],
        [
         "7",
         "22",
         "female",
         "2",
         "own",
         "little",
         "moderate",
         "1567",
         "12",
         "radio/TV",
         "good"
        ],
        [
         "8",
         "60",
         "male",
         "1",
         "own",
         "little",
         "little",
         "1199",
         "24",
         "car",
         "bad"
        ],
        [
         "9",
         "28",
         "female",
         "2",
         "rent",
         "little",
         "little",
         "1403",
         "15",
         "car",
         "good"
        ],
        [
         "10",
         "32",
         "female",
         "1",
         "own",
         "moderate",
         "little",
         "1282",
         "24",
         "radio/TV",
         "bad"
        ],
        [
         "11",
         "44",
         "female",
         "3",
         "free",
         "little",
         "moderate",
         "12579",
         "24",
         "car",
         "bad"
        ],
        [
         "12",
         "44",
         "male",
         "2",
         "rent",
         "quite rich",
         "little",
         "2647",
         "6",
         "radio/TV",
         "good"
        ],
        [
         "13",
         "48",
         "male",
         "1",
         "rent",
         "little",
         "little",
         "2241",
         "10",
         "car",
         "good"
        ],
        [
         "14",
         "44",
         "male",
         "2",
         "own",
         "moderate",
         "moderate",
         "1804",
         "12",
         "car",
         "good"
        ],
        [
         "15",
         "36",
         "male",
         "1",
         "own",
         "little",
         "little",
         "1374",
         "6",
         "furniture/equipment",
         "good"
        ],
        [
         "16",
         "42",
         "female",
         "2",
         "rent",
         "rich",
         "rich",
         "409",
         "12",
         "radio/TV",
         "good"
        ],
        [
         "17",
         "34",
         "male",
         "2",
         "own",
         "little",
         "moderate",
         "2415",
         "7",
         "radio/TV",
         "good"
        ],
        [
         "18",
         "63",
         "male",
         "2",
         "own",
         "little",
         "little",
         "6836",
         "60",
         "business",
         "bad"
        ],
        [
         "19",
         "36",
         "male",
         "2",
         "own",
         "rich",
         "moderate",
         "1913",
         "18",
         "business",
         "good"
        ],
        [
         "20",
         "27",
         "male",
         "2",
         "own",
         "little",
         "little",
         "4020",
         "24",
         "furniture/equipment",
         "good"
        ],
        [
         "21",
         "30",
         "male",
         "2",
         "own",
         "moderate",
         "moderate",
         "5866",
         "18",
         "car",
         "good"
        ],
        [
         "22",
         "33",
         "female",
         "3",
         "own",
         "little",
         "rich",
         "1474",
         "12",
         "furniture/equipment",
         "good"
        ],
        [
         "23",
         "25",
         "male",
         "1",
         "own",
         "little",
         "moderate",
         "4746",
         "45",
         "radio/TV",
         "bad"
        ],
        [
         "24",
         "37",
         "male",
         "2",
         "own",
         "little",
         "rich",
         "2100",
         "18",
         "radio/TV",
         "bad"
        ],
        [
         "25",
         "37",
         "male",
         "2",
         "own",
         "little",
         "rich",
         "1225",
         "10",
         "domestic appliances",
         "good"
        ],
        [
         "26",
         "24",
         "male",
         "2",
         "own",
         "little",
         "moderate",
         "458",
         "9",
         "radio/TV",
         "good"
        ],
        [
         "27",
         "26",
         "male",
         "2",
         "own",
         "quite rich",
         "moderate",
         "1158",
         "12",
         "radio/TV",
         "good"
        ],
        [
         "28",
         "44",
         "male",
         "1",
         "own",
         "little",
         "moderate",
         "6204",
         "18",
         "repairs",
         "good"
        ],
        [
         "29",
         "24",
         "male",
         "2",
         "rent",
         "moderate",
         "little",
         "6187",
         "30",
         "car",
         "good"
        ],
        [
         "30",
         "58",
         "female",
         "1",
         "free",
         "little",
         "little",
         "6143",
         "48",
         "car",
         "bad"
        ],
        [
         "31",
         "23",
         "female",
         "0",
         "rent",
         "quite rich",
         "little",
         "1352",
         "6",
         "car",
         "good"
        ],
        [
         "32",
         "30",
         "male",
         "3",
         "own",
         "little",
         "moderate",
         "5965",
         "27",
         "car",
         "good"
        ],
        [
         "33",
         "57",
         "male",
         "2",
         "free",
         "little",
         "moderate",
         "2225",
         "36",
         "car",
         "bad"
        ],
        [
         "34",
         "23",
         "female",
         "3",
         "own",
         "little",
         "rich",
         "1961",
         "18",
         "car",
         "good"
        ],
        [
         "35",
         "23",
         "female",
         "1",
         "rent",
         "little",
         "little",
         "6229",
         "36",
         "furniture/equipment",
         "bad"
        ],
        [
         "36",
         "27",
         "male",
         "2",
         "own",
         "little",
         "moderate",
         "1391",
         "9",
         "business",
         "good"
        ],
        [
         "37",
         "61",
         "male",
         "3",
         "free",
         "little",
         "moderate",
         "1953",
         "36",
         "business",
         "bad"
        ],
        [
         "38",
         "25",
         "male",
         "2",
         "own",
         "little",
         "moderate",
         "14421",
         "48",
         "business",
         "bad"
        ],
        [
         "39",
         "22",
         "male",
         "2",
         "own",
         "rich",
         "moderate",
         "1007",
         "12",
         "car",
         "good"
        ],
        [
         "40",
         "51",
         "male",
         "3",
         "free",
         "little",
         "little",
         "1164",
         "8",
         "vacation/others",
         "good"
        ],
        [
         "41",
         "41",
         "female",
         "1",
         "own",
         "little",
         "moderate",
         "5954",
         "42",
         "business",
         "good"
        ],
        [
         "42",
         "66",
         "male",
         "3",
         "free",
         "little",
         "little",
         "1526",
         "12",
         "car",
         "good"
        ],
        [
         "43",
         "34",
         "male",
         "2",
         "own",
         "little",
         "little",
         "3965",
         "42",
         "radio/TV",
         "bad"
        ],
        [
         "44",
         "51",
         "male",
         "2",
         "own",
         "little",
         "moderate",
         "4771",
         "11",
         "radio/TV",
         "good"
        ],
        [
         "45",
         "22",
         "male",
         "2",
         "own",
         "little",
         "moderate",
         "3832",
         "30",
         "furniture/equipment",
         "good"
        ],
        [
         "46",
         "58",
         "female",
         "1",
         "own",
         "little",
         "little",
         "1755",
         "24",
         "vacation/others",
         "good"
        ],
        [
         "47",
         "52",
         "male",
         "1",
         "own",
         "little",
         "little",
         "2315",
         "10",
         "radio/TV",
         "good"
        ],
        [
         "48",
         "27",
         "female",
         "2",
         "own",
         "little",
         "moderate",
         "1295",
         "18",
         "furniture/equipment",
         "good"
        ],
        [
         "49",
         "47",
         "male",
         "2",
         "free",
         "moderate",
         "moderate",
         "12612",
         "36",
         "education",
         "bad"
        ]
       ],
       "shape": {
        "columns": 10,
        "rows": 522
       }
      },
      "text/html": [
       "<div>\n",
       "<style scoped>\n",
       "    .dataframe tbody tr th:only-of-type {\n",
       "        vertical-align: middle;\n",
       "    }\n",
       "\n",
       "    .dataframe tbody tr th {\n",
       "        vertical-align: top;\n",
       "    }\n",
       "\n",
       "    .dataframe thead th {\n",
       "        text-align: right;\n",
       "    }\n",
       "</style>\n",
       "<table border=\"1\" class=\"dataframe\">\n",
       "  <thead>\n",
       "    <tr style=\"text-align: right;\">\n",
       "      <th></th>\n",
       "      <th>Age</th>\n",
       "      <th>Sex</th>\n",
       "      <th>Job</th>\n",
       "      <th>Housing</th>\n",
       "      <th>Saving accounts</th>\n",
       "      <th>Checking account</th>\n",
       "      <th>Credit amount</th>\n",
       "      <th>Duration</th>\n",
       "      <th>Purpose</th>\n",
       "      <th>Risk</th>\n",
       "    </tr>\n",
       "  </thead>\n",
       "  <tbody>\n",
       "    <tr>\n",
       "      <th>0</th>\n",
       "      <td>22</td>\n",
       "      <td>female</td>\n",
       "      <td>2</td>\n",
       "      <td>own</td>\n",
       "      <td>little</td>\n",
       "      <td>moderate</td>\n",
       "      <td>5951</td>\n",
       "      <td>48</td>\n",
       "      <td>radio/TV</td>\n",
       "      <td>bad</td>\n",
       "    </tr>\n",
       "    <tr>\n",
       "      <th>1</th>\n",
       "      <td>45</td>\n",
       "      <td>male</td>\n",
       "      <td>2</td>\n",
       "      <td>free</td>\n",
       "      <td>little</td>\n",
       "      <td>little</td>\n",
       "      <td>7882</td>\n",
       "      <td>42</td>\n",
       "      <td>furniture/equipment</td>\n",
       "      <td>good</td>\n",
       "    </tr>\n",
       "    <tr>\n",
       "      <th>2</th>\n",
       "      <td>53</td>\n",
       "      <td>male</td>\n",
       "      <td>2</td>\n",
       "      <td>free</td>\n",
       "      <td>little</td>\n",
       "      <td>little</td>\n",
       "      <td>4870</td>\n",
       "      <td>24</td>\n",
       "      <td>car</td>\n",
       "      <td>bad</td>\n",
       "    </tr>\n",
       "    <tr>\n",
       "      <th>3</th>\n",
       "      <td>35</td>\n",
       "      <td>male</td>\n",
       "      <td>3</td>\n",
       "      <td>rent</td>\n",
       "      <td>little</td>\n",
       "      <td>moderate</td>\n",
       "      <td>6948</td>\n",
       "      <td>36</td>\n",
       "      <td>car</td>\n",
       "      <td>good</td>\n",
       "    </tr>\n",
       "    <tr>\n",
       "      <th>4</th>\n",
       "      <td>28</td>\n",
       "      <td>male</td>\n",
       "      <td>3</td>\n",
       "      <td>own</td>\n",
       "      <td>little</td>\n",
       "      <td>moderate</td>\n",
       "      <td>5234</td>\n",
       "      <td>30</td>\n",
       "      <td>car</td>\n",
       "      <td>bad</td>\n",
       "    </tr>\n",
       "    <tr>\n",
       "      <th>...</th>\n",
       "      <td>...</td>\n",
       "      <td>...</td>\n",
       "      <td>...</td>\n",
       "      <td>...</td>\n",
       "      <td>...</td>\n",
       "      <td>...</td>\n",
       "      <td>...</td>\n",
       "      <td>...</td>\n",
       "      <td>...</td>\n",
       "      <td>...</td>\n",
       "    </tr>\n",
       "    <tr>\n",
       "      <th>517</th>\n",
       "      <td>48</td>\n",
       "      <td>male</td>\n",
       "      <td>1</td>\n",
       "      <td>own</td>\n",
       "      <td>little</td>\n",
       "      <td>moderate</td>\n",
       "      <td>1743</td>\n",
       "      <td>24</td>\n",
       "      <td>radio/TV</td>\n",
       "      <td>good</td>\n",
       "    </tr>\n",
       "    <tr>\n",
       "      <th>518</th>\n",
       "      <td>30</td>\n",
       "      <td>male</td>\n",
       "      <td>3</td>\n",
       "      <td>own</td>\n",
       "      <td>little</td>\n",
       "      <td>little</td>\n",
       "      <td>3959</td>\n",
       "      <td>36</td>\n",
       "      <td>furniture/equipment</td>\n",
       "      <td>good</td>\n",
       "    </tr>\n",
       "    <tr>\n",
       "      <th>519</th>\n",
       "      <td>40</td>\n",
       "      <td>male</td>\n",
       "      <td>3</td>\n",
       "      <td>own</td>\n",
       "      <td>little</td>\n",
       "      <td>little</td>\n",
       "      <td>3857</td>\n",
       "      <td>30</td>\n",
       "      <td>car</td>\n",
       "      <td>good</td>\n",
       "    </tr>\n",
       "    <tr>\n",
       "      <th>520</th>\n",
       "      <td>23</td>\n",
       "      <td>male</td>\n",
       "      <td>2</td>\n",
       "      <td>free</td>\n",
       "      <td>little</td>\n",
       "      <td>little</td>\n",
       "      <td>1845</td>\n",
       "      <td>45</td>\n",
       "      <td>radio/TV</td>\n",
       "      <td>bad</td>\n",
       "    </tr>\n",
       "    <tr>\n",
       "      <th>521</th>\n",
       "      <td>27</td>\n",
       "      <td>male</td>\n",
       "      <td>2</td>\n",
       "      <td>own</td>\n",
       "      <td>moderate</td>\n",
       "      <td>moderate</td>\n",
       "      <td>4576</td>\n",
       "      <td>45</td>\n",
       "      <td>car</td>\n",
       "      <td>good</td>\n",
       "    </tr>\n",
       "  </tbody>\n",
       "</table>\n",
       "<p>522 rows × 10 columns</p>\n",
       "</div>"
      ],
      "text/plain": [
       "     Age     Sex  Job Housing Saving accounts Checking account  Credit amount  \\\n",
       "0     22  female    2     own          little         moderate           5951   \n",
       "1     45    male    2    free          little           little           7882   \n",
       "2     53    male    2    free          little           little           4870   \n",
       "3     35    male    3    rent          little         moderate           6948   \n",
       "4     28    male    3     own          little         moderate           5234   \n",
       "..   ...     ...  ...     ...             ...              ...            ...   \n",
       "517   48    male    1     own          little         moderate           1743   \n",
       "518   30    male    3     own          little           little           3959   \n",
       "519   40    male    3     own          little           little           3857   \n",
       "520   23    male    2    free          little           little           1845   \n",
       "521   27    male    2     own        moderate         moderate           4576   \n",
       "\n",
       "     Duration              Purpose  Risk  \n",
       "0          48             radio/TV   bad  \n",
       "1          42  furniture/equipment  good  \n",
       "2          24                  car   bad  \n",
       "3          36                  car  good  \n",
       "4          30                  car   bad  \n",
       "..        ...                  ...   ...  \n",
       "517        24             radio/TV  good  \n",
       "518        36  furniture/equipment  good  \n",
       "519        30                  car  good  \n",
       "520        45             radio/TV   bad  \n",
       "521        45                  car  good  \n",
       "\n",
       "[522 rows x 10 columns]"
      ]
     },
     "execution_count": 76,
     "metadata": {},
     "output_type": "execute_result"
    }
   ],
   "source": [
    "features= [\"Age\", \"Sex\", \"Job\", \"Housing\", \"Saving accounts\", \"Checking account\", \"Credit amount\", \"Duration\", \"Purpose\"]\n",
    "target = \"Risk\"\n",
    "df_model = df[features + [target]].copy()\n",
    "df_model"
   ]
  },
  {
   "cell_type": "markdown",
   "id": "af99c5a4",
   "metadata": {},
   "source": [
    "Viele unserer Merkmale sind kategorisch, zum Beispiel Geschlecht (male/female), Wohnsituation (own/rent/free) oder Saving accounts (little, moderate, rich). Solche Werte sind für uns Menschen leicht verständlich, aber ein Machine-Learning-Modell kann mit Texten nicht direkt arbeiten – es benötigt numerische Werte.\n",
    "<br>\n",
    "<br>\n",
    "Deshalb müssen wir die Kategorien in Zahlen umwandeln. Dafür verwenden wir den sogenannten `LabelEncoder` aus der Bibliothek scikit-learn. Dieser ordnet jeder Kategorie eine Zahl zu (z. B. male = 1, female = 0).\n",
    "<br>\n",
    "<br>\n",
    "Der Ablauf sieht so aus:\n",
    "1. Wir suchen alle Spalten mit kategorischen Daten (außer der Zielvariable Risk).\n",
    "2. Wir wenden für jede dieser Spalten einen LabelEncoder an, der die Texte in Zahlen übersetzt.\n",
    "3. Wir speichern die Encoder mit joblib, sodass wir sie später im Modell oder in einer App wiederverwenden können (wichtig, um neue Daten genau gleich zu kodieren wie die Trainingsdaten).\n",
    "\n",
    "Am Ende haben wir ein DataFrame, in dem alle Merkmale numerisch vorliegen und somit direkt für das Trainieren von Modellen genutzt werden können.\n",
    "<br>\n",
    "<br>\n",
    "In unserem Projekt wollen wir Baumbasierte Modelle (z.B. Decision Trees, Random Forest, Extra Trees, XGBoost) verwenden. Diese Modelle können sehr gut mit Label Encoding umgehen, da sie Spalten nicht nach numerischer Größe, sondern nach Bedingungen (z.B. Sex == 0?) aufteilen. OHE wäre hier unnötig und würde den Datensatz nur größer und unübersichtlicher machen.\n",
    "- Label Encoding reicht für baumartige Modelle (Tree-based Models).\n",
    "- One-Hot-Encoding ist besser für lineare Modelle (z.B. lineare Regression, logistische Regression), weil dort Zahlenwerte direkt in Berechnungen eingehen."
   ]
  },
  {
   "cell_type": "code",
   "execution_count": 77,
   "id": "904dfa04",
   "metadata": {},
   "outputs": [
    {
     "data": {
      "application/vnd.microsoft.datawrangler.viewer.v0+json": {
       "columns": [
        {
         "name": "index",
         "rawType": "int64",
         "type": "integer"
        },
        {
         "name": "Age",
         "rawType": "int64",
         "type": "integer"
        },
        {
         "name": "Sex",
         "rawType": "int64",
         "type": "integer"
        },
        {
         "name": "Job",
         "rawType": "int64",
         "type": "integer"
        },
        {
         "name": "Housing",
         "rawType": "int64",
         "type": "integer"
        },
        {
         "name": "Saving accounts",
         "rawType": "int64",
         "type": "integer"
        },
        {
         "name": "Checking account",
         "rawType": "int64",
         "type": "integer"
        },
        {
         "name": "Credit amount",
         "rawType": "int64",
         "type": "integer"
        },
        {
         "name": "Duration",
         "rawType": "int64",
         "type": "integer"
        },
        {
         "name": "Purpose",
         "rawType": "int64",
         "type": "integer"
        },
        {
         "name": "Risk",
         "rawType": "object",
         "type": "string"
        }
       ],
       "ref": "d30bf695-adb3-45c7-a94f-32c17edbfff6",
       "rows": [
        [
         "0",
         "22",
         "0",
         "2",
         "1",
         "0",
         "1",
         "5951",
         "48",
         "5",
         "bad"
        ],
        [
         "1",
         "45",
         "1",
         "2",
         "0",
         "0",
         "0",
         "7882",
         "42",
         "4",
         "good"
        ],
        [
         "2",
         "53",
         "1",
         "2",
         "0",
         "0",
         "0",
         "4870",
         "24",
         "1",
         "bad"
        ],
        [
         "3",
         "35",
         "1",
         "3",
         "2",
         "0",
         "1",
         "6948",
         "36",
         "1",
         "good"
        ],
        [
         "4",
         "28",
         "1",
         "3",
         "1",
         "0",
         "1",
         "5234",
         "30",
         "1",
         "bad"
        ],
        [
         "5",
         "25",
         "0",
         "2",
         "2",
         "0",
         "1",
         "1295",
         "12",
         "1",
         "bad"
        ],
        [
         "6",
         "24",
         "0",
         "2",
         "2",
         "0",
         "0",
         "4308",
         "48",
         "0",
         "bad"
        ],
        [
         "7",
         "22",
         "0",
         "2",
         "1",
         "0",
         "1",
         "1567",
         "12",
         "5",
         "good"
        ],
        [
         "8",
         "60",
         "1",
         "1",
         "1",
         "0",
         "0",
         "1199",
         "24",
         "1",
         "bad"
        ],
        [
         "9",
         "28",
         "0",
         "2",
         "2",
         "0",
         "0",
         "1403",
         "15",
         "1",
         "good"
        ],
        [
         "10",
         "32",
         "0",
         "1",
         "1",
         "1",
         "0",
         "1282",
         "24",
         "5",
         "bad"
        ],
        [
         "11",
         "44",
         "0",
         "3",
         "0",
         "0",
         "1",
         "12579",
         "24",
         "1",
         "bad"
        ],
        [
         "12",
         "44",
         "1",
         "2",
         "2",
         "2",
         "0",
         "2647",
         "6",
         "5",
         "good"
        ],
        [
         "13",
         "48",
         "1",
         "1",
         "2",
         "0",
         "0",
         "2241",
         "10",
         "1",
         "good"
        ],
        [
         "14",
         "44",
         "1",
         "2",
         "1",
         "1",
         "1",
         "1804",
         "12",
         "1",
         "good"
        ],
        [
         "15",
         "36",
         "1",
         "1",
         "1",
         "0",
         "0",
         "1374",
         "6",
         "4",
         "good"
        ],
        [
         "16",
         "42",
         "0",
         "2",
         "2",
         "3",
         "2",
         "409",
         "12",
         "5",
         "good"
        ],
        [
         "17",
         "34",
         "1",
         "2",
         "1",
         "0",
         "1",
         "2415",
         "7",
         "5",
         "good"
        ],
        [
         "18",
         "63",
         "1",
         "2",
         "1",
         "0",
         "0",
         "6836",
         "60",
         "0",
         "bad"
        ],
        [
         "19",
         "36",
         "1",
         "2",
         "1",
         "3",
         "1",
         "1913",
         "18",
         "0",
         "good"
        ],
        [
         "20",
         "27",
         "1",
         "2",
         "1",
         "0",
         "0",
         "4020",
         "24",
         "4",
         "good"
        ],
        [
         "21",
         "30",
         "1",
         "2",
         "1",
         "1",
         "1",
         "5866",
         "18",
         "1",
         "good"
        ],
        [
         "22",
         "33",
         "0",
         "3",
         "1",
         "0",
         "2",
         "1474",
         "12",
         "4",
         "good"
        ],
        [
         "23",
         "25",
         "1",
         "1",
         "1",
         "0",
         "1",
         "4746",
         "45",
         "5",
         "bad"
        ],
        [
         "24",
         "37",
         "1",
         "2",
         "1",
         "0",
         "2",
         "2100",
         "18",
         "5",
         "bad"
        ],
        [
         "25",
         "37",
         "1",
         "2",
         "1",
         "0",
         "2",
         "1225",
         "10",
         "2",
         "good"
        ],
        [
         "26",
         "24",
         "1",
         "2",
         "1",
         "0",
         "1",
         "458",
         "9",
         "5",
         "good"
        ],
        [
         "27",
         "26",
         "1",
         "2",
         "1",
         "2",
         "1",
         "1158",
         "12",
         "5",
         "good"
        ],
        [
         "28",
         "44",
         "1",
         "1",
         "1",
         "0",
         "1",
         "6204",
         "18",
         "6",
         "good"
        ],
        [
         "29",
         "24",
         "1",
         "2",
         "2",
         "1",
         "0",
         "6187",
         "30",
         "1",
         "good"
        ],
        [
         "30",
         "58",
         "0",
         "1",
         "0",
         "0",
         "0",
         "6143",
         "48",
         "1",
         "bad"
        ],
        [
         "31",
         "23",
         "0",
         "0",
         "2",
         "2",
         "0",
         "1352",
         "6",
         "1",
         "good"
        ],
        [
         "32",
         "30",
         "1",
         "3",
         "1",
         "0",
         "1",
         "5965",
         "27",
         "1",
         "good"
        ],
        [
         "33",
         "57",
         "1",
         "2",
         "0",
         "0",
         "1",
         "2225",
         "36",
         "1",
         "bad"
        ],
        [
         "34",
         "23",
         "0",
         "3",
         "1",
         "0",
         "2",
         "1961",
         "18",
         "1",
         "good"
        ],
        [
         "35",
         "23",
         "0",
         "1",
         "2",
         "0",
         "0",
         "6229",
         "36",
         "4",
         "bad"
        ],
        [
         "36",
         "27",
         "1",
         "2",
         "1",
         "0",
         "1",
         "1391",
         "9",
         "0",
         "good"
        ],
        [
         "37",
         "61",
         "1",
         "3",
         "0",
         "0",
         "1",
         "1953",
         "36",
         "0",
         "bad"
        ],
        [
         "38",
         "25",
         "1",
         "2",
         "1",
         "0",
         "1",
         "14421",
         "48",
         "0",
         "bad"
        ],
        [
         "39",
         "22",
         "1",
         "2",
         "1",
         "3",
         "1",
         "1007",
         "12",
         "1",
         "good"
        ],
        [
         "40",
         "51",
         "1",
         "3",
         "0",
         "0",
         "0",
         "1164",
         "8",
         "7",
         "good"
        ],
        [
         "41",
         "41",
         "0",
         "1",
         "1",
         "0",
         "1",
         "5954",
         "42",
         "0",
         "good"
        ],
        [
         "42",
         "66",
         "1",
         "3",
         "0",
         "0",
         "0",
         "1526",
         "12",
         "1",
         "good"
        ],
        [
         "43",
         "34",
         "1",
         "2",
         "1",
         "0",
         "0",
         "3965",
         "42",
         "5",
         "bad"
        ],
        [
         "44",
         "51",
         "1",
         "2",
         "1",
         "0",
         "1",
         "4771",
         "11",
         "5",
         "good"
        ],
        [
         "45",
         "22",
         "1",
         "2",
         "1",
         "0",
         "1",
         "3832",
         "30",
         "4",
         "good"
        ],
        [
         "46",
         "58",
         "0",
         "1",
         "1",
         "0",
         "0",
         "1755",
         "24",
         "7",
         "good"
        ],
        [
         "47",
         "52",
         "1",
         "1",
         "1",
         "0",
         "0",
         "2315",
         "10",
         "5",
         "good"
        ],
        [
         "48",
         "27",
         "0",
         "2",
         "1",
         "0",
         "1",
         "1295",
         "18",
         "4",
         "good"
        ],
        [
         "49",
         "47",
         "1",
         "2",
         "0",
         "1",
         "1",
         "12612",
         "36",
         "3",
         "bad"
        ]
       ],
       "shape": {
        "columns": 10,
        "rows": 522
       }
      },
      "text/html": [
       "<div>\n",
       "<style scoped>\n",
       "    .dataframe tbody tr th:only-of-type {\n",
       "        vertical-align: middle;\n",
       "    }\n",
       "\n",
       "    .dataframe tbody tr th {\n",
       "        vertical-align: top;\n",
       "    }\n",
       "\n",
       "    .dataframe thead th {\n",
       "        text-align: right;\n",
       "    }\n",
       "</style>\n",
       "<table border=\"1\" class=\"dataframe\">\n",
       "  <thead>\n",
       "    <tr style=\"text-align: right;\">\n",
       "      <th></th>\n",
       "      <th>Age</th>\n",
       "      <th>Sex</th>\n",
       "      <th>Job</th>\n",
       "      <th>Housing</th>\n",
       "      <th>Saving accounts</th>\n",
       "      <th>Checking account</th>\n",
       "      <th>Credit amount</th>\n",
       "      <th>Duration</th>\n",
       "      <th>Purpose</th>\n",
       "      <th>Risk</th>\n",
       "    </tr>\n",
       "  </thead>\n",
       "  <tbody>\n",
       "    <tr>\n",
       "      <th>0</th>\n",
       "      <td>22</td>\n",
       "      <td>0</td>\n",
       "      <td>2</td>\n",
       "      <td>1</td>\n",
       "      <td>0</td>\n",
       "      <td>1</td>\n",
       "      <td>5951</td>\n",
       "      <td>48</td>\n",
       "      <td>5</td>\n",
       "      <td>bad</td>\n",
       "    </tr>\n",
       "    <tr>\n",
       "      <th>1</th>\n",
       "      <td>45</td>\n",
       "      <td>1</td>\n",
       "      <td>2</td>\n",
       "      <td>0</td>\n",
       "      <td>0</td>\n",
       "      <td>0</td>\n",
       "      <td>7882</td>\n",
       "      <td>42</td>\n",
       "      <td>4</td>\n",
       "      <td>good</td>\n",
       "    </tr>\n",
       "    <tr>\n",
       "      <th>2</th>\n",
       "      <td>53</td>\n",
       "      <td>1</td>\n",
       "      <td>2</td>\n",
       "      <td>0</td>\n",
       "      <td>0</td>\n",
       "      <td>0</td>\n",
       "      <td>4870</td>\n",
       "      <td>24</td>\n",
       "      <td>1</td>\n",
       "      <td>bad</td>\n",
       "    </tr>\n",
       "    <tr>\n",
       "      <th>3</th>\n",
       "      <td>35</td>\n",
       "      <td>1</td>\n",
       "      <td>3</td>\n",
       "      <td>2</td>\n",
       "      <td>0</td>\n",
       "      <td>1</td>\n",
       "      <td>6948</td>\n",
       "      <td>36</td>\n",
       "      <td>1</td>\n",
       "      <td>good</td>\n",
       "    </tr>\n",
       "    <tr>\n",
       "      <th>4</th>\n",
       "      <td>28</td>\n",
       "      <td>1</td>\n",
       "      <td>3</td>\n",
       "      <td>1</td>\n",
       "      <td>0</td>\n",
       "      <td>1</td>\n",
       "      <td>5234</td>\n",
       "      <td>30</td>\n",
       "      <td>1</td>\n",
       "      <td>bad</td>\n",
       "    </tr>\n",
       "    <tr>\n",
       "      <th>...</th>\n",
       "      <td>...</td>\n",
       "      <td>...</td>\n",
       "      <td>...</td>\n",
       "      <td>...</td>\n",
       "      <td>...</td>\n",
       "      <td>...</td>\n",
       "      <td>...</td>\n",
       "      <td>...</td>\n",
       "      <td>...</td>\n",
       "      <td>...</td>\n",
       "    </tr>\n",
       "    <tr>\n",
       "      <th>517</th>\n",
       "      <td>48</td>\n",
       "      <td>1</td>\n",
       "      <td>1</td>\n",
       "      <td>1</td>\n",
       "      <td>0</td>\n",
       "      <td>1</td>\n",
       "      <td>1743</td>\n",
       "      <td>24</td>\n",
       "      <td>5</td>\n",
       "      <td>good</td>\n",
       "    </tr>\n",
       "    <tr>\n",
       "      <th>518</th>\n",
       "      <td>30</td>\n",
       "      <td>1</td>\n",
       "      <td>3</td>\n",
       "      <td>1</td>\n",
       "      <td>0</td>\n",
       "      <td>0</td>\n",
       "      <td>3959</td>\n",
       "      <td>36</td>\n",
       "      <td>4</td>\n",
       "      <td>good</td>\n",
       "    </tr>\n",
       "    <tr>\n",
       "      <th>519</th>\n",
       "      <td>40</td>\n",
       "      <td>1</td>\n",
       "      <td>3</td>\n",
       "      <td>1</td>\n",
       "      <td>0</td>\n",
       "      <td>0</td>\n",
       "      <td>3857</td>\n",
       "      <td>30</td>\n",
       "      <td>1</td>\n",
       "      <td>good</td>\n",
       "    </tr>\n",
       "    <tr>\n",
       "      <th>520</th>\n",
       "      <td>23</td>\n",
       "      <td>1</td>\n",
       "      <td>2</td>\n",
       "      <td>0</td>\n",
       "      <td>0</td>\n",
       "      <td>0</td>\n",
       "      <td>1845</td>\n",
       "      <td>45</td>\n",
       "      <td>5</td>\n",
       "      <td>bad</td>\n",
       "    </tr>\n",
       "    <tr>\n",
       "      <th>521</th>\n",
       "      <td>27</td>\n",
       "      <td>1</td>\n",
       "      <td>2</td>\n",
       "      <td>1</td>\n",
       "      <td>1</td>\n",
       "      <td>1</td>\n",
       "      <td>4576</td>\n",
       "      <td>45</td>\n",
       "      <td>1</td>\n",
       "      <td>good</td>\n",
       "    </tr>\n",
       "  </tbody>\n",
       "</table>\n",
       "<p>522 rows × 10 columns</p>\n",
       "</div>"
      ],
      "text/plain": [
       "     Age  Sex  Job  Housing  Saving accounts  Checking account  Credit amount  \\\n",
       "0     22    0    2        1                0                 1           5951   \n",
       "1     45    1    2        0                0                 0           7882   \n",
       "2     53    1    2        0                0                 0           4870   \n",
       "3     35    1    3        2                0                 1           6948   \n",
       "4     28    1    3        1                0                 1           5234   \n",
       "..   ...  ...  ...      ...              ...               ...            ...   \n",
       "517   48    1    1        1                0                 1           1743   \n",
       "518   30    1    3        1                0                 0           3959   \n",
       "519   40    1    3        1                0                 0           3857   \n",
       "520   23    1    2        0                0                 0           1845   \n",
       "521   27    1    2        1                1                 1           4576   \n",
       "\n",
       "     Duration  Purpose  Risk  \n",
       "0          48        5   bad  \n",
       "1          42        4  good  \n",
       "2          24        1   bad  \n",
       "3          36        1  good  \n",
       "4          30        1   bad  \n",
       "..        ...      ...   ...  \n",
       "517        24        5  good  \n",
       "518        36        4  good  \n",
       "519        30        1  good  \n",
       "520        45        5   bad  \n",
       "521        45        1  good  \n",
       "\n",
       "[522 rows x 10 columns]"
      ]
     },
     "execution_count": 77,
     "metadata": {},
     "output_type": "execute_result"
    }
   ],
   "source": [
    "from sklearn.preprocessing import LabelEncoder\n",
    "import joblib\n",
    "\n",
    "cat_cols = df_model.select_dtypes(include=[\"object\"]).columns.drop(\"Risk\")\n",
    "le_dict = {}\n",
    "for col in cat_cols:\n",
    "    le = LabelEncoder()\n",
    "    df_model[col] = le.fit_transform(df_model[col])\n",
    "    le_dict[col] = le\n",
    "    joblib.dump(le, f\"{col}_encoder.pkl\")\n",
    "\n",
    "df_model"
   ]
  },
  {
   "cell_type": "markdown",
   "id": "948050be",
   "metadata": {},
   "source": [
    "Bisher haben wir nur die Eingabevariablen (Features) umgewandelt, also alle Spalten, die Informationen über die Kreditnehmer enthalten. Nun müssen wir noch die Zielvariable (Risk) in Zahlen übersetzen, damit auch sie vom Modell verarbeitet werden kann:"
   ]
  },
  {
   "cell_type": "code",
   "execution_count": 78,
   "id": "7f73877d",
   "metadata": {},
   "outputs": [
    {
     "data": {
      "application/vnd.microsoft.datawrangler.viewer.v0+json": {
       "columns": [
        {
         "name": "index",
         "rawType": "int64",
         "type": "integer"
        },
        {
         "name": "Risk",
         "rawType": "int64",
         "type": "integer"
        }
       ],
       "ref": "e11d48a5-03ec-4e5e-8cab-d33b679aedf0",
       "rows": [
        [
         "0",
         "0"
        ],
        [
         "1",
         "1"
        ],
        [
         "2",
         "0"
        ],
        [
         "3",
         "1"
        ],
        [
         "4",
         "0"
        ],
        [
         "5",
         "0"
        ],
        [
         "6",
         "0"
        ],
        [
         "7",
         "1"
        ],
        [
         "8",
         "0"
        ],
        [
         "9",
         "1"
        ],
        [
         "10",
         "0"
        ],
        [
         "11",
         "0"
        ],
        [
         "12",
         "1"
        ],
        [
         "13",
         "1"
        ],
        [
         "14",
         "1"
        ],
        [
         "15",
         "1"
        ],
        [
         "16",
         "1"
        ],
        [
         "17",
         "1"
        ],
        [
         "18",
         "0"
        ],
        [
         "19",
         "1"
        ],
        [
         "20",
         "1"
        ],
        [
         "21",
         "1"
        ],
        [
         "22",
         "1"
        ],
        [
         "23",
         "0"
        ],
        [
         "24",
         "0"
        ],
        [
         "25",
         "1"
        ],
        [
         "26",
         "1"
        ],
        [
         "27",
         "1"
        ],
        [
         "28",
         "1"
        ],
        [
         "29",
         "1"
        ],
        [
         "30",
         "0"
        ],
        [
         "31",
         "1"
        ],
        [
         "32",
         "1"
        ],
        [
         "33",
         "0"
        ],
        [
         "34",
         "1"
        ],
        [
         "35",
         "0"
        ],
        [
         "36",
         "1"
        ],
        [
         "37",
         "0"
        ],
        [
         "38",
         "0"
        ],
        [
         "39",
         "1"
        ],
        [
         "40",
         "1"
        ],
        [
         "41",
         "1"
        ],
        [
         "42",
         "1"
        ],
        [
         "43",
         "0"
        ],
        [
         "44",
         "1"
        ],
        [
         "45",
         "1"
        ],
        [
         "46",
         "1"
        ],
        [
         "47",
         "1"
        ],
        [
         "48",
         "1"
        ],
        [
         "49",
         "0"
        ]
       ],
       "shape": {
        "columns": 1,
        "rows": 522
       }
      },
      "text/plain": [
       "0      0\n",
       "1      1\n",
       "2      0\n",
       "3      1\n",
       "4      0\n",
       "      ..\n",
       "517    1\n",
       "518    1\n",
       "519    1\n",
       "520    0\n",
       "521    1\n",
       "Name: Risk, Length: 522, dtype: int64"
      ]
     },
     "execution_count": 78,
     "metadata": {},
     "output_type": "execute_result"
    }
   ],
   "source": [
    "le_target = LabelEncoder()\n",
    "df_model[target] = le_target.fit_transform(df_model[target])\n",
    "\n",
    "df_model[target]"
   ]
  },
  {
   "cell_type": "markdown",
   "id": "fc4fe7fb",
   "metadata": {},
   "source": [
    "Betrachten wir die Verteilung unserer Zielvariable:"
   ]
  },
  {
   "cell_type": "code",
   "execution_count": 79,
   "id": "8cbf80ec",
   "metadata": {},
   "outputs": [
    {
     "name": "stdout",
     "output_type": "stream",
     "text": [
      "Risk\n",
      "1    291\n",
      "0    231\n",
      "Name: count, dtype: int64\n"
     ]
    }
   ],
   "source": [
    "print(df_model[target].value_counts())"
   ]
  },
  {
   "cell_type": "markdown",
   "id": "ae45f07c",
   "metadata": {},
   "source": [
    "Die Klasse 1 (das entspricht good) kommt häufiger vor als die Klasse 0 (bad).\n",
    "Damit sehen wir, dass unser Datensatz eine leichte Ungleichverteilung hat – es gibt mehr sichere Kredite als riskante. Das ist einerseits positiv, weil wir genügend Daten aus beiden Gruppen haben. Andererseits müssen wir uns merken, dass das Modell später dazu neigen könnte, häufiger good vorherzusagen, weil diese Klasse öfter vorkommt.\n",
    "<br>\n",
    "<br>\n",
    "Wir haben die Zielvariable Risk erfolgreich mit dem LabelEncoder in Zahlen übersetzt. Damit das später – zum Beispiel in einer Streamlit-Anwendung – genauso funktioniert, müssen wir den Encoder speichern. Mit dem folgenden Code speichern wir den Encoder als Datei (target_encoder.pkl). Diese Datei können wir später direkt wieder einlesen und in unserer Streamlit-App verwenden:"
   ]
  },
  {
   "cell_type": "code",
   "execution_count": 80,
   "id": "7098c4c8",
   "metadata": {},
   "outputs": [
    {
     "data": {
      "text/plain": [
       "['target_encoder.pkl']"
      ]
     },
     "execution_count": 80,
     "metadata": {},
     "output_type": "execute_result"
    }
   ],
   "source": [
    "joblib.dump(le_target, \"target_encoder.pkl\")"
   ]
  },
  {
   "cell_type": "markdown",
   "id": "c8e16aec",
   "metadata": {},
   "source": [
    "Damit wir ein Machine-Learning-Modell trainieren und anschließend auch überprüfen können, ob es gute Vorhersagen macht, müssen wir unseren Datensatz in zwei Teile zerlegen:\n",
    "- Trainingsdaten – mit diesen Daten \"lernt\" das Modell die Zusammenhänge zwischen Eingabevariablen (Features) und der Zielvariable (Risk).\n",
    "- Testdaten – diese Daten sieht das Modell während des Trainings nicht. Sie dienen später dazu, die Qualität des Modells objektiv zu überprüfen.\n",
    "\n",
    "Im Code verwenden wir dafür die `train_test_split`-Funktion aus scikit-learn:\n",
    "- `X` enthält die Merkmale (Features).\n",
    "- `y` ist unsere Zielvariable (Risk).\n",
    "- Mit `test_size=0.2` reservieren wir 20 % der Daten für den Test.\n",
    "- `stratify=y` sorgt dafür, dass die Klassenverteilung (good vs. bad) im Training und im Test gleich bleibt.\n",
    "- `random_state=42` stellt sicher, dass wir bei jedem Durchlauf dieselbe Aufteilung bekommen – so sind die Ergebnisse reproduzierbar."
   ]
  },
  {
   "cell_type": "code",
   "execution_count": 81,
   "id": "9bc2d06a",
   "metadata": {},
   "outputs": [
    {
     "name": "stdout",
     "output_type": "stream",
     "text": [
      "Geometrie von 'X': (522, 9)\n",
      "Geometrie von 'y': (522,)\n"
     ]
    }
   ],
   "source": [
    "from sklearn.model_selection import train_test_split\n",
    "\n",
    "X = df_model.drop(target, axis=1)\n",
    "y = df_model[target]\n",
    "\n",
    "X_train, X_test, y_train, y_test = train_test_split(X, y, test_size=0.2, stratify=y, random_state=42)\n",
    "print(f\"Geometrie von 'X': {X.shape}\")\n",
    "print(f\"Geometrie von 'y': {y.shape}\")"
   ]
  },
  {
   "cell_type": "markdown",
   "id": "b9d5856a",
   "metadata": {},
   "source": [
    "Jetzt, da unsere Daten sauber vorbereitet und in Trainings- und Testsets aufgeteilt sind, können wir mit dem eigentlichen Modelltraining beginnen. Dafür benötigen wir verschiedene Klassifikationsverfahren sowie Hilfsfunktionen zur Auswertung.\n",
    "- `DecisionTreeClassifier`: Ein einzelner Entscheidungsbaum, der Regeln aus den Daten ableitet. Einfach, gut interpretierbar, aber anfällig für Überanpassung.\n",
    "- `RandomForestClassifier`: Ein Ensemble vieler Entscheidungsbäume, das durch Abstimmung stabilere Ergebnisse liefert.\n",
    "- `ExtraTreesClassifier`: Ähnlich wie der Random Forest, aber mit noch stärkerer Zufallsauswahl – oft schneller und manchmal genauer.\n",
    "- `XGBClassifier (XGBoost)`: Ein modernes, leistungsstarkes Ensemble-Verfahren, das auf \"Boosting\" basiert und in vielen Wettbewerben sehr erfolgreich eingesetzt wird.\n",
    "\n",
    "Zusätzlich brauchen wir:\n",
    "- `accuracy_score`: um die Treffergenauigkeit (Accuracy) unserer Modelle zu berechnen.\n",
    "- `GridSearchCV`: ein Werkzeug zur systematischen Suche nach den besten Hyperparametern, also den Einstellungen, mit denen das Modell am besten funktioniert."
   ]
  },
  {
   "cell_type": "code",
   "execution_count": 82,
   "id": "371f5db2",
   "metadata": {},
   "outputs": [],
   "source": [
    "from sklearn.tree import DecisionTreeClassifier\n",
    "from sklearn.ensemble import RandomForestClassifier, ExtraTreesClassifier\n",
    "from xgboost import XGBClassifier\n",
    "from sklearn.metrics import accuracy_score\n",
    "from sklearn.model_selection import GridSearchCV"
   ]
  },
  {
   "cell_type": "markdown",
   "id": "48ee97c3",
   "metadata": {},
   "source": [
    "Damit wir nun verschiedene Klassifikationsverfahren ausprobieren und fair vergleichen können, schreiben wir uns eine Hilfsfunktion. Die Funktion soll in der Lage sein, folgende aufgaben zu übernehmen:\n",
    "\n",
    "**1. Hyperparameter-Suche:**\n",
    "- Mit `GridSearchCV` testen wir automatisch verschiedene Kombinationen von Einstellungen (z.B. maximale Tiefe eines Baumes oder Anzahl der Bäume im Random Forest).\n",
    "  - `cv=5` bedeutet, dass die Daten in 5 Falten aufgeteilt und getestet werden → das sorgt für eine robuste Bewertung.\n",
    "  - `scoring=\"accuracy\"` sagt, dass wir die Treffergenauigkeit als Maß verwenden.\n",
    "  - `n_jobs=-1` nutzt alle verfügbaren Prozessorkerne, damit die Suche schneller geht.\n",
    "\n",
    "**2. Bestes Modell auswählen:**\n",
    "- Nach der Suche erhalten wir das Modell mit den besten Einstellungen (`best_estimator_`).\n",
    "\n",
    "**3. Testdaten vorhersagen:**\n",
    "- Mit diesem Modell sagen wir die Ergebnisse für unsere Testdaten voraus und berechnen die Accuracy.\n",
    "\n",
    "**4. Alles zurückgeben:**\n",
    "- Die Funktion liefert uns:\n",
    "  - das beste Modell,\n",
    "  - die erreichte Accuracy,\n",
    "  - und die besten Hyperparameter.\n",
    "\n",
    "So müssen wir nicht jedes Mal den gleichen Code schreiben, sondern können für jedes Modell einfach diese Funktion nutzen."
   ]
  },
  {
   "cell_type": "code",
   "execution_count": 83,
   "id": "9d2115df",
   "metadata": {},
   "outputs": [],
   "source": [
    "def train_model(model, param_grid, X_train, y_train, X_test, y_test):\n",
    "    grid = GridSearchCV(model, param_grid, cv=5, scoring=\"accuracy\", n_jobs=-1)\n",
    "    grid.fit(X_train, y_train)\n",
    "    best_model = grid.best_estimator_\n",
    "    y_pred = best_model.predict(X_test)\n",
    "    acc = accuracy_score(y_test, y_pred)\n",
    "    return best_model, acc, grid.best_params_"
   ]
  },
  {
   "cell_type": "markdown",
   "id": "c917ec51",
   "metadata": {},
   "source": [
    "Wir starten mit einem Entscheidungsbaum als Basismodell. Mit `class_weight=\"balanced\"` gleichen wir die ungleiche Klassenverteilung (good/bad) aus, indem Fehlklassifikationen der selteneren Klasse stärker gewichtet werden. Damit der Baum nicht zu einfach (unterfittet) oder zu komplex (überfittet) wird, probieren wir verschiedene Hyperparameter aus:"
   ]
  },
  {
   "cell_type": "code",
   "execution_count": 84,
   "id": "0272b75f",
   "metadata": {},
   "outputs": [],
   "source": [
    "dt = DecisionTreeClassifier(random_state=42, class_weight=\"balanced\")\n",
    "dt_param_grid = {\n",
    "    \"max_depth\": [3, 5, 7, 10, None],\n",
    "    \"min_samples_split\": [2, 5, 10],\n",
    "    \"min_samples_leaf\": [1, 2, 4]\n",
    "}"
   ]
  },
  {
   "cell_type": "markdown",
   "id": "807619d8",
   "metadata": {},
   "source": [
    "Nachdem wir unser Entscheidungsbaum-Modell und das dazugehörige Parameter-Raster (`dt_param_grid`) definiert haben, wollen wir den Baum nun wirklich trainieren und die besten Einstellungen finden. Dazu verwenden wir unsere selbst geschriebene Funktion:"
   ]
  },
  {
   "cell_type": "code",
   "execution_count": 85,
   "id": "64ee29f5",
   "metadata": {},
   "outputs": [],
   "source": [
    "best_dt, acc_dt, params_dt = train_model(dt, dt_param_grid, X_train, y_train, X_test, y_test)"
   ]
  },
  {
   "cell_type": "markdown",
   "id": "20e1d80b",
   "metadata": {},
   "source": [
    "Nachdem wir den Entscheidungsbaum trainiert und mit GridSearch die besten Hyperparameter gefunden haben, wollen wir uns nun die Resultate anschauen:"
   ]
  },
  {
   "cell_type": "code",
   "execution_count": 86,
   "id": "aa5e293e",
   "metadata": {},
   "outputs": [
    {
     "name": "stdout",
     "output_type": "stream",
     "text": [
      "Decision Tree Accuaracy: 0.6\n",
      "Best parameters:\n",
      "{'max_depth': 3, 'min_samples_leaf': 1, 'min_samples_split': 2}\n"
     ]
    }
   ],
   "source": [
    "print(f\"Decision Tree Accuaracy: {acc_dt}\")\n",
    "print(f\"Best parameters:\\n{params_dt}\")"
   ]
  },
  {
   "cell_type": "markdown",
   "id": "e158b0e7",
   "metadata": {},
   "source": [
    "Das Modell liegt in etwa bei 60% richtiger Vorhersagen. Das ist ein Anfang, aber noch nicht besonders hoch. Nachdem wir den Entscheidungsbaum getestet haben, wollen wir nun ein Random Forest Modell ausprobieren. Der Random Forest besteht nicht nur aus einem einzelnen Baum, sondern aus vielen Entscheidungsbäumen, die jeweils auf leicht veränderten Daten trainiert werden. Am Ende stimmen diese Bäume „ab“, und dadurch wird das Ergebnis meist stabiler und genauer:"
   ]
  },
  {
   "cell_type": "code",
   "execution_count": 87,
   "id": "0e0e84da",
   "metadata": {},
   "outputs": [
    {
     "name": "stdout",
     "output_type": "stream",
     "text": [
      "Random Forest Accuaracy: 0.638095238095238\n",
      "Best parameters:\n",
      "{'max_depth': 10, 'min_samples_leaf': 1, 'min_samples_split': 10, 'n_estimators': 100}\n"
     ]
    }
   ],
   "source": [
    "rf = RandomForestClassifier(random_state=42, class_weight=\"balanced\", n_jobs=-1)\n",
    "rf_param_grid = {\n",
    "    \"n_estimators\": [100, 200],\n",
    "    \"max_depth\": [5, 7, 10, None],\n",
    "    \"min_samples_split\": [2, 5, 10],\n",
    "    \"min_samples_leaf\": [1, 2, 4]\n",
    "}\n",
    "best_rf, acc_rf, params_rf = train_model(rf, rf_param_grid, X_train, y_train, X_test, y_test)\n",
    "print(f\"Random Forest Accuaracy: {acc_rf}\")\n",
    "print(f\"Best parameters:\\n{params_rf}\")"
   ]
  },
  {
   "cell_type": "markdown",
   "id": "33ede240",
   "metadata": {},
   "source": [
    "Der Random Forest verbessert die Vorhersage im Vergleich zum einzelnen Entscheidungsbaum: Die Accuracy steigt auf ca. 0,63 (vorher ~0,60). Das ist typisch für Ensemble-Methoden: Viele Bäume mitteln individuelle Fehler und liefern stabilere Ergebnisse. Die besten Hyperparameter deuten auf ein eher konservatives Modell hin.\n",
    "<br>\n",
    "<br>\n",
    "Nach Entscheidungsbaum und Random Forest probieren wir nun Extra Trees (Extremely Randomized Trees) aus – ebenfalls ein Ensemble vieler Bäume. Der entscheidende Unterschied:\n",
    "- Während der Random Forest zufällig Merkmale auswählt und pro Merkmal den besten Split sucht,\n",
    "- wählt Extra Trees zusätzlich die Split-Schwellen zufälliger.\n",
    "\n",
    "Diese stärkere Zufälligkeit führt oft zu geringerer Varianz (weniger Overfitting) und kann auf Tabellendaten schneller und teilweise genauer sein."
   ]
  },
  {
   "cell_type": "code",
   "execution_count": 88,
   "id": "c49bf8c0",
   "metadata": {},
   "outputs": [
    {
     "name": "stdout",
     "output_type": "stream",
     "text": [
      "Extra trees Accuaracy: 0.580952380952381\n",
      "Best parameters:\n",
      "{'max_depth': None, 'min_samples_leaf': 4, 'min_samples_split': 10, 'n_estimators': 100}\n"
     ]
    }
   ],
   "source": [
    "et = ExtraTreesClassifier(random_state=42, class_weight=\"balanced\", n_jobs=-1)\n",
    "et_param_grid = {\n",
    "    \"n_estimators\": [100, 200],\n",
    "    \"max_depth\": [5, 7, 10, None],\n",
    "    \"min_samples_split\": [2, 5, 10],\n",
    "    \"min_samples_leaf\": [1, 2, 4]\n",
    "}\n",
    "best_et, acc_et, params_et = train_model(et, et_param_grid, X_train, y_train, X_test, y_test)\n",
    "print(f\"Extra trees Accuaracy: {acc_et}\")\n",
    "print(f\"Best parameters:\\n{params_et}\")"
   ]
  },
  {
   "cell_type": "markdown",
   "id": "99855ece",
   "metadata": {},
   "source": [
    "Der Extra-Trees-Klassifikator erreicht mit einer Accuracy von ca. 0,63 praktisch das gleiche Niveau wie der Random Forest (und etwas besser als der einzelne Entscheidungsbaum). Das passt zur Idee von Extra Trees: Durch stärkere Zufälligkeit bei den Splits sinkt die Varianz des Modells, ohne dass die Genauigkeit leidet. Trees liefert robuste, wettbewerbsfähige Ergebnisse bei geringem Tuning-Aufwand. Für die weitere Bewertung sollte man neben der Accuracy auch Konfusionsmatrix, Precision/Recall/F1 (insbesondere für die „bad“-Klasse) und ROC-AUC betrachten.\n",
    "<br>\n",
    "<br>\n",
    "Zum Abschluss wollen wir noch ein modernes Ensemble-Verfahren testen: den XGBoost-Classifier (Extreme Gradient Boosting).\n",
    "XGBoost basiert auf Boosting, d. h. es werden viele schwache Entscheidungsbäume nacheinander trainiert. Jeder neue Baum versucht, die Fehler der vorherigen zu korrigieren. Dadurch entstehen oft sehr leistungsfähige Modelle, die in der Praxis und in vielen Kaggle-Wettbewerben erfolgreich eingesetzt werden.\n",
    "\n",
    "Im Code achten wir auf zwei Dinge:\n",
    "- Klassenungleichgewicht ausgleichen: Mit dem Parameter `scale_pos_weight` gewichten wir die seltener vorkommende Klasse stärker, damit das Modell nicht zu sehr die Mehrheitsklasse bevorzugt.\n",
    "  - `(y_train == 0).sum()` zählt, wie viele „bad“-Fälle im Trainingsset sind.\n",
    "  - `(y_train == 1).sum()` zählt, wie viele „good“-Fälle im Trainingsset sind.\n",
    "  - Das Verhältnis dieser beiden Zahlen sagt uns, wie stark die Klassen unterschiedlich verteilt sind.\n",
    "- `eval_metric=\"logloss\"`: Diese Einstellung ist eine technische Vorgabe, damit XGBoost ohne Warnungen läuft und eine geeignete Verlustfunktion verwendet wird."
   ]
  },
  {
   "cell_type": "code",
   "execution_count": 89,
   "id": "e8c9cc89",
   "metadata": {},
   "outputs": [
    {
     "name": "stdout",
     "output_type": "stream",
     "text": [
      "XGB Accuracy: 0.6857142857142857\n",
      "Best parameters: {'colsample_bytree': 0.7, 'learning_rate': 0.1, 'max_depth': 3, 'n_estimators': 200, 'subsample': 0.7}\n"
     ]
    }
   ],
   "source": [
    "xgb = XGBClassifier(\n",
    "    random_state=42,\n",
    "    scale_pos_weight=(y_train == 0).sum() / (y_train == 1).sum(),    \n",
    "    eval_metric=\"logloss\",       \n",
    "    n_jobs=-1,                 \n",
    "    tree_method=\"hist\"      \n",
    ")\n",
    "\n",
    "xgb_param_grid = {\n",
    "    \"n_estimators\": [100, 200],\n",
    "    \"max_depth\": [3, 5, 7],\n",
    "    \"learning_rate\": [0.01, 0.1, 0.2],\n",
    "    \"subsample\": [0.7, 1.0],\n",
    "    \"colsample_bytree\": [0.7, 1.0]\n",
    "}\n",
    "\n",
    "best_xgb, acc_xgb, params_xgb = train_model(\n",
    "    xgb, xgb_param_grid, X_train, y_train, X_test, y_test\n",
    ")\n",
    "\n",
    "print(f\"XGB Accuracy: {acc_xgb}\")\n",
    "print(\"Best parameters:\", params_xgb)\n"
   ]
  },
  {
   "cell_type": "markdown",
   "id": "360ac44a",
   "metadata": {},
   "source": [
    "Wir haben verschiedene Modelle getestet und ihre Genauigkeit verglichen:\n",
    "- Entscheidungsbaum: ca. 60 % Accuracy, sehr einfaches Modell, aber noch nicht sehr genau.\n",
    "- Random Forest / Extra Trees: ca. 63 % Accuracy, stabiler als der einzelne Baum, aber nur kleine Verbesserung.\n",
    "- XGBoost: ca. 69 % Accuracy, bestes Ergebnis, klar besser als die anderen Modelle.\n",
    "\n",
    "Da wir in der Praxis ein Modell haben wollen, das möglichst verlässliche Vorhersagen trifft, entscheiden wir uns für XGBoost. Für unsere Streamlit-Anwendung bedeutet das: Wir werden XGBoost als finales Modell exportieren und in die App einbauen. So können Nutzer dort später ihre Daten eingeben und eine Vorhersage über das Kreditrisiko bekommen – basierend auf dem leistungsstärksten Modell unserer Analyse.\n",
    "<br>\n",
    "<br>\n",
    "Damit wir unser trainiertes Modell später in einer Anwendung (z.B. Streamlit) wiederverwenden können, müssen wir es dauerhaft abspeichern. Diese Datei enthält alle gelernten Regeln und Parameter des Modells. So können wir es später direkt laden, ohne erneut trainieren zu müssen – ein wichtiger Schritt für den praktischen Einsatz in unserer Streamlit-App."
   ]
  },
  {
   "cell_type": "code",
   "execution_count": 90,
   "id": "565a7d88",
   "metadata": {},
   "outputs": [
    {
     "data": {
      "text/plain": [
       "['xgb_credit_model.pkl']"
      ]
     },
     "execution_count": 90,
     "metadata": {},
     "output_type": "execute_result"
    }
   ],
   "source": [
    "joblib.dump(best_xgb, \"xgb_credit_model.pkl\")"
   ]
  },
  {
   "cell_type": "code",
   "execution_count": 91,
   "id": "c164e24b",
   "metadata": {},
   "outputs": [
    {
     "data": {
      "text/plain": [
       "['feature_names.pkl']"
      ]
     },
     "execution_count": 91,
     "metadata": {},
     "output_type": "execute_result"
    }
   ],
   "source": [
    "features_names = X_train.columns.to_list()\n",
    "joblib.dump(features_names, \"feature_names.pkl\")"
   ]
  },
  {
   "cell_type": "markdown",
   "id": "6b8b2d3e",
   "metadata": {},
   "source": [
    "## Aufgabenstellung\n",
    "\n",
    "Ihr habt nun ein Machine-Learning-Modell trainiert (Extra Trees oder XGBoost), das anhand verschiedener Kundendaten das Kreditrisiko („good“ = geringes Risiko, „bad“ = hohes Risiko) einschätzen kann. Dieses Modell habt ihr bereits mit joblib als `.pkl`-Datei gespeichert.\n",
    "<br>\n",
    "<br>\n",
    "Eure Aufgabe ist es jetzt, eine interaktive Web-App mit Streamlit zu entwickeln, die dieses Modell nutzt, um Vorhersagen für neue Kredit-Anfragen zu treffen.\n",
    "\n",
    "**1. Funktionaler Umfang:**\n",
    "\n",
    "Die App nimmt alle für das Modell nötigen Eingaben entgegen:\n",
    "- Numerisch: Age, Credit amount, Duration\n",
    "- Kategorisch: Sex, Job (0–3), Housing, Saving accounts, Checking account, Purpose\n",
    "- Die App lädt das gespeicherte Modell (z. B. extra_trees_credit_model.pkl oder das beste XGBoost-Modell) und die Encoder für alle kategorialen Spalten sowie den Target-Encoder.\n",
    "- Die App encodiert Nutzereingaben exakt so wie im Training (LabelEncoder aus den .pkl-Dateien).\n",
    "- Die App erstellt eine Vorhersage (Risk: 0 = bad, 1 = good) und zeigt optional die Wahrscheinlichkeit (z. B. predict_proba) an.\n",
    "\n",
    "**2. Benutzerschnittstelle (UI):**\n",
    "\n",
    "Überschrift und kurze Erklärung, was die App macht (1–2 Sätze).\n",
    "\n",
    "Eingabemasken:\n",
    "- st.number_input für numerische Felder (mit sinnvollen Min-/Max-Werten und Defaults).\n",
    "- st.selectbox für kategoriale Felder (Optionen müssen den Trainingskategorien entsprechen).\n",
    "\n",
    "Buttons:\n",
    "- „Vorhersage starten“ zur Berechnung.\n",
    "- (Optional) „Eingaben zurücksetzen“.\n",
    "\n",
    "Ausgabe:\n",
    "- Deutlicher Status: st.success bei good, st.error bei bad.\n",
    "- (Optional) Anzeige der Wahrscheinlichkeiten in Prozent.\n",
    "\n",
    "Layout:\n",
    "- Eingaben in der Sidebar oder in einem klar abgegrenzten Bereich; Ergebnis zentral.\n",
    "\n",
    "**3. Datenvalidierung & Robustheit:**\n",
    "\n",
    "Plausibilitätsgrenzen:\n",
    "- Age: 18–80,\n",
    "- Credit amount: ≥ 0 (realistisch: bis ~20 000),\n",
    "- Duration: 1–72 Monate.\n",
    "- Kategorische Optionen genau wie im Training (z. B. Saving accounts: little, moderate, quite rich, rich).\n",
    "- Fehlermeldungen verständlich formulieren (z. B. wenn ein Encoder fehlt oder eine unbekannte Kategorie gewählt wird).\n",
    "\n",
    "**4. Modell- und Encoder-Handling:**\n",
    "\n",
    "- Modell und alle Encoder mit joblib.load laden:\n",
    "- Feature-Encoder (z. B. Sex_encoder.pkl, Housing_encoder.pkl, …)\n",
    "- target_encoder.pkl für die Rückübersetzung 0/1 → bad/good.\n",
    "- Spaltenreihenfolge und Feature-Namen müssen exakt zur Trainingszeit passen.\n",
    "- (Optional) Caching mit @st.cache_resource/@st.cache_data für schnelleres Laden.\n",
    "\n",
    "**5. Nachvollziehbarkeit & Reproduzierbarkeit:**\n",
    "\n",
    "- Fixe Random Seeds wurden im Training gesetzt (Info in der App erwähnen).\n",
    "- In der App kurz notieren:\n",
    "  - verwendetes Modell,\n",
    "  - Metrik (Accuracy aus dem Test),\n",
    "  - Datum/Version (z. B. „Modellstand vom …“).\n",
    "\n",
    "Bringt gerne eure eigenen Ideen mit ein! Ziel ist es, dass am Ende nicht nur eine funktionierende Streamlit-App entsteht, sondern ein umfangreiches Projekt, das ihr z. B. auf GitHub in eurem Portfolio präsentieren könnt. Damit zeigt ihr zukünftigen Arbeitgebern oder in Bewerbungen ganz konkret, dass ihr in der Lage seid, komplette Machine-Learning-Pipelines inklusive Web-App umzusetzen."
   ]
  }
 ],
 "metadata": {
  "kernelspec": {
   "display_name": ".venv",
   "language": "python",
   "name": "python3"
  },
  "language_info": {
   "codemirror_mode": {
    "name": "ipython",
    "version": 3
   },
   "file_extension": ".py",
   "mimetype": "text/x-python",
   "name": "python",
   "nbconvert_exporter": "python",
   "pygments_lexer": "ipython3",
   "version": "3.13.5"
  }
 },
 "nbformat": 4,
 "nbformat_minor": 5
}
